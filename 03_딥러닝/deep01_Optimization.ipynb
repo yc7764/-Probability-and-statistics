{
 "cells": [
  {
   "cell_type": "markdown",
   "metadata": {
    "id": "GBHickkobjUg"
   },
   "source": [
    "# Pytorch에서의 Gradient Descent\n",
    "파이토치를 이용해서 선형회귀를 위한 연산 그래프를 만들고 경사하강법을 이해하는 간단한 코드를 작성해 보겠습니다.  \n",
    "    파이토치에서는 데이타의 기본 단위로 텐서(Tensor)를 사용합니다. Numpy에서의 np.array()와 동일합니다.  \n",
    "    즉 텐서는 n차원의 배열을 전부 포함하는 넓은 개념이고 파이토치는 이러한 텐서를 기본 연산의 단위로 사용합니다.  \n",
    "    텐서를 생성하는 방법에는 여러가지가 있는데 가장 단순하게는 torch.Tensor() 를 이용합니다."
   ]
  },
  {
   "cell_type": "markdown",
   "metadata": {
    "id": "UVZSN9LrhuRh"
   },
   "source": [
    "##  Torch Configuration"
   ]
  },
  {
   "cell_type": "code",
   "execution_count": null,
   "metadata": {
    "id": "JQRKn4kUVKB5"
   },
   "outputs": [],
   "source": []
  },
  {
   "cell_type": "markdown",
   "metadata": {
    "id": "LV57P9l7gfhq"
   },
   "source": [
    "### tensor 사용하기"
   ]
  },
  {
   "cell_type": "code",
   "execution_count": null,
   "metadata": {
    "id": "Zym4OBvPVPDI"
   },
   "outputs": [],
   "source": [
    "x = torch.tensor(data = [2.0, 3.0], requires_grad=True) #미분 사용하겠다.\n",
    "y = x**2 # 4, 9\n",
    "\n"
   ]
  },
  {
   "cell_type": "code",
   "execution_count": null,
   "metadata": {
    "id": "2AxVLNdhFVq2"
   },
   "outputs": [],
   "source": []
  },
  {
   "cell_type": "code",
   "execution_count": null,
   "metadata": {
    "id": "vdZE5rKyXRuB"
   },
   "outputs": [],
   "source": []
  },
  {
   "cell_type": "markdown",
   "metadata": {
    "id": "kbiNHFUSdyRQ"
   },
   "source": [
    "# Create Tensor, NN Generator"
   ]
  },
  {
   "cell_type": "code",
   "execution_count": null,
   "metadata": {
    "id": "YVG7neLpVPGC"
   },
   "outputs": [],
   "source": []
  },
  {
   "cell_type": "markdown",
   "metadata": {
    "id": "xSYi3lxIffru"
   },
   "source": [
    "### 모델 생성"
   ]
  },
  {
   "cell_type": "code",
   "execution_count": null,
   "metadata": {
    "id": "k-0tzlS2VPJJ"
   },
   "outputs": [],
   "source": []
  },
  {
   "cell_type": "markdown",
   "metadata": {
    "id": "z84EXAMnfk-v"
   },
   "source": [
    "### Loss Function 선정의"
   ]
  },
  {
   "cell_type": "code",
   "execution_count": null,
   "metadata": {
    "id": "pftvSHOjVPMK"
   },
   "outputs": [],
   "source": []
  },
  {
   "cell_type": "markdown",
   "metadata": {
    "id": "ADn-R8-PfqQF"
   },
   "source": [
    "### Optimizer 정의"
   ]
  },
  {
   "cell_type": "code",
   "execution_count": null,
   "metadata": {
    "id": "F4jIVXHFdc_l"
   },
   "outputs": [],
   "source": []
  },
  {
   "cell_type": "code",
   "execution_count": null,
   "metadata": {
    "id": "QXKiRodXfuu6"
   },
   "outputs": [],
   "source": [
    "\n"
   ]
  },
  {
   "cell_type": "markdown",
   "metadata": {
    "id": "xYB5uCtwfxPN"
   },
   "source": [
    "### 예측 --> loss --> backward --> step"
   ]
  },
  {
   "cell_type": "code",
   "execution_count": null,
   "metadata": {
    "id": "e8gEX1QjY477"
   },
   "outputs": [],
   "source": []
  },
  {
   "cell_type": "markdown",
   "metadata": {
    "id": "gWzOFTO7gDuC"
   },
   "source": [
    "### 반복작업"
   ]
  },
  {
   "cell_type": "code",
   "execution_count": null,
   "metadata": {
    "id": "5Q7ZK96QaFFq"
   },
   "outputs": [],
   "source": []
  }
 ],
 "metadata": {
  "accelerator": "GPU",
  "colab": {
   "authorship_tag": "ABX9TyNou56OakEmdoT9tRVyrZlD",
   "collapsed_sections": [],
   "private_outputs": true,
   "provenance": []
  },
  "kernelspec": {
   "display_name": "Python 3 (ipykernel)",
   "language": "python",
   "name": "python3"
  },
  "language_info": {
   "codemirror_mode": {
    "name": "ipython",
    "version": 3
   },
   "file_extension": ".py",
   "mimetype": "text/x-python",
   "name": "python",
   "nbconvert_exporter": "python",
   "pygments_lexer": "ipython3",
   "version": "3.9.12"
  }
 },
 "nbformat": 4,
 "nbformat_minor": 1
}
