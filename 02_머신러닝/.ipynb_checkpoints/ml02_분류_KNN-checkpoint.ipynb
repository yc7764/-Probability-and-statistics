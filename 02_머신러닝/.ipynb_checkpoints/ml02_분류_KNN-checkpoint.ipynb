{
 "cells": [
  {
   "cell_type": "code",
   "execution_count": 1,
   "id": "94d3339b",
   "metadata": {},
   "outputs": [],
   "source": [
    "import numpy as np\n",
    "import pandas as pd\n",
    "import matplotlib.pyplot as plt\n",
    "import seaborn as sns\n",
    "from IPython.display import Image"
   ]
  },
  {
   "cell_type": "markdown",
   "id": "ff731bdd",
   "metadata": {},
   "source": [
    "# 분류 (Classification)\n",
    "\n",
    "## K Nearest Neighbors (k-최근접 이웃 분류 알고리즘)\n",
    "\n",
    "가장 중요한 hyperparameter인 **K**값은 근처에 참고(reference)할 **이웃의 숫자**\n",
    "- k-최근접 이웃 분류 알고리즘\n",
    "- 가장 고전적이고 직관적인 머신러닝 분류 알고리즘\n",
    "- 기하학적 거리 분류기\n",
    "- 가장 **가깝게 위치하는 멤버로 분류**하는 방식\n",
    "- k가 짝수일 때, 가장 가까운 이웃이 target\n",
    "- k가 홀수일 떄, 갯수가 많은 것이 target"
   ]
  },
  {
   "cell_type": "code",
   "execution_count": 9,
   "id": "509af56a",
   "metadata": {},
   "outputs": [
    {
     "data": {
      "text/html": [
       "<img src=\"https://miro.medium.com/max/405/0*QyWp7J6eSz0tayc0.png\" width=\"500\"/>"
      ],
      "text/plain": [
       "<IPython.core.display.Image object>"
      ]
     },
     "execution_count": 9,
     "metadata": {},
     "output_type": "execute_result"
    }
   ],
   "source": [
    "Image(url='https://miro.medium.com/max/405/0*QyWp7J6eSz0tayc0.png', width=500)"
   ]
  },
  {
   "cell_type": "markdown",
   "id": "9a446249",
   "metadata": {},
   "source": [
    "## 더미 데이터를 활용한 분류 원리 이해"
   ]
  },
  {
   "cell_type": "code",
   "execution_count": 2,
   "id": "86c29d62",
   "metadata": {},
   "outputs": [],
   "source": [
    "from sklearn.neighbors import KNeighborsClassifier"
   ]
  },
  {
   "cell_type": "markdown",
   "id": "d2cb52dc",
   "metadata": {},
   "source": [
    "## mnist (손글씨) 데이터셋을 활용한 분류\n",
    "\n",
    "mnist (손글씨) 데이터셋을 활용하여 0~9까지 분류하는 분류기를 만듭니다.\n",
    "\n",
    "`sklearn.datasets` 보다 고해상도 이미지이기 때문에 `tensorflow.keras.datasets`을 활용합니다."
   ]
  },
  {
   "cell_type": "code",
   "execution_count": 3,
   "id": "c1121f89",
   "metadata": {},
   "outputs": [],
   "source": [
    "from tensorflow.keras.datasets import mnist"
   ]
  },
  {
   "cell_type": "code",
   "execution_count": 4,
   "id": "ef0ae624",
   "metadata": {},
   "outputs": [
    {
     "name": "stdout",
     "output_type": "stream",
     "text": [
      "Downloading data from https://storage.googleapis.com/tensorflow/tf-keras-datasets/mnist.npz\n",
      "11490434/11490434 [==============================] - 1s 0us/step\n"
     ]
    },
    {
     "data": {
      "text/plain": [
       "(5000, 784)"
      ]
     },
     "execution_count": 4,
     "metadata": {},
     "output_type": "execute_result"
    }
   ],
   "source": [
    "(x_digit, y_digit), (_, _15) = mnist.load_data()\n",
    "x_digit, y_digit = x_digit[:5000], y_digit[:5000]\n",
    "x_digit = x_digit.reshape(-1, 28*28)\n",
    "x_digit.shape"
   ]
  },
  {
   "cell_type": "markdown",
   "id": "017e803a",
   "metadata": {},
   "source": [
    "### mnist (손글씨) 데이터 시각화"
   ]
  },
  {
   "cell_type": "code",
   "execution_count": 5,
   "id": "f8a2e26d",
   "metadata": {},
   "outputs": [
    {
     "data": {
      "image/png": "[encoded data removed]",
      "text/plain": [
       "<Figure size 864x432 with 10 Axes>"
      ]
     },
     "metadata": {
      "needs_background": "light"
     },
     "output_type": "display_data"
    }
   ],
   "source": [
    "w, h = 2, 5\n",
    "fig, axes = plt.subplots(w, h)\n",
    "fig.set_size_inches(12, 6)\n",
    "for i in range(w*h):\n",
    "    axes[i//h, i%h].imshow(x_digit[i].reshape(-1, 28))\n",
    "    axes[i//h, i%h].set_title(y_digit[i], fontsize=20)\n",
    "    axes[i//h, i%h].axis('off')\n",
    "plt.tight_layout()\n",
    "plt.show()"
   ]
  },
  {
   "cell_type": "markdown",
   "id": "ca136870",
   "metadata": {},
   "source": [
    "## 데이터 셋 분할\n",
    "학습용(train) 데이터셋과 검증 (혹은 테스트)용 데이터 셋을 분할 합니다."
   ]
  },
  {
   "cell_type": "code",
   "execution_count": 6,
   "id": "b295bfee",
   "metadata": {},
   "outputs": [],
   "source": [
    "from sklearn.model_selection import train_test_split"
   ]
  },
  {
   "cell_type": "code",
   "execution_count": 7,
   "id": "ae8a3ae8",
   "metadata": {},
   "outputs": [],
   "source": [
    "X_train, X_test, y_train, y_test = train_test_split(x_digit, y_digit, stratify=y_digit, random_state=30, test_size=0.1)"
   ]
  },
  {
   "cell_type": "code",
   "execution_count": 8,
   "id": "ad2dcce7",
   "metadata": {},
   "outputs": [
    {
     "data": {
      "text/plain": [
       "((4500, 784), (500, 784))"
      ]
     },
     "execution_count": 8,
     "metadata": {},
     "output_type": "execute_result"
    }
   ],
   "source": [
    "X_train.shape, X_test.shape"
   ]
  },
  {
   "cell_type": "markdown",
   "id": "2f8f0802",
   "metadata": {},
   "source": [
    "### 모델 정의\n",
    "\n",
    "`KNeighborsClassifier`를 정의 하고 핵심 hyperparameter 인 `n_neighbors`를 지정합니다.\n",
    "\n",
    "임의로 5개의 이웃을 보도록 `n_neighbors=5`로 지정하겠습니다.\n",
    "\n",
    "그리고, `n_jobs` 옵션은 학습에 사용할 코어의 숫자를 지정합니다. -1로 지정하면, 모든 코어를 사용하도록 합니다."
   ]
  },
  {
   "cell_type": "code",
   "execution_count": 9,
   "id": "18eed0ab",
   "metadata": {},
   "outputs": [
    {
     "data": {
      "text/plain": [
       "KNeighborsClassifier(n_jobs=-1)"
      ]
     },
     "execution_count": 9,
     "metadata": {},
     "output_type": "execute_result"
    }
   ],
   "source": [
    "#인접하는 이웃을 5개로 기본으로 지정\n",
    "#n_jobs 옵션은 사용하고 있는 머신의 모든 core를 모두 사용\n",
    "KNN = KNeighborsClassifier(n_neighbors=5, n_jobs=-1)\n",
    "KNN"
   ]
  },
  {
   "cell_type": "markdown",
   "id": "98b9d746",
   "metadata": {},
   "source": [
    "### 학습 (fit)"
   ]
  },
  {
   "cell_type": "code",
   "execution_count": 10,
   "id": "7fad1522",
   "metadata": {},
   "outputs": [
    {
     "data": {
      "text/plain": [
       "KNeighborsClassifier(n_jobs=-1)"
      ]
     },
     "execution_count": 10,
     "metadata": {},
     "output_type": "execute_result"
    }
   ],
   "source": [
    "KNN.fit(X_train, y_train)"
   ]
  },
  {
   "cell_type": "markdown",
   "id": "7efa3388",
   "metadata": {},
   "source": [
    "### 예측 (predict)"
   ]
  },
  {
   "cell_type": "code",
   "execution_count": 11,
   "id": "58dcdbf5",
   "metadata": {},
   "outputs": [],
   "source": [
    "pred = KNN.predict(X_test)"
   ]
  },
  {
   "cell_type": "markdown",
   "id": "7562ef9d",
   "metadata": {},
   "source": [
    "### 검증 (evaluation)\n",
    "\n",
    "정확도 (Accuracy) 산출"
   ]
  },
  {
   "cell_type": "code",
   "execution_count": 13,
   "id": "752bafc2",
   "metadata": {},
   "outputs": [
    {
     "data": {
      "text/plain": [
       "0.938"
      ]
     },
     "execution_count": 13,
     "metadata": {},
     "output_type": "execute_result"
    }
   ],
   "source": [
    "#pred==y_test\n",
    "(pred==y_test).mean()"
   ]
  },
  {
   "cell_type": "markdown",
   "id": "23ff2cd1",
   "metadata": {},
   "source": [
    "**score 함수 사용**"
   ]
  },
  {
   "cell_type": "code",
   "execution_count": 14,
   "id": "8ac7372b",
   "metadata": {},
   "outputs": [
    {
     "data": {
      "text/plain": [
       "0.938"
      ]
     },
     "execution_count": 14,
     "metadata": {},
     "output_type": "execute_result"
    }
   ],
   "source": [
    "KNN.score(X_test, y_test)"
   ]
  },
  {
   "cell_type": "markdown",
   "id": "a08a30e2",
   "metadata": {},
   "source": [
    "### 최적의 n_neighbors 찾기\n",
    "heuristic value"
   ]
  },
  {
   "cell_type": "code",
   "execution_count": 22,
   "id": "cb2226bc",
   "metadata": {},
   "outputs": [
    {
     "name": "stdout",
     "output_type": "stream",
     "text": [
      "K: 1, accuracy: 95.60\n",
      "K: 2, accuracy: 95.00\n",
      "K: 3, accuracy: 94.60\n",
      "K: 4, accuracy: 93.80\n",
      "K: 5, accuracy: 93.80\n",
      "K: 6, accuracy: 93.40\n",
      "K: 7, accuracy: 93.40\n",
      "K: 8, accuracy: 93.60\n",
      "K: 9, accuracy: 92.80\n",
      "K: 10, accuracy: 92.80\n"
     ]
    }
   ],
   "source": [
    "for k in range(1, 11):\n",
    "    knn = KNeighborsClassifier(n_neighbors=k, n_jobs=-1)\n",
    "    knn.fit(X_train, y_train)\n",
    "    score = knn.score(X_test, y_test)\n",
    "    print('K: %d, accuracy: %.2f'%(k, score*100))"
   ]
  },
  {
   "cell_type": "markdown",
   "id": "f94c4d8a",
   "metadata": {},
   "source": [
    "## Iris 붓꽃 데이터셋을 활용한 실습\n",
    "\n",
    "### 필요한 데이터셋 불러오기 (load_iris)"
   ]
  },
  {
   "cell_type": "code",
   "execution_count": 23,
   "id": "d99cbb69",
   "metadata": {},
   "outputs": [],
   "source": [
    "from sklearn.datasets import load_iris"
   ]
  },
  {
   "cell_type": "code",
   "execution_count": 24,
   "id": "533b3782",
   "metadata": {},
   "outputs": [],
   "source": [
    "iris = load_iris()"
   ]
  },
  {
   "cell_type": "markdown",
   "id": "8bac7d4b",
   "metadata": {},
   "source": [
    "### 데이터프레임 (DataFrame) 만들기"
   ]
  },
  {
   "cell_type": "code",
   "execution_count": 29,
   "id": "01cb6187",
   "metadata": {},
   "outputs": [
    {
     "data": {
      "text/html": [
       "<div>\n",
       "<style scoped>\n",
       "    .dataframe tbody tr th:only-of-type {\n",
       "        vertical-align: middle;\n",
       "    }\n",
       "\n",
       "    .dataframe tbody tr th {\n",
       "        vertical-align: top;\n",
       "    }\n",
       "\n",
       "    .dataframe thead th {\n",
       "        text-align: right;\n",
       "    }\n",
       "</style>\n",
       "<table border=\"1\" class=\"dataframe\">\n",
       "  <thead>\n",
       "    <tr style=\"text-align: right;\">\n",
       "      <th></th>\n",
       "      <th>sepal length (cm)</th>\n",
       "      <th>sepal width (cm)</th>\n",
       "      <th>petal length (cm)</th>\n",
       "      <th>petal width (cm)</th>\n",
       "      <th>target</th>\n",
       "    </tr>\n",
       "  </thead>\n",
       "  <tbody>\n",
       "    <tr>\n",
       "      <th>0</th>\n",
       "      <td>5.1</td>\n",
       "      <td>3.5</td>\n",
       "      <td>1.4</td>\n",
       "      <td>0.2</td>\n",
       "      <td>0</td>\n",
       "    </tr>\n",
       "    <tr>\n",
       "      <th>1</th>\n",
       "      <td>4.9</td>\n",
       "      <td>3.0</td>\n",
       "      <td>1.4</td>\n",
       "      <td>0.2</td>\n",
       "      <td>0</td>\n",
       "    </tr>\n",
       "    <tr>\n",
       "      <th>2</th>\n",
       "      <td>4.7</td>\n",
       "      <td>3.2</td>\n",
       "      <td>1.3</td>\n",
       "      <td>0.2</td>\n",
       "      <td>0</td>\n",
       "    </tr>\n",
       "    <tr>\n",
       "      <th>3</th>\n",
       "      <td>4.6</td>\n",
       "      <td>3.1</td>\n",
       "      <td>1.5</td>\n",
       "      <td>0.2</td>\n",
       "      <td>0</td>\n",
       "    </tr>\n",
       "    <tr>\n",
       "      <th>4</th>\n",
       "      <td>5.0</td>\n",
       "      <td>3.6</td>\n",
       "      <td>1.4</td>\n",
       "      <td>0.2</td>\n",
       "      <td>0</td>\n",
       "    </tr>\n",
       "  </tbody>\n",
       "</table>\n",
       "</div>"
      ],
      "text/plain": [
       "   sepal length (cm)  sepal width (cm)  petal length (cm)  petal width (cm)  \\\n",
       "0                5.1               3.5                1.4               0.2   \n",
       "1                4.9               3.0                1.4               0.2   \n",
       "2                4.7               3.2                1.3               0.2   \n",
       "3                4.6               3.1                1.5               0.2   \n",
       "4                5.0               3.6                1.4               0.2   \n",
       "\n",
       "   target  \n",
       "0       0  \n",
       "1       0  \n",
       "2       0  \n",
       "3       0  \n",
       "4       0  "
      ]
     },
     "execution_count": 29,
     "metadata": {},
     "output_type": "execute_result"
    }
   ],
   "source": [
    "df = pd.DataFrame(iris['data'], columns=iris['feature_names'])\n",
    "df['target'] = iris['target']\n",
    "df.head()"
   ]
  },
  {
   "cell_type": "markdown",
   "id": "2c4e7f90",
   "metadata": {},
   "source": [
    "## 데이터 셋 분할\n",
    "학습용(train) 데이터셋과 검증 (혹은 테스트)용 데이터 셋을 분할 합니다."
   ]
  },
  {
   "cell_type": "code",
   "execution_count": 43,
   "id": "63c35fcf",
   "metadata": {},
   "outputs": [],
   "source": [
    "from sklearn.model_selection import train_test_split\n",
    "#층화추출법, 8:2, randomstate=0\n",
    "X_train, X_test, y_train, y_test = train_test_split(df.iloc[:, :-1], df.iloc[:,-1],\n",
    "                                                    random_state=30, stratify=df['target'], test_size=0.2)\n",
    "#X_train, X_test, y_train, y_test = train_test_split(df.drop('target', 1), df['target'],\n",
    "#                                                   random_state=0, stratify=df['target'], test_size=0.2)"
   ]
  },
  {
   "cell_type": "markdown",
   "id": "aa6f16c7",
   "metadata": {},
   "source": [
    "#### 잘 load가 되었는지 shape를 확인"
   ]
  },
  {
   "cell_type": "code",
   "execution_count": 44,
   "id": "2549202a",
   "metadata": {},
   "outputs": [
    {
     "data": {
      "text/plain": [
       "((120, 4), (120,))"
      ]
     },
     "execution_count": 44,
     "metadata": {},
     "output_type": "execute_result"
    }
   ],
   "source": [
    "X_train.shape, y_train.shape"
   ]
  },
  {
   "cell_type": "code",
   "execution_count": 45,
   "id": "8802ee7d",
   "metadata": {},
   "outputs": [
    {
     "data": {
      "text/plain": [
       "((30, 4), (30,))"
      ]
     },
     "execution_count": 45,
     "metadata": {},
     "output_type": "execute_result"
    }
   ],
   "source": [
    "X_test.shape, y_test.shape"
   ]
  },
  {
   "cell_type": "markdown",
   "id": "e991045d",
   "metadata": {},
   "source": [
    "### 모델 정의"
   ]
  },
  {
   "cell_type": "code",
   "execution_count": 46,
   "id": "ef80d3e8",
   "metadata": {},
   "outputs": [],
   "source": [
    "knn = KNeighborsClassifier(n_neighbors=5)"
   ]
  },
  {
   "cell_type": "markdown",
   "id": "0cc371d5",
   "metadata": {},
   "source": [
    "### 학습 (fit)"
   ]
  },
  {
   "cell_type": "code",
   "execution_count": 47,
   "id": "c4727b20",
   "metadata": {},
   "outputs": [
    {
     "data": {
      "text/plain": [
       "KNeighborsClassifier()"
      ]
     },
     "execution_count": 47,
     "metadata": {},
     "output_type": "execute_result"
    }
   ],
   "source": [
    "knn.fit(X_train, y_train)"
   ]
  },
  {
   "cell_type": "markdown",
   "id": "3af62704",
   "metadata": {},
   "source": [
    "### 예측하기"
   ]
  },
  {
   "cell_type": "code",
   "execution_count": 48,
   "id": "9fc0ecf2",
   "metadata": {},
   "outputs": [],
   "source": [
    "pred = knn.predict(X_test)"
   ]
  },
  {
   "cell_type": "markdown",
   "id": "85ae02d1",
   "metadata": {},
   "source": [
    "### 검증 (evaluation)"
   ]
  },
  {
   "cell_type": "code",
   "execution_count": 52,
   "id": "45c54c26",
   "metadata": {},
   "outputs": [
    {
     "data": {
      "text/plain": [
       "0.9333333333333333"
      ]
     },
     "execution_count": 52,
     "metadata": {},
     "output_type": "execute_result"
    }
   ],
   "source": [
    "knn.score(X_test, y_test)"
   ]
  },
  {
   "cell_type": "code",
   "execution_count": 53,
   "id": "cc6a7ecb",
   "metadata": {},
   "outputs": [
    {
     "data": {
      "text/plain": [
       "0.9333333333333333"
      ]
     },
     "execution_count": 53,
     "metadata": {},
     "output_type": "execute_result"
    }
   ],
   "source": [
    "(pred==y_test).mean()"
   ]
  },
  {
   "cell_type": "markdown",
   "id": "e6f7b7e2",
   "metadata": {},
   "source": [
    "### 최적의 k 값 찾기"
   ]
  },
  {
   "cell_type": "code",
   "execution_count": 54,
   "id": "13f61dd0",
   "metadata": {},
   "outputs": [
    {
     "name": "stdout",
     "output_type": "stream",
     "text": [
      "K: 1, accuracy: 96.67\n",
      "K: 2, accuracy: 93.33\n",
      "K: 3, accuracy: 96.67\n",
      "K: 4, accuracy: 96.67\n",
      "K: 5, accuracy: 93.33\n",
      "K: 6, accuracy: 93.33\n",
      "K: 7, accuracy: 96.67\n",
      "K: 8, accuracy: 96.67\n",
      "K: 9, accuracy: 96.67\n",
      "K: 10, accuracy: 96.67\n"
     ]
    }
   ],
   "source": [
    "for k in range(1, 11):\n",
    "    knn = KNeighborsClassifier(n_neighbors=k, n_jobs=-1)\n",
    "    knn.fit(X_train, y_train)\n",
    "    score = knn.score(X_test, y_test)\n",
    "    print('K: %d, accuracy: %.2f'%(k, score*100))"
   ]
  },
  {
   "cell_type": "markdown",
   "id": "b902a5ed",
   "metadata": {},
   "source": [
    "### Plot"
   ]
  },
  {
   "cell_type": "code",
   "execution_count": 55,
   "id": "4645ab0b",
   "metadata": {},
   "outputs": [
    {
     "name": "stdout",
     "output_type": "stream",
     "text": [
      "[1.0, 0.9833333333333333, 0.9583333333333334, 0.9583333333333334, 0.9666666666666667, 0.975, 0.9666666666666667, 0.9833333333333333, 0.9833333333333333, 0.975]\n",
      "[0.9666666666666667, 0.9333333333333333, 0.9666666666666667, 0.9666666666666667, 0.9333333333333333, 0.9333333333333333, 0.9666666666666667, 0.9666666666666667, 0.9666666666666667, 0.9666666666666667]\n"
     ]
    }
   ],
   "source": [
    "k_range = range(1, 11)\n",
    "train_score = []\n",
    "test_score = []\n",
    "\n",
    "for k in k_range:\n",
    "    model = KNeighborsClassifier(n_neighbors=k).fit(X_train, y_train)\n",
    "    train_score.append(model.score(X_train, y_train))\n",
    "    test_score.append(model.score(X_test, y_test))\n",
    "    \n",
    "print(train_score)\n",
    "print(test_score)"
   ]
  },
  {
   "cell_type": "code",
   "execution_count": 56,
   "id": "22c0aef3",
   "metadata": {},
   "outputs": [
    {
     "data": {
      "image/png": "[encoded data removed]",
      "text/plain": [
       "<Figure size 432x288 with 1 Axes>"
      ]
     },
     "metadata": {
      "needs_background": "light"
     },
     "output_type": "display_data"
    }
   ],
   "source": [
    "plt.plot(k_range, train_score, label='Train Accuracy')\n",
    "plt.plot(k_range, test_score, label='Test Accuracy')\n",
    "plt.xticks(k_range)\n",
    "plt.title('Find Best K-Value in iris')\n",
    "plt.legend()\n",
    "plt.grid()\n",
    "plt.show()"
   ]
  }
 ],
 "metadata": {
  "kernelspec": {
   "display_name": "Python 3 (ipykernel)",
   "language": "python",
   "name": "python3"
  },
  "language_info": {
   "codemirror_mode": {
    "name": "ipython",
    "version": 3
   },
   "file_extension": ".py",
   "mimetype": "text/x-python",
   "name": "python",
   "nbconvert_exporter": "python",
   "pygments_lexer": "ipython3",
   "version": "3.9.12"
  }
 },
 "nbformat": 4,
 "nbformat_minor": 5
}
