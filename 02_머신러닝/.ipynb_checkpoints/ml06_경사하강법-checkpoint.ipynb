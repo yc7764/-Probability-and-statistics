{
 "cells": [
  {
   "cell_type": "markdown",
   "metadata": {},
   "source": [
    "### 선형회귀(Linear Regression) - 경사하강법"
   ]
  },
  {
   "cell_type": "markdown",
   "metadata": {},
   "source": [
    "#### Linear Regression을 활용하여 섭씨온도(C, Celsius)를 화씨온도(F, Fahrenheit)로 변환해주는 공식을 만들수 있다. \n",
    "섭씨온도과 화씨온도의 관계는 앞에서 우리가 살펴보았던 선형회귀의 관계를 가지고 있다.\n",
    "#### H(x) = aX + b 에서처럼, F = C*1.8 +32 \n",
    "이때, 1.8과 32라는 값을 모르고 있다고 가정하고, 머신러닝 알고리즘을 이용해서 주어진 섭씨 온도와 화씨온도 데이타 만으로 이 값들을 찾아내는 실습을 진행해보도록 하겠다.\n"
   ]
  },
  {
   "cell_type": "markdown",
   "metadata": {},
   "source": [
    "### Configuration (or prerequisite)"
   ]
  },
  {
   "cell_type": "code",
   "execution_count": 1,
   "metadata": {},
   "outputs": [],
   "source": [
    "import numpy as np\n",
    "import pandas as pd\n",
    "import matplotlib.pyplot as plt"
   ]
  },
  {
   "cell_type": "markdown",
   "metadata": {},
   "source": [
    "### Generate Dataset"
   ]
  },
  {
   "cell_type": "markdown",
   "metadata": {},
   "source": [
    "#### 선형회귀 문제를 다루기 위한 학습용 데이타셋을 생성\n",
    "0도에서 100도 사이의 값을 갖는 섭씨온도 데이타를 100개 만들어보자\n",
    "이 데이타가 해당 머신러닝 알고리즘에서 사실상 Feature가 될 것이다."
   ]
  },
  {
   "cell_type": "code",
   "execution_count": 2,
   "metadata": {},
   "outputs": [
    {
     "data": {
      "text/plain": [
       "array([76, 80, 41,  7, 82, 54, 26,  8, 80, 84, 39,  7, 94, 93, 18, 18, 47,\n",
       "       99, 46, 70, 43, 69, 70, 10, 71, 20, 80, 87, 56, 68,  3, 71, 88, 92,\n",
       "       52, 75, 28, 12, 38, 59, 93, 28, 40, 72, 36, 34, 90, 56, 15, 79, 36,\n",
       "       24, 85, 83, 22, 48, 39, 44, 97, 19, 70, 70, 77, 90,  9,  1, 92, 53,\n",
       "       26, 79, 40, 46, 51, 20, 93,  5, 91,  0, 16, 12, 51, 26,  6, 25, 12,\n",
       "       60, 16, 26, 36, 79, 97, 25, 73, 48, 32, 68, 70, 29, 80, 20])"
      ]
     },
     "execution_count": 2,
     "metadata": {},
     "output_type": "execute_result"
    }
   ],
   "source": [
    "C=np.random.randint(0,100, size=100)\n",
    "C\n",
    "\n",
    "C=np.random.randint(low=0,high=100, size=100) \n",
    "C"
   ]
  },
  {
   "cell_type": "code",
   "execution_count": 3,
   "metadata": {},
   "outputs": [
    {
     "data": {
      "text/plain": [
       "(100,)"
      ]
     },
     "execution_count": 3,
     "metadata": {},
     "output_type": "execute_result"
    }
   ],
   "source": [
    "C.shape"
   ]
  },
  {
   "cell_type": "markdown",
   "metadata": {},
   "source": [
    "### 섭씨온도 데이타에 상응하는 화씨온도를 생성\n",
    "#### 우리가 알고있던 기존의 섭씨-화씨변환 공식을 적용해서 위 섭씨온도 데이타에 대응하는 화씨온도 데이타를 생성. \n",
    "이 데이타가 오늘 다룰 학습 모델 알고리즘의 Label이 될 것이다.\n",
    "\n",
    "**화씨온도 = 섭씨온도 * 1.8  + 32**"
   ]
  },
  {
   "cell_type": "code",
   "execution_count": 4,
   "metadata": {},
   "outputs": [
    {
     "data": {
      "text/plain": [
       "array([168.8, 176. , 105.8,  44.6, 179.6, 129.2,  78.8,  46.4, 176. ,\n",
       "       183.2, 102.2,  44.6, 201.2, 199.4,  64.4,  64.4, 116.6, 210.2,\n",
       "       114.8, 158. , 109.4, 156.2, 158. ,  50. , 159.8,  68. , 176. ,\n",
       "       188.6, 132.8, 154.4,  37.4, 159.8, 190.4, 197.6, 125.6, 167. ,\n",
       "        82.4,  53.6, 100.4, 138.2, 199.4,  82.4, 104. , 161.6,  96.8,\n",
       "        93.2, 194. , 132.8,  59. , 174.2,  96.8,  75.2, 185. , 181.4,\n",
       "        71.6, 118.4, 102.2, 111.2, 206.6,  66.2, 158. , 158. , 170.6,\n",
       "       194. ,  48.2,  33.8, 197.6, 127.4,  78.8, 174.2, 104. , 114.8,\n",
       "       123.8,  68. , 199.4,  41. , 195.8,  32. ,  60.8,  53.6, 123.8,\n",
       "        78.8,  42.8,  77. ,  53.6, 140. ,  60.8,  78.8,  96.8, 174.2,\n",
       "       206.6,  77. , 163.4, 118.4,  89.6, 154.4, 158. ,  84.2, 176. ,\n",
       "        68. ])"
      ]
     },
     "execution_count": 4,
     "metadata": {},
     "output_type": "execute_result"
    }
   ],
   "source": [
    "F = C * 1.8 + 32\n",
    "F"
   ]
  },
  {
   "cell_type": "code",
   "execution_count": 7,
   "metadata": {},
   "outputs": [
    {
     "name": "stdout",
     "output_type": "stream",
     "text": [
      "(100,)\n"
     ]
    },
    {
     "data": {
      "text/plain": [
       "array([168.8, 176. , 105.8,  44.6, 179.6, 129.2,  78.8,  46.4, 176. ,\n",
       "       183.2])"
      ]
     },
     "execution_count": 7,
     "metadata": {},
     "output_type": "execute_result"
    }
   ],
   "source": [
    "print(F.shape)\n",
    "F[:10]"
   ]
  },
  {
   "cell_type": "markdown",
   "metadata": {},
   "source": [
    "### Visualize"
   ]
  },
  {
   "cell_type": "markdown",
   "metadata": {},
   "source": [
    "#### 위에서 우리가 만든 Feature와 Label을 matplot을 이용해서 시각화"
   ]
  },
  {
   "cell_type": "code",
   "execution_count": 8,
   "metadata": {},
   "outputs": [
    {
     "data": {
      "image/png": "[encoded data removed]",
      "text/plain": [
       "<Figure size 432x288 with 1 Axes>"
      ]
     },
     "metadata": {
      "needs_background": "light"
     },
     "output_type": "display_data"
    }
   ],
   "source": [
    "plt.scatter(C, F)\n",
    "plt.xlabel('Celsius Temperature')\n",
    "plt.ylabel('Fahrenheit Temperature')\n",
    "plt.show()"
   ]
  },
  {
   "cell_type": "markdown",
   "metadata": {},
   "source": [
    "### Bias (편향 찾기) -- Weight는 1.8"
   ]
  },
  {
   "cell_type": "markdown",
   "metadata": {},
   "source": [
    "#### Weight는 1.8로 주고 Bias를 직관적인 방법으로 한번 찾아보겠다."
   ]
  },
  {
   "cell_type": "code",
   "execution_count": 9,
   "metadata": {},
   "outputs": [],
   "source": [
    "X = C\n",
    "y = F # F가 라벨값이라서  y소문자를 지정"
   ]
  },
  {
   "cell_type": "code",
   "execution_count": 11,
   "metadata": {},
   "outputs": [
    {
     "data": {
      "text/plain": [
       "(1.8, 0.9220676676137105)"
      ]
     },
     "execution_count": 11,
     "metadata": {},
     "output_type": "execute_result"
    }
   ],
   "source": [
    "w = 1.8\n",
    "#b는 랜덤한 값 지정\n",
    "b = np.random.uniform(low=-1.0, high=+1.0)\n",
    "w, b"
   ]
  },
  {
   "cell_type": "code",
   "execution_count": 12,
   "metadata": {},
   "outputs": [
    {
     "data": {
      "text/plain": [
       "array([137.72206767, 144.92206767,  74.72206767,  13.52206767,\n",
       "       148.52206767,  98.12206767,  47.72206767,  15.32206767,\n",
       "       144.92206767, 152.12206767])"
      ]
     },
     "execution_count": 12,
     "metadata": {},
     "output_type": "execute_result"
    }
   ],
   "source": [
    "y_predict = w * X + b\n",
    "y_predict[:10]"
   ]
  },
  {
   "cell_type": "code",
   "execution_count": 13,
   "metadata": {},
   "outputs": [
    {
     "data": {
      "image/png": "[encoded data removed]",
      "text/plain": [
       "<Figure size 432x288 with 1 Axes>"
      ]
     },
     "metadata": {
      "needs_background": "light"
     },
     "output_type": "display_data"
    }
   ],
   "source": [
    "plt.scatter(C, F)\n",
    "plt.xlabel('Celsius Temperature')\n",
    "plt.ylabel('Fahrenheit Temperature')\n",
    "\n",
    "plt.plot(C, y_predict, c='r')\n",
    "plt.show()"
   ]
  },
  {
   "cell_type": "code",
   "execution_count": 15,
   "metadata": {},
   "outputs": [
    {
     "data": {
      "text/plain": [
       "32.000000000000014"
      ]
     },
     "execution_count": 15,
     "metadata": {},
     "output_type": "execute_result"
    }
   ],
   "source": [
    "'''\n",
    "y_predict - y(예상값과 실제값 사이의 오차, 간격)\n",
    "이 값을 다시 보정해주면 bias를 구할 수 있다.\n",
    "'''\n",
    "b = b-(y_predict-y).mean()\n",
    "b"
   ]
  },
  {
   "cell_type": "code",
   "execution_count": 16,
   "metadata": {},
   "outputs": [],
   "source": [
    "y_predict = w * X + b"
   ]
  },
  {
   "cell_type": "code",
   "execution_count": 17,
   "metadata": {},
   "outputs": [
    {
     "data": {
      "text/plain": [
       "array([168.8, 176. , 105.8,  44.6, 179.6, 129.2,  78.8,  46.4, 176. ,\n",
       "       183.2])"
      ]
     },
     "execution_count": 17,
     "metadata": {},
     "output_type": "execute_result"
    }
   ],
   "source": [
    "y_predict[:10]"
   ]
  },
  {
   "cell_type": "code",
   "execution_count": 18,
   "metadata": {},
   "outputs": [
    {
     "data": {
      "image/png": "[encoded data removed]",
      "text/plain": [
       "<Figure size 432x288 with 1 Axes>"
      ]
     },
     "metadata": {
      "needs_background": "light"
     },
     "output_type": "display_data"
    }
   ],
   "source": [
    "plt.scatter(C, F)\n",
    "plt.xlabel('Celsius Temperature')\n",
    "plt.ylabel('Fahrenheit Temperature')\n",
    "\n",
    "plt.plot(C, y_predict, c='r')\n",
    "plt.show()"
   ]
  },
  {
   "cell_type": "markdown",
   "metadata": {},
   "source": [
    "#### 정규분포에 해당하는 w,b값을 랜덤하게 지정해서 초기화\n",
    "실제값과 예측치 결과값과의 차이를 시각화해서 확인"
   ]
  },
  {
   "cell_type": "code",
   "execution_count": 19,
   "metadata": {},
   "outputs": [
    {
     "data": {
      "text/plain": [
       "(0.9368089818525585, 0.5801078628013538)"
      ]
     },
     "execution_count": 19,
     "metadata": {},
     "output_type": "execute_result"
    }
   ],
   "source": [
    "w = np.random.uniform(low=-1.0, high= 1.0) \n",
    "b = np.random.uniform(low=-1.0, high= 1.0)\n",
    "w,b"
   ]
  },
  {
   "cell_type": "code",
   "execution_count": 20,
   "metadata": {},
   "outputs": [
    {
     "data": {
      "text/plain": [
       "array([71.77759048, 75.52482641, 38.98927612,  7.13777074, 77.39844437,\n",
       "       51.16779288, 24.93714139,  8.07457972, 75.52482641, 79.27206234])"
      ]
     },
     "execution_count": 20,
     "metadata": {},
     "output_type": "execute_result"
    }
   ],
   "source": [
    "y_predict = w * X + b\n",
    "y_predict[0:10]"
   ]
  },
  {
   "cell_type": "code",
   "execution_count": 21,
   "metadata": {},
   "outputs": [
    {
     "data": {
      "text/plain": [
       "[<matplotlib.lines.Line2D at 0x1da12ed2a60>]"
      ]
     },
     "execution_count": 21,
     "metadata": {},
     "output_type": "execute_result"
    },
    {
     "data": {
      "image/png": "[encoded data removed]",
      "text/plain": [
       "<Figure size 432x288 with 1 Axes>"
      ]
     },
     "metadata": {
      "needs_background": "light"
     },
     "output_type": "display_data"
    }
   ],
   "source": [
    "plt.scatter(C, F)\n",
    "plt.plot(C, y_predict, 'r')"
   ]
  },
  {
   "cell_type": "markdown",
   "metadata": {},
   "source": [
    "### Gradient Descent"
   ]
  },
  {
   "cell_type": "markdown",
   "metadata": {},
   "source": [
    "### 가중치(Weight, W), 편향(Bias, B) 찾기\n",
    "#### 이제 경사하강법(Gradient Descent)을 사용하여 섭씨온도를 화씨온도로 변환해줄 주 있는 공식을 찾아보겠다.\n",
    "공식의 세부내용은 모른다치고, 두 변수(X,y)가 선형(Linear)과 관계있음을 가정(y=X * w + b)하여 가중치(weight)와 편차(bias)를 정의해 둔다. 그리고 경사하강법을 이용해서 선형회귀를 학습시킨다.\n",
    "학습이 완료되면, 얻어진 최적의 가중치와 편차로 섭씨온도를 화씨온도로 변환해주는 공식을 만들어 줄수 있다.\n",
    "학습은 모든 epoch이 끝날 때까지 반복할 수도 있지만, 여기선 오차(error)가 0.1 이하가 되면 break 키워드를 사용해서 학습을 종료한다."
   ]
  },
  {
   "cell_type": "code",
   "execution_count": 28,
   "metadata": {},
   "outputs": [
    {
     "name": "stdout",
     "output_type": "stream",
     "text": [
      "    0 w = 2.296153, b = 0.920, error = 148.073\n",
      "10000 w = 2.017028, b = 17.424, error = 6.156\n",
      "20000 w = 1.901779, b = 25.164, error = 2.887\n",
      "30000 w = 1.847731, b = 28.794, error = 1.354\n",
      "40000 w = 1.822384, b = 30.497, error = 0.635\n",
      "50000 w = 1.810497, b = 31.295, error = 0.298\n",
      "60000 w = 1.804923, b = 31.669, error = 0.140\n",
      "------------------------------------------------------------------------------------------\n",
      "64410 w = 1.804, b = 31.763, error = 0.100\n"
     ]
    }
   ],
   "source": [
    "num_epoch = 100000 #학습을 몇번 반복할지를 지정...epoch\n",
    "learning_rate = 0.0003 #가장 중요한 보폭을 결정하는 값. 0.0004~0.01\n",
    "\n",
    "w = np.random.uniform(low=-1.0, high=1.0)\n",
    "b = np.random.uniform(low=-1.0, high=1.0)\n",
    "\n",
    "for epoch in range(num_epoch):    \n",
    "   \n",
    "    y_predict = w * X + b \n",
    "  \n",
    "    error = np.abs(y_predict - y).mean()\n",
    "    \n",
    "    if error < 0.1:\n",
    "        break\n",
    "    \n",
    "    w = w - learning_rate * ((y_predict-y) * X).mean()\n",
    "    b = b - learning_rate * (y_predict-y).mean()\n",
    "    \n",
    "    if epoch % 10000 == 0:\n",
    "        print(f\"{epoch:5} w = {w:.6f}, b = {b:.3f}, error = {error:.3f}\")\n",
    "    \n",
    "print(\"---------\" * 10)\n",
    "print(f\"{epoch:5} w = {w:.3f}, b = {b:.3f}, error = {error:.3f}\")"
   ]
  },
  {
   "cell_type": "markdown",
   "metadata": {},
   "source": [
    "### Predict"
   ]
  },
  {
   "cell_type": "markdown",
   "metadata": {},
   "source": [
    "#### 선형 회귀의 학습이 끝났으면, 이제 이 머신러닝 알고리즘을 활용하여 변환공식을 완성하고, 주어진 섭씨온도를 화씨온도로 변환(혹은 섭씨온도로 화씨온도를 예측)할 수 있다. 앞서 만들어준 데이터를 그대로 활용하여 주어진 섭씨온도(C)로 화씨온도를 예측해보자."
   ]
  },
  {
   "cell_type": "code",
   "execution_count": 29,
   "metadata": {},
   "outputs": [
    {
     "data": {
      "text/plain": [
       "array([168.83116079, 176.04526304, 105.70776606,  44.3878969 ,\n",
       "       179.65231417])"
      ]
     },
     "execution_count": 29,
     "metadata": {},
     "output_type": "execute_result"
    }
   ],
   "source": [
    "y_predict = w * C + b\n",
    "\n",
    "y_predict[0:5]"
   ]
  },
  {
   "cell_type": "code",
   "execution_count": 30,
   "metadata": {},
   "outputs": [
    {
     "name": "stdout",
     "output_type": "stream",
     "text": [
      "(100, 3)\n"
     ]
    },
    {
     "data": {
      "text/html": [
       "<div>\n",
       "<style scoped>\n",
       "    .dataframe tbody tr th:only-of-type {\n",
       "        vertical-align: middle;\n",
       "    }\n",
       "\n",
       "    .dataframe tbody tr th {\n",
       "        vertical-align: top;\n",
       "    }\n",
       "\n",
       "    .dataframe thead th {\n",
       "        text-align: right;\n",
       "    }\n",
       "</style>\n",
       "<table border=\"1\" class=\"dataframe\">\n",
       "  <thead>\n",
       "    <tr style=\"text-align: right;\">\n",
       "      <th></th>\n",
       "      <th>C</th>\n",
       "      <th>F</th>\n",
       "      <th>F(predict)</th>\n",
       "    </tr>\n",
       "  </thead>\n",
       "  <tbody>\n",
       "    <tr>\n",
       "      <th>0</th>\n",
       "      <td>76</td>\n",
       "      <td>168.8</td>\n",
       "      <td>168.831161</td>\n",
       "    </tr>\n",
       "    <tr>\n",
       "      <th>1</th>\n",
       "      <td>80</td>\n",
       "      <td>176.0</td>\n",
       "      <td>176.045263</td>\n",
       "    </tr>\n",
       "    <tr>\n",
       "      <th>2</th>\n",
       "      <td>41</td>\n",
       "      <td>105.8</td>\n",
       "      <td>105.707766</td>\n",
       "    </tr>\n",
       "    <tr>\n",
       "      <th>3</th>\n",
       "      <td>7</td>\n",
       "      <td>44.6</td>\n",
       "      <td>44.387897</td>\n",
       "    </tr>\n",
       "    <tr>\n",
       "      <th>4</th>\n",
       "      <td>82</td>\n",
       "      <td>179.6</td>\n",
       "      <td>179.652314</td>\n",
       "    </tr>\n",
       "    <tr>\n",
       "      <th>5</th>\n",
       "      <td>54</td>\n",
       "      <td>129.2</td>\n",
       "      <td>129.153598</td>\n",
       "    </tr>\n",
       "    <tr>\n",
       "      <th>6</th>\n",
       "      <td>26</td>\n",
       "      <td>78.8</td>\n",
       "      <td>78.654883</td>\n",
       "    </tr>\n",
       "    <tr>\n",
       "      <th>7</th>\n",
       "      <td>8</td>\n",
       "      <td>46.4</td>\n",
       "      <td>46.191422</td>\n",
       "    </tr>\n",
       "    <tr>\n",
       "      <th>8</th>\n",
       "      <td>80</td>\n",
       "      <td>176.0</td>\n",
       "      <td>176.045263</td>\n",
       "    </tr>\n",
       "    <tr>\n",
       "      <th>9</th>\n",
       "      <td>84</td>\n",
       "      <td>183.2</td>\n",
       "      <td>183.259365</td>\n",
       "    </tr>\n",
       "  </tbody>\n",
       "</table>\n",
       "</div>"
      ],
      "text/plain": [
       "    C      F  F(predict)\n",
       "0  76  168.8  168.831161\n",
       "1  80  176.0  176.045263\n",
       "2  41  105.8  105.707766\n",
       "3   7   44.6   44.387897\n",
       "4  82  179.6  179.652314\n",
       "5  54  129.2  129.153598\n",
       "6  26   78.8   78.654883\n",
       "7   8   46.4   46.191422\n",
       "8  80  176.0  176.045263\n",
       "9  84  183.2  183.259365"
      ]
     },
     "execution_count": 30,
     "metadata": {},
     "output_type": "execute_result"
    }
   ],
   "source": [
    "result = pd.DataFrame({\"C\": C, \"F\": F, \"F(predict)\": y_predict})\n",
    "print(result.shape) \n",
    "result.head(10)"
   ]
  },
  {
   "cell_type": "markdown",
   "metadata": {},
   "source": [
    "### Visualize\n",
    "#### 결과가 잘 나왔으면, 예측한 값과 실제값을 비교하여 시각화를 통해 잘 예측이 되었는지 확인"
   ]
  },
  {
   "cell_type": "code",
   "execution_count": 31,
   "metadata": {},
   "outputs": [
    {
     "data": {
      "text/plain": [
       "[<matplotlib.lines.Line2D at 0x1da12f70e50>]"
      ]
     },
     "execution_count": 31,
     "metadata": {},
     "output_type": "execute_result"
    },
    {
     "data": {
      "image/png": "[encoded data removed]",
      "text/plain": [
       "<Figure size 432x288 with 1 Axes>"
      ]
     },
     "metadata": {
      "needs_background": "light"
     },
     "output_type": "display_data"
    }
   ],
   "source": [
    "plt.scatter(C, F)\n",
    "plt.plot(C, y_predict, 'r')"
   ]
  },
  {
   "cell_type": "code",
   "execution_count": null,
   "metadata": {},
   "outputs": [],
   "source": []
  }
 ],
 "metadata": {
  "kernelspec": {
   "display_name": "Python 3 (ipykernel)",
   "language": "python",
   "name": "python3"
  },
  "language_info": {
   "codemirror_mode": {
    "name": "ipython",
    "version": 3
   },
   "file_extension": ".py",
   "mimetype": "text/x-python",
   "name": "python",
   "nbconvert_exporter": "python",
   "pygments_lexer": "ipython3",
   "version": "3.9.12"
  }
 },
 "nbformat": 4,
 "nbformat_minor": 4
}
