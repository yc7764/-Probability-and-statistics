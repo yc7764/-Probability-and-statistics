{
 "cells": [
  {
   "cell_type": "markdown",
   "metadata": {},
   "source": [
    "### Linear Regression PDF page 38\n",
    "\n",
    "#### 최소제곱법과 LinearRegression"
   ]
  },
  {
   "cell_type": "code",
   "execution_count": 1,
   "metadata": {},
   "outputs": [],
   "source": [
    "import numpy as np\n",
    "\n",
    "# 이상치 미존재\n",
    "x1 = np.array([10, 9, 3, 2])\n",
    "y1 = np.array([90, 80, 50, 30])\n",
    "\n",
    "# 이상치 존재\n",
    "x2 = np.array([10, 9, 3, 2, 11])\n",
    "y2 = np.array([90, 80, 50, 30,40])"
   ]
  },
  {
   "cell_type": "code",
   "execution_count": 2,
   "metadata": {},
   "outputs": [
    {
     "data": {
      "image/png": "[encoded data removed]",
      "text/plain": [
       "<Figure size 720x360 with 2 Axes>"
      ]
     },
     "metadata": {
      "needs_background": "light"
     },
     "output_type": "display_data"
    }
   ],
   "source": [
    "import matplotlib.pyplot as plt\n",
    "\n",
    "plt.figure(figsize=(10, 5))\n",
    "\n",
    "plt.subplot(1, 2, 1)\n",
    "plt.scatter(x1, y1)\n",
    "plt.title('Without Outlier')\n",
    "\n",
    "plt.subplot(1, 2, 2)\n",
    "plt.scatter(x2, y2)\n",
    "plt.title('With Outlier')\n",
    "plt.show()"
   ]
  },
  {
   "cell_type": "markdown",
   "metadata": {},
   "source": [
    "`최소제곱법(Ordinart Least Squared) 직접 구현`"
   ]
  },
  {
   "cell_type": "code",
   "execution_count": 3,
   "metadata": {},
   "outputs": [],
   "source": [
    "def OLS(x, y):\n",
    "    w = np.sum((x-x.mean()) * (y-y.mean())) / np.sum((x-x.mean())**2)\n",
    "    b = y.mean() - w * x.mean()\n",
    "    return w, b"
   ]
  },
  {
   "cell_type": "markdown",
   "metadata": {},
   "source": [
    "`정의된 함수를 이용해서 가중치와 편향을 계산`"
   ]
  },
  {
   "cell_type": "code",
   "execution_count": 4,
   "metadata": {},
   "outputs": [
    {
     "data": {
      "text/plain": [
       "(6.6, 22.900000000000006)"
      ]
     },
     "execution_count": 4,
     "metadata": {},
     "output_type": "execute_result"
    }
   ],
   "source": [
    "w1, b1 = OLS(x1, y1)\n",
    "w1, b1"
   ]
  },
  {
   "cell_type": "code",
   "execution_count": 5,
   "metadata": {},
   "outputs": [
    {
     "data": {
      "text/plain": [
       "(3.4285714285714284, 34.0)"
      ]
     },
     "execution_count": 5,
     "metadata": {},
     "output_type": "execute_result"
    }
   ],
   "source": [
    "w2, b2 = OLS(x2, y2)\n",
    "w2, b2"
   ]
  },
  {
   "cell_type": "markdown",
   "metadata": {},
   "source": [
    "`계산된 가중치와 편향을 사용해서 예측값을 도출`"
   ]
  },
  {
   "cell_type": "code",
   "execution_count": 6,
   "metadata": {},
   "outputs": [],
   "source": [
    "x1_pred = x1 * w1 + b1\n",
    "x2_pred = x2 * w2 + b2"
   ]
  },
  {
   "cell_type": "markdown",
   "metadata": {},
   "source": [
    "`결과 시각화`\n",
    "\n",
    "`데이타에 이상치값이 포함되어진 경우 실제값과의 오차가 더 커지는 것을 확인할 수 있다.`\n"
   ]
  },
  {
   "cell_type": "code",
   "execution_count": 7,
   "metadata": {},
   "outputs": [
    {
     "data": {
      "image/png": "[encoded data removed]",
      "text/plain": [
       "<Figure size 720x360 with 2 Axes>"
      ]
     },
     "metadata": {
      "needs_background": "light"
     },
     "output_type": "display_data"
    }
   ],
   "source": [
    "plt.figure(figsize=(10, 5))\n",
    "\n",
    "plt.subplot(1, 2, 1)\n",
    "plt.scatter(x1, y1, label='Sample')\n",
    "plt.plot(x1, x1_pred, c='red', label=f'Y={w1:.2f}x+{b1:.2f}')\n",
    "plt.legend()\n",
    "plt.title('Without Outlier')\n",
    "\n",
    "plt.subplot(1, 2, 2)\n",
    "plt.scatter(x2, y2, label='Sample')\n",
    "plt.plot(x2, x2_pred, c='red', label=f'Y={w2:.2f}x+{b2:.2f}')\n",
    "plt.title('With Outlier')\n",
    "plt.legend()\n",
    "plt.show()"
   ]
  },
  {
   "cell_type": "markdown",
   "metadata": {},
   "source": [
    "`LinearRegression은 내부적으로 최소제곱법 알고리즘으로 구현되어져 있다.`  \n",
    "`LinearRegression의 내부변수 coef_, intercept_를 통해서 가중치와 편향값을 받아볼 수 있다.`"
   ]
  },
  {
   "cell_type": "code",
   "execution_count": 8,
   "metadata": {},
   "outputs": [
    {
     "data": {
      "text/plain": [
       "(array([6.6]), 22.899999999999984)"
      ]
     },
     "execution_count": 8,
     "metadata": {},
     "output_type": "execute_result"
    }
   ],
   "source": [
    "from sklearn.linear_model import LinearRegression\n",
    "model1 = LinearRegression().fit(x1.reshape(-1, 1), y1)\n",
    "model1.coef_, model1.intercept_"
   ]
  },
  {
   "cell_type": "code",
   "execution_count": 9,
   "metadata": {},
   "outputs": [
    {
     "data": {
      "text/plain": [
       "(array([3.42857143]), 33.99999999999999)"
      ]
     },
     "execution_count": 9,
     "metadata": {},
     "output_type": "execute_result"
    }
   ],
   "source": [
    "model2 = LinearRegression().fit(x2.reshape(-1, 1), y2)\n",
    "model2.coef_, model2.intercept_"
   ]
  },
  {
   "cell_type": "code",
   "execution_count": null,
   "metadata": {},
   "outputs": [],
   "source": []
  }
 ],
 "metadata": {
  "kernelspec": {
   "display_name": "Python 3 (ipykernel)",
   "language": "python",
   "name": "python3"
  },
  "language_info": {
   "codemirror_mode": {
    "name": "ipython",
    "version": 3
   },
   "file_extension": ".py",
   "mimetype": "text/x-python",
   "name": "python",
   "nbconvert_exporter": "python",
   "pygments_lexer": "ipython3",
   "version": "3.9.12"
  }
 },
 "nbformat": 4,
 "nbformat_minor": 4
}
