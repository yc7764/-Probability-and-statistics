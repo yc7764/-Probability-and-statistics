{
 "cells": [
  {
   "cell_type": "code",
   "execution_count": 1,
   "id": "2cf5d97a",
   "metadata": {},
   "outputs": [],
   "source": [
    "import pandas as pd\n",
    "import numpy as np\n",
    "import matplotlib.pyplot as plt\n",
    "import seaborn as sns"
   ]
  },
  {
   "cell_type": "code",
   "execution_count": 2,
   "id": "9c056175",
   "metadata": {},
   "outputs": [],
   "source": [
    "import matplotlib.pyplot as plt\n",
    "import seaborn as sns\n",
    "from sklearn.metrics import accuracy_score\n",
    "\n",
    "my_predictions = {}\n",
    "my_pred = None\n",
    "my_actual = None\n",
    "my_name = None\n",
    "\n",
    "colors = ['r', 'c', 'm', 'y', 'k', 'khaki', 'teal', 'orchid', 'sandybrown',\n",
    "          'greenyellow', 'dodgerblue', 'deepskyblue', 'rosybrown', 'firebrick',\n",
    "          'deeppink', 'crimson', 'salmon', 'darkred', 'olivedrab', 'olive', \n",
    "          'forestgreen', 'royalblue', 'indigo', 'navy', 'mediumpurple', 'chocolate',\n",
    "          'gold', 'darkorange', 'seagreen', 'turquoise', 'steelblue', 'slategray', \n",
    "          'peru', 'midnightblue', 'slateblue', 'dimgray', 'cadetblue', 'tomato'\n",
    "         ]\n",
    "\n",
    "def plot_predictions(name_, pred, actual):\n",
    "    df = pd.DataFrame({'prediction': pred, 'actual': y_test})\n",
    "    df = df.sort_values(by='actual').reset_index(drop=True)\n",
    "\n",
    "    plt.figure(figsize=(11, 8))\n",
    "    plt.scatter(df.index, df['prediction'], marker='x', color='r')\n",
    "    plt.scatter(df.index, df['actual'], alpha=0.7, marker='o', color='black')\n",
    "    plt.title(name_, fontsize=15)\n",
    "    plt.legend(['prediction', 'actual'], fontsize=12)\n",
    "    plt.show()\n",
    "\n",
    "def mse_eval(name_, pred, actual):\n",
    "    global my_predictions, colors, my_pred, my_actual, my_name\n",
    "    \n",
    "    my_name = name_\n",
    "    my_pred = pred\n",
    "    my_actual = actual\n",
    "\n",
    "    #plot_predictions(name_, pred, actual)\n",
    "\n",
    "    mse = accuracy_score(pred, actual)\n",
    "    my_predictions[name_] = mse\n",
    "\n",
    "    y_value = sorted(my_predictions.items(), key=lambda x: x[1], reverse=False)\n",
    "    \n",
    "    df = pd.DataFrame(y_value, columns=['model', 'mse'])\n",
    "    print(df)\n",
    "    \n",
    "    length = len(df) / 2\n",
    "    \n",
    "    plt.figure(figsize=(9, length))\n",
    "    ax = plt.subplot()\n",
    "    ax.set_yticks(np.arange(len(df)))\n",
    "    ax.set_yticklabels(df['model'], fontsize=12)\n",
    "    bars = ax.barh(np.arange(len(df)), df['mse'], height=0.3)\n",
    "    \n",
    "    for i, v in enumerate(df['mse']):\n",
    "        idx = np.random.choice(len(colors))\n",
    "        bars[i].set_color(colors[idx])\n",
    "        ax.text(v + 2, i, str(round(v, 3)), color='k', fontsize=12, fontweight='bold', verticalalignment='center')\n",
    "        \n",
    "    plt.title('Accuracy', fontsize=16)\n",
    "    plt.xlim(0, 1)\n",
    "    \n",
    "    plt.show()\n",
    "    \n",
    "def add_model(name_, pred, actual):\n",
    "    global my_predictions, my_pred, my_actual, my_name\n",
    "    my_name = name_\n",
    "    my_pred = pred\n",
    "    my_actual = actual\n",
    "    \n",
    "    mse = mean_squared_error(pred, actual)\n",
    "    my_predictions[name_] = mse\n",
    "\n",
    "def remove_model(name_):\n",
    "    global my_predictions\n",
    "    try:\n",
    "        del my_predictions[name_]\n",
    "    except KeyError:\n",
    "        return False\n",
    "    return True\n",
    "\n",
    "def plot_all():\n",
    "    global my_predictions, my_pred, my_actual, my_name\n",
    "    \n",
    "    plot_predictions(my_name, my_pred, my_actual)\n",
    "    \n",
    "    y_value = sorted(my_predictions.items(), key=lambda x: x[1], reverse=True)\n",
    "    \n",
    "    df = pd.DataFrame(y_value, columns=['model', 'mse'])\n",
    "    print(df)\n",
    "    min_ = df['mse'].min() - 10\n",
    "    max_ = df['mse'].max() + 10\n",
    "    \n",
    "    length = len(df) / 2\n",
    "    \n",
    "    plt.figure(figsize=(9, length))\n",
    "    ax = plt.subplot()\n",
    "    ax.set_yticks(np.arange(len(df)))\n",
    "    ax.set_yticklabels(df['model'], fontsize=12)\n",
    "    bars = ax.barh(np.arange(len(df)), df['mse'], height=0.3)\n",
    "    \n",
    "    for i, v in enumerate(df['mse']):\n",
    "        idx = np.random.choice(len(colors))\n",
    "        bars[i].set_color(colors[idx])\n",
    "        ax.text(v + 2, i, str(round(v, 3)), color='k', fontsize=12, fontweight='bold', verticalalignment='center')\n",
    "        \n",
    "    plt.title('MSE Error', fontsize=16)\n",
    "    plt.xlim(min_, max_)\n",
    "    \n",
    "    plt.show()"
   ]
  },
  {
   "cell_type": "code",
   "execution_count": 24,
   "id": "9c1f944e",
   "metadata": {},
   "outputs": [],
   "source": [
    "df_player = pd.read_excel('volleyball_선수별.xlsx')"
   ]
  },
  {
   "cell_type": "code",
   "execution_count": 23,
   "id": "74161b14",
   "metadata": {},
   "outputs": [],
   "source": [
    "from sklearn.preprocessing import LabelEncoder\n",
    "\n",
    "le = LabelEncoder()\n",
    "le.fit(df_player['팀명'])\n",
    "df_player['팀명'] = le.transform(df_player['팀명'])"
   ]
  },
  {
   "cell_type": "code",
   "execution_count": 22,
   "id": "ed97728f",
   "metadata": {},
   "outputs": [],
   "source": [
    "le_2 = LabelEncoder()\n",
    "le_2.fit(df_player['이름'])\n",
    "df_player['이름'] = le_2.transform(df_player['이름'])"
   ]
  },
  {
   "cell_type": "code",
   "execution_count": 21,
   "id": "dfc098ae",
   "metadata": {},
   "outputs": [],
   "source": [
    "df_player['공격종합_성공률'] = df_player['공격종합_성공률'].fillna(df_player['공격종합_성공률'].mean())\n",
    "df_player['오픈_성공률'] = df_player['오픈_성공률'].fillna(df_player['오픈_성공률'].mean())\n",
    "df_player['시간차_성공률'] = df_player['시간차_성공률'].fillna(df_player['시간차_성공률'].mean())\n",
    "df_player['후위_성공률'] = df_player['후위_성공률'].fillna(df_player['후위_성공률'].mean())\n",
    "df_player['퀵오픈_성공률'] = df_player['퀵오픈_성공률'].fillna(df_player['퀵오픈_성공률'].mean())\n",
    "df_player['서브_성공률'] = df_player['서브_성공률'].fillna(df_player['서브_성공률'].mean())\n",
    "df_player['디그_성공률'] = df_player['디그_성공률'].fillna(df_player['디그_성공률'].mean())\n",
    "df_player['세트_성공률'] = df_player['세트_성공률'].fillna(df_player['세트_성공률'].mean())\n",
    "df_player['리시브_효율'] = df_player['리시브_효율'].fillna(df_player['리시브_효율'].mean())\n",
    "df_player['블로킹_성공률'] = df_player['블로킹_성공률'].fillna(df_player['블로킹_성공률'].mean())"
   ]
  },
  {
   "cell_type": "markdown",
   "id": "2697c5e0",
   "metadata": {},
   "source": [
    "# scaling"
   ]
  },
  {
   "cell_type": "code",
   "execution_count": 10,
   "id": "53964c55",
   "metadata": {},
   "outputs": [
    {
     "data": {
      "text/plain": [
       "((8247, 8), (2750, 8))"
      ]
     },
     "execution_count": 10,
     "metadata": {},
     "output_type": "execute_result"
    }
   ],
   "source": [
    "from sklearn.preprocessing import StandardScaler\n",
    "\n",
    "SEED = 45\n",
    "\n",
    "X = df_player.drop(['경기날짜', '결과'], axis =1)\n",
    "y = df_player['결과']\n",
    "\n",
    "use_cols = ['득점_득점', '공격종합_성공률', '서브_성공률', '디그_성공률',\n",
    "            '세트_성공률', '리시브_효율', '블로킹_성공률','범실_범실']\n",
    "\n",
    "scaler = StandardScaler()\n",
    "\n",
    "x_scaled = scaler.fit_transform(X)\n",
    "\n",
    "x_cols = df_player[use_cols]\n",
    "\n",
    "X_train, X_test, y_train, y_test = train_test_split(x_cols, y, stratify=y, random_state=SEED)\n",
    "\n",
    "X_train.shape , X_test.shape"
   ]
  },
  {
   "cell_type": "markdown",
   "id": "4ce2f9ff",
   "metadata": {},
   "source": [
    "# 로지스틱 Reg"
   ]
  },
  {
   "cell_type": "code",
   "execution_count": 11,
   "id": "b3b14b19",
   "metadata": {},
   "outputs": [
    {
     "data": {
      "text/plain": [
       "(0.5916090699648356, 0.588)"
      ]
     },
     "execution_count": 11,
     "metadata": {},
     "output_type": "execute_result"
    }
   ],
   "source": [
    "from sklearn.linear_model import LogisticRegression\n",
    "from sklearn.metrics import accuracy_score\n",
    "\n",
    "model = LogisticRegression(max_iter=5000)\n",
    "model.fit(X_train, y_train)\n",
    "pred = model.predict(X_test)\n",
    "\n",
    "model.score(X_train, y_train), model.score(X_test, y_test)"
   ]
  },
  {
   "cell_type": "code",
   "execution_count": 12,
   "id": "0cba0f5a",
   "metadata": {
    "scrolled": false
   },
   "outputs": [
    {
     "name": "stdout",
     "output_type": "stream",
     "text": [
      "             model    mse\n",
      "0  Logistic_scaled  0.588\n"
     ]
    },
    {
     "data": {
      "image/png": "[encoded data removed]",
      "text/plain": [
       "<Figure size 648x36 with 1 Axes>"
      ]
     },
     "metadata": {
      "needs_background": "light"
     },
     "output_type": "display_data"
    }
   ],
   "source": [
    "mse_eval('Logistic_scaled', pred, y_test)"
   ]
  },
  {
   "cell_type": "code",
   "execution_count": 13,
   "id": "21cdfb3d",
   "metadata": {},
   "outputs": [],
   "source": [
    "from sklearn.linear_model import Ridge\n",
    "from sklearn.linear_model import Lasso\n",
    "from sklearn.linear_model import ElasticNet\n",
    "from sklearn.preprocessing import StandardScaler, MinMaxScaler\n",
    "from sklearn.pipeline import make_pipeline\n",
    "from sklearn.preprocessing import PolynomialFeatures\n",
    "from xgboost import XGBClassifier"
   ]
  },
  {
   "cell_type": "markdown",
   "id": "e87777e2",
   "metadata": {},
   "source": [
    "# Polynomial"
   ]
  },
  {
   "cell_type": "code",
   "execution_count": 14,
   "id": "ee6018fd",
   "metadata": {},
   "outputs": [
    {
     "name": "stdout",
     "output_type": "stream",
     "text": [
      "                    model       mse\n",
      "0         Logistic_scaled  0.588000\n",
      "1  Poly ElasticNet_scaled  0.591636\n"
     ]
    },
    {
     "data": {
      "image/png": "[encoded data removed]",
      "text/plain": [
       "<Figure size 648x72 with 1 Axes>"
      ]
     },
     "metadata": {
      "needs_background": "light"
     },
     "output_type": "display_data"
    }
   ],
   "source": [
    "poly_pipeline = make_pipeline(\n",
    "    PolynomialFeatures(degree = 2, include_bias=False ),\n",
    "    XGBClassifier(random_state = 0)\n",
    ")\n",
    "poly_pipeline.fit(X_train, y_train)\n",
    "poly_pred = poly_pipeline.predict(X_test)\n",
    "mse_eval('Poly ElasticNet_scaled', poly_pred, y_test)"
   ]
  },
  {
   "cell_type": "markdown",
   "id": "ee480ca0",
   "metadata": {},
   "source": [
    "# RandomForest"
   ]
  },
  {
   "cell_type": "code",
   "execution_count": 15,
   "id": "79caf8c4",
   "metadata": {},
   "outputs": [
    {
     "name": "stdout",
     "output_type": "stream",
     "text": [
      "                          model       mse\n",
      "0               Logistic_scaled  0.588000\n",
      "1        Poly ElasticNet_scaled  0.591636\n",
      "2  RandomForest Ensemble_scaled  0.612000\n"
     ]
    },
    {
     "data": {
      "image/png": "[encoded data removed]",
      "text/plain": [
       "<Figure size 648x108 with 1 Axes>"
      ]
     },
     "metadata": {
      "needs_background": "light"
     },
     "output_type": "display_data"
    }
   ],
   "source": [
    "from sklearn.ensemble import RandomForestClassifier, RandomForestRegressor\n",
    "\n",
    "rfr = RandomForestClassifier()\n",
    "rfr.fit(X_train, y_train)\n",
    "rfr_pred = rfr.predict(X_test)\n",
    "\n",
    "mse_eval('RandomForest Ensemble_scaled', rfr_pred, y_test)"
   ]
  },
  {
   "cell_type": "markdown",
   "id": "de125f2f",
   "metadata": {},
   "source": [
    "# XGBoost"
   ]
  },
  {
   "cell_type": "code",
   "execution_count": 16,
   "id": "4cacca35",
   "metadata": {},
   "outputs": [
    {
     "data": {
      "text/plain": [
       "(0.8240572329331878, 0.5978181818181818)"
      ]
     },
     "execution_count": 16,
     "metadata": {},
     "output_type": "execute_result"
    }
   ],
   "source": [
    "# 파라미터 튜닝 없는 XGBRegressor \n",
    "from xgboost import XGBClassifier\n",
    "\n",
    "xgb = XGBClassifier(random_state = 0)\n",
    "xgb.fit(X_train, y_train)\n",
    "xgb_pred = xgb.predict(X_test)\n",
    "\n",
    "xgb.score(X_train, y_train), xgb.score(X_test, y_test)"
   ]
  },
  {
   "cell_type": "code",
   "execution_count": 17,
   "id": "252ef520",
   "metadata": {},
   "outputs": [
    {
     "name": "stdout",
     "output_type": "stream",
     "text": [
      "                          model       mse\n",
      "0               Logistic_scaled  0.588000\n",
      "1        Poly ElasticNet_scaled  0.591636\n",
      "2                XGBoost_scaled  0.597818\n",
      "3  RandomForest Ensemble_scaled  0.612000\n"
     ]
    },
    {
     "data": {
      "image/png": "[encoded data removed]",
      "text/plain": [
       "<Figure size 648x144 with 1 Axes>"
      ]
     },
     "metadata": {
      "needs_background": "light"
     },
     "output_type": "display_data"
    }
   ],
   "source": [
    "mse_eval('XGBoost_scaled', xgb_pred, y_test)"
   ]
  },
  {
   "cell_type": "code",
   "execution_count": 18,
   "id": "1ec22238",
   "metadata": {},
   "outputs": [
    {
     "data": {
      "text/plain": [
       "(0.672729477385716, 0.6112727272727273)"
      ]
     },
     "execution_count": 18,
     "metadata": {},
     "output_type": "execute_result"
    }
   ],
   "source": [
    "# XGB underfitting\n",
    "from xgboost import XGBClassifier\n",
    "\n",
    "xgb = XGBClassifier(random_state = 0, learning_rate = 0.0007, n_estimators = 1800, subsample= 0.8)\n",
    "xgb.fit(X_train, y_train)\n",
    "xgb_pred = xgb.predict(X_test)\n",
    "xgb.score(X_train, y_train), xgb.score(X_test, y_test)"
   ]
  },
  {
   "cell_type": "code",
   "execution_count": 19,
   "id": "0de6f9f5",
   "metadata": {},
   "outputs": [
    {
     "name": "stdout",
     "output_type": "stream",
     "text": [
      "                                               model       mse\n",
      "0                                    Logistic_scaled  0.588000\n",
      "1                             Poly ElasticNet_scaled  0.591636\n",
      "2                                     XGBoost_scaled  0.597818\n",
      "3  XGBoost_learning_rate=0.0007,n_estimators=1800...  0.611273\n",
      "4                       RandomForest Ensemble_scaled  0.612000\n"
     ]
    },
    {
     "data": {
      "image/png": "[encoded data removed]",
      "text/plain": [
       "<Figure size 648x180 with 1 Axes>"
      ]
     },
     "metadata": {
      "needs_background": "light"
     },
     "output_type": "display_data"
    }
   ],
   "source": [
    "mse_eval('XGBoost_learning_rate=0.0007,n_estimators=1800_scaled', xgb_pred, y_test)"
   ]
  },
  {
   "cell_type": "markdown",
   "id": "5680e6a8",
   "metadata": {},
   "source": [
    "# ensemble"
   ]
  },
  {
   "cell_type": "code",
   "execution_count": 20,
   "id": "c5c26251",
   "metadata": {},
   "outputs": [
    {
     "name": "stdout",
     "output_type": "stream",
     "text": [
      "                                               model       mse\n",
      "0                                    Logistic_scaled  0.588000\n",
      "1                             Poly ElasticNet_scaled  0.591636\n",
      "2                                     XGBoost_scaled  0.597818\n",
      "3                             Voting Ensemble_scaled  0.607273\n",
      "4  XGBoost_learning_rate=0.0007,n_estimators=1800...  0.611273\n",
      "5                       RandomForest Ensemble_scaled  0.612000\n"
     ]
    },
    {
     "data": {
      "image/png": "[encoded data removed]",
      "text/plain": [
       "<Figure size 648x216 with 1 Axes>"
      ]
     },
     "metadata": {
      "needs_background": "light"
     },
     "output_type": "display_data"
    }
   ],
   "source": [
    "from sklearn.ensemble import VotingClassifier, VotingRegressor\n",
    "\n",
    "single_models = [\n",
    "    ('XGBoost', xgb), \n",
    "    ('poly_pipeline', poly_pipeline),\n",
    "    ('Random', rfr)\n",
    "]\n",
    "\n",
    "voting_classifier = VotingClassifier(single_models , n_jobs=-1)\n",
    "voting_classifier.fit(X_train, y_train)\n",
    "voting_pred = voting_classifier.predict(X_test)\n",
    "\n",
    "mse_eval('Voting Ensemble_scaled', voting_pred, y_test)"
   ]
  },
  {
   "cell_type": "code",
   "execution_count": null,
   "id": "13c4ab69",
   "metadata": {},
   "outputs": [],
   "source": []
  }
 ],
 "metadata": {
  "kernelspec": {
   "display_name": "Python 3 (ipykernel)",
   "language": "python",
   "name": "python3"
  },
  "language_info": {
   "codemirror_mode": {
    "name": "ipython",
    "version": 3
   },
   "file_extension": ".py",
   "mimetype": "text/x-python",
   "name": "python",
   "nbconvert_exporter": "python",
   "pygments_lexer": "ipython3",
   "version": "3.9.12"
  }
 },
 "nbformat": 4,
 "nbformat_minor": 5
}
