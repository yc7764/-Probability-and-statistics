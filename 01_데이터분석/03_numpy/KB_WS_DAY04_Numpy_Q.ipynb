{
 "cells": [
  {
   "cell_type": "markdown",
   "metadata": {},
   "source": [
    "# Numpy"
   ]
  },
  {
   "cell_type": "code",
   "execution_count": 1,
   "metadata": {
    "ExecuteTime": {
     "end_time": "2022-02-18T08:04:37.355485Z",
     "start_time": "2022-02-18T08:04:37.343476Z"
    }
   },
   "outputs": [],
   "source": [
    "import numpy as np"
   ]
  },
  {
   "cell_type": "markdown",
   "metadata": {},
   "source": [
    "<br/>\n",
    "<br/>\n",
    "<br/>\n",
    "<br/>"
   ]
  },
  {
   "cell_type": "markdown",
   "metadata": {},
   "source": [
    "#### Q1) 아래 리스트를 이용하여 1차원 배열을 생성하세요.\n",
    "  - [103, 815, 571, 934, 599, 945,  71, 669, 639, 116, 423, 985, 814, 506, 792, 295, 914, 397, 654,  32, 859, 321, 850, 340, 325]"
   ]
  },
  {
   "cell_type": "code",
   "execution_count": 2,
   "metadata": {
    "ExecuteTime": {
     "end_time": "2022-02-18T08:04:37.371477Z",
     "start_time": "2022-02-18T08:04:37.357467Z"
    },
    "id": "g-3wvH8jHxvv"
   },
   "outputs": [
    {
     "data": {
      "text/plain": [
       "array([103, 815, 571, 934, 599, 945,  71, 669, 639, 116, 423, 985, 814,\n",
       "       506, 792, 295, 914, 397, 654,  32, 859, 321, 850, 340, 325])"
      ]
     },
     "execution_count": 2,
     "metadata": {},
     "output_type": "execute_result"
    }
   ],
   "source": [
    "# code here\n",
    "arr1 = \n",
    "arr1"
   ]
  },
  {
   "cell_type": "markdown",
   "metadata": {},
   "source": [
    "<br/>\n",
    "<br/>"
   ]
  },
  {
   "cell_type": "markdown",
   "metadata": {
    "id": "JU--Df2sHxvx"
   },
   "source": [
    "#### Q2) arr1의 shape을 5행 5열로 변경하여 arr2에 저장하세요.\n",
    " - reshape"
   ]
  },
  {
   "cell_type": "code",
   "execution_count": 3,
   "metadata": {
    "ExecuteTime": {
     "end_time": "2022-02-18T08:04:37.387492Z",
     "start_time": "2022-02-18T08:04:37.373470Z"
    },
    "colab": {
     "base_uri": "https://localhost:8080/"
    },
    "id": "vGk8y7iQHxvx",
    "outputId": "fa51d018-512f-43e9-d570-d325f66ea50a"
   },
   "outputs": [
    {
     "data": {
      "text/plain": [
       "array([[103, 815, 571, 934, 599],\n",
       "       [945,  71, 669, 639, 116],\n",
       "       [423, 985, 814, 506, 792],\n",
       "       [295, 914, 397, 654,  32],\n",
       "       [859, 321, 850, 340, 325]])"
      ]
     },
     "execution_count": 3,
     "metadata": {},
     "output_type": "execute_result"
    }
   ],
   "source": [
    "# code here\n",
    "arr2 = \n",
    "arr2"
   ]
  },
  {
   "cell_type": "markdown",
   "metadata": {},
   "source": [
    "<br/>\n",
    "<br/>"
   ]
  },
  {
   "cell_type": "markdown",
   "metadata": {
    "id": "8LjYA7cATcL8"
   },
   "source": [
    "#### Q3) arr2의 요소 중 71에 10을 곱하세요.\n",
    " - 인덱싱/불리언 인덱싱 및 수정"
   ]
  },
  {
   "cell_type": "code",
   "execution_count": 4,
   "metadata": {
    "ExecuteTime": {
     "end_time": "2022-02-18T08:04:37.403484Z",
     "start_time": "2022-02-18T08:04:37.389481Z"
    },
    "colab": {
     "base_uri": "https://localhost:8080/"
    },
    "id": "xjNb0LmGHxvx",
    "outputId": "07f165b0-fca5-479c-c50b-8efc449d781f"
   },
   "outputs": [
    {
     "data": {
      "text/plain": [
       "array([[103, 815, 571, 934, 599],\n",
       "       [945, 710, 669, 639, 116],\n",
       "       [423, 985, 814, 506, 792],\n",
       "       [295, 914, 397, 654,  32],\n",
       "       [859, 321, 850, 340, 325]])"
      ]
     },
     "execution_count": 4,
     "metadata": {},
     "output_type": "execute_result"
    }
   ],
   "source": [
    "# code here\n",
    "\n",
    "arr2"
   ]
  },
  {
   "cell_type": "markdown",
   "metadata": {},
   "source": [
    "<br/>\n",
    "<br/>"
   ]
  },
  {
   "cell_type": "markdown",
   "metadata": {
    "id": "CwYOM2gnHxvy"
   },
   "source": [
    "#### Q4) arr2의 요소 중 가운데 위치한 9개 요소 (3개 행과 3개 열)을 출력하세요.\n",
    " - 슬라이싱"
   ]
  },
  {
   "cell_type": "code",
   "execution_count": 5,
   "metadata": {
    "ExecuteTime": {
     "end_time": "2022-02-18T08:04:37.419490Z",
     "start_time": "2022-02-18T08:04:37.404478Z"
    },
    "colab": {
     "base_uri": "https://localhost:8080/"
    },
    "id": "jQLHHJpRHxvy",
    "outputId": "8acc31ed-7d52-4679-deff-d67b72a0bc49"
   },
   "outputs": [
    {
     "data": {
      "text/plain": [
       "array([[710, 669, 639],\n",
       "       [985, 814, 506],\n",
       "       [914, 397, 654]])"
      ]
     },
     "execution_count": 5,
     "metadata": {},
     "output_type": "execute_result"
    }
   ],
   "source": [
    "# code here\n"
   ]
  },
  {
   "cell_type": "markdown",
   "metadata": {},
   "source": [
    "<br/>\n",
    "<br/>"
   ]
  },
  {
   "cell_type": "markdown",
   "metadata": {},
   "source": [
    "#### Q5) arr2의 요소 중 가운데 위치한 9개 요소에 10을 곱하세요.\n",
    " - 슬라이싱 및 수정"
   ]
  },
  {
   "cell_type": "code",
   "execution_count": 6,
   "metadata": {
    "ExecuteTime": {
     "end_time": "2022-02-18T08:04:37.435485Z",
     "start_time": "2022-02-18T08:04:37.420481Z"
    }
   },
   "outputs": [
    {
     "data": {
      "text/plain": [
       "array([[ 103,  815,  571,  934,  599],\n",
       "       [ 945, 7100, 6690, 6390,  116],\n",
       "       [ 423, 9850, 8140, 5060,  792],\n",
       "       [ 295, 9140, 3970, 6540,   32],\n",
       "       [ 859,  321,  850,  340,  325]])"
      ]
     },
     "execution_count": 6,
     "metadata": {},
     "output_type": "execute_result"
    }
   ],
   "source": [
    "# code here\n",
    "\n",
    "arr2"
   ]
  },
  {
   "cell_type": "markdown",
   "metadata": {},
   "source": [
    "<br/>\n",
    "<br/>"
   ]
  },
  {
   "cell_type": "markdown",
   "metadata": {
    "id": "_KU9M5YwHxvz"
   },
   "source": [
    "#### Q6) arr2의 요소 중 1000 이상인 요소만 추출하여 형태를 3행 3열로 변경한 후 출력하세요.\n",
    " - 불리언 인덱싱, reshape"
   ]
  },
  {
   "cell_type": "code",
   "execution_count": 7,
   "metadata": {
    "ExecuteTime": {
     "end_time": "2022-02-18T08:04:37.451488Z",
     "start_time": "2022-02-18T08:04:37.436498Z"
    },
    "colab": {
     "base_uri": "https://localhost:8080/"
    },
    "id": "XeHNAot0Hxv0",
    "outputId": "d7270dea-5260-44bd-9851-417945229f57"
   },
   "outputs": [
    {
     "data": {
      "text/plain": [
       "array([[7100, 6690, 6390],\n",
       "       [9850, 8140, 5060],\n",
       "       [9140, 3970, 6540]])"
      ]
     },
     "execution_count": 7,
     "metadata": {},
     "output_type": "execute_result"
    }
   ],
   "source": [
    "# code here\n"
   ]
  },
  {
   "cell_type": "markdown",
   "metadata": {},
   "source": [
    "<br/>\n",
    "<br/>"
   ]
  },
  {
   "cell_type": "markdown",
   "metadata": {},
   "source": [
    "#### Q7) arr2의 중앙에 있는 값을 -1로 변경한 후 출력하세요."
   ]
  },
  {
   "cell_type": "code",
   "execution_count": 8,
   "metadata": {
    "ExecuteTime": {
     "end_time": "2022-02-18T08:04:37.467492Z",
     "start_time": "2022-02-18T08:04:37.454490Z"
    }
   },
   "outputs": [
    {
     "data": {
      "text/plain": [
       "array([[ 103,  815,  571,  934,  599],\n",
       "       [ 945, 7100, 6690, 6390,  116],\n",
       "       [ 423, 9850,   -1, 5060,  792],\n",
       "       [ 295, 9140, 3970, 6540,   32],\n",
       "       [ 859,  321,  850,  340,  325]])"
      ]
     },
     "execution_count": 8,
     "metadata": {},
     "output_type": "execute_result"
    }
   ],
   "source": [
    "# code here\n",
    "\n",
    "arr2"
   ]
  },
  {
   "cell_type": "markdown",
   "metadata": {},
   "source": [
    "<br/>\n",
    "<br/>"
   ]
  },
  {
   "cell_type": "markdown",
   "metadata": {
    "id": "M410dWNbVfud"
   },
   "source": [
    "#### Q8) arr2의 열 별(행과 행) 평균과 표준편차를 출력하세요."
   ]
  },
  {
   "cell_type": "code",
   "execution_count": 9,
   "metadata": {
    "ExecuteTime": {
     "end_time": "2022-02-18T08:04:37.483494Z",
     "start_time": "2022-02-18T08:04:37.469493Z"
    },
    "colab": {
     "base_uri": "https://localhost:8080/"
    },
    "id": "Dm1KTz2RVoiS",
    "outputId": "2a50b2cc-1e21-40e7-b616-a2ed5a634fba"
   },
   "outputs": [
    {
     "data": {
      "text/plain": [
       "array([ 525. , 5445.2, 2416. , 3852.8,  372.8])"
      ]
     },
     "execution_count": 9,
     "metadata": {},
     "output_type": "execute_result"
    }
   ],
   "source": [
    "# code here\n"
   ]
  },
  {
   "cell_type": "code",
   "execution_count": 10,
   "metadata": {
    "ExecuteTime": {
     "end_time": "2022-02-18T08:04:37.499498Z",
     "start_time": "2022-02-18T08:04:37.485495Z"
    }
   },
   "outputs": [
    {
     "data": {
      "text/plain": [
       "array([ 325.37486074, 4086.27827736, 2544.80891228, 2682.34661444,\n",
       "        286.79986053])"
      ]
     },
     "execution_count": 10,
     "metadata": {},
     "output_type": "execute_result"
    }
   ],
   "source": []
  },
  {
   "cell_type": "markdown",
   "metadata": {},
   "source": [
    "<br/>\n",
    "<br/>"
   ]
  },
  {
   "cell_type": "markdown",
   "metadata": {
    "id": "BAnqS8u-Vv7B"
   },
   "source": [
    "#### Q9) arr2의 행 별(열과 열) 평균과 표준편차를 출력하세요."
   ]
  },
  {
   "cell_type": "code",
   "execution_count": 11,
   "metadata": {
    "ExecuteTime": {
     "end_time": "2022-02-18T08:04:37.515502Z",
     "start_time": "2022-02-18T08:04:37.501498Z"
    },
    "colab": {
     "base_uri": "https://localhost:8080/"
    },
    "id": "t_1hLY8IVrcj",
    "outputId": "4bbc569b-367e-4b0b-c5b8-c23094567c4e"
   },
   "outputs": [
    {
     "data": {
      "text/plain": [
       "array([ 604.4, 4248.2, 3224.8, 3995.4,  539. ])"
      ]
     },
     "execution_count": 11,
     "metadata": {},
     "output_type": "execute_result"
    }
   ],
   "source": [
    "# code here\n"
   ]
  },
  {
   "cell_type": "code",
   "execution_count": 12,
   "metadata": {
    "ExecuteTime": {
     "end_time": "2022-02-18T08:04:37.531506Z",
     "start_time": "2022-02-18T08:04:37.517504Z"
    }
   },
   "outputs": [
    {
     "data": {
      "text/plain": [
       "array([ 284.79297744, 3055.11586687, 3779.83118142, 3531.12002628,\n",
       "        257.69827318])"
      ]
     },
     "execution_count": 12,
     "metadata": {},
     "output_type": "execute_result"
    }
   ],
   "source": []
  },
  {
   "cell_type": "markdown",
   "metadata": {},
   "source": [
    "<br/>\n",
    "<br/>"
   ]
  },
  {
   "cell_type": "markdown",
   "metadata": {
    "id": "t9I7dQlsHxv0"
   },
   "source": [
    "#### Q10)  arr2의 요소 중 1000 미만인 요소는 -1으로, 1000 이상인 요소는 arr2의 값을 유지하여 arr3에 저장하세요."
   ]
  },
  {
   "cell_type": "code",
   "execution_count": 13,
   "metadata": {
    "ExecuteTime": {
     "end_time": "2022-02-18T08:04:37.547516Z",
     "start_time": "2022-02-18T08:04:37.533506Z"
    },
    "colab": {
     "base_uri": "https://localhost:8080/"
    },
    "id": "p29Hn8mJHxv0",
    "outputId": "9e687172-0036-454b-c2df-29978cd5b89e",
    "scrolled": false
   },
   "outputs": [
    {
     "data": {
      "text/plain": [
       "array([[  -1,   -1,   -1,   -1,   -1],\n",
       "       [  -1, 7100, 6690, 6390,   -1],\n",
       "       [  -1, 9850,   -1, 5060,   -1],\n",
       "       [  -1, 9140, 3970, 6540,   -1],\n",
       "       [  -1,   -1,   -1,   -1,   -1]])"
      ]
     },
     "execution_count": 13,
     "metadata": {},
     "output_type": "execute_result"
    }
   ],
   "source": [
    "# code here\n",
    "arr3 = \n",
    "arr3"
   ]
  },
  {
   "cell_type": "markdown",
   "metadata": {},
   "source": [
    "<br/>\n",
    "<br/>"
   ]
  },
  {
   "cell_type": "markdown",
   "metadata": {
    "id": "j7eoC2m8WM0S"
   },
   "source": [
    "#### Q11) arr3의 열 별(행과 행) 평균을 출력하세요"
   ]
  },
  {
   "cell_type": "code",
   "execution_count": 15,
   "metadata": {
    "ExecuteTime": {
     "end_time": "2022-02-18T08:04:37.579536Z",
     "start_time": "2022-02-18T08:04:37.565515Z"
    },
    "colab": {
     "base_uri": "https://localhost:8080/"
    },
    "id": "RFUL0DBfWKnf",
    "outputId": "46e0927a-7be2-4b65-b1d7-9acf53c37d7f"
   },
   "outputs": [
    {
     "data": {
      "text/plain": [
       "array([-1.0000e+00,  5.2176e+03,  2.1314e+03,  3.5976e+03, -1.0000e+00])"
      ]
     },
     "execution_count": 15,
     "metadata": {},
     "output_type": "execute_result"
    }
   ],
   "source": [
    "# code here\n"
   ]
  },
  {
   "cell_type": "markdown",
   "metadata": {},
   "source": [
    "<br/>\n",
    "<br/>"
   ]
  },
  {
   "cell_type": "markdown",
   "metadata": {
    "id": "beAMXR7yWqy4"
   },
   "source": [
    "#### Q12) arr3의 전체 평균을 출력하세요."
   ]
  },
  {
   "cell_type": "code",
   "execution_count": 16,
   "metadata": {
    "ExecuteTime": {
     "end_time": "2022-02-18T08:04:37.595539Z",
     "start_time": "2022-02-18T08:04:37.580524Z"
    },
    "colab": {
     "base_uri": "https://localhost:8080/"
    },
    "id": "fJ1p9tlBWPGy",
    "outputId": "64d9fc4d-fbf5-45e1-a276-35b73a4e08ef"
   },
   "outputs": [
    {
     "data": {
      "text/plain": [
       "2188.92"
      ]
     },
     "execution_count": 16,
     "metadata": {},
     "output_type": "execute_result"
    }
   ],
   "source": [
    "# code here\n"
   ]
  },
  {
   "cell_type": "markdown",
   "metadata": {},
   "source": [
    "<br/>\n",
    "<br/>"
   ]
  },
  {
   "cell_type": "markdown",
   "metadata": {},
   "source": [
    "#### Q13) arr3의 요소 중 음수인 요소는 0으로, 나머지 요소는 arr3의 값을 유지하여 arr4에 저장하세요."
   ]
  },
  {
   "cell_type": "code",
   "execution_count": 17,
   "metadata": {
    "ExecuteTime": {
     "end_time": "2022-02-18T08:04:37.611542Z",
     "start_time": "2022-02-18T08:04:37.597522Z"
    },
    "scrolled": true
   },
   "outputs": [
    {
     "data": {
      "text/plain": [
       "array([[   0,    0,    0,    0,    0],\n",
       "       [   0, 7100, 6690, 6390,    0],\n",
       "       [   0, 9850,    0, 5060,    0],\n",
       "       [   0, 9140, 3970, 6540,    0],\n",
       "       [   0,    0,    0,    0,    0]])"
      ]
     },
     "execution_count": 17,
     "metadata": {},
     "output_type": "execute_result"
    }
   ],
   "source": [
    "# code here\n",
    "arr4 = \n",
    "arr4"
   ]
  },
  {
   "cell_type": "code",
   "execution_count": null,
   "metadata": {},
   "outputs": [],
   "source": []
  }
 ],
 "metadata": {
  "kernelspec": {
   "display_name": "Python 3",
   "language": "python",
   "name": "python3"
  },
  "language_info": {
   "codemirror_mode": {
    "name": "ipython",
    "version": 3
   },
   "file_extension": ".py",
   "mimetype": "text/x-python",
   "name": "python",
   "nbconvert_exporter": "python",
   "pygments_lexer": "ipython3",
   "version": "3.8.5"
  },
  "toc": {
   "base_numbering": 1,
   "nav_menu": {},
   "number_sections": true,
   "sideBar": true,
   "skip_h1_title": false,
   "title_cell": "Table of Contents",
   "title_sidebar": "Contents",
   "toc_cell": false,
   "toc_position": {},
   "toc_section_display": true,
   "toc_window_display": false
  },
  "varInspector": {
   "cols": {
    "lenName": 16,
    "lenType": 16,
    "lenVar": 40
   },
   "kernels_config": {
    "python": {
     "delete_cmd_postfix": "",
     "delete_cmd_prefix": "del ",
     "library": "var_list.py",
     "varRefreshCmd": "print(var_dic_list())"
    },
    "r": {
     "delete_cmd_postfix": ") ",
     "delete_cmd_prefix": "rm(",
     "library": "var_list.r",
     "varRefreshCmd": "cat(var_dic_list()) "
    }
   },
   "types_to_exclude": [
    "module",
    "function",
    "builtin_function_or_method",
    "instance",
    "_Feature"
   ],
   "window_display": false
  }
 },
 "nbformat": 4,
 "nbformat_minor": 4
}
