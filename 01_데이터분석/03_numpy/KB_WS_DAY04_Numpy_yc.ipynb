{
 "cells": [
  {
   "cell_type": "markdown",
   "metadata": {},
   "source": [
    "# Numpy"
   ]
  },
  {
   "cell_type": "code",
   "execution_count": 1,
   "metadata": {
    "ExecuteTime": {
     "end_time": "2022-02-18T08:04:37.355485Z",
     "start_time": "2022-02-18T08:04:37.343476Z"
    }
   },
   "outputs": [],
   "source": [
    "import numpy as np"
   ]
  },
  {
   "cell_type": "markdown",
   "metadata": {},
   "source": [
    "#### Q1) 아래 리스트를 이용하여 1차원 배열을 생성하세요.\n",
    "  - [103, 815, 571, 934, 599, 945,  71, 669, 639, 116, 423, 985, 814, 506, 792, 295, 914, 397, 654,  32, 859, 321, 850, 340, 325]"
   ]
  },
  {
   "cell_type": "code",
   "execution_count": 10,
   "metadata": {
    "ExecuteTime": {
     "end_time": "2022-02-18T08:04:37.371477Z",
     "start_time": "2022-02-18T08:04:37.357467Z"
    },
    "id": "g-3wvH8jHxvv"
   },
   "outputs": [
    {
     "data": {
      "text/plain": [
       "(array([103, 815, 571, 934, 599, 945,  71, 669, 639, 116, 423, 985, 814,\n",
       "        506, 792, 295, 914, 397, 654,  32, 859, 321, 850, 340, 325]),\n",
       " (25,))"
      ]
     },
     "execution_count": 10,
     "metadata": {},
     "output_type": "execute_result"
    }
   ],
   "source": [
    "# code here\n",
    "my_list = [103, 815, 571, 934, 599, 945,  71, 669, 639, \n",
    "           116, 423, 985, 814, 506, 792, 295, 914, 397, 654,  \n",
    "           32, 859, 321, 850, 340, 325]\n",
    "arr1 = np.array(my_list)\n",
    "arr1, arr1.shape"
   ]
  },
  {
   "cell_type": "markdown",
   "metadata": {
    "id": "JU--Df2sHxvx"
   },
   "source": [
    "#### Q2) arr1의 shape을 5행 5열로 변경하여 arr2에 저장하세요.\n",
    " - reshape"
   ]
  },
  {
   "cell_type": "code",
   "execution_count": 11,
   "metadata": {
    "ExecuteTime": {
     "end_time": "2022-02-18T08:04:37.387492Z",
     "start_time": "2022-02-18T08:04:37.373470Z"
    },
    "colab": {
     "base_uri": "https://localhost:8080/"
    },
    "id": "vGk8y7iQHxvx",
    "outputId": "fa51d018-512f-43e9-d570-d325f66ea50a"
   },
   "outputs": [
    {
     "data": {
      "text/plain": [
       "array([[103, 815, 571, 934, 599],\n",
       "       [945,  71, 669, 639, 116],\n",
       "       [423, 985, 814, 506, 792],\n",
       "       [295, 914, 397, 654,  32],\n",
       "       [859, 321, 850, 340, 325]])"
      ]
     },
     "execution_count": 11,
     "metadata": {},
     "output_type": "execute_result"
    }
   ],
   "source": [
    "# code here\n",
    "arr2 = arr1.reshape(5, -1)\n",
    "arr2"
   ]
  },
  {
   "cell_type": "markdown",
   "metadata": {
    "id": "8LjYA7cATcL8"
   },
   "source": [
    "#### Q3) arr2의 요소 중 71에 10을 곱하세요.\n",
    " - 인덱싱/불리언 인덱싱 및 수정"
   ]
  },
  {
   "cell_type": "code",
   "execution_count": 12,
   "metadata": {
    "ExecuteTime": {
     "end_time": "2022-02-18T08:04:37.403484Z",
     "start_time": "2022-02-18T08:04:37.389481Z"
    },
    "colab": {
     "base_uri": "https://localhost:8080/"
    },
    "id": "xjNb0LmGHxvx",
    "outputId": "07f165b0-fca5-479c-c50b-8efc449d781f"
   },
   "outputs": [
    {
     "data": {
      "text/plain": [
       "array([[103, 815, 571, 934, 599],\n",
       "       [945, 710, 669, 639, 116],\n",
       "       [423, 985, 814, 506, 792],\n",
       "       [295, 914, 397, 654,  32],\n",
       "       [859, 321, 850, 340, 325]])"
      ]
     },
     "execution_count": 12,
     "metadata": {},
     "output_type": "execute_result"
    }
   ],
   "source": [
    "# code here\n",
    "arr2[arr2==71] *= 10\n",
    "#arr2 = np.where(arr2 == 71, arr2*10, arr2)\n",
    "arr2"
   ]
  },
  {
   "cell_type": "markdown",
   "metadata": {
    "id": "CwYOM2gnHxvy"
   },
   "source": [
    "#### Q4) arr2의 요소 중 가운데 위치한 9개 요소 (3개 행과 3개 열)을 출력하세요.\n",
    " - 슬라이싱"
   ]
  },
  {
   "cell_type": "code",
   "execution_count": 14,
   "metadata": {
    "ExecuteTime": {
     "end_time": "2022-02-18T08:04:37.419490Z",
     "start_time": "2022-02-18T08:04:37.404478Z"
    },
    "colab": {
     "base_uri": "https://localhost:8080/"
    },
    "id": "jQLHHJpRHxvy",
    "outputId": "8acc31ed-7d52-4679-deff-d67b72a0bc49"
   },
   "outputs": [
    {
     "data": {
      "text/plain": [
       "array([[710, 669, 639],\n",
       "       [985, 814, 506],\n",
       "       [914, 397, 654]])"
      ]
     },
     "execution_count": 14,
     "metadata": {},
     "output_type": "execute_result"
    }
   ],
   "source": [
    "# code here\n",
    "#arr2[1:-1,1:-1]\n",
    "arr2[1:4, 1:4]"
   ]
  },
  {
   "cell_type": "markdown",
   "metadata": {},
   "source": [
    "#### Q5) arr2의 요소 중 가운데 위치한 9개 요소에 10을 곱하세요.\n",
    " - 슬라이싱 및 수정"
   ]
  },
  {
   "cell_type": "code",
   "execution_count": null,
   "metadata": {},
   "outputs": [],
   "source": [
    "a = a + 1\n",
    "a += 1"
   ]
  },
  {
   "cell_type": "code",
   "execution_count": 15,
   "metadata": {
    "ExecuteTime": {
     "end_time": "2022-02-18T08:04:37.435485Z",
     "start_time": "2022-02-18T08:04:37.420481Z"
    }
   },
   "outputs": [
    {
     "data": {
      "text/plain": [
       "array([[ 103,  815,  571,  934,  599],\n",
       "       [ 945, 7100, 6690, 6390,  116],\n",
       "       [ 423, 9850, 8140, 5060,  792],\n",
       "       [ 295, 9140, 3970, 6540,   32],\n",
       "       [ 859,  321,  850,  340,  325]])"
      ]
     },
     "execution_count": 15,
     "metadata": {},
     "output_type": "execute_result"
    }
   ],
   "source": [
    "# code here\n",
    "#arr2[1:4,1:4] = arr2[1:4,1:4]*10\n",
    "arr2[1:4, 1:4] *= 10\n",
    "arr2"
   ]
  },
  {
   "cell_type": "markdown",
   "metadata": {
    "id": "_KU9M5YwHxvz"
   },
   "source": [
    "#### Q6) arr2의 요소 중 1000 이상인 요소만 추출하여 형태를 3행 3열로 변경한 후 출력하세요.\n",
    " - 불리언 인덱싱, reshape"
   ]
  },
  {
   "cell_type": "code",
   "execution_count": 21,
   "metadata": {
    "ExecuteTime": {
     "end_time": "2022-02-18T08:04:37.451488Z",
     "start_time": "2022-02-18T08:04:37.436498Z"
    },
    "colab": {
     "base_uri": "https://localhost:8080/"
    },
    "id": "XeHNAot0Hxv0",
    "outputId": "d7270dea-5260-44bd-9851-417945229f57"
   },
   "outputs": [
    {
     "data": {
      "text/plain": [
       "array([[7100, 6690, 6390],\n",
       "       [9850, 8140, 5060],\n",
       "       [9140, 3970, 6540]])"
      ]
     },
     "execution_count": 21,
     "metadata": {},
     "output_type": "execute_result"
    }
   ],
   "source": [
    "# code here\n",
    "#arr2[arr2 >= 1000].reshape(3,3)\n",
    "#arr2[np.where(arr2 >= 1000)].reshape(3,3)\n",
    "\n",
    "r, c = np.where(arr2 >= 1000)\n",
    "arr2[r, c].reshape(3,3)"
   ]
  },
  {
   "cell_type": "markdown",
   "metadata": {},
   "source": [
    "#### Q7) arr2의 중앙에 있는 값을 -1로 변경한 후 출력하세요."
   ]
  },
  {
   "cell_type": "code",
   "execution_count": null,
   "metadata": {},
   "outputs": [],
   "source": [
    "arr2[2][2] = -1  # numpy에서 사용하지 않는 것이 좋음\n",
    "arr2[2, 2] = -1"
   ]
  },
  {
   "cell_type": "code",
   "execution_count": 24,
   "metadata": {
    "ExecuteTime": {
     "end_time": "2022-02-18T08:04:37.467492Z",
     "start_time": "2022-02-18T08:04:37.454490Z"
    }
   },
   "outputs": [
    {
     "data": {
      "text/plain": [
       "array([[ 103,  815,  571,  934,  599],\n",
       "       [ 945, 7100, 6690, 6390,  116],\n",
       "       [ 423, 9850,   -1, 5060,  792],\n",
       "       [ 295, 9140, 3970, 6540,   32],\n",
       "       [ 859,  321,  850,  340,  325]])"
      ]
     },
     "execution_count": 24,
     "metadata": {},
     "output_type": "execute_result"
    }
   ],
   "source": [
    "arr2[arr2.shape[0]//2, arr2.shape[1]//2] = -1\n",
    "\n",
    "#arr2[len(arr2)//2, len(arr2)//2] = -1\n",
    "arr2\n"
   ]
  },
  {
   "cell_type": "markdown",
   "metadata": {
    "id": "M410dWNbVfud"
   },
   "source": [
    "#### Q8) arr2의 열 별(행과 행) 평균과 표준편차를 출력하세요."
   ]
  },
  {
   "cell_type": "code",
   "execution_count": 29,
   "metadata": {
    "ExecuteTime": {
     "end_time": "2022-02-18T08:04:37.483494Z",
     "start_time": "2022-02-18T08:04:37.469493Z"
    },
    "colab": {
     "base_uri": "https://localhost:8080/"
    },
    "id": "Dm1KTz2RVoiS",
    "outputId": "2a50b2cc-1e21-40e7-b616-a2ed5a634fba"
   },
   "outputs": [
    {
     "data": {
      "text/plain": [
       "array([ 525. , 5445.2, 2416. , 3852.8,  372.8])"
      ]
     },
     "execution_count": 29,
     "metadata": {},
     "output_type": "execute_result"
    }
   ],
   "source": [
    "# code here\n",
    "#arr2.mean(axis=0)\n",
    "#np.average(arr2, axis=0)\n",
    "np.mean(arr2, axis=0)"
   ]
  },
  {
   "cell_type": "code",
   "execution_count": 28,
   "metadata": {
    "ExecuteTime": {
     "end_time": "2022-02-18T08:04:37.499498Z",
     "start_time": "2022-02-18T08:04:37.485495Z"
    }
   },
   "outputs": [
    {
     "data": {
      "text/plain": [
       "array([ 325.37486074, 4086.27827736, 2544.80891228, 2682.34661444,\n",
       "        286.79986053])"
      ]
     },
     "execution_count": 28,
     "metadata": {},
     "output_type": "execute_result"
    }
   ],
   "source": [
    "#arr2.std(axis=0)\n",
    "np.std(arr2, axis=0)"
   ]
  },
  {
   "cell_type": "markdown",
   "metadata": {},
   "source": [
    "ndarray.std(axis=None, dtype=None, out=None, ddof=0, keepdims=False, *, where=True)\n",
    "- Means Delta Degrees of Freedom. The divisor used in calculations is N - ddof, where N represents the number of elements. By default ddof is zero."
   ]
  },
  {
   "cell_type": "code",
   "execution_count": 37,
   "metadata": {},
   "outputs": [
    {
     "data": {
      "text/plain": [
       "(9.166666666666666, 9.166666666666666)"
      ]
     },
     "execution_count": 37,
     "metadata": {},
     "output_type": "execute_result"
    }
   ],
   "source": [
    "a = np.array([1,2,3,4,5,6,7,8,9,10])\n",
    "N = len(a)\n",
    "ddof = 1  # sample(표본, ddof=1), population(모집단, ddof=0)\n",
    "x = abs(a - a.mean())**2   # 각 값과 평균의 거리 제곱\n",
    "x.sum() / (N-ddof), a.var(ddof=ddof)"
   ]
  },
  {
   "cell_type": "markdown",
   "metadata": {},
   "source": [
    "분산(var)\n",
    "- The variance is the average of the squared deviations from the mean,\n",
    " i.e., var = mean(x), where x = abs(a - a.mean())**2.\n",
    "The mean is typically calculated as x.sum() / N, where N = len(x). \n",
    "If, however, ddof is specified, the divisor N - ddof is used instead. \n",
    "In standard statistical practice, ddof=1 provides an unbiased estimator of \n",
    "the variance of a hypothetical infinite population. \n",
    "ddof=0 provides a maximum likelihood estimate of the variance \n",
    "for normally distributed variables."
   ]
  },
  {
   "cell_type": "code",
   "execution_count": null,
   "metadata": {},
   "outputs": [],
   "source": [
    "from sklearn.linear_model import LinearRegression"
   ]
  },
  {
   "cell_type": "code",
   "execution_count": 39,
   "metadata": {},
   "outputs": [
    {
     "data": {
      "image/png": "[encoded data removed]",
      "text/plain": [
       "<Figure size 640x480 with 1 Axes>"
      ]
     },
     "metadata": {},
     "output_type": "display_data"
    }
   ],
   "source": [
    "# 분산이 == 0 일 수 있을까?  만일 그렇다면 언제일까?\n",
    "# 분산이 0이 되려면, 모든 값이 같아야 하고, 이 경우 해당 변수는 독립변수로 사용하지 않아야 한다\n",
    "import matplotlib.pyplot as plt\n",
    "X = np.array([3,3,3,3]) \n",
    "Y = np.array([1,3,5,7])\n",
    "plt.plot(X, Y, 'bo-')\n",
    "plt.show()"
   ]
  },
  {
   "cell_type": "code",
   "execution_count": null,
   "metadata": {},
   "outputs": [],
   "source": [
    "# 표준편차 : 분산\n",
    "# std = sqrt(mean(x)), where x = abs(a - a.mean())**2."
   ]
  },
  {
   "cell_type": "markdown",
   "metadata": {
    "id": "BAnqS8u-Vv7B"
   },
   "source": [
    "#### Q9) arr2의 행 별(열과 열) 평균과 표준편차를 출력하세요."
   ]
  },
  {
   "cell_type": "code",
   "execution_count": 40,
   "metadata": {
    "ExecuteTime": {
     "end_time": "2022-02-18T08:04:37.515502Z",
     "start_time": "2022-02-18T08:04:37.501498Z"
    },
    "colab": {
     "base_uri": "https://localhost:8080/"
    },
    "id": "t_1hLY8IVrcj",
    "outputId": "4bbc569b-367e-4b0b-c5b8-c23094567c4e"
   },
   "outputs": [
    {
     "data": {
      "text/plain": [
       "array([ 604.4, 4248.2, 3224.8, 3995.4,  539. ])"
      ]
     },
     "execution_count": 40,
     "metadata": {},
     "output_type": "execute_result"
    }
   ],
   "source": [
    "# code here\n",
    "#arr2.mean(axis=1)\n",
    "#np.average(arr2, axis=1)\n",
    "np.mean(arr2, axis=1)"
   ]
  },
  {
   "cell_type": "code",
   "execution_count": 41,
   "metadata": {
    "ExecuteTime": {
     "end_time": "2022-02-18T08:04:37.531506Z",
     "start_time": "2022-02-18T08:04:37.517504Z"
    }
   },
   "outputs": [
    {
     "data": {
      "text/plain": [
       "array([ 284.79297744, 3055.11586687, 3779.83118142, 3531.12002628,\n",
       "        257.69827318])"
      ]
     },
     "execution_count": 41,
     "metadata": {},
     "output_type": "execute_result"
    }
   ],
   "source": [
    "#arr2.std(axis=1)\n",
    "np.std(arr2, axis=1)"
   ]
  },
  {
   "cell_type": "markdown",
   "metadata": {
    "id": "t9I7dQlsHxv0"
   },
   "source": [
    "#### Q10)  arr2의 요소 중 1000 미만인 요소는 -1으로, 1000 이상인 요소는 arr2의 값을 유지하여 arr3에 저장하세요."
   ]
  },
  {
   "cell_type": "code",
   "execution_count": 43,
   "metadata": {
    "ExecuteTime": {
     "end_time": "2022-02-18T08:04:37.547516Z",
     "start_time": "2022-02-18T08:04:37.533506Z"
    },
    "colab": {
     "base_uri": "https://localhost:8080/"
    },
    "id": "p29Hn8mJHxv0",
    "outputId": "9e687172-0036-454b-c2df-29978cd5b89e",
    "scrolled": false
   },
   "outputs": [
    {
     "data": {
      "text/plain": [
       "array([[  -1,   -1,   -1,   -1,   -1],\n",
       "       [  -1, 7100, 6690, 6390,   -1],\n",
       "       [  -1, 9850,   -1, 5060,   -1],\n",
       "       [  -1, 9140, 3970, 6540,   -1],\n",
       "       [  -1,   -1,   -1,   -1,   -1]])"
      ]
     },
     "execution_count": 43,
     "metadata": {},
     "output_type": "execute_result"
    }
   ],
   "source": [
    "# code here\n",
    "#arr3 = np.where(arr2 < 1000, -1, arr2)\n",
    "arr3 = np.where(arr2 >= 1000, arr2, -1)\n",
    "arr3"
   ]
  },
  {
   "cell_type": "markdown",
   "metadata": {
    "id": "j7eoC2m8WM0S"
   },
   "source": [
    "#### Q11) arr3의 열 별(행과 행) 평균을 출력하세요"
   ]
  },
  {
   "cell_type": "code",
   "execution_count": 44,
   "metadata": {
    "ExecuteTime": {
     "end_time": "2022-02-18T08:04:37.579536Z",
     "start_time": "2022-02-18T08:04:37.565515Z"
    },
    "colab": {
     "base_uri": "https://localhost:8080/"
    },
    "id": "RFUL0DBfWKnf",
    "outputId": "46e0927a-7be2-4b65-b1d7-9acf53c37d7f"
   },
   "outputs": [
    {
     "data": {
      "text/plain": [
       "array([-1.0000e+00,  5.2176e+03,  2.1314e+03,  3.5976e+03, -1.0000e+00])"
      ]
     },
     "execution_count": 44,
     "metadata": {},
     "output_type": "execute_result"
    }
   ],
   "source": [
    "# code here\n",
    "arr3.mean(axis=0)"
   ]
  },
  {
   "cell_type": "markdown",
   "metadata": {
    "id": "beAMXR7yWqy4"
   },
   "source": [
    "#### Q12) arr3의 전체 평균을 출력하세요."
   ]
  },
  {
   "cell_type": "code",
   "execution_count": 48,
   "metadata": {
    "ExecuteTime": {
     "end_time": "2022-02-18T08:04:37.595539Z",
     "start_time": "2022-02-18T08:04:37.580524Z"
    },
    "colab": {
     "base_uri": "https://localhost:8080/"
    },
    "id": "fJ1p9tlBWPGy",
    "outputId": "64d9fc4d-fbf5-45e1-a276-35b73a4e08ef"
   },
   "outputs": [
    {
     "data": {
      "text/plain": [
       "2188.92"
      ]
     },
     "execution_count": 48,
     "metadata": {},
     "output_type": "execute_result"
    }
   ],
   "source": [
    "# code here\n",
    "#arr3.mean(axis=None)\n",
    "#arr3.mean()\n",
    "np.average(arr3, axis=None)"
   ]
  },
  {
   "cell_type": "markdown",
   "metadata": {},
   "source": [
    "#### Q13) arr3의 요소 중 음수인 요소는 0으로, 나머지 요소는 arr3의 값을 유지하여 arr4에 저장하세요."
   ]
  },
  {
   "cell_type": "code",
   "execution_count": 50,
   "metadata": {
    "ExecuteTime": {
     "end_time": "2022-02-18T08:04:37.611542Z",
     "start_time": "2022-02-18T08:04:37.597522Z"
    },
    "scrolled": true
   },
   "outputs": [
    {
     "data": {
      "text/plain": [
       "array([[   0,    0,    0,    0,    0],\n",
       "       [   0, 7100, 6690, 6390,    0],\n",
       "       [   0, 9850,    0, 5060,    0],\n",
       "       [   0, 9140, 3970, 6540,    0],\n",
       "       [   0,    0,    0,    0,    0]])"
      ]
     },
     "execution_count": 50,
     "metadata": {},
     "output_type": "execute_result"
    }
   ],
   "source": [
    "# code here\n",
    "arr4 = np.where(arr3 >= 0, arr3, 0)\n",
    "#arr4 = np.where(arr3 < 0, 0, arr3)\n",
    "arr4"
   ]
  },
  {
   "cell_type": "code",
   "execution_count": null,
   "metadata": {},
   "outputs": [],
   "source": []
  }
 ],
 "metadata": {
  "kernelspec": {
   "display_name": "Python 3.9.13 64-bit",
   "language": "python",
   "name": "python3"
  },
  "language_info": {
   "codemirror_mode": {
    "name": "ipython",
    "version": 3
   },
   "file_extension": ".py",
   "mimetype": "text/x-python",
   "name": "python",
   "nbconvert_exporter": "python",
   "pygments_lexer": "ipython3",
   "version": "3.9.13"
  },
  "toc": {
   "base_numbering": 1,
   "nav_menu": {},
   "number_sections": true,
   "sideBar": true,
   "skip_h1_title": false,
   "title_cell": "Table of Contents",
   "title_sidebar": "Contents",
   "toc_cell": false,
   "toc_position": {},
   "toc_section_display": true,
   "toc_window_display": false
  },
  "varInspector": {
   "cols": {
    "lenName": 16,
    "lenType": 16,
    "lenVar": 40
   },
   "kernels_config": {
    "python": {
     "delete_cmd_postfix": "",
     "delete_cmd_prefix": "del ",
     "library": "var_list.py",
     "varRefreshCmd": "print(var_dic_list())"
    },
    "r": {
     "delete_cmd_postfix": ") ",
     "delete_cmd_prefix": "rm(",
     "library": "var_list.r",
     "varRefreshCmd": "cat(var_dic_list()) "
    }
   },
   "types_to_exclude": [
    "module",
    "function",
    "builtin_function_or_method",
    "instance",
    "_Feature"
   ],
   "window_display": false
  },
  "vscode": {
   "interpreter": {
    "hash": "81794d4967e6c3204c66dcd87b604927b115b27c00565d3d43f05ba2f3a2cb0d"
   }
  }
 },
 "nbformat": 4,
 "nbformat_minor": 4
}
