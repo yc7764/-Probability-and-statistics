{
  "nbformat": 4,
  "nbformat_minor": 0,
  "metadata": {
    "colab": {
      "provenance": [],
      "collapsed_sections": []
    },
    "kernelspec": {
      "display_name": "Python 3",
      "language": "python",
      "name": "python3"
    },
    "language_info": {
      "codemirror_mode": {
        "name": "ipython",
        "version": 3
      },
      "file_extension": ".py",
      "mimetype": "text/x-python",
      "name": "python",
      "nbconvert_exporter": "python",
      "pygments_lexer": "ipython3",
      "version": "3.8.3"
    }
  },
  "cells": [
    {
      "cell_type": "markdown",
      "metadata": {
        "id": "pqsGx3uuqYIo"
      },
      "source": [
        "## PART 3 Numpy\n",
        "- https://numpy.org/doc/stable/reference/index.html"
      ]
    },
    {
      "cell_type": "markdown",
      "metadata": {
        "id": "FgaR-b2HyazZ"
      },
      "source": [
        "## 1.Numpy Basics"
      ]
    },
    {
      "cell_type": "markdown",
      "metadata": {
        "id": "GC4nfTx44AH0"
      },
      "source": [
        "### 1-01 배열 생성"
      ]
    },
    {
      "cell_type": "markdown",
      "metadata": {
        "id": "MSGjuKDQygbe"
      },
      "source": [
        "#### 1-01-01 array 함수\n"
      ]
    },
    {
      "cell_type": "code",
      "metadata": {
        "id": "sp_WD2u0DpRn"
      },
      "source": [
        "import numpy as np"
      ],
      "execution_count": null,
      "outputs": []
    },
    {
      "cell_type": "code",
      "metadata": {
        "id": "BTEyRpVAyDi1"
      },
      "source": [
        "# 1차원 배열 생성               \n",
        "np.array([1, 2, 3, 4])"
      ],
      "execution_count": null,
      "outputs": []
    },
    {
      "cell_type": "code",
      "metadata": {
        "id": "wuXxw_GOyDi7"
      },
      "source": [
        "# 2차원 배열 생성\n",
        "np.array([[1, 2, 3],\n",
        "          [4, 5, 6],\n",
        "          [7, 8, 9]])"
      ],
      "execution_count": null,
      "outputs": []
    },
    {
      "cell_type": "code",
      "metadata": {
        "id": "MDaWQbdnyDi8"
      },
      "source": [
        "# 3차원 배열 생성\n",
        "np.array([[[ 0, 1, 2, 3],\n",
        "           [ 4, 5, 6, 7],\n",
        "           [ 8, 9, 10, 11]]])"
      ],
      "execution_count": null,
      "outputs": []
    },
    {
      "cell_type": "markdown",
      "metadata": {
        "id": "GMwnlWRny01N"
      },
      "source": [
        "#### 1-01-02 arange 함수\n",
        "- Numpy의 arange 함수는 수의 범위를 만들어 주는 함수로 range 함수와는 다르게 **실수 범위**도 생성 가능"
      ]
    },
    {
      "cell_type": "code",
      "metadata": {
        "id": "L_1W4w7cyDi8",
        "outputId": "25f640f6-5a94-4f92-9aae-9ad8edc233aa"
      },
      "source": [
        "# 0 ~ 9 값을 갖는 배열 생성 \n"
      ],
      "execution_count": null,
      "outputs": [
        {
          "data": {
            "text/plain": [
              "array([0, 1, 2, 3, 4, 5, 6, 7, 8, 9])"
            ]
          },
          "execution_count": 4,
          "metadata": {
            "tags": []
          },
          "output_type": "execute_result"
        }
      ]
    },
    {
      "cell_type": "code",
      "metadata": {
        "id": "FQthb8wKyDi9",
        "outputId": "2f47c5e7-628c-41c9-a396-23bdc5db51f1"
      },
      "source": [
        "# 0.1 ~ 1.0 까지 0.1씩 증가는 값을 갖는 배열 생성\n"
      ],
      "execution_count": null,
      "outputs": [
        {
          "data": {
            "text/plain": [
              "array([0.1, 0.2, 0.3, 0.4, 0.5, 0.6, 0.7, 0.8, 0.9, 1. ])"
            ]
          },
          "execution_count": 5,
          "metadata": {
            "tags": []
          },
          "output_type": "execute_result"
        }
      ]
    },
    {
      "cell_type": "markdown",
      "metadata": {
        "id": "_E58Wk_524pa"
      },
      "source": [
        "#### 1-01-03 linspace 함수\n",
        "- Numpy의 linspace 함수는 수의 범위를 균일하게 나누고자 할 때 사용\n",
        "- 예) 1에서 10까지 2개 구간으로 나누고 싶을 때 구간 기준 값\n",
        "   - 5.5를 기준으로 1```~```5.5미만, 5.5이상```~```10 구간 생성 가능\n"
      ]
    },
    {
      "cell_type": "code",
      "metadata": {
        "id": "wRrLzZoMyDi9",
        "outputId": "d8634c9e-b577-4b34-b706-0a73bfd130f4"
      },
      "source": [
        "# 1 ~ 10 까지 3개의 값을 갖는 배열 생성\n",
        " "
      ],
      "execution_count": null,
      "outputs": [
        {
          "data": {
            "text/plain": [
              "array([ 1. ,  5.5, 10. ])"
            ]
          },
          "execution_count": 6,
          "metadata": {
            "tags": []
          },
          "output_type": "execute_result"
        }
      ]
    },
    {
      "cell_type": "markdown",
      "metadata": {
        "id": "TeBJ57JR3SvK"
      },
      "source": [
        "#### 1-01-04 기타 배열 생성 함수 "
      ]
    },
    {
      "cell_type": "code",
      "metadata": {
        "id": "kPBbVWYDyDi-",
        "outputId": "fb5cadfd-091f-4624-b99d-370c4fa6e94e"
      },
      "source": [
        "# 1 값으로 채워진 2행 2열의 배열 생성\n",
        "# np.ones(shape)\n"
      ],
      "execution_count": null,
      "outputs": [
        {
          "data": {
            "text/plain": [
              "array([[1., 1.],\n",
              "       [1., 1.]])"
            ]
          },
          "execution_count": 7,
          "metadata": {
            "tags": []
          },
          "output_type": "execute_result"
        }
      ]
    },
    {
      "cell_type": "code",
      "metadata": {
        "id": "D9nUpH58yDi_",
        "outputId": "d01fe0f2-8525-4d68-eb22-d4257ad5b010"
      },
      "source": [
        "# 0 값으로 채워진 2행 2열의 배열 생성\n",
        "# np.zeros(shape)\n"
      ],
      "execution_count": null,
      "outputs": [
        {
          "data": {
            "text/plain": [
              "array([[0., 0.],\n",
              "       [0., 0.]])"
            ]
          },
          "execution_count": 8,
          "metadata": {
            "tags": []
          },
          "output_type": "execute_result"
        }
      ]
    },
    {
      "cell_type": "code",
      "metadata": {
        "id": "G7nA9hoHyDi_",
        "outputId": "095de0a9-fe12-4c85-9dc6-e3d83d799093"
      },
      "source": [
        "# -1 값으로 채워진 2행 2열의 배열 생성\n",
        "# np.full(shape, value)\n"
      ],
      "execution_count": null,
      "outputs": [
        {
          "data": {
            "text/plain": [
              "array([[-1, -1],\n",
              "       [-1, -1]])"
            ]
          },
          "execution_count": 9,
          "metadata": {
            "tags": []
          },
          "output_type": "execute_result"
        }
      ]
    },
    {
      "cell_type": "code",
      "metadata": {
        "id": "HY5Ll38KyDjA",
        "outputId": "275867ef-2278-46f0-a32f-0f91e8e7a58e"
      },
      "source": [
        "# 대각선 방향으로 1 값이 채워진 2*2 배열 생성\n",
        "# np.eye(n)\n"
      ],
      "execution_count": null,
      "outputs": [
        {
          "data": {
            "text/plain": [
              "array([[1., 0.],\n",
              "       [0., 1.]])"
            ]
          },
          "execution_count": 10,
          "metadata": {
            "tags": []
          },
          "output_type": "execute_result"
        }
      ]
    },
    {
      "cell_type": "markdown",
      "metadata": {
        "id": "H29o9VbQ3vFq"
      },
      "source": [
        "### 1-02 Numpy Array 속성\n",
        "- ndim : ndarray의 차원을 나타냄\n",
        "- shape : 각 차원의 ndarray 크기를 튜플 형태로 나타냄\n",
        "- size : ndarray에있는 요소의 총 수\n",
        "- dtype : ndarray의데이터 유형\n",
        "   - uint8 ~ uint64, int8 ~ int64, float16 ~ float128, bool 등\n",
        "- T : ndarray의 전치된 결과 반환 (행열 바꾸기)"
      ]
    },
    {
      "cell_type": "code",
      "metadata": {
        "id": "-uu5ye0W4uY6"
      },
      "source": [
        "# 빈 곳에 알맞은 속성 이름을 적어보세요."
      ],
      "execution_count": null,
      "outputs": []
    },
    {
      "cell_type": "code",
      "metadata": {
        "id": "esmgyh8eyDjA",
        "outputId": "ea6b22ee-7b5a-4edb-8d2c-176c8b4a8cb6"
      },
      "source": [
        "array = np.array([[1, 2], [3, 4]])\n",
        "print('array의 차원:', _________ )"
      ],
      "execution_count": null,
      "outputs": [
        {
          "name": "stdout",
          "output_type": "stream",
          "text": [
            "array의 차원: 2\n"
          ]
        }
      ]
    },
    {
      "cell_type": "code",
      "metadata": {
        "id": "l3GYtgGWyDjB",
        "outputId": "3e07530c-630d-46ec-e8a1-7469d64da95a"
      },
      "source": [
        "print('array의 각 차원별 크기:', _________)"
      ],
      "execution_count": null,
      "outputs": [
        {
          "name": "stdout",
          "output_type": "stream",
          "text": [
            "array의 각 차원별 크기: (2, 2)\n"
          ]
        }
      ]
    },
    {
      "cell_type": "code",
      "metadata": {
        "id": "gNi4X0XWyDjB",
        "outputId": "31a02f32-4fe5-4ad4-9b47-7e02ed9e1d21"
      },
      "source": [
        "print('array의 요소의 총 개수 :', _________)"
      ],
      "execution_count": null,
      "outputs": [
        {
          "name": "stdout",
          "output_type": "stream",
          "text": [
            "array의 요소의 총 개수 : 4\n"
          ]
        }
      ]
    },
    {
      "cell_type": "code",
      "metadata": {
        "id": "ECzYUGTPyDjB",
        "outputId": "ed5bda9f-3bd5-4bc4-9ca8-69146af7df41"
      },
      "source": [
        "print('array의 데이터 유형 :', _________)"
      ],
      "execution_count": null,
      "outputs": [
        {
          "name": "stdout",
          "output_type": "stream",
          "text": [
            "array의 데이터 유형 : int32\n"
          ]
        }
      ]
    },
    {
      "cell_type": "code",
      "metadata": {
        "id": "xc0VuZhgyDjC",
        "outputId": "3e7c4096-286e-4efa-822a-8c2dc2af68a3"
      },
      "source": [
        "print('array의 전치 (전) :')\n",
        "print(array)\n",
        "print('array의 전치 (후) :')\n",
        "print(_________)"
      ],
      "execution_count": null,
      "outputs": [
        {
          "name": "stdout",
          "output_type": "stream",
          "text": [
            "array의 전치 (전) :\n",
            "[[1 2]\n",
            " [3 4]]\n",
            "array의 전치 (후) :\n",
            "[[1 3]\n",
            " [2 4]]\n"
          ]
        }
      ]
    },
    {
      "cell_type": "markdown",
      "metadata": {
        "id": "chs3oFR55CCU"
      },
      "source": [
        "### 1-03 Numpy 배열 형태 변경\n",
        "- Numpy Array의 가장 큰 장점은 형태(shape)를 자유자재로 변경 가능\n",
        "- 단, 변경 전 데이터 개수와 변경 후 데이터의 개수(size)는 같아야 함\n",
        "- Numpy Array의 형태를 바꾸기 위해서는 reshape 함수를 이용\n",
        "- -1은 딱 1번만 사용 할 수 있으며 자동으로 적절한 형태를 계산\n"
      ]
    },
    {
      "cell_type": "markdown",
      "metadata": {
        "id": "7AhO9TeX5U4u"
      },
      "source": [
        "  ![image.png](data:image/png;base64,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)"
      ]
    },
    {
      "cell_type": "code",
      "metadata": {
        "colab": {
          "base_uri": "https://localhost:8080/",
          "height": 52
        },
        "id": "iHeLzhydyDjC",
        "outputId": "2d0fe6c0-2cb0-4b97-8c28-e5633b150c6e"
      },
      "source": [
        "# 0 ~ 15 값을 갖는 1차원 배열 생성\n",
        "arr = np.arange(16)\n",
        "\n",
        "# 배열 출력, 배열의 shape 출력\n",
        "display(arr, arr.shape)"
      ],
      "execution_count": null,
      "outputs": [
        {
          "data": {
            "text/plain": [
              "array([ 0,  1,  2,  3,  4,  5,  6,  7,  8,  9, 10, 11, 12, 13, 14, 15])"
            ]
          },
          "metadata": {
            "tags": []
          },
          "output_type": "display_data"
        },
        {
          "data": {
            "text/plain": [
              "(16,)"
            ]
          },
          "metadata": {
            "tags": []
          },
          "output_type": "display_data"
        }
      ]
    },
    {
      "cell_type": "code",
      "metadata": {
        "colab": {
          "base_uri": "https://localhost:8080/",
          "height": 105
        },
        "id": "CcjuXRB8yDjC",
        "outputId": "fabcab5e-40a5-4c40-860a-697314029daf"
      },
      "source": [
        "# arr의 shape을 (4, 4)로 변경 \n",
        "b = #code here\n",
        "display(b, b.shape)"
      ],
      "execution_count": null,
      "outputs": [
        {
          "data": {
            "text/plain": [
              "array([[ 0,  1,  2,  3],\n",
              "       [ 4,  5,  6,  7],\n",
              "       [ 8,  9, 10, 11],\n",
              "       [12, 13, 14, 15]])"
            ]
          },
          "metadata": {
            "tags": []
          },
          "output_type": "display_data"
        },
        {
          "data": {
            "text/plain": [
              "(4, 4)"
            ]
          },
          "metadata": {
            "tags": []
          },
          "output_type": "display_data"
        }
      ]
    },
    {
      "cell_type": "code",
      "metadata": {
        "colab": {
          "base_uri": "https://localhost:8080/",
          "height": 70
        },
        "id": "rweTqnKd6OlY",
        "outputId": "4d383ccf-e008-47cd-ce7d-b739c9c21006"
      },
      "source": [
        "# arr의 shape을 (2, 8)로 변경, \n",
        "# 단, 열의 수를 8로 지정하고, 행의 수는 자동 계산되도록 함\n",
        "c = #code here\n",
        "display(c, c.shape)"
      ],
      "execution_count": null,
      "outputs": [
        {
          "data": {
            "text/plain": [
              "array([[ 0,  1,  2,  3,  4,  5,  6,  7],\n",
              "       [ 8,  9, 10, 11, 12, 13, 14, 15]])"
            ]
          },
          "metadata": {
            "tags": []
          },
          "output_type": "display_data"
        },
        {
          "data": {
            "text/plain": [
              "(2, 8)"
            ]
          },
          "metadata": {
            "tags": []
          },
          "output_type": "display_data"
        }
      ]
    },
    {
      "cell_type": "markdown",
      "metadata": {
        "id": "FwMvrBst6lBO"
      },
      "source": [
        "### 1-04 Numpy 데이터 유형 변경\n",
        "- Numpy Array는 모든 요소가 동일한 자료형을 가짐\n",
        "- Array를 생성시 dtype을 생략하는 경우 자동으로 데이터 타입 결정\n",
        "- 이미 만들어진 배열의 데이터 유형을 변경하기 위해서는 astype 함수 또는 특정 데이터 유형의 이름을 가진 함수 이용\n",
        "   - 문자열로 지정 가능\n",
        "- astype : https://numpy.org/doc/stable/reference/generated/numpy.ndarray.astype.html\n",
        "- dtypes : https://numpy.org/doc/stable/reference/arrays.dtypes.html   \n"
      ]
    },
    {
      "cell_type": "code",
      "metadata": {
        "colab": {
          "base_uri": "https://localhost:8080/"
        },
        "id": "OUT1sqW6rFBX",
        "outputId": "bc1d6d59-2737-4fb6-b42a-63a02cc24646"
      },
      "source": [
        "# numpy의 모든 자료형에 대한 문자/문자열코드 확인\n",
        "import numpy as np\n",
        "np.sctypeDict"
      ],
      "execution_count": null,
      "outputs": [
        {
          "data": {
            "text/plain": [
              "{'?': numpy.bool_,\n",
              " 0: numpy.bool_,\n",
              " 'byte': numpy.int8,\n",
              " 'b': numpy.int8,\n",
              " 1: numpy.int8,\n",
              " 'ubyte': numpy.uint8,\n",
              " 'B': numpy.uint8,\n",
              " 2: numpy.uint8,\n",
              " 'short': numpy.int16,\n",
              " 'h': numpy.int16,\n",
              " 3: numpy.int16,\n",
              " 'ushort': numpy.uint16,\n",
              " 'H': numpy.uint16,\n",
              " 4: numpy.uint16,\n",
              " 'i': numpy.intc,\n",
              " 5: numpy.intc,\n",
              " 'uint': numpy.uint32,\n",
              " 'I': numpy.uintc,\n",
              " 6: numpy.uintc,\n",
              " 'intp': numpy.int64,\n",
              " 'p': numpy.int64,\n",
              " 9: numpy.int64,\n",
              " 'uintp': numpy.uint64,\n",
              " 'P': numpy.uint64,\n",
              " 10: numpy.uint64,\n",
              " 'long': numpy.int32,\n",
              " 'l': numpy.int32,\n",
              " 7: numpy.int32,\n",
              " 'L': numpy.uint32,\n",
              " 8: numpy.uint32,\n",
              " 'longlong': numpy.int64,\n",
              " 'q': numpy.int64,\n",
              " 'ulonglong': numpy.uint64,\n",
              " 'Q': numpy.uint64,\n",
              " 'half': numpy.float16,\n",
              " 'e': numpy.float16,\n",
              " 23: numpy.float16,\n",
              " 'f': numpy.float32,\n",
              " 11: numpy.float32,\n",
              " 'double': numpy.float64,\n",
              " 'd': numpy.float64,\n",
              " 12: numpy.float64,\n",
              " 'longdouble': numpy.longdouble,\n",
              " 'g': numpy.longdouble,\n",
              " 13: numpy.longdouble,\n",
              " 'cfloat': numpy.complex128,\n",
              " 'F': numpy.complex64,\n",
              " 14: numpy.complex64,\n",
              " 'cdouble': numpy.complex128,\n",
              " 'D': numpy.complex128,\n",
              " 15: numpy.complex128,\n",
              " 'clongdouble': numpy.clongdouble,\n",
              " 'G': numpy.clongdouble,\n",
              " 16: numpy.clongdouble,\n",
              " 'O': numpy.object_,\n",
              " 17: numpy.object_,\n",
              " 'S': numpy.bytes_,\n",
              " 18: numpy.bytes_,\n",
              " 'unicode': numpy.str_,\n",
              " 'U': numpy.str_,\n",
              " 19: numpy.str_,\n",
              " 'void': numpy.void,\n",
              " 'V': numpy.void,\n",
              " 20: numpy.void,\n",
              " 'M': numpy.datetime64,\n",
              " 21: numpy.datetime64,\n",
              " 'm': numpy.timedelta64,\n",
              " 22: numpy.timedelta64,\n",
              " 'bool8': numpy.bool_,\n",
              " 'Bool': numpy.bool_,\n",
              " 'b1': numpy.bool_,\n",
              " 'int64': numpy.int64,\n",
              " 'Int64': numpy.int64,\n",
              " 'i8': numpy.int64,\n",
              " 'uint64': numpy.uint64,\n",
              " 'Uint64': numpy.uint64,\n",
              " 'u8': numpy.uint64,\n",
              " 'float16': numpy.float16,\n",
              " 'Float16': numpy.float16,\n",
              " 'f2': numpy.float16,\n",
              " 'float32': numpy.float32,\n",
              " 'Float32': numpy.float32,\n",
              " 'f4': numpy.float32,\n",
              " 'float64': numpy.float64,\n",
              " 'Float64': numpy.float64,\n",
              " 'f8': numpy.float64,\n",
              " 'complex64': numpy.complex64,\n",
              " 'Complex32': numpy.complex64,\n",
              " 'c8': numpy.complex64,\n",
              " 'complex128': numpy.complex128,\n",
              " 'Complex64': numpy.complex128,\n",
              " 'c16': numpy.complex128,\n",
              " 'object0': numpy.object_,\n",
              " 'Object0': numpy.object_,\n",
              " 'bytes0': numpy.bytes_,\n",
              " 'Bytes0': numpy.bytes_,\n",
              " 'str0': numpy.str_,\n",
              " 'Str0': numpy.str_,\n",
              " 'void0': numpy.void,\n",
              " 'Void0': numpy.void,\n",
              " 'datetime64': numpy.datetime64,\n",
              " 'Datetime64': numpy.datetime64,\n",
              " 'M8': numpy.datetime64,\n",
              " 'timedelta64': numpy.timedelta64,\n",
              " 'Timedelta64': numpy.timedelta64,\n",
              " 'm8': numpy.timedelta64,\n",
              " 'int32': numpy.int32,\n",
              " 'Int32': numpy.int32,\n",
              " 'i4': numpy.int32,\n",
              " 'uint32': numpy.uint32,\n",
              " 'UInt32': numpy.uint32,\n",
              " 'u4': numpy.uint32,\n",
              " 'UInt64': numpy.uint64,\n",
              " 'int16': numpy.int16,\n",
              " 'Int16': numpy.int16,\n",
              " 'i2': numpy.int16,\n",
              " 'uint16': numpy.uint16,\n",
              " 'UInt16': numpy.uint16,\n",
              " 'u2': numpy.uint16,\n",
              " 'int8': numpy.int8,\n",
              " 'Int8': numpy.int8,\n",
              " 'i1': numpy.int8,\n",
              " 'uint8': numpy.uint8,\n",
              " 'UInt8': numpy.uint8,\n",
              " 'u1': numpy.uint8,\n",
              " 'complex_': numpy.complex128,\n",
              " 'int0': numpy.int64,\n",
              " 'uint0': numpy.uint64,\n",
              " 'single': numpy.float32,\n",
              " 'csingle': numpy.complex64,\n",
              " 'singlecomplex': numpy.complex64,\n",
              " 'float_': numpy.float64,\n",
              " 'intc': numpy.intc,\n",
              " 'uintc': numpy.uintc,\n",
              " 'int_': numpy.int32,\n",
              " 'longfloat': numpy.longdouble,\n",
              " 'clongfloat': numpy.clongdouble,\n",
              " 'longcomplex': numpy.clongdouble,\n",
              " 'bool_': numpy.bool_,\n",
              " 'bytes_': numpy.bytes_,\n",
              " 'string_': numpy.bytes_,\n",
              " 'unicode_': numpy.str_,\n",
              " 'object_': numpy.object_,\n",
              " 'str_': numpy.str_,\n",
              " 'int': numpy.int32,\n",
              " 'float': numpy.float64,\n",
              " 'complex': numpy.complex128,\n",
              " 'bool': numpy.bool_,\n",
              " 'object': numpy.object_,\n",
              " 'str': numpy.str_,\n",
              " 'bytes': numpy.bytes_,\n",
              " 'a': numpy.bytes_}"
            ]
          },
          "execution_count": 1,
          "metadata": {},
          "output_type": "execute_result"
        }
      ]
    },
    {
      "cell_type": "code",
      "metadata": {
        "colab": {
          "base_uri": "https://localhost:8080/"
        },
        "id": "zkQjMP8QyDjC",
        "outputId": "193d7257-408c-4e89-87dd-eeaff9611d53"
      },
      "source": [
        "# dtype 자동 지정\n",
        "x = np.array([[1,2], [3,4]])\n",
        "x, x.dtype"
      ],
      "execution_count": null,
      "outputs": [
        {
          "data": {
            "text/plain": [
              "(array([[1, 2],\n",
              "        [3, 4]]), dtype('int64'))"
            ]
          },
          "execution_count": 6,
          "metadata": {
            "tags": []
          },
          "output_type": "execute_result"
        }
      ]
    },
    {
      "cell_type": "code",
      "metadata": {
        "colab": {
          "base_uri": "https://localhost:8080/"
        },
        "id": "maP5LdbuyDjD",
        "outputId": "c7f910e8-7846-4a39-90d0-8fc8a6216b47"
      },
      "source": [
        "# dtype을 np.float64 로 지정하여 배열 생성, 괄호를 채워보세요!\n",
        "x = np.array([[1,2], [3,4]], ____________)\n",
        "x, x.dtype"
      ],
      "execution_count": null,
      "outputs": [
        {
          "data": {
            "text/plain": [
              "(array([[1, 2],\n",
              "        [3, 4]], dtype=int8), dtype('int8'))"
            ]
          },
          "execution_count": 3,
          "metadata": {
            "tags": []
          },
          "output_type": "execute_result"
        }
      ]
    },
    {
      "cell_type": "code",
      "metadata": {
        "colab": {
          "base_uri": "https://localhost:8080/"
        },
        "id": "mraqTA_uyDjD",
        "outputId": "75bfff76-1d19-4adf-f89e-22621f140155"
      },
      "source": [
        "# 배열 x의 astype 메서드를 사용하여 x의 데이터 타입을 np.int32로 변경\n",
        "# ndarray.astype(type)\n"
      ],
      "execution_count": null,
      "outputs": [
        {
          "data": {
            "text/plain": [
              "array([[1, 2],\n",
              "       [3, 4]], dtype=int32)"
            ]
          },
          "execution_count": 10,
          "metadata": {
            "tags": []
          },
          "output_type": "execute_result"
        }
      ]
    },
    {
      "cell_type": "code",
      "metadata": {
        "colab": {
          "base_uri": "https://localhost:8080/"
        },
        "id": "dNtSG6N6yDjD",
        "outputId": "baf69b28-8b63-4097-b057-d949e1149757"
      },
      "source": [
        "# np의 int32 함수를 사용하여 x의 데이터 타입을 np.int32로 변경\n",
        "# np.int32(ndarray)\n"
      ],
      "execution_count": null,
      "outputs": [
        {
          "data": {
            "text/plain": [
              "array([[1, 2],\n",
              "       [3, 4]], dtype=int32)"
            ]
          },
          "execution_count": 11,
          "metadata": {
            "tags": []
          },
          "output_type": "execute_result"
        }
      ]
    },
    {
      "cell_type": "code",
      "metadata": {
        "id": "FwjDgXFyyDjE",
        "outputId": "c58a053a-f77c-46a1-99fb-e975da81bd2f"
      },
      "source": [
        "# 배열 x의 astype 메서드를 사용하여 x의 데이터 타입을 'int' 로 변경 (타입을 문자열로 사용가능)\n",
        "# ndarray.astype(type) \n"
      ],
      "execution_count": null,
      "outputs": [
        {
          "data": {
            "text/plain": [
              "array([[1, 2],\n",
              "       [3, 4]])"
            ]
          },
          "execution_count": 22,
          "metadata": {
            "tags": []
          },
          "output_type": "execute_result"
        }
      ]
    },
    {
      "cell_type": "markdown",
      "metadata": {
        "id": "-Dzd8s4u8DX_"
      },
      "source": [
        "## 2.Numpy Operation\n",
        "- 교재 P135\n",
        "- Numpy Array의 연산은 Element Wise 연산으로 이루어짐, 필요시 Broadcast 발생\n",
        "\n",
        "  ![image.png](data:image/png;base64,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)\n",
        "\n",
        "- Array와 Scalar간의 연산은 Scalar 값이 Array 각 요소에 적용되어 연산\n"
      ]
    },
    {
      "cell_type": "markdown",
      "metadata": {
        "id": "RbI2mvwhsP_d"
      },
      "source": [
        "![image.png](data:image/png;base64,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)"
      ]
    },
    {
      "cell_type": "markdown",
      "metadata": {
        "id": "rwxWL_jR1ozl"
      },
      "source": [
        "### 2-01 Array와 Array 연산"
      ]
    },
    {
      "cell_type": "code",
      "metadata": {
        "id": "6v6f2nWPyDjE"
      },
      "source": [
        "x = np.array([[1,2], [3,4]])\n",
        "y = np.array([[5,6], [7,8]])"
      ],
      "execution_count": null,
      "outputs": []
    },
    {
      "cell_type": "code",
      "metadata": {
        "id": "3fhlSJ2cyDjE",
        "scrolled": true
      },
      "source": [
        "# 두 배열의 덧셈( +, np.add(arr1, arr2) )\n",
        "print( )\n",
        "print( )"
      ],
      "execution_count": null,
      "outputs": []
    },
    {
      "cell_type": "code",
      "metadata": {
        "id": "UuxrDgKbyDjF",
        "outputId": "74c10dd1-cc31-4f7d-b1a2-3b41e6f5df3e"
      },
      "source": [
        "# 두 배열의 뺄셈( -, np.subtract(arr1, arr2) )\n",
        "print( )\n",
        "print( )"
      ],
      "execution_count": null,
      "outputs": [
        {
          "name": "stdout",
          "output_type": "stream",
          "text": [
            "[[-4 -4]\n",
            " [-4 -4]]\n",
            "[[-4 -4]\n",
            " [-4 -4]]\n"
          ]
        }
      ]
    },
    {
      "cell_type": "code",
      "metadata": {
        "id": "Mk4SB3vOyDjF",
        "outputId": "c6aa0237-21c3-4e8d-fd31-0de08285a43e"
      },
      "source": [
        "# 두 배열의 곱셈( *, np.multiply(arr1, arr2) )\n",
        "print(x * y)\n",
        "print(np.multiply(x, y))"
      ],
      "execution_count": null,
      "outputs": [
        {
          "name": "stdout",
          "output_type": "stream",
          "text": [
            "[[ 5 12]\n",
            " [21 32]]\n",
            "[[ 5 12]\n",
            " [21 32]]\n"
          ]
        }
      ]
    },
    {
      "cell_type": "code",
      "metadata": {
        "id": "QKTzy5rmyDjF",
        "outputId": "5d9ecb45-1450-40e2-ef83-2c7be520a311"
      },
      "source": [
        "# 두 배열의 나눗셈( /, np.divide(arr1, arr2) )\n",
        "print(x / y)\n",
        "print(np.divide(x, y))"
      ],
      "execution_count": null,
      "outputs": [
        {
          "name": "stdout",
          "output_type": "stream",
          "text": [
            "[[0.2        0.33333333]\n",
            " [0.42857143 0.5       ]]\n",
            "[[0.2        0.33333333]\n",
            " [0.42857143 0.5       ]]\n"
          ]
        }
      ]
    },
    {
      "cell_type": "markdown",
      "metadata": {
        "id": "j-omygZIwwsC"
      },
      "source": [
        "![image.png](data:image/png;base64,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)"
      ]
    },
    {
      "cell_type": "code",
      "metadata": {
        "colab": {
          "base_uri": "https://localhost:8080/"
        },
        "id": "UGH7KnoJyDjG",
        "outputId": "9a34edb4-f7db-40f2-8f1a-ef8952047243"
      },
      "source": [
        "# 두 배열의 행렬곱 연산( @, np.matmul(arr1, arr2) )\n",
        "print(x @ y)\n",
        "print(np.matmul(x, y))\n"
      ],
      "execution_count": null,
      "outputs": [
        {
          "name": "stdout",
          "output_type": "stream",
          "text": [
            "[[19 22]\n",
            " [43 50]]\n",
            "[[19 22]\n",
            " [43 50]]\n"
          ]
        }
      ]
    },
    {
      "cell_type": "code",
      "metadata": {
        "id": "ZeMyKUGhyDjG",
        "outputId": "d23e30a9-16fa-4cd5-ea42-305a0a3ff9a0"
      },
      "source": [
        "# 두 배열의 제곱근, 내적 연산( np.sqrt(arr), np.dot(arr1, arr2))\n",
        "print(np.sqrt(x))\n",
        "print(np.dot(x, y))"
      ],
      "execution_count": null,
      "outputs": [
        {
          "name": "stdout",
          "output_type": "stream",
          "text": [
            "[[1.         1.41421356]\n",
            " [1.73205081 2.        ]]\n",
            "[[19 22]\n",
            " [43 50]]\n"
          ]
        }
      ]
    },
    {
      "cell_type": "markdown",
      "metadata": {
        "id": "LtDbHJqu1Rn0"
      },
      "source": [
        "### [참고] matmul은 dot 연산의 차이\n",
        "- matmul은 array와 scalr의 연산이 불가능\n",
        "- matmul은 두 배열의 axis -1, -2 이외의 axis가 서로 같은 요소 개수 이어야 함\n",
        "  - (2, 2, 3) (2, 3, 2) 가능 \n",
        "  - (2, 2, 3) (3, 3, 2) 불가능\n",
        "- dot는 위의 두가지 모두 가능\n",
        "- 3차원 이상일때 결과 shape이 다름  "
      ]
    },
    {
      "cell_type": "code",
      "metadata": {
        "id": "vEQ3_fVt1ChY"
      },
      "source": [
        "a = np.arange(4)\n",
        "#c = np.matmul(a, 2)\n",
        "c = np.dot(a, 2)\n",
        "print(c)"
      ],
      "execution_count": null,
      "outputs": []
    },
    {
      "cell_type": "code",
      "metadata": {
        "id": "JZmsygVTxeNT"
      },
      "source": [
        "a = np.arange(12).reshape(2, 2, 3)\n",
        "b = np.arange(18).reshape(3, 3, 2)\n",
        "#c = np.matmul(a, b)\n",
        "c = np.dot(a, b)\n",
        "print(c)"
      ],
      "execution_count": null,
      "outputs": []
    },
    {
      "cell_type": "code",
      "metadata": {
        "id": "boZdbnaAzkLU"
      },
      "source": [
        "a = np.arange(12).reshape(2, 2, 3)\n",
        "b = np.arange(12).reshape(2, 3, 2)\n",
        "c = np.matmul(a, b)   # (2, 2, 2)\n",
        "d = np.dot(a, b)      # (2, 2, 2, 2)\n",
        "display(c, c.shape, d, d.shape)"
      ],
      "execution_count": null,
      "outputs": []
    },
    {
      "cell_type": "markdown",
      "metadata": {
        "id": "2-E0KvgS1i6g"
      },
      "source": [
        "### 2-02 Array와 Scalar 연산"
      ]
    },
    {
      "cell_type": "code",
      "metadata": {
        "id": "PF4z4XK4yDjG"
      },
      "source": [
        "# Array와 Scalar 연산 (Broadcasting)\n",
        "x = np.array([[1,2], [3,4]])\n",
        "print(x+1)"
      ],
      "execution_count": null,
      "outputs": []
    },
    {
      "cell_type": "code",
      "metadata": {
        "id": "Ci7m__xLyDjG"
      },
      "source": [
        "print(x-1)"
      ],
      "execution_count": null,
      "outputs": []
    },
    {
      "cell_type": "code",
      "metadata": {
        "id": "WF88dBttyDjH"
      },
      "source": [
        "print(x*2)"
      ],
      "execution_count": null,
      "outputs": []
    },
    {
      "cell_type": "code",
      "metadata": {
        "id": "3flX4zviyDjH"
      },
      "source": [
        "print(x/2)"
      ],
      "execution_count": null,
      "outputs": []
    },
    {
      "cell_type": "markdown",
      "metadata": {
        "id": "KMVo6oKh9s40"
      },
      "source": [
        "## 3.Numpy Indexing\n",
        "- Index는 행렬, 배열, 리스트 등에서 특정 요소를 빠르게 참조할 수 있음\n",
        "- 별도의 수단으로 일반적으로 정수 값을 사용하며 정수는 특정 요소의 위치(순서)를 의미함\n",
        "- 파이썬의 시퀀스 자료형에서 사용한 것과 동일하게 대괄호([])를 사용하여 특정 요소에 접근이 가능함\n",
        "- 기존 파이썬의 시퀀스 자료형에서는 차원에 따라 대괄호를 사용 했지만 Numpy 에서 대괄호는 한번만 사용됨\n",
        "   - 예) 2차원 리스트에서 데이터 접근 : **list[0][1]**\n",
        "   - 예) 2차원 Numpy Array에서 데이터 접근 : **array[0, 1]**\n",
        "- Numpy의 경우 정수 인덱싱, 조건 인덱싱, 팬시(Fancy) 인덱싱을 지원함"
      ]
    },
    {
      "cell_type": "markdown",
      "metadata": {
        "id": "WXdtHmRH-Hxp"
      },
      "source": [
        "### 3-01 정수 인덱싱\n",
        "- 접근하고자 하는 요소의 위치(인덱스)를 이용하여 데이터에 접근\n",
        "   - 양의 index와 음의 index를 모두 사용가능\n",
        "   - 1차원의 경우 : [열 인덱스]\n",
        "   - 2차원의 경우 : [행 인덱스, 열 인덱스]"
      ]
    },
    {
      "cell_type": "code",
      "metadata": {
        "colab": {
          "base_uri": "https://localhost:8080/"
        },
        "id": "T-EUijI4yDjI",
        "outputId": "abfc3945-2d22-480b-da9b-36ef2231fbc0"
      },
      "source": [
        "# 0 ~ 8의 값을 갖는 2차원 배열 생성\n",
        "arr = np.arange(9).reshape(3, 3)\n",
        "arr"
      ],
      "execution_count": null,
      "outputs": [
        {
          "data": {
            "text/plain": [
              "array([[0, 1, 2],\n",
              "       [3, 4, 5],\n",
              "       [6, 7, 8]])"
            ]
          },
          "execution_count": 13,
          "metadata": {
            "tags": []
          },
          "output_type": "execute_result"
        }
      ]
    },
    {
      "cell_type": "code",
      "metadata": {
        "colab": {
          "base_uri": "https://localhost:8080/"
        },
        "id": "SlVZk9NX-Q72",
        "outputId": "8ba6454e-70c2-4bce-e72b-9a8a8f57dc4a"
      },
      "source": [
        "# arr의 첫 번째 행 indexing하여 출력\n",
        "arr[]"
      ],
      "execution_count": null,
      "outputs": [
        {
          "data": {
            "text/plain": [
              "array([0, 1, 2])"
            ]
          },
          "execution_count": 14,
          "metadata": {
            "tags": []
          },
          "output_type": "execute_result"
        }
      ]
    },
    {
      "cell_type": "code",
      "metadata": {
        "id": "O7_g6M_TyDjI",
        "outputId": "99cc5692-6ba0-4d2b-b2fc-53ede73bbb42"
      },
      "source": [
        "# arr의 마지막 행(음수 index 사용하세요!) indexing하여 출력\n",
        "arr[]"
      ],
      "execution_count": null,
      "outputs": [
        {
          "data": {
            "text/plain": [
              "array([6, 7, 8])"
            ]
          },
          "execution_count": 36,
          "metadata": {
            "tags": []
          },
          "output_type": "execute_result"
        }
      ]
    },
    {
      "cell_type": "code",
      "metadata": {
        "id": "xTcM1pGSyDjI",
        "outputId": "4bf6c49d-2e73-42e8-ba7d-903183909bf4"
      },
      "source": [
        "# arr의 첫 번째 행, 첫 번째 열 indexing 하여 출력\n",
        "arr[]"
      ],
      "execution_count": null,
      "outputs": [
        {
          "data": {
            "text/plain": [
              "0"
            ]
          },
          "execution_count": 37,
          "metadata": {
            "tags": []
          },
          "output_type": "execute_result"
        }
      ]
    },
    {
      "cell_type": "code",
      "metadata": {
        "id": "VA72AATyyDjJ",
        "outputId": "657e7014-96ad-4762-b0b7-6a5c61d45bb2"
      },
      "source": [
        "# arr의 마지막 행, 마지막 열(음수 index 사용) indexing 하여 출력\n",
        "arr[]"
      ],
      "execution_count": null,
      "outputs": [
        {
          "data": {
            "text/plain": [
              "8"
            ]
          },
          "execution_count": 38,
          "metadata": {
            "tags": []
          },
          "output_type": "execute_result"
        }
      ]
    },
    {
      "cell_type": "markdown",
      "metadata": {
        "id": "msMQECkQ_Kil"
      },
      "source": [
        "### 3-02 조건 인덱싱(Boolean Indexing)\n",
        "- Boolean Array의 값이 True값을 가지는 위치를 value Array에서 선택\n",
        "   - Boolean Array가 Mask처럼 동작\n",
        "- 조건 인덱싱의 결과는 항상 1차원 Array\n",
        "- 배열에 조건 비교를 하는 경우 Element Wise(Broadcast) 연산으로 인해 각 요소별 비교 결과(True, False) 값을 가지게 됨\n",
        "- 교재 그림 참조"
      ]
    },
    {
      "cell_type": "code",
      "metadata": {
        "colab": {
          "base_uri": "https://localhost:8080/"
        },
        "id": "N2bXkoUSyDjJ",
        "outputId": "57d2ea27-7efb-4b8c-b850-aa4bf727c07d"
      },
      "source": [
        "# 0 ~ 8의 값을 갖는 2차원 배열 생성\n",
        "arr = np.arange(9).reshape(3, 3)\n",
        "arr"
      ],
      "execution_count": null,
      "outputs": [
        {
          "data": {
            "text/plain": [
              "array([[0, 1, 2],\n",
              "       [3, 4, 5],\n",
              "       [6, 7, 8]])"
            ]
          },
          "execution_count": 15,
          "metadata": {
            "tags": []
          },
          "output_type": "execute_result"
        }
      ]
    },
    {
      "cell_type": "code",
      "metadata": {
        "colab": {
          "base_uri": "https://localhost:8080/"
        },
        "id": "PnSog4hzAkJC",
        "outputId": "17c99d76-89fd-4849-bfa0-4c3f6bc6cf37"
      },
      "source": [
        "# arr 배열에서 짝수인 것에 대해 True 아닌 것을 False로 하는 boolean array 생성\n",
        "bidx = # code here\n",
        "bidx"
      ],
      "execution_count": null,
      "outputs": [
        {
          "data": {
            "text/plain": [
              "array([[ True, False,  True],\n",
              "       [False,  True, False],\n",
              "       [ True, False,  True]])"
            ]
          },
          "execution_count": 17,
          "metadata": {
            "tags": []
          },
          "output_type": "execute_result"
        }
      ]
    },
    {
      "cell_type": "code",
      "metadata": {
        "colab": {
          "base_uri": "https://localhost:8080/"
        },
        "id": "sOL1_55yyDjJ",
        "outputId": "cf10d4a0-72dc-47e6-952e-37194aa25c14"
      },
      "source": [
        "# boolean array (bidx) 를 사용하여 arr 배열에서 짝수인 것만 추출함\n"
      ],
      "execution_count": null,
      "outputs": [
        {
          "data": {
            "text/plain": [
              "array([0, 2, 4, 6, 8])"
            ]
          },
          "execution_count": 18,
          "metadata": {
            "tags": []
          },
          "output_type": "execute_result"
        }
      ]
    },
    {
      "cell_type": "code",
      "metadata": {
        "colab": {
          "base_uri": "https://localhost:8080/"
        },
        "id": "qzuPQKluAuC3",
        "outputId": "7e2c12d1-d86d-4faa-c7b4-5526b74fe8b9"
      },
      "source": [
        "# boolean array를 별도로 생성하지 않고 [ ]내부에 바로 식으로 작성함\n",
        "\n"
      ],
      "execution_count": null,
      "outputs": [
        {
          "data": {
            "text/plain": [
              "array([0, 2, 4, 6, 8])"
            ]
          },
          "execution_count": 21,
          "metadata": {
            "tags": []
          },
          "output_type": "execute_result"
        }
      ]
    },
    {
      "cell_type": "code",
      "metadata": {
        "id": "UHyBIyOQATYE"
      },
      "source": [
        "# 아래의 그림과 같이 홀수인 것만 추출하여 출력해 보세요!\n",
        "arr = np.arange(9).reshape(3, 3)\n"
      ],
      "execution_count": null,
      "outputs": []
    },
    {
      "cell_type": "markdown",
      "metadata": {
        "id": "v5pcRXbm_c8l"
      },
      "source": [
        "  ![image.png](data:image/png;base64,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)"
      ]
    },
    {
      "cell_type": "code",
      "metadata": {
        "colab": {
          "base_uri": "https://localhost:8080/"
        },
        "id": "o_AAXsrEyDjJ",
        "outputId": "d2ca5714-fe0c-4a1e-9d81-985a4ec73666"
      },
      "source": [
        "# arr 배열에서 값이 5초과인 것만 추출하여 출력해 보세요.\n"
      ],
      "execution_count": null,
      "outputs": [
        {
          "data": {
            "text/plain": [
              "array([6, 7, 8])"
            ]
          },
          "execution_count": 22,
          "metadata": {
            "tags": []
          },
          "output_type": "execute_result"
        }
      ]
    },
    {
      "cell_type": "markdown",
      "metadata": {
        "id": "ivLryNfQBKCm"
      },
      "source": [
        "### 3-03 팬시 인덱싱(Fancy Indexing)\n",
        "- 다른 Array를 이용하여 인덱싱 하는 방법\n",
        "   - 조건 인덱싱도 Boolean Array를 이용하여 인덱싱 하는 팬시 인덱싱의 일종\n",
        "   - 선택하고자 하는 위치를 Array로 묶어서 데이터에 접근 가능\n",
        "   - arr[[0, 1], [2, 1]] =>  arr[0, 2], arr[1, 1]로 이루어진 배열\n"
      ]
    },
    {
      "cell_type": "code",
      "metadata": {
        "id": "xj8K7UzENI-y"
      },
      "source": [
        "# 0 ~ 8의 값을 갖는 2차원 배열 생성\n",
        "arr = np.arange(9).reshape(3, 3)\n",
        "arr"
      ],
      "execution_count": null,
      "outputs": []
    },
    {
      "cell_type": "code",
      "metadata": {
        "id": "uaLlu_IqyDjK",
        "outputId": "358dcc4b-e7e1-4382-dd83-42a2817ccf59"
      },
      "source": [
        "# [0, 2], [1, 1] 위치의 값으로 이루어진 배열\n",
        "row = [0, 1]\n",
        "col = [2, 1]\n",
        "arr[row, col]"
      ],
      "execution_count": null,
      "outputs": [
        {
          "data": {
            "text/plain": [
              "array([2, 4])"
            ]
          },
          "execution_count": 42,
          "metadata": {
            "tags": []
          },
          "output_type": "execute_result"
        }
      ]
    },
    {
      "cell_type": "code",
      "metadata": {
        "id": "lnEgjyeayDjK",
        "outputId": "e364c492-00be-4653-dbca-89f782145739"
      },
      "source": [
        "# [0, 2], [1, 1] 위치의 값으로 이루어진 배열\n",
        "arr[[0, 1], [2, 1]]"
      ],
      "execution_count": null,
      "outputs": [
        {
          "data": {
            "text/plain": [
              "array([2, 4])"
            ]
          },
          "execution_count": 43,
          "metadata": {
            "tags": []
          },
          "output_type": "execute_result"
        }
      ]
    },
    {
      "cell_type": "code",
      "metadata": {
        "id": "wd5ge5bYyDjK",
        "outputId": "cfa56da7-5385-47ac-bd47-e9ff5f9f8778"
      },
      "source": [
        "arr[0, 2], arr[1, 1]"
      ],
      "execution_count": null,
      "outputs": [
        {
          "data": {
            "text/plain": [
              "(2, 4)"
            ]
          },
          "execution_count": 44,
          "metadata": {
            "tags": []
          },
          "output_type": "execute_result"
        }
      ]
    },
    {
      "cell_type": "markdown",
      "metadata": {
        "id": "doGAlxKGCZwC"
      },
      "source": [
        "### 3-04 정수 슬라이싱\n",
        "- 콜론(:)을 사용하여 특정 범위 값에 접근 가능\n",
        "- 콜론을 기준으로 앞을 생략하면 처음부터, 뒤를 생략하면 마지막 까지를 의미\n",
        "- 콜론(:) 만 표기하면 '모두 선택'을 의미함    "
      ]
    },
    {
      "cell_type": "code",
      "metadata": {
        "colab": {
          "base_uri": "https://localhost:8080/"
        },
        "id": "Uk4B74A0CnGM",
        "outputId": "5c5f36e3-d9b1-4e25-d1ab-93abf0570530"
      },
      "source": [
        "# 0 ~ 8의 값을 갖는 2차원 배열 생성\n",
        "arr = np.arange(9).reshape(3, 3)\n",
        "arr"
      ],
      "execution_count": null,
      "outputs": [
        {
          "data": {
            "text/plain": [
              "array([[0, 1, 2],\n",
              "       [3, 4, 5],\n",
              "       [6, 7, 8]])"
            ]
          },
          "execution_count": 24,
          "metadata": {
            "tags": []
          },
          "output_type": "execute_result"
        }
      ]
    },
    {
      "cell_type": "code",
      "metadata": {
        "colab": {
          "base_uri": "https://localhost:8080/"
        },
        "id": "79QLvnw_yDjL",
        "outputId": "3b7e0f1b-9396-4f41-9bc7-f158fc98a092"
      },
      "source": [
        "# arr 배열의 0번 행, 모든 열에 대해 slicing\n",
        "arr[    ]"
      ],
      "execution_count": null,
      "outputs": [
        {
          "data": {
            "text/plain": [
              "array([0, 1, 2])"
            ]
          },
          "execution_count": 25,
          "metadata": {
            "tags": []
          },
          "output_type": "execute_result"
        }
      ]
    },
    {
      "cell_type": "code",
      "metadata": {
        "colab": {
          "base_uri": "https://localhost:8080/"
        },
        "id": "2oGdJNbiyDjL",
        "outputId": "aaed7724-c5ef-4d38-f325-342c0433b07f"
      },
      "source": [
        "# arr 배열의 모든 행, 1번 열에 대해 slicing\n",
        "arr[    ]"
      ],
      "execution_count": null,
      "outputs": [
        {
          "data": {
            "text/plain": [
              "array([1, 4, 7])"
            ]
          },
          "execution_count": 27,
          "metadata": {
            "tags": []
          },
          "output_type": "execute_result"
        }
      ]
    },
    {
      "cell_type": "code",
      "metadata": {
        "colab": {
          "base_uri": "https://localhost:8080/"
        },
        "id": "siFOdIudyDjL",
        "outputId": "1d123860-505e-4bdc-8030-69035356da2a"
      },
      "source": [
        "# arr 배열의 0~1번 행, 1~마지막 열에 대해 slicing\n",
        "arr[    ]"
      ],
      "execution_count": null,
      "outputs": [
        {
          "data": {
            "text/plain": [
              "array([[1, 2],\n",
              "       [4, 5]])"
            ]
          },
          "execution_count": 30,
          "metadata": {
            "tags": []
          },
          "output_type": "execute_result"
        }
      ]
    },
    {
      "cell_type": "code",
      "metadata": {
        "colab": {
          "base_uri": "https://localhost:8080/"
        },
        "id": "MMmqYEqbyDjL",
        "outputId": "e20d7a6e-75ea-49a1-e928-d3e705c51612"
      },
      "source": [
        "# arr 배열의 마지막 행, 1~2번 열에 대해 slicing\n",
        "# 2차원으로 결과가 출력되도록!!  (shape => (2, 1))\n",
        "arr[     ]"
      ],
      "execution_count": null,
      "outputs": [
        {
          "data": {
            "text/plain": [
              "array([[7, 8]])"
            ]
          },
          "execution_count": 31,
          "metadata": {
            "tags": []
          },
          "output_type": "execute_result"
        }
      ]
    },
    {
      "cell_type": "markdown",
      "metadata": {
        "id": "pmO3utpVItBf"
      },
      "source": [
        "### 3-05 정수 슬라이싱 시 고려사항\n",
        "-  Numpy는 다차원 배열(ndarray)를 염두하고 설계했기 때문에 데이터의 복사를 남발하지 않음\n",
        "- 원본 배열을 슬라이싱하여 새로운 배열을 만든 경우 새로운 배열은 값이 복사되지 않고 참조 됨\n",
        "- 새로운 배열을 수정하면 원본 배열도 수정됨\n",
        "- 만약 값을 복사하여 저장하고 싶은 경우 copy() 함수를 이용\n",
        "- 또는 팬시 인덱싱 이용"
      ]
    },
    {
      "cell_type": "code",
      "metadata": {
        "id": "Nskuf-ysyDjM"
      },
      "source": [
        "arr = np.arange(9).reshape(3, 3)\n",
        "arr"
      ],
      "execution_count": null,
      "outputs": []
    },
    {
      "cell_type": "code",
      "metadata": {
        "id": "VAm2V5ZNyDjM"
      },
      "source": [
        "# arr의 모든 행의 1번 열에 대해 indexing\n",
        "b = arr[:, 1]\n",
        "b"
      ],
      "execution_count": null,
      "outputs": []
    },
    {
      "cell_type": "code",
      "metadata": {
        "id": "j_yqYlmZyDjM"
      },
      "source": [
        "# b[0] 값을 10으로 변경\n",
        "b[0] = 10\n",
        "b"
      ],
      "execution_count": null,
      "outputs": []
    },
    {
      "cell_type": "code",
      "metadata": {
        "id": "w3SxAt4pyDjN"
      },
      "source": [
        "# arr을 출력했을 때 arr[0, 1]의 값이 10으로 변경된 것을 확인\n",
        "arr"
      ],
      "execution_count": null,
      "outputs": []
    },
    {
      "cell_type": "markdown",
      "metadata": {
        "id": "87F8YIhvJ27D"
      },
      "source": [
        "### 3-06 원본 값 미변경 (copy 함수 사용)"
      ]
    },
    {
      "cell_type": "code",
      "metadata": {
        "id": "zNPcBT4cyDjN"
      },
      "source": [
        "# arr의 모든 행의 1번 열에 대해 indexing하여 copy()\n",
        "b = arr[:, 1].copy()\n",
        "b"
      ],
      "execution_count": null,
      "outputs": []
    },
    {
      "cell_type": "code",
      "metadata": {
        "id": "RqB0rCSIyDjN"
      },
      "source": [
        "# b[0] 값을 1로 변경\n",
        "b[0] = 1\n",
        "b"
      ],
      "execution_count": null,
      "outputs": []
    },
    {
      "cell_type": "code",
      "metadata": {
        "id": "qsT97gYcyDjN"
      },
      "source": [
        "# arr을 보면, arr[0, 1]의 값이 10으로 유지되는 것을 확인할 수 있음\n",
        "arr"
      ],
      "execution_count": null,
      "outputs": []
    },
    {
      "cell_type": "markdown",
      "metadata": {
        "id": "9Fa0EbyYKDhd"
      },
      "source": [
        "## 4.Numpy Function\n"
      ]
    },
    {
      "cell_type": "markdown",
      "metadata": {
        "id": "E0SNgx5TK8wB"
      },
      "source": [
        "### 4-01 np.where\n",
        "- np.where(조건 [, x, y])\n",
        "  - x, y를 생략하면 조건을 만족하는 요소의 위치에 대한 array를 각 axis 별로 반환\n",
        "  - x와 y를 지정하는 경우 값이 대체된 배열을 반환\n",
        "  - x : 요소의 조건이 True인 경우 지정할 값\n",
        "  - y : 요소의 조건이 False인 경우 지정할 값"
      ]
    },
    {
      "cell_type": "code",
      "metadata": {
        "colab": {
          "base_uri": "https://localhost:8080/"
        },
        "id": "7NSCbazM_LLX",
        "outputId": "4d216be4-c9a5-47ea-e0e2-d1d98e4cf418"
      },
      "source": [
        "arr = np.arange(9).reshape(3, 3)\n",
        "arr"
      ],
      "execution_count": null,
      "outputs": [
        {
          "data": {
            "text/plain": [
              "array([[0, 1, 2],\n",
              "       [3, 4, 5],\n",
              "       [6, 7, 8]])"
            ]
          },
          "execution_count": 34,
          "metadata": {
            "tags": []
          },
          "output_type": "execute_result"
        }
      ]
    },
    {
      "cell_type": "code",
      "metadata": {
        "colab": {
          "base_uri": "https://localhost:8080/"
        },
        "id": "4VY-Q4GayDjO",
        "outputId": "232bec81-74f1-4635-ce74-ce84f33a2003"
      },
      "source": [
        "# arr에서 짝수인 것에 대해 위치 정보 반환\n"
      ],
      "execution_count": null,
      "outputs": [
        {
          "data": {
            "text/plain": [
              "(array([0, 0, 1, 2, 2]), array([0, 2, 1, 0, 2]))"
            ]
          },
          "execution_count": 35,
          "metadata": {
            "tags": []
          },
          "output_type": "execute_result"
        }
      ]
    },
    {
      "cell_type": "code",
      "metadata": {
        "id": "tnW4RpSUyDjO",
        "outputId": "70446a6c-450a-4403-9837-15f1aeddd1ee"
      },
      "source": [
        "# arr에서 짝수인 것에 대해 True, 홀수는 False로 하는 array 생성\n"
      ],
      "execution_count": null,
      "outputs": [
        {
          "data": {
            "text/plain": [
              "array([[ True,  True,  True],\n",
              "       [False,  True, False],\n",
              "       [ True, False,  True]])"
            ]
          },
          "execution_count": 57,
          "metadata": {
            "tags": []
          },
          "output_type": "execute_result"
        }
      ]
    },
    {
      "cell_type": "markdown",
      "metadata": {
        "id": "q7861F4NLM0N"
      },
      "source": [
        "### 4-02 Statistical Functions\n",
        "- Numpy는 배열의 주어진 요소로 부터 최소, 최대, 백분위수, 표준 편차, 분산 등을 찾는데 유용한 통계 함수가 존재\n",
        "- 통계 함수는 배열에서 요소별로 작동하며, axis 옵션을 통해 연산 방향을 지정할 수 있음\n",
        "    - axis이 지정 안된 경우 모든 요소의 연산 결과가 반환\n",
        "    - axis이 0으로 지정된 경우 행과 행의 연산 결과를 반환\n",
        "    - axis이 1로 지정된 경우 열과 열의 연산 결과를 반환\n",
        "- min, max, mean, median, quantile, std, var, corrcoef, argmin, argmax, cumsum, cumprod 등"
      ]
    },
    {
      "cell_type": "markdown",
      "metadata": {
        "id": "fw71UGrFN8N7"
      },
      "source": [
        "![image.png](data:image/png;base64,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)"
      ]
    },
    {
      "cell_type": "code",
      "metadata": {
        "colab": {
          "base_uri": "https://localhost:8080/"
        },
        "id": "qVnKzNe-yDjO",
        "outputId": "3798b85e-72db-4da6-b327-c87c1fe8080c"
      },
      "source": [
        "arr = np.arange(9).reshape(3, 3)\n",
        "arr"
      ],
      "execution_count": null,
      "outputs": [
        {
          "data": {
            "text/plain": [
              "array([[0, 1, 2],\n",
              "       [3, 4, 5],\n",
              "       [6, 7, 8]])"
            ]
          },
          "execution_count": 36,
          "metadata": {
            "tags": []
          },
          "output_type": "execute_result"
        }
      ]
    },
    {
      "cell_type": "code",
      "metadata": {
        "colab": {
          "base_uri": "https://localhost:8080/"
        },
        "id": "Q-bcnBfgyDjO",
        "outputId": "ed85e867-6045-41cb-e045-baf719d152ad"
      },
      "source": [
        "# arr의 전체 요소의 합 구하기\n"
      ],
      "execution_count": null,
      "outputs": [
        {
          "data": {
            "text/plain": [
              "36"
            ]
          },
          "execution_count": 37,
          "metadata": {
            "tags": []
          },
          "output_type": "execute_result"
        }
      ]
    },
    {
      "cell_type": "code",
      "metadata": {
        "colab": {
          "base_uri": "https://localhost:8080/"
        },
        "id": "MYtXPGTgyDjP",
        "outputId": "d2c1c843-2215-4b62-85df-ae7c1855d00b"
      },
      "source": [
        "# arr의 행과 행의 합 연산 결과를 반환\n"
      ],
      "execution_count": null,
      "outputs": [
        {
          "data": {
            "text/plain": [
              "array([ 9, 12, 15])"
            ]
          },
          "execution_count": 38,
          "metadata": {
            "tags": []
          },
          "output_type": "execute_result"
        }
      ]
    },
    {
      "cell_type": "code",
      "metadata": {
        "colab": {
          "base_uri": "https://localhost:8080/"
        },
        "id": "8pGaAJsSyDjP",
        "outputId": "fe884a9f-aab3-4330-871f-06c387326afa"
      },
      "source": [
        "# arr의 열과 열의 합 연산 결과를 반환\n"
      ],
      "execution_count": null,
      "outputs": [
        {
          "data": {
            "text/plain": [
              "array([ 3, 12, 21])"
            ]
          },
          "execution_count": 39,
          "metadata": {
            "tags": []
          },
          "output_type": "execute_result"
        }
      ]
    },
    {
      "cell_type": "markdown",
      "metadata": {
        "id": "kxsSWTzIMAPQ"
      },
      "source": [
        "## 5.파일 읽고 쓰기\n",
        "- Numpy 배열을 파일로 저장 또는 저장된 파일에서 Numpy 배열을 불러 올 수 있음\n",
        "- Numpy array를 파일로 저장하기 위해서는 save 또는 savez 함수를 이용\n",
        "- save 함수는 배열을 1개만 저장할 수 있으며 savez 함수는 여러 개의 배열을 저장할 수 있음\n",
        "- 파일에서 Numpy array를 불러오기 위해서는 load 함수를 이용"
      ]
    },
    {
      "cell_type": "code",
      "metadata": {
        "id": "3JPZMFJKyDjP"
      },
      "source": [
        "# arr의 array.npy 파일로 저장\n",
        "arr = np.arange(9).reshape(3, 3)\n",
        "np.save('array.npy', arr)"
      ],
      "execution_count": null,
      "outputs": []
    },
    {
      "cell_type": "code",
      "metadata": {
        "colab": {
          "base_uri": "https://localhost:8080/"
        },
        "id": "b28ndsIYyDjQ",
        "outputId": "54e874dc-775b-4757-c754-19e421c91387"
      },
      "source": [
        "# array.npy을 읽어 ndarray를 가져오기 함 \n",
        "new_array = np.load('array.npy')\n",
        "new_array"
      ],
      "execution_count": null,
      "outputs": [
        {
          "data": {
            "text/plain": [
              "array([[0, 1, 2],\n",
              "       [3, 4, 5],\n",
              "       [6, 7, 8]])"
            ]
          },
          "execution_count": 41,
          "metadata": {
            "tags": []
          },
          "output_type": "execute_result"
        }
      ]
    }
  ]
}