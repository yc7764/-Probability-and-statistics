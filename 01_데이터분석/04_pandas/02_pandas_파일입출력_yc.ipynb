{
  "cells": [
    {
      "cell_type": "markdown",
      "metadata": {
        "id": "JZmlIGljxcKf"
      },
      "source": [
        "# 패키지 설치"
      ]
    },
    {
      "cell_type": "code",
      "execution_count": null,
      "metadata": {
        "colab": {
          "base_uri": "https://localhost:8080/"
        },
        "id": "QU155dmSxcKk",
        "outputId": "ea8a7f5a-4762-499c-d4aa-2ab7746d53e3"
      },
      "outputs": [],
      "source": [
        "!pip install mySUNI"
      ]
    },
    {
      "cell_type": "markdown",
      "metadata": {
        "id": "r00FPZaZxcKn"
      },
      "source": [
        "## 모듈 import"
      ]
    },
    {
      "cell_type": "code",
      "execution_count": 2,
      "metadata": {
        "id": "RGhyFtVF0F0m"
      },
      "outputs": [],
      "source": [
        "import numpy as np\n",
        "import pandas as pd\n",
        "from mySUNI import cds\n",
        "from IPython.display import Image"
      ]
    },
    {
      "cell_type": "markdown",
      "metadata": {
        "id": "-Wb2TVDKGvww"
      },
      "source": [
        "## 데이터 다운로드"
      ]
    },
    {
      "cell_type": "code",
      "execution_count": 3,
      "metadata": {
        "colab": {
          "base_uri": "https://localhost:8080/",
          "height": 853
        },
        "id": "LfXHDPRvxcKp",
        "outputId": "8e613386-a722-4cac-9976-006e0fcac4c2"
      },
      "outputs": [
        {
          "data": {
            "text/html": [
              "<div>\n",
              "<style scoped>\n",
              "    .dataframe tbody tr th:only-of-type {\n",
              "        vertical-align: middle;\n",
              "    }\n",
              "\n",
              "    .dataframe tbody tr th {\n",
              "        vertical-align: top;\n",
              "    }\n",
              "\n",
              "    .dataframe thead th {\n",
              "        text-align: right;\n",
              "    }\n",
              "</style>\n",
              "<table border=\"1\" class=\"dataframe\">\n",
              "  <thead>\n",
              "    <tr style=\"text-align: right;\">\n",
              "      <th></th>\n",
              "      <th>name</th>\n",
              "      <th>info</th>\n",
              "      <th>filename</th>\n",
              "    </tr>\n",
              "  </thead>\n",
              "  <tbody>\n",
              "    <tr>\n",
              "      <th>0</th>\n",
              "      <td>서울시자전거</td>\n",
              "      <td>서울시 따릉이 자전거 대여량 정보</td>\n",
              "      <td>[seoul_bicycle.csv]</td>\n",
              "    </tr>\n",
              "    <tr>\n",
              "      <th>1</th>\n",
              "      <td>서울시대중교통</td>\n",
              "      <td>서울시 대중교통(지하철, 버스) 이용객 정보</td>\n",
              "      <td>[seoul_transportation.xlsx]</td>\n",
              "    </tr>\n",
              "    <tr>\n",
              "      <th>2</th>\n",
              "      <td>서울시주민등록인구</td>\n",
              "      <td>서울시 주민등록인구 정보</td>\n",
              "      <td>[seoul_population.csv]</td>\n",
              "    </tr>\n",
              "    <tr>\n",
              "      <th>3</th>\n",
              "      <td>유가정보</td>\n",
              "      <td>2019년 서울시 유가 정보</td>\n",
              "      <td>[gas_first_2019.csv, gas_second_2019.csv]</td>\n",
              "    </tr>\n",
              "    <tr>\n",
              "      <th>4</th>\n",
              "      <td>PandasFileIO</td>\n",
              "      <td>Pandas File I/O 연습 문제용 데이터셋</td>\n",
              "      <td>[mySUNI.xlsx, mySUNI_1.csv, mySUNI_2.csv, mySU...</td>\n",
              "    </tr>\n",
              "    <tr>\n",
              "      <th>5</th>\n",
              "      <td>CCTV데이터분석</td>\n",
              "      <td>mySUNI WorkShop - CCTV 데이터 분석</td>\n",
              "      <td>[01. CCTV_in_Seoul.csv, 01. population_in_Seou...</td>\n",
              "    </tr>\n",
              "    <tr>\n",
              "      <th>6</th>\n",
              "      <td>국민연금데이터분석</td>\n",
              "      <td>mySUNI WorkShop - 국민연금 데이터 분석</td>\n",
              "      <td>[national_pension.csv]</td>\n",
              "    </tr>\n",
              "    <tr>\n",
              "      <th>7</th>\n",
              "      <td>민간아파트가격동향분석</td>\n",
              "      <td>mySUNI WorkShop - 민간 아파트 가격 동향 분석</td>\n",
              "      <td>[seoul_house_price.csv]</td>\n",
              "    </tr>\n",
              "    <tr>\n",
              "      <th>8</th>\n",
              "      <td>실거래가분석</td>\n",
              "      <td>mySUNI WorkShop - 2020년 아파트 실거래가 분석</td>\n",
              "      <td>[2020-seoul-apt-price.csv, loc_code.xlsx]</td>\n",
              "    </tr>\n",
              "    <tr>\n",
              "      <th>9</th>\n",
              "      <td>유가가격분석</td>\n",
              "      <td>mySUNI WorkShop - 2020년 유가 가격 분석</td>\n",
              "      <td>[gas_first_2019.csv, gas_second_2019.csv]</td>\n",
              "    </tr>\n",
              "    <tr>\n",
              "      <th>10</th>\n",
              "      <td>중고차판매정보분석</td>\n",
              "      <td>mySUNI WorkShop - 중고차 판매 정보 분석</td>\n",
              "      <td>[vehicles.csv]</td>\n",
              "    </tr>\n",
              "    <tr>\n",
              "      <th>11</th>\n",
              "      <td>신용정보</td>\n",
              "      <td>사용자의 신용카드 대금 연체를 기준의 신용도</td>\n",
              "      <td>[credit-data.csv]</td>\n",
              "    </tr>\n",
              "    <tr>\n",
              "      <th>12</th>\n",
              "      <td>전국신규분양가</td>\n",
              "      <td>주택도시보증공사 전국 신규 민간 아파트 분양가격 정보</td>\n",
              "      <td>[house-price.csv]</td>\n",
              "    </tr>\n",
              "    <tr>\n",
              "      <th>13</th>\n",
              "      <td>에너지 효율</td>\n",
              "      <td>난방부하 및 냉방부하 요구사항(에너지 효율)을 평가</td>\n",
              "      <td>[ENB2012_data.xlsx]</td>\n",
              "    </tr>\n",
              "    <tr>\n",
              "      <th>14</th>\n",
              "      <td>보스턴집값</td>\n",
              "      <td>보스턴 지역 집값 데이터 세트</td>\n",
              "      <td>[boston.csv]</td>\n",
              "    </tr>\n",
              "    <tr>\n",
              "      <th>15</th>\n",
              "      <td>와인유형분류</td>\n",
              "      <td>와인 유형(red, white) 분류를 위한 와인 품질 데이터 세트</td>\n",
              "      <td>[red_wine.csv, white_wine.csv]</td>\n",
              "    </tr>\n",
              "    <tr>\n",
              "      <th>16</th>\n",
              "      <td>사용자이탈예측</td>\n",
              "      <td>사용자 이탈 예측</td>\n",
              "      <td>[class.csv, event.csv, logs.csv, user_info.csv]</td>\n",
              "    </tr>\n",
              "    <tr>\n",
              "      <th>17</th>\n",
              "      <td>dogscats.zip</td>\n",
              "      <td>서울시 따릉이 자전거 대여량 정보</td>\n",
              "      <td>[dogscats.zip]</td>\n",
              "    </tr>\n",
              "    <tr>\n",
              "      <th>18</th>\n",
              "      <td>rps</td>\n",
              "      <td>가위/바위/보 손 이미지</td>\n",
              "      <td>[rps.zip]</td>\n",
              "    </tr>\n",
              "    <tr>\n",
              "      <th>19</th>\n",
              "      <td>spam</td>\n",
              "      <td>스팸 메일 분류 데이터셋</td>\n",
              "      <td>[spam.csv]</td>\n",
              "    </tr>\n",
              "  </tbody>\n",
              "</table>\n",
              "</div>"
            ],
            "text/plain": [
              "            name                                   info  \\\n",
              "0         서울시자전거                     서울시 따릉이 자전거 대여량 정보   \n",
              "1        서울시대중교통               서울시 대중교통(지하철, 버스) 이용객 정보   \n",
              "2      서울시주민등록인구                          서울시 주민등록인구 정보   \n",
              "3           유가정보                        2019년 서울시 유가 정보   \n",
              "4   PandasFileIO            Pandas File I/O 연습 문제용 데이터셋   \n",
              "5      CCTV데이터분석          mySUNI WorkShop - CCTV 데이터 분석   \n",
              "6      국민연금데이터분석          mySUNI WorkShop - 국민연금 데이터 분석   \n",
              "7    민간아파트가격동향분석      mySUNI WorkShop - 민간 아파트 가격 동향 분석   \n",
              "8         실거래가분석    mySUNI WorkShop - 2020년 아파트 실거래가 분석   \n",
              "9         유가가격분석       mySUNI WorkShop - 2020년 유가 가격 분석   \n",
              "10     중고차판매정보분석         mySUNI WorkShop - 중고차 판매 정보 분석   \n",
              "11          신용정보               사용자의 신용카드 대금 연체를 기준의 신용도   \n",
              "12       전국신규분양가          주택도시보증공사 전국 신규 민간 아파트 분양가격 정보   \n",
              "13        에너지 효율           난방부하 및 냉방부하 요구사항(에너지 효율)을 평가   \n",
              "14         보스턴집값                       보스턴 지역 집값 데이터 세트   \n",
              "15        와인유형분류  와인 유형(red, white) 분류를 위한 와인 품질 데이터 세트   \n",
              "16       사용자이탈예측                              사용자 이탈 예측   \n",
              "17  dogscats.zip                     서울시 따릉이 자전거 대여량 정보   \n",
              "18           rps                          가위/바위/보 손 이미지   \n",
              "19          spam                          스팸 메일 분류 데이터셋   \n",
              "\n",
              "                                             filename  \n",
              "0                                 [seoul_bicycle.csv]  \n",
              "1                         [seoul_transportation.xlsx]  \n",
              "2                              [seoul_population.csv]  \n",
              "3           [gas_first_2019.csv, gas_second_2019.csv]  \n",
              "4   [mySUNI.xlsx, mySUNI_1.csv, mySUNI_2.csv, mySU...  \n",
              "5   [01. CCTV_in_Seoul.csv, 01. population_in_Seou...  \n",
              "6                              [national_pension.csv]  \n",
              "7                             [seoul_house_price.csv]  \n",
              "8           [2020-seoul-apt-price.csv, loc_code.xlsx]  \n",
              "9           [gas_first_2019.csv, gas_second_2019.csv]  \n",
              "10                                     [vehicles.csv]  \n",
              "11                                  [credit-data.csv]  \n",
              "12                                  [house-price.csv]  \n",
              "13                                [ENB2012_data.xlsx]  \n",
              "14                                       [boston.csv]  \n",
              "15                     [red_wine.csv, white_wine.csv]  \n",
              "16    [class.csv, event.csv, logs.csv, user_info.csv]  \n",
              "17                                     [dogscats.zip]  \n",
              "18                                          [rps.zip]  \n",
              "19                                         [spam.csv]  "
            ]
          },
          "metadata": {},
          "output_type": "display_data"
        }
      ],
      "source": [
        "cds.list_data() # 데이터 조회"
      ]
    },
    {
      "cell_type": "code",
      "execution_count": null,
      "metadata": {
        "colab": {
          "base_uri": "https://localhost:8080/"
        },
        "id": "VH9coqk3xcKq",
        "outputId": "e73d0ac6-eb1d-4bac-834b-3de98b09eaeb"
      },
      "outputs": [],
      "source": [
        "cds.download_data(['서울시대중교통', '서울시주민등록인구', 'PandasFileIO'])"
      ]
    },
    {
      "cell_type": "markdown",
      "metadata": {
        "id": "Y_3pyRS3zOE1"
      },
      "source": [
        "## Excel"
      ]
    },
    {
      "cell_type": "markdown",
      "metadata": {
        "id": "h1pS42jAxcKt"
      },
      "source": [
        "[도큐먼트](https://pandas.pydata.org/pandas-docs/stable/reference/api/pandas.read_excel.html)"
      ]
    },
    {
      "cell_type": "markdown",
      "metadata": {
        "id": "_YNCVjCZxcKu"
      },
      "source": [
        "### Excel - 불러오기"
      ]
    },
    {
      "cell_type": "markdown",
      "metadata": {
        "id": "NTmSDMM1xcKu"
      },
      "source": [
        "Excel 데이터를 바로 읽어들일 수 있으며, `sheet_name`을 지정하면 해당 sheet를 가져옵니다."
      ]
    },
    {
      "cell_type": "markdown",
      "metadata": {},
      "source": [
        "pd.read_excel(io, sheet_name=0, header=0, names=None, index_col=None, ... , dtype=None, engine=None,  ...)"
      ]
    },
    {
      "cell_type": "code",
      "execution_count": 7,
      "metadata": {},
      "outputs": [
        {
          "data": {
            "text/plain": [
              "'\\\\'"
            ]
          },
          "execution_count": 7,
          "metadata": {},
          "output_type": "execute_result"
        }
      ],
      "source": [
        "# 경로구분자 - OS(운영체제)\n",
        "import os \n",
        "os.path.sep # => \\\\"
      ]
    },
    {
      "cell_type": "code",
      "execution_count": 9,
      "metadata": {
        "id": "Y_IdmlHGzOE2"
      },
      "outputs": [
        {
          "data": {
            "text/plain": [
              "'data\\\\seoul_transportation.xlsx'"
            ]
          },
          "metadata": {},
          "output_type": "display_data"
        },
        {
          "name": "stdout",
          "output_type": "stream",
          "text": [
            "<class 'pandas.core.frame.DataFrame'>\n"
          ]
        }
      ],
      "source": [
        "# 'data/seoul_transportation.xlsx' 파일의 '철도' 시트를 가져옵니다\n",
        "import os\n",
        "filename = os.path.join('data', 'seoul_transportation.xlsx')\n",
        "display(filename)\n",
        "excel = pd.read_excel(filename)\n",
        "print(type(excel))"
      ]
    },
    {
      "cell_type": "code",
      "execution_count": 10,
      "metadata": {
        "colab": {
          "base_uri": "https://localhost:8080/",
          "height": 198
        },
        "id": "IqgioCF1zOE4",
        "outputId": "c351de35-7f17-44dc-bea2-ea461f79659f"
      },
      "outputs": [
        {
          "data": {
            "text/html": [
              "<div>\n",
              "<style scoped>\n",
              "    .dataframe tbody tr th:only-of-type {\n",
              "        vertical-align: middle;\n",
              "    }\n",
              "\n",
              "    .dataframe tbody tr th {\n",
              "        vertical-align: top;\n",
              "    }\n",
              "\n",
              "    .dataframe thead th {\n",
              "        text-align: right;\n",
              "    }\n",
              "</style>\n",
              "<table border=\"1\" class=\"dataframe\">\n",
              "  <thead>\n",
              "    <tr style=\"text-align: right;\">\n",
              "      <th></th>\n",
              "      <th>대중교통구분</th>\n",
              "      <th>노선명</th>\n",
              "      <th>년월</th>\n",
              "      <th>승차총승객수</th>\n",
              "    </tr>\n",
              "  </thead>\n",
              "  <tbody>\n",
              "    <tr>\n",
              "      <th>0</th>\n",
              "      <td>지하철</td>\n",
              "      <td>1호선</td>\n",
              "      <td>201711</td>\n",
              "      <td>8633618</td>\n",
              "    </tr>\n",
              "    <tr>\n",
              "      <th>1</th>\n",
              "      <td>지하철</td>\n",
              "      <td>1호선</td>\n",
              "      <td>201712</td>\n",
              "      <td>8737235</td>\n",
              "    </tr>\n",
              "    <tr>\n",
              "      <th>2</th>\n",
              "      <td>지하철</td>\n",
              "      <td>1호선</td>\n",
              "      <td>201801</td>\n",
              "      <td>8145989</td>\n",
              "    </tr>\n",
              "    <tr>\n",
              "      <th>3</th>\n",
              "      <td>지하철</td>\n",
              "      <td>1호선</td>\n",
              "      <td>201802</td>\n",
              "      <td>7273309</td>\n",
              "    </tr>\n",
              "    <tr>\n",
              "      <th>4</th>\n",
              "      <td>지하철</td>\n",
              "      <td>1호선</td>\n",
              "      <td>201803</td>\n",
              "      <td>8692551</td>\n",
              "    </tr>\n",
              "  </tbody>\n",
              "</table>\n",
              "</div>"
            ],
            "text/plain": [
              "  대중교통구분  노선명      년월   승차총승객수\n",
              "0    지하철  1호선  201711  8633618\n",
              "1    지하철  1호선  201712  8737235\n",
              "2    지하철  1호선  201801  8145989\n",
              "3    지하철  1호선  201802  7273309\n",
              "4    지하철  1호선  201803  8692551"
            ]
          },
          "execution_count": 10,
          "metadata": {},
          "output_type": "execute_result"
        }
      ],
      "source": [
        "# excel의 첫 5개 행을 출력합니다\n",
        "excel.head(5)"
      ]
    },
    {
      "cell_type": "code",
      "execution_count": 12,
      "metadata": {
        "id": "EsN5qwNAxcKv",
        "outputId": "0bb33a97-889a-4417-8322-a775d0fb6635"
      },
      "outputs": [
        {
          "data": {
            "text/html": [
              "<div>\n",
              "<style scoped>\n",
              "    .dataframe tbody tr th:only-of-type {\n",
              "        vertical-align: middle;\n",
              "    }\n",
              "\n",
              "    .dataframe tbody tr th {\n",
              "        vertical-align: top;\n",
              "    }\n",
              "\n",
              "    .dataframe thead th {\n",
              "        text-align: right;\n",
              "    }\n",
              "</style>\n",
              "<table border=\"1\" class=\"dataframe\">\n",
              "  <thead>\n",
              "    <tr style=\"text-align: right;\">\n",
              "      <th></th>\n",
              "      <th>대중교통구분</th>\n",
              "      <th>년월</th>\n",
              "      <th>승차총승객수</th>\n",
              "    </tr>\n",
              "  </thead>\n",
              "  <tbody>\n",
              "    <tr>\n",
              "      <th>0</th>\n",
              "      <td>버스</td>\n",
              "      <td>201711</td>\n",
              "      <td>163443126</td>\n",
              "    </tr>\n",
              "    <tr>\n",
              "      <th>1</th>\n",
              "      <td>버스</td>\n",
              "      <td>201712</td>\n",
              "      <td>162521011</td>\n",
              "    </tr>\n",
              "    <tr>\n",
              "      <th>2</th>\n",
              "      <td>버스</td>\n",
              "      <td>201801</td>\n",
              "      <td>153335185</td>\n",
              "    </tr>\n",
              "    <tr>\n",
              "      <th>3</th>\n",
              "      <td>버스</td>\n",
              "      <td>201802</td>\n",
              "      <td>134768582</td>\n",
              "    </tr>\n",
              "    <tr>\n",
              "      <th>4</th>\n",
              "      <td>버스</td>\n",
              "      <td>201803</td>\n",
              "      <td>166177855</td>\n",
              "    </tr>\n",
              "  </tbody>\n",
              "</table>\n",
              "</div>"
            ],
            "text/plain": [
              "  대중교통구분      년월     승차총승객수\n",
              "0     버스  201711  163443126\n",
              "1     버스  201712  162521011\n",
              "2     버스  201801  153335185\n",
              "3     버스  201802  134768582\n",
              "4     버스  201803  166177855"
            ]
          },
          "execution_count": 12,
          "metadata": {},
          "output_type": "execute_result"
        }
      ],
      "source": [
        "# 'data/seoul_transportation.xlsx' 파일의 '버스' 시트를 가져와 첫 5개 행을 출력합니다.\n",
        "import os\n",
        "filename = os.path.join('data', 'seoul_transportation.xlsx')\n",
        "excel = pd.read_excel(filename, sheet_name='버스')\n",
        "excel.head()"
      ]
    },
    {
      "cell_type": "markdown",
      "metadata": {
        "id": "eIsetvsbxcKw"
      },
      "source": [
        "`sheet_name`을 None으로 지정하면, 모든 sheet를 가지고 옵니다.\n",
        "\n",
        "가지고 올 때는 Dict로 가져오며, `keys()`로 **시트명을 조회**할 수 있습니다."
      ]
    },
    {
      "cell_type": "code",
      "execution_count": 13,
      "metadata": {
        "id": "wDSHbY8ixcKw",
        "outputId": "ee790248-ca51-48e7-a042-c6bbe31d687b"
      },
      "outputs": [
        {
          "data": {
            "text/plain": [
              "dict"
            ]
          },
          "execution_count": 13,
          "metadata": {},
          "output_type": "execute_result"
        }
      ],
      "source": [
        "# 'data/seoul_transportation.xlsx' 파일의 모든 시트를 OrderedDict로 가져와 출력합니다.\n",
        "import os\n",
        "filename = os.path.join('data', 'seoul_transportation.xlsx')\n",
        "excels = pd.read_excel(filename, sheet_name=None)\n",
        "type(excels)   # excels = {'철도': DataFrame, '버스': DataFrame}"
      ]
    },
    {
      "cell_type": "code",
      "execution_count": null,
      "metadata": {
        "id": "boLKrlnTxcKw",
        "outputId": "076aef79-904b-4095-e4b1-18316b7af4e8"
      },
      "outputs": [
        {
          "data": {
            "text/plain": [
              "dict_keys(['철도', '버스'])"
            ]
          },
          "execution_count": 9,
          "metadata": {
            "tags": []
          },
          "output_type": "execute_result"
        }
      ],
      "source": [
        "# excels의 시트이름 목록 조회\n",
        "excels.keys()"
      ]
    },
    {
      "cell_type": "code",
      "execution_count": 19,
      "metadata": {
        "id": "awes2iDVxcKx",
        "outputId": "df99eab8-3d5e-4094-b6e9-95e61d8238b4"
      },
      "outputs": [
        {
          "data": {
            "text/html": [
              "<div>\n",
              "<style scoped>\n",
              "    .dataframe tbody tr th:only-of-type {\n",
              "        vertical-align: middle;\n",
              "    }\n",
              "\n",
              "    .dataframe tbody tr th {\n",
              "        vertical-align: top;\n",
              "    }\n",
              "\n",
              "    .dataframe thead th {\n",
              "        text-align: right;\n",
              "    }\n",
              "</style>\n",
              "<table border=\"1\" class=\"dataframe\">\n",
              "  <thead>\n",
              "    <tr style=\"text-align: right;\">\n",
              "      <th></th>\n",
              "      <th>대중교통구분</th>\n",
              "      <th>노선명</th>\n",
              "      <th>년월</th>\n",
              "      <th>승차총승객수</th>\n",
              "    </tr>\n",
              "  </thead>\n",
              "  <tbody>\n",
              "    <tr>\n",
              "      <th>0</th>\n",
              "      <td>지하철</td>\n",
              "      <td>1호선</td>\n",
              "      <td>201711</td>\n",
              "      <td>8633618</td>\n",
              "    </tr>\n",
              "    <tr>\n",
              "      <th>1</th>\n",
              "      <td>지하철</td>\n",
              "      <td>1호선</td>\n",
              "      <td>201712</td>\n",
              "      <td>8737235</td>\n",
              "    </tr>\n",
              "    <tr>\n",
              "      <th>2</th>\n",
              "      <td>지하철</td>\n",
              "      <td>1호선</td>\n",
              "      <td>201801</td>\n",
              "      <td>8145989</td>\n",
              "    </tr>\n",
              "    <tr>\n",
              "      <th>3</th>\n",
              "      <td>지하철</td>\n",
              "      <td>1호선</td>\n",
              "      <td>201802</td>\n",
              "      <td>7273309</td>\n",
              "    </tr>\n",
              "    <tr>\n",
              "      <th>4</th>\n",
              "      <td>지하철</td>\n",
              "      <td>1호선</td>\n",
              "      <td>201803</td>\n",
              "      <td>8692551</td>\n",
              "    </tr>\n",
              "  </tbody>\n",
              "</table>\n",
              "</div>"
            ],
            "text/plain": [
              "  대중교통구분  노선명      년월   승차총승객수\n",
              "0    지하철  1호선  201711  8633618\n",
              "1    지하철  1호선  201712  8737235\n",
              "2    지하철  1호선  201801  8145989\n",
              "3    지하철  1호선  201802  7273309\n",
              "4    지하철  1호선  201803  8692551"
            ]
          },
          "execution_count": 19,
          "metadata": {},
          "output_type": "execute_result"
        }
      ],
      "source": [
        "# excels의 '철도' 시트에 대한 DataFrame에서 첫 5개 행을 출력합니다.\n",
        "excels['철도'].head(5)"
      ]
    },
    {
      "cell_type": "code",
      "execution_count": 20,
      "metadata": {
        "id": "YGuXzX69xcKx",
        "outputId": "7c0c284f-1264-4c99-f930-48fee0268c68"
      },
      "outputs": [
        {
          "data": {
            "text/html": [
              "<div>\n",
              "<style scoped>\n",
              "    .dataframe tbody tr th:only-of-type {\n",
              "        vertical-align: middle;\n",
              "    }\n",
              "\n",
              "    .dataframe tbody tr th {\n",
              "        vertical-align: top;\n",
              "    }\n",
              "\n",
              "    .dataframe thead th {\n",
              "        text-align: right;\n",
              "    }\n",
              "</style>\n",
              "<table border=\"1\" class=\"dataframe\">\n",
              "  <thead>\n",
              "    <tr style=\"text-align: right;\">\n",
              "      <th></th>\n",
              "      <th>대중교통구분</th>\n",
              "      <th>년월</th>\n",
              "      <th>승차총승객수</th>\n",
              "    </tr>\n",
              "  </thead>\n",
              "  <tbody>\n",
              "    <tr>\n",
              "      <th>0</th>\n",
              "      <td>버스</td>\n",
              "      <td>201711</td>\n",
              "      <td>163443126</td>\n",
              "    </tr>\n",
              "    <tr>\n",
              "      <th>1</th>\n",
              "      <td>버스</td>\n",
              "      <td>201712</td>\n",
              "      <td>162521011</td>\n",
              "    </tr>\n",
              "    <tr>\n",
              "      <th>2</th>\n",
              "      <td>버스</td>\n",
              "      <td>201801</td>\n",
              "      <td>153335185</td>\n",
              "    </tr>\n",
              "    <tr>\n",
              "      <th>3</th>\n",
              "      <td>버스</td>\n",
              "      <td>201802</td>\n",
              "      <td>134768582</td>\n",
              "    </tr>\n",
              "    <tr>\n",
              "      <th>4</th>\n",
              "      <td>버스</td>\n",
              "      <td>201803</td>\n",
              "      <td>166177855</td>\n",
              "    </tr>\n",
              "  </tbody>\n",
              "</table>\n",
              "</div>"
            ],
            "text/plain": [
              "  대중교통구분      년월     승차총승객수\n",
              "0     버스  201711  163443126\n",
              "1     버스  201712  162521011\n",
              "2     버스  201801  153335185\n",
              "3     버스  201802  134768582\n",
              "4     버스  201803  166177855"
            ]
          },
          "execution_count": 20,
          "metadata": {},
          "output_type": "execute_result"
        }
      ],
      "source": [
        "# excels의 '버스' 시트에 대한 DataFrame에서 첫 5개 행을 출력합니다.\n",
        "excels['버스'].head(5)"
      ]
    },
    {
      "cell_type": "code",
      "execution_count": 24,
      "metadata": {},
      "outputs": [],
      "source": [
        "import os\n",
        "filename = os.path.join('data', 'seoul_transportation.xlsx')\n",
        "subway = pd.read_excel(filename, sheet_name='철도', index_col='년월')\n",
        "subway.head(3)\n",
        "subway.to_excel('test.xlsx', index=True)"
      ]
    },
    {
      "cell_type": "markdown",
      "metadata": {
        "id": "S44xZWODxcKy"
      },
      "source": [
        "### Excel - 저장하기"
      ]
    },
    {
      "cell_type": "markdown",
      "metadata": {
        "id": "EzSXIjqxxcKy"
      },
      "source": [
        "DataFrame을 Excel로 저장할 수 있으며, Excel로 저장시 **파일명**을 지정합니다.\n",
        "\n",
        "- `index=False` 옵션은 가급적 꼭 지정하는 옵션입니다. 지정을 안하면 **index가 별도의 컬럼으로 저장**되게 됩니다.\n",
        "- `sheet_name`을 지정하여, 저장할 시트의 이름을 변경할 수 있습니다.\n"
      ]
    },
    {
      "cell_type": "code",
      "execution_count": 25,
      "metadata": {},
      "outputs": [
        {
          "data": {
            "text/html": [
              "<div>\n",
              "<style scoped>\n",
              "    .dataframe tbody tr th:only-of-type {\n",
              "        vertical-align: middle;\n",
              "    }\n",
              "\n",
              "    .dataframe tbody tr th {\n",
              "        vertical-align: top;\n",
              "    }\n",
              "\n",
              "    .dataframe thead th {\n",
              "        text-align: right;\n",
              "    }\n",
              "</style>\n",
              "<table border=\"1\" class=\"dataframe\">\n",
              "  <thead>\n",
              "    <tr style=\"text-align: right;\">\n",
              "      <th></th>\n",
              "      <th>대중교통구분</th>\n",
              "      <th>년월</th>\n",
              "      <th>승차총승객수</th>\n",
              "    </tr>\n",
              "  </thead>\n",
              "  <tbody>\n",
              "    <tr>\n",
              "      <th>0</th>\n",
              "      <td>버스</td>\n",
              "      <td>201711</td>\n",
              "      <td>163443126</td>\n",
              "    </tr>\n",
              "    <tr>\n",
              "      <th>1</th>\n",
              "      <td>버스</td>\n",
              "      <td>201712</td>\n",
              "      <td>162521011</td>\n",
              "    </tr>\n",
              "  </tbody>\n",
              "</table>\n",
              "</div>"
            ],
            "text/plain": [
              "  대중교통구분      년월     승차총승객수\n",
              "0     버스  201711  163443126\n",
              "1     버스  201712  162521011"
            ]
          },
          "execution_count": 25,
          "metadata": {},
          "output_type": "execute_result"
        }
      ],
      "source": [
        "excel.head(2)"
      ]
    },
    {
      "cell_type": "code",
      "execution_count": 26,
      "metadata": {
        "id": "uuF35QsZxcKy"
      },
      "outputs": [],
      "source": [
        "# DataFrame excel을 'sample.xlsx' 로 저장합니다. 이때 index도 함께 저장 합니다.\n",
        "excel.to_excel('sample.xlsx', index=True)"
      ]
    },
    {
      "cell_type": "code",
      "execution_count": 28,
      "metadata": {
        "id": "0CmeqTfgxcKz"
      },
      "outputs": [],
      "source": [
        "# DataFrame excel을 'sample1.xlsx' 로 저장합니다. 이때 index는 저장하지 않고, \n",
        "# sheet_name은 '샘플'로 저장 합니다.\n",
        "excel.to_excel('sample1.xlsx', index=False, sheet_name='샘플')"
      ]
    },
    {
      "cell_type": "markdown",
      "metadata": {
        "id": "9jwG9aXjxcKz"
      },
      "source": [
        "### Excel - 여러개의 시트에 저장"
      ]
    },
    {
      "cell_type": "markdown",
      "metadata": {
        "id": "JWMl0s_xxcKz"
      },
      "source": [
        "여래 개의 시트에 저장하기 위해서는 **ExcelWriter를 사용**해야 합니다."
      ]
    },
    {
      "cell_type": "code",
      "execution_count": 29,
      "metadata": {
        "id": "fzbev3bVxcKz"
      },
      "outputs": [],
      "source": [
        "writer = pd.ExcelWriter('sample2.xlsx')\n",
        "excel.to_excel(writer, index=False, sheet_name='샘플1')\n",
        "excel.to_excel(writer, index=False, sheet_name='샘플2')\n",
        "excel.to_excel(writer, index=False, sheet_name='샘플3')\n",
        "writer.close()"
      ]
    },
    {
      "cell_type": "code",
      "execution_count": null,
      "metadata": {},
      "outputs": [],
      "source": [
        "# with statement를 사용하면 close를 별도로 하지 않아도 됨\n",
        "with pd.ExcelWriter('sample2.xlsx') as excel:\n",
        "    excel.to_excel(writer, index=False, sheet_name='샘플1')\n",
        "    excel.to_excel(writer, index=False, sheet_name='샘플2')\n",
        "    excel.to_excel(writer, index=False, sheet_name='샘플3')\n"
      ]
    },
    {
      "cell_type": "code",
      "execution_count": null,
      "metadata": {},
      "outputs": [],
      "source": [
        "# 시스템(OS)"
      ]
    },
    {
      "cell_type": "markdown",
      "metadata": {
        "id": "vYUAAsFVxcKz"
      },
      "source": [
        "### 연습문제"
      ]
    },
    {
      "cell_type": "markdown",
      "metadata": {
        "id": "XPSdrXVrxcKz"
      },
      "source": [
        "data 폴더에 있는 mySUNI.xlsx 파일을 읽어서 df에 저장하세요.\n",
        "- 모든 시트를 읽어오세요."
      ]
    },
    {
      "cell_type": "code",
      "execution_count": 31,
      "metadata": {
        "collapsed": true,
        "id": "-GS_CHpGxcK0",
        "outputId": "bd194402-2c24-4e20-be07-e76a2b78be9b"
      },
      "outputs": [
        {
          "data": {
            "text/plain": [
              "(dict, 12)"
            ]
          },
          "execution_count": 31,
          "metadata": {},
          "output_type": "execute_result"
        }
      ],
      "source": [
        "# 코드를 입력하세요.\n",
        "filename = os.path.join('data', 'mySUNI.xlsx')\n",
        "df = pd.read_excel(filename, sheet_name=None)\n",
        "type(df), len(df)"
      ]
    },
    {
      "cell_type": "markdown",
      "metadata": {
        "id": "JzfONld2xcK0"
      },
      "source": [
        "시트명을 조회하세요."
      ]
    },
    {
      "cell_type": "code",
      "execution_count": 32,
      "metadata": {
        "id": "rp3pU_uxxcK0"
      },
      "outputs": [
        {
          "data": {
            "text/plain": [
              "dict_keys(['2020년 01월', '2020년 02월', '2020년 03월', '2020년 04월', '2020년 05월', '2020년 06월', '2020년 07월', '2020년 08월', '2020년 09월', '2020년 10월', '2020년 11월', '2020년 12월'])"
            ]
          },
          "execution_count": 32,
          "metadata": {},
          "output_type": "execute_result"
        }
      ],
      "source": [
        "# 코드를 입력하세요.\n",
        "df.keys()"
      ]
    },
    {
      "cell_type": "markdown",
      "metadata": {
        "id": "CCauwfaaxcK0"
      },
      "source": [
        "시트명이 2020년 07월인 데이터 프레임을 df_07에 저장하세요."
      ]
    },
    {
      "cell_type": "code",
      "execution_count": 33,
      "metadata": {
        "collapsed": true,
        "id": "jVrKMg3LxcK0",
        "outputId": "73b58834-2fc4-45bb-ea9b-ee54fbcd4b7d"
      },
      "outputs": [],
      "source": [
        "# 코드를 입력하세요.\n",
        "df_07 = df['2020년 07월']"
      ]
    },
    {
      "cell_type": "markdown",
      "metadata": {
        "id": "_Qzgm4CsxcK1"
      },
      "source": [
        "해당 시트를 '2020년 07월 서울 브랜드별 평균 휘발유 가격.xlsx'으로 저장하세요. 인덱스는 저장하지 않습니다."
      ]
    },
    {
      "cell_type": "code",
      "execution_count": 34,
      "metadata": {
        "id": "kAu0UbHKxcK1"
      },
      "outputs": [],
      "source": [
        "# 코드를 입력하세요.\n",
        "df_07.to_excel('2020년 07월 서울 브랜드별 평균 휘발유 가격.xlsx', index=False)"
      ]
    },
    {
      "cell_type": "markdown",
      "metadata": {
        "id": "DnLxL9rUzOE6"
      },
      "source": [
        "## CSV (Comma Separated Values)"
      ]
    },
    {
      "cell_type": "markdown",
      "metadata": {
        "id": "2smXsL8-xcK1"
      },
      "source": [
        "- 한 줄이 한 개의 행에 해당하며, 열 사이에는** 쉼표(,)를 넣어 구분**합니다.\n",
        "- Excel보다는 훨씬 가볍고 **차지하는 용량이 적기 때문에 대부분의 파일데이터는 csv 형태**로 제공됩니다.\n",
        "\n",
        "(참고) 쉼표를 찍어 놓은 금액 데이터(100,000)를 CSV에 직접 집어넣으면 나중에 해석할 때 서로 다른 열로 취급되므로 문제가 될 수 있습니다. 해결책으로 쉼표 대신 탭 문자(\\t)를 구분자로 사용하는 것이다. 이러한 경우 **Tab Separated Values(TSV)**라고 부른다."
      ]
    },
    {
      "cell_type": "markdown",
      "metadata": {
        "id": "ExcUS6g0xcK1"
      },
      "source": [
        "### CSV - 불러오기"
      ]
    },
    {
      "cell_type": "code",
      "execution_count": 35,
      "metadata": {
        "id": "nJjhVyNgzOE8"
      },
      "outputs": [],
      "source": [
        "# 'data/seoul_population.csv' 파일을 읽어 df라는 이름을 부여합니다\n",
        "import os\n",
        "filename = os.path.join('data', 'seoul_population.csv')\n",
        "df = pd.read_csv(filename)"
      ]
    },
    {
      "cell_type": "code",
      "execution_count": 36,
      "metadata": {
        "id": "tejESNAYxcK2",
        "outputId": "abc90631-465e-42f2-bf4c-5e6484ed2b2d"
      },
      "outputs": [
        {
          "data": {
            "text/html": [
              "<div>\n",
              "<style scoped>\n",
              "    .dataframe tbody tr th:only-of-type {\n",
              "        vertical-align: middle;\n",
              "    }\n",
              "\n",
              "    .dataframe tbody tr th {\n",
              "        vertical-align: top;\n",
              "    }\n",
              "\n",
              "    .dataframe thead th {\n",
              "        text-align: right;\n",
              "    }\n",
              "</style>\n",
              "<table border=\"1\" class=\"dataframe\">\n",
              "  <thead>\n",
              "    <tr style=\"text-align: right;\">\n",
              "      <th></th>\n",
              "      <th>연도</th>\n",
              "      <th>자치구</th>\n",
              "      <th>세대수</th>\n",
              "      <th>인구 합계</th>\n",
              "      <th>남자 인구 합계</th>\n",
              "      <th>여자 인구 합계</th>\n",
              "      <th>한국인 인구 합계</th>\n",
              "      <th>한국인 남자 인구수</th>\n",
              "      <th>한국인 여자 인구수</th>\n",
              "      <th>등록 외국인 인구 합계</th>\n",
              "      <th>등록 외국인 인구 남자수</th>\n",
              "      <th>등록 외국인 인구 여자수</th>\n",
              "      <th>세대당 인구</th>\n",
              "      <th>65세 이상 고령자 수</th>\n",
              "    </tr>\n",
              "  </thead>\n",
              "  <tbody>\n",
              "    <tr>\n",
              "      <th>0</th>\n",
              "      <td>2020</td>\n",
              "      <td>합계</td>\n",
              "      <td>4,417,954</td>\n",
              "      <td>9,911,088</td>\n",
              "      <td>4,816,522</td>\n",
              "      <td>5,094,566</td>\n",
              "      <td>9,668,465</td>\n",
              "      <td>4,701,723</td>\n",
              "      <td>4,966,742</td>\n",
              "      <td>242,623</td>\n",
              "      <td>114,799</td>\n",
              "      <td>127,824</td>\n",
              "      <td>2.19</td>\n",
              "      <td>1,568,331</td>\n",
              "    </tr>\n",
              "    <tr>\n",
              "      <th>1</th>\n",
              "      <td>2020</td>\n",
              "      <td>종로구</td>\n",
              "      <td>75,003</td>\n",
              "      <td>158,996</td>\n",
              "      <td>76,876</td>\n",
              "      <td>82,120</td>\n",
              "      <td>149,384</td>\n",
              "      <td>72,635</td>\n",
              "      <td>76,749</td>\n",
              "      <td>9,612</td>\n",
              "      <td>4,241</td>\n",
              "      <td>5,371</td>\n",
              "      <td>1.99</td>\n",
              "      <td>28,507</td>\n",
              "    </tr>\n",
              "  </tbody>\n",
              "</table>\n",
              "</div>"
            ],
            "text/plain": [
              "     연도  자치구        세대수      인구 합계   남자 인구 합계   여자 인구 합계  한국인 인구 합계  \\\n",
              "0  2020   합계  4,417,954  9,911,088  4,816,522  5,094,566  9,668,465   \n",
              "1  2020  종로구     75,003    158,996     76,876     82,120    149,384   \n",
              "\n",
              "  한국인 남자 인구수 한국인 여자 인구수 등록 외국인 인구 합계 등록 외국인 인구 남자수 등록 외국인 인구 여자수  세대당 인구  \\\n",
              "0  4,701,723  4,966,742      242,623       114,799       127,824    2.19   \n",
              "1     72,635     76,749        9,612         4,241         5,371    1.99   \n",
              "\n",
              "  65세 이상 고령자 수  \n",
              "0    1,568,331  \n",
              "1       28,507  "
            ]
          },
          "execution_count": 36,
          "metadata": {},
          "output_type": "execute_result"
        }
      ],
      "source": [
        "df.head(2)"
      ]
    },
    {
      "cell_type": "code",
      "execution_count": 37,
      "metadata": {},
      "outputs": [
        {
          "name": "stdout",
          "output_type": "stream",
          "text": [
            "<class 'pandas.core.frame.DataFrame'>\n",
            "RangeIndex: 26 entries, 0 to 25\n",
            "Data columns (total 14 columns):\n",
            " #   Column         Non-Null Count  Dtype  \n",
            "---  ------         --------------  -----  \n",
            " 0   연도             26 non-null     int64  \n",
            " 1   자치구            26 non-null     object \n",
            " 2   세대수            26 non-null     object \n",
            " 3   인구 합계          26 non-null     object \n",
            " 4   남자 인구 합계       26 non-null     object \n",
            " 5   여자 인구 합계       26 non-null     object \n",
            " 6   한국인 인구 합계      26 non-null     object \n",
            " 7   한국인 남자 인구수     26 non-null     object \n",
            " 8   한국인 여자 인구수     26 non-null     object \n",
            " 9   등록 외국인 인구 합계   26 non-null     object \n",
            " 10  등록 외국인 인구 남자수  26 non-null     object \n",
            " 11  등록 외국인 인구 여자수  26 non-null     object \n",
            " 12  세대당 인구         26 non-null     float64\n",
            " 13  65세 이상 고령자 수   26 non-null     object \n",
            "dtypes: float64(1), int64(1), object(12)\n",
            "memory usage: 3.0+ KB\n"
          ]
        }
      ],
      "source": [
        "df.info()"
      ]
    },
    {
      "cell_type": "markdown",
      "metadata": {
        "id": "6G24TypIxcK2"
      },
      "source": [
        "때때로 한글데이터를 불러올 때 다른 인코딩을 사용해야하는 경우도 있습니다.그럴 땐 `encoding` 옵션을 지정해주면 됩니다."
      ]
    },
    {
      "cell_type": "code",
      "execution_count": 44,
      "metadata": {
        "id": "RPrp3waBxcK2"
      },
      "outputs": [],
      "source": [
        "# 'data/seoul_population.csv' 파일을 encoding을 'utf8'로 지정하여 읽어 df라는 이름을 부여합니다.\n",
        "import os\n",
        "\n",
        "def get_encoding(filename):\n",
        "    import chardet\n",
        "    with open(filename, 'rb') as fb:\n",
        "        enc = chardet.detect(fb.readline())['encoding']\n",
        "    return enc\n",
        "\n",
        "filename = os.path.join('data', 'seoul_population.csv')\n",
        "df = pd.read_csv(filename, encoding=get_encoding(filename))"
      ]
    },
    {
      "cell_type": "code",
      "execution_count": 43,
      "metadata": {
        "id": "n1nVBrEQxcK2",
        "outputId": "4b9e9535-3fe3-46be-9b17-9b107877b1ff"
      },
      "outputs": [
        {
          "data": {
            "text/html": [
              "<div>\n",
              "<style scoped>\n",
              "    .dataframe tbody tr th:only-of-type {\n",
              "        vertical-align: middle;\n",
              "    }\n",
              "\n",
              "    .dataframe tbody tr th {\n",
              "        vertical-align: top;\n",
              "    }\n",
              "\n",
              "    .dataframe thead th {\n",
              "        text-align: right;\n",
              "    }\n",
              "</style>\n",
              "<table border=\"1\" class=\"dataframe\">\n",
              "  <thead>\n",
              "    <tr style=\"text-align: right;\">\n",
              "      <th></th>\n",
              "      <th>연도</th>\n",
              "      <th>자치구</th>\n",
              "      <th>세대수</th>\n",
              "      <th>인구 합계</th>\n",
              "      <th>남자 인구 합계</th>\n",
              "      <th>여자 인구 합계</th>\n",
              "      <th>한국인 인구 합계</th>\n",
              "      <th>한국인 남자 인구수</th>\n",
              "      <th>한국인 여자 인구수</th>\n",
              "      <th>등록 외국인 인구 합계</th>\n",
              "      <th>등록 외국인 인구 남자수</th>\n",
              "      <th>등록 외국인 인구 여자수</th>\n",
              "      <th>세대당 인구</th>\n",
              "      <th>65세 이상 고령자 수</th>\n",
              "    </tr>\n",
              "  </thead>\n",
              "  <tbody>\n",
              "    <tr>\n",
              "      <th>0</th>\n",
              "      <td>2020</td>\n",
              "      <td>합계</td>\n",
              "      <td>4,417,954</td>\n",
              "      <td>9,911,088</td>\n",
              "      <td>4,816,522</td>\n",
              "      <td>5,094,566</td>\n",
              "      <td>9,668,465</td>\n",
              "      <td>4,701,723</td>\n",
              "      <td>4,966,742</td>\n",
              "      <td>242,623</td>\n",
              "      <td>114,799</td>\n",
              "      <td>127,824</td>\n",
              "      <td>2.19</td>\n",
              "      <td>1,568,331</td>\n",
              "    </tr>\n",
              "    <tr>\n",
              "      <th>1</th>\n",
              "      <td>2020</td>\n",
              "      <td>종로구</td>\n",
              "      <td>75,003</td>\n",
              "      <td>158,996</td>\n",
              "      <td>76,876</td>\n",
              "      <td>82,120</td>\n",
              "      <td>149,384</td>\n",
              "      <td>72,635</td>\n",
              "      <td>76,749</td>\n",
              "      <td>9,612</td>\n",
              "      <td>4,241</td>\n",
              "      <td>5,371</td>\n",
              "      <td>1.99</td>\n",
              "      <td>28,507</td>\n",
              "    </tr>\n",
              "    <tr>\n",
              "      <th>2</th>\n",
              "      <td>2020</td>\n",
              "      <td>중구</td>\n",
              "      <td>63,686</td>\n",
              "      <td>134,635</td>\n",
              "      <td>65,776</td>\n",
              "      <td>68,859</td>\n",
              "      <td>125,240</td>\n",
              "      <td>61,222</td>\n",
              "      <td>64,018</td>\n",
              "      <td>9,395</td>\n",
              "      <td>4,554</td>\n",
              "      <td>4,841</td>\n",
              "      <td>1.97</td>\n",
              "      <td>24,495</td>\n",
              "    </tr>\n",
              "    <tr>\n",
              "      <th>3</th>\n",
              "      <td>2020</td>\n",
              "      <td>용산구</td>\n",
              "      <td>113,093</td>\n",
              "      <td>244,645</td>\n",
              "      <td>118,835</td>\n",
              "      <td>125,810</td>\n",
              "      <td>230,040</td>\n",
              "      <td>110,722</td>\n",
              "      <td>119,318</td>\n",
              "      <td>14,605</td>\n",
              "      <td>8,113</td>\n",
              "      <td>6,492</td>\n",
              "      <td>2.03</td>\n",
              "      <td>40,247</td>\n",
              "    </tr>\n",
              "    <tr>\n",
              "      <th>4</th>\n",
              "      <td>2020</td>\n",
              "      <td>성동구</td>\n",
              "      <td>135,870</td>\n",
              "      <td>300,505</td>\n",
              "      <td>146,424</td>\n",
              "      <td>154,081</td>\n",
              "      <td>293,556</td>\n",
              "      <td>143,387</td>\n",
              "      <td>150,169</td>\n",
              "      <td>6,949</td>\n",
              "      <td>3,037</td>\n",
              "      <td>3,912</td>\n",
              "      <td>2.16</td>\n",
              "      <td>45,603</td>\n",
              "    </tr>\n",
              "  </tbody>\n",
              "</table>\n",
              "</div>"
            ],
            "text/plain": [
              "     연도  자치구        세대수      인구 합계   남자 인구 합계   여자 인구 합계  한국인 인구 합계  \\\n",
              "0  2020   합계  4,417,954  9,911,088  4,816,522  5,094,566  9,668,465   \n",
              "1  2020  종로구     75,003    158,996     76,876     82,120    149,384   \n",
              "2  2020   중구     63,686    134,635     65,776     68,859    125,240   \n",
              "3  2020  용산구    113,093    244,645    118,835    125,810    230,040   \n",
              "4  2020  성동구    135,870    300,505    146,424    154,081    293,556   \n",
              "\n",
              "  한국인 남자 인구수 한국인 여자 인구수 등록 외국인 인구 합계 등록 외국인 인구 남자수 등록 외국인 인구 여자수  세대당 인구  \\\n",
              "0  4,701,723  4,966,742      242,623       114,799       127,824    2.19   \n",
              "1     72,635     76,749        9,612         4,241         5,371    1.99   \n",
              "2     61,222     64,018        9,395         4,554         4,841    1.97   \n",
              "3    110,722    119,318       14,605         8,113         6,492    2.03   \n",
              "4    143,387    150,169        6,949         3,037         3,912    2.16   \n",
              "\n",
              "  65세 이상 고령자 수  \n",
              "0    1,568,331  \n",
              "1       28,507  \n",
              "2       24,495  \n",
              "3       40,247  \n",
              "4       45,603  "
            ]
          },
          "execution_count": 43,
          "metadata": {},
          "output_type": "execute_result"
        }
      ],
      "source": [
        "df.head()"
      ]
    },
    {
      "cell_type": "markdown",
      "metadata": {
        "id": "IplPJZawxcK2"
      },
      "source": [
        "### CSV - 큰 파일 데이터 끊어서 불러오기"
      ]
    },
    {
      "cell_type": "markdown",
      "metadata": {
        "id": "am_FjzpfxcK2"
      },
      "source": [
        "데이터의 크기가 매우 큰 경우 memory에 한 번에 로드할 수 없습니다.\n",
        "\n",
        "`chunksize`를 지정하고 `chunksize`만큼 끊어서 불러와서 처리하게 되면 용량이 매우 큰 데이터도 처리할 수 있습니다.\n",
        "\n",
        "예시) `chunksize=10`: 10개의 데이터를 로드합니다."
      ]
    },
    {
      "cell_type": "code",
      "execution_count": 53,
      "metadata": {
        "id": "8ENV3aoixcK2"
      },
      "outputs": [
        {
          "data": {
            "text/plain": [
              "pandas.io.parsers.readers.TextFileReader"
            ]
          },
          "execution_count": 53,
          "metadata": {},
          "output_type": "execute_result"
        }
      ],
      "source": [
        "# 'data/seoul_population.csv' 파일을 10개 만큼씩 끊어 읽어 옵니다\n",
        "df = pd.read_csv('data/seoul_population.csv', chunksize=10)\n",
        "type(df)"
      ]
    },
    {
      "cell_type": "code",
      "execution_count": 46,
      "metadata": {},
      "outputs": [
        {
          "name": "stdout",
          "output_type": "stream",
          "text": [
            "['__abstractmethods__', '__class__', '__class_getitem__', '__delattr__', '__dict__', '__dir__', '__doc__', '__enter__', '__eq__', '__exit__', '__format__', '__ge__', '__getattribute__', '__gt__', '__hash__', '__init__', '__init_subclass__', '__iter__', '__le__', '__lt__', '__module__', '__ne__', '__new__', '__next__', '__reduce__', '__reduce_ex__', '__repr__', '__setattr__', '__sizeof__', '__slots__', '__str__', '__subclasshook__', '__weakref__', '_abc_impl', '_check_file_or_buffer', '_clean_options', '_currow', '_engine', '_engine_specified', '_failover_to_python', '_get_options_with_defaults', '_make_engine', 'chunksize', 'close', 'engine', 'get_chunk', 'handles', 'nrows', 'options', 'orig_options', 'read', 'squeeze']\n"
          ]
        }
      ],
      "source": [
        "print(dir(df))  # __iter__, __next__"
      ]
    },
    {
      "cell_type": "code",
      "execution_count": null,
      "metadata": {
        "id": "EQSDVA4vxcK3",
        "outputId": "d70ef445-8f47-47dc-feda-774dfae5ceec"
      },
      "outputs": [],
      "source": [
        "df = list(df)\n",
        "for d in df:\n",
        "    display(len(d), type(d))"
      ]
    },
    {
      "cell_type": "code",
      "execution_count": null,
      "metadata": {},
      "outputs": [],
      "source": [
        "df = pd.read_csv('data/seoul_population.csv', chunksize=10)\n",
        "pd.concat(df)  ##  여러 조각난 것을 하나로 합치기"
      ]
    },
    {
      "cell_type": "code",
      "execution_count": null,
      "metadata": {},
      "outputs": [],
      "source": []
    },
    {
      "cell_type": "markdown",
      "metadata": {
        "id": "LeYAUxgvxcK3"
      },
      "source": [
        "### CSV - 저장하기"
      ]
    },
    {
      "cell_type": "markdown",
      "metadata": {
        "id": "Zrpd5UzmxcK3"
      },
      "source": [
        "저장하는 방법은 excel과 유사합니다. 다만, csv파일 형식에는 `sheet_name` 옵션은 없습니다."
      ]
    },
    {
      "cell_type": "code",
      "execution_count": 63,
      "metadata": {
        "id": "NXL2uVAixcK3"
      },
      "outputs": [],
      "source": [
        "df = pd.read_csv('data/seoul_population.csv')"
      ]
    },
    {
      "cell_type": "code",
      "execution_count": 64,
      "metadata": {
        "id": "M8gM5GvdxcK3"
      },
      "outputs": [],
      "source": [
        "# df를 'sample.csv'로 저장합니다. 이때 index는 저장되지 않도록 합니다.\n",
        "df.to_csv('sample.csv', index=False)"
      ]
    },
    {
      "cell_type": "markdown",
      "metadata": {
        "id": "XxgRVq5MxcK3"
      },
      "source": [
        "읽어들인 **Excel 파일도 Csv로 저장**할 수 있습니다."
      ]
    },
    {
      "cell_type": "code",
      "execution_count": 65,
      "metadata": {
        "id": "OWWOQyzsxcK3",
        "outputId": "2e530266-5b89-4af4-9284-c0a905017f0c"
      },
      "outputs": [
        {
          "data": {
            "text/html": [
              "<div>\n",
              "<style scoped>\n",
              "    .dataframe tbody tr th:only-of-type {\n",
              "        vertical-align: middle;\n",
              "    }\n",
              "\n",
              "    .dataframe tbody tr th {\n",
              "        vertical-align: top;\n",
              "    }\n",
              "\n",
              "    .dataframe thead th {\n",
              "        text-align: right;\n",
              "    }\n",
              "</style>\n",
              "<table border=\"1\" class=\"dataframe\">\n",
              "  <thead>\n",
              "    <tr style=\"text-align: right;\">\n",
              "      <th></th>\n",
              "      <th>대중교통구분</th>\n",
              "      <th>년월</th>\n",
              "      <th>승차총승객수</th>\n",
              "    </tr>\n",
              "  </thead>\n",
              "  <tbody>\n",
              "    <tr>\n",
              "      <th>0</th>\n",
              "      <td>버스</td>\n",
              "      <td>201711</td>\n",
              "      <td>163443126</td>\n",
              "    </tr>\n",
              "    <tr>\n",
              "      <th>1</th>\n",
              "      <td>버스</td>\n",
              "      <td>201712</td>\n",
              "      <td>162521011</td>\n",
              "    </tr>\n",
              "    <tr>\n",
              "      <th>2</th>\n",
              "      <td>버스</td>\n",
              "      <td>201801</td>\n",
              "      <td>153335185</td>\n",
              "    </tr>\n",
              "    <tr>\n",
              "      <th>3</th>\n",
              "      <td>버스</td>\n",
              "      <td>201802</td>\n",
              "      <td>134768582</td>\n",
              "    </tr>\n",
              "    <tr>\n",
              "      <th>4</th>\n",
              "      <td>버스</td>\n",
              "      <td>201803</td>\n",
              "      <td>166177855</td>\n",
              "    </tr>\n",
              "  </tbody>\n",
              "</table>\n",
              "</div>"
            ],
            "text/plain": [
              "  대중교통구분      년월     승차총승객수\n",
              "0     버스  201711  163443126\n",
              "1     버스  201712  162521011\n",
              "2     버스  201801  153335185\n",
              "3     버스  201802  134768582\n",
              "4     버스  201803  166177855"
            ]
          },
          "execution_count": 65,
          "metadata": {},
          "output_type": "execute_result"
        }
      ],
      "source": [
        "excel = pd.read_excel('data/seoul_transportation.xlsx', sheet_name='버스')\n",
        "excel.head()"
      ]
    },
    {
      "cell_type": "code",
      "execution_count": 66,
      "metadata": {
        "id": "V0KgQRWuxcK4"
      },
      "outputs": [],
      "source": [
        "# excel을 'sample1.csv'로 저장합니다. 이때 index는 저장되지 않도록 합니다.\n",
        "excel.to_csv('sample1.csv', index=False)"
      ]
    },
    {
      "cell_type": "markdown",
      "metadata": {
        "id": "tLppfCYIxcK4"
      },
      "source": [
        "### 연습문제"
      ]
    },
    {
      "cell_type": "markdown",
      "metadata": {
        "id": "4c5oYXjmxcK4"
      },
      "source": [
        "data 폴더에 있는 mySUNI_1.csv 파일을 읽어서 df에 저장하세요."
      ]
    },
    {
      "cell_type": "code",
      "execution_count": 67,
      "metadata": {
        "id": "nCtMG6yaxcK4",
        "outputId": "641a640c-fda9-49d0-82d0-138d822e8936"
      },
      "outputs": [
        {
          "data": {
            "text/html": [
              "<div>\n",
              "<style scoped>\n",
              "    .dataframe tbody tr th:only-of-type {\n",
              "        vertical-align: middle;\n",
              "    }\n",
              "\n",
              "    .dataframe tbody tr th {\n",
              "        vertical-align: top;\n",
              "    }\n",
              "\n",
              "    .dataframe thead th {\n",
              "        text-align: right;\n",
              "    }\n",
              "</style>\n",
              "<table border=\"1\" class=\"dataframe\">\n",
              "  <thead>\n",
              "    <tr style=\"text-align: right;\">\n",
              "      <th></th>\n",
              "      <th>지역</th>\n",
              "      <th>GS칼텍스_셀프</th>\n",
              "      <th>GS칼텍스_일반</th>\n",
              "      <th>S-OIL_셀프</th>\n",
              "      <th>S-OIL_일반</th>\n",
              "      <th>SK에너지_셀프</th>\n",
              "      <th>SK에너지_일반</th>\n",
              "      <th>알뜰(ex)_셀프</th>\n",
              "      <th>알뜰주유소_셀프</th>\n",
              "      <th>알뜰주유소_일반</th>\n",
              "      <th>자가상표_셀프</th>\n",
              "      <th>자가상표_일반</th>\n",
              "      <th>현대오일뱅크_셀프</th>\n",
              "      <th>현대오일뱅크_일반</th>\n",
              "    </tr>\n",
              "  </thead>\n",
              "  <tbody>\n",
              "    <tr>\n",
              "      <th>0</th>\n",
              "      <td>서울 강남구</td>\n",
              "      <td>1479.628286</td>\n",
              "      <td>1647.372500</td>\n",
              "      <td>1459.241304</td>\n",
              "      <td>1641.747917</td>\n",
              "      <td>1452.455417</td>\n",
              "      <td>1790.737444</td>\n",
              "      <td>NaN</td>\n",
              "      <td>NaN</td>\n",
              "      <td>NaN</td>\n",
              "      <td>NaN</td>\n",
              "      <td>NaN</td>\n",
              "      <td>1408.822500</td>\n",
              "      <td>1604.995806</td>\n",
              "    </tr>\n",
              "    <tr>\n",
              "      <th>1</th>\n",
              "      <td>서울 강동구</td>\n",
              "      <td>1451.558750</td>\n",
              "      <td>1472.213056</td>\n",
              "      <td>1456.763333</td>\n",
              "      <td>1528.702500</td>\n",
              "      <td>1457.974359</td>\n",
              "      <td>1666.781667</td>\n",
              "      <td>NaN</td>\n",
              "      <td>NaN</td>\n",
              "      <td>NaN</td>\n",
              "      <td>NaN</td>\n",
              "      <td>NaN</td>\n",
              "      <td>1412.656667</td>\n",
              "      <td>1441.861667</td>\n",
              "    </tr>\n",
              "  </tbody>\n",
              "</table>\n",
              "</div>"
            ],
            "text/plain": [
              "       지역     GS칼텍스_셀프     GS칼텍스_일반     S-OIL_셀프     S-OIL_일반     SK에너지_셀프  \\\n",
              "0  서울 강남구  1479.628286  1647.372500  1459.241304  1641.747917  1452.455417   \n",
              "1  서울 강동구  1451.558750  1472.213056  1456.763333  1528.702500  1457.974359   \n",
              "\n",
              "      SK에너지_일반  알뜰(ex)_셀프  알뜰주유소_셀프  알뜰주유소_일반  자가상표_셀프  자가상표_일반    현대오일뱅크_셀프  \\\n",
              "0  1790.737444        NaN       NaN       NaN      NaN      NaN  1408.822500   \n",
              "1  1666.781667        NaN       NaN       NaN      NaN      NaN  1412.656667   \n",
              "\n",
              "     현대오일뱅크_일반  \n",
              "0  1604.995806  \n",
              "1  1441.861667  "
            ]
          },
          "execution_count": 67,
          "metadata": {},
          "output_type": "execute_result"
        }
      ],
      "source": [
        "# 코드를 입력하세요.\n",
        "import os\n",
        "filename = os.path.join('data', 'mySUNI_1.csv')\n",
        "df = pd.read_csv(filename)\n",
        "df.head(2)"
      ]
    },
    {
      "cell_type": "markdown",
      "metadata": {
        "id": "6pYz1QRgxcK4"
      },
      "source": [
        "data 폴더에 있는 mySUNI_2.csv 파일을 읽어서 df에 저장하세요.\n",
        "- encoding은 cp949로 되어있습니다."
      ]
    },
    {
      "cell_type": "code",
      "execution_count": 70,
      "metadata": {
        "id": "JhQx9n5IxcK4",
        "outputId": "6295303c-3afe-4316-e212-714715d08e90"
      },
      "outputs": [
        {
          "data": {
            "text/html": [
              "<div>\n",
              "<style scoped>\n",
              "    .dataframe tbody tr th:only-of-type {\n",
              "        vertical-align: middle;\n",
              "    }\n",
              "\n",
              "    .dataframe tbody tr th {\n",
              "        vertical-align: top;\n",
              "    }\n",
              "\n",
              "    .dataframe thead th {\n",
              "        text-align: right;\n",
              "    }\n",
              "</style>\n",
              "<table border=\"1\" class=\"dataframe\">\n",
              "  <thead>\n",
              "    <tr style=\"text-align: right;\">\n",
              "      <th></th>\n",
              "      <th>지역</th>\n",
              "      <th>GS칼텍스_셀프</th>\n",
              "      <th>GS칼텍스_일반</th>\n",
              "      <th>S-OIL_셀프</th>\n",
              "      <th>S-OIL_일반</th>\n",
              "      <th>SK에너지_셀프</th>\n",
              "      <th>SK에너지_일반</th>\n",
              "      <th>알뜰(ex)_셀프</th>\n",
              "      <th>알뜰주유소_셀프</th>\n",
              "      <th>알뜰주유소_일반</th>\n",
              "      <th>자가상표_셀프</th>\n",
              "      <th>자가상표_일반</th>\n",
              "      <th>현대오일뱅크_셀프</th>\n",
              "      <th>현대오일뱅크_일반</th>\n",
              "    </tr>\n",
              "  </thead>\n",
              "  <tbody>\n",
              "    <tr>\n",
              "      <th>0</th>\n",
              "      <td>서울 강남구</td>\n",
              "      <td>1479.628286</td>\n",
              "      <td>1647.372500</td>\n",
              "      <td>1459.241304</td>\n",
              "      <td>1641.747917</td>\n",
              "      <td>1452.455417</td>\n",
              "      <td>1790.737444</td>\n",
              "      <td>NaN</td>\n",
              "      <td>NaN</td>\n",
              "      <td>NaN</td>\n",
              "      <td>NaN</td>\n",
              "      <td>NaN</td>\n",
              "      <td>1408.822500</td>\n",
              "      <td>1604.995806</td>\n",
              "    </tr>\n",
              "    <tr>\n",
              "      <th>1</th>\n",
              "      <td>서울 강동구</td>\n",
              "      <td>1451.558750</td>\n",
              "      <td>1472.213056</td>\n",
              "      <td>1456.763333</td>\n",
              "      <td>1528.702500</td>\n",
              "      <td>1457.974359</td>\n",
              "      <td>1666.781667</td>\n",
              "      <td>NaN</td>\n",
              "      <td>NaN</td>\n",
              "      <td>NaN</td>\n",
              "      <td>NaN</td>\n",
              "      <td>NaN</td>\n",
              "      <td>1412.656667</td>\n",
              "      <td>1441.861667</td>\n",
              "    </tr>\n",
              "  </tbody>\n",
              "</table>\n",
              "</div>"
            ],
            "text/plain": [
              "       지역     GS칼텍스_셀프     GS칼텍스_일반     S-OIL_셀프     S-OIL_일반     SK에너지_셀프  \\\n",
              "0  서울 강남구  1479.628286  1647.372500  1459.241304  1641.747917  1452.455417   \n",
              "1  서울 강동구  1451.558750  1472.213056  1456.763333  1528.702500  1457.974359   \n",
              "\n",
              "      SK에너지_일반  알뜰(ex)_셀프  알뜰주유소_셀프  알뜰주유소_일반  자가상표_셀프  자가상표_일반    현대오일뱅크_셀프  \\\n",
              "0  1790.737444        NaN       NaN       NaN      NaN      NaN  1408.822500   \n",
              "1  1666.781667        NaN       NaN       NaN      NaN      NaN  1412.656667   \n",
              "\n",
              "     현대오일뱅크_일반  \n",
              "0  1604.995806  \n",
              "1  1441.861667  "
            ]
          },
          "execution_count": 70,
          "metadata": {},
          "output_type": "execute_result"
        }
      ],
      "source": [
        "# 코드를 입력하세요.\n",
        "import os\n",
        "\n",
        "def get_encoding(filename):\n",
        "    import chardet\n",
        "    with open(filename, 'rb') as fb:\n",
        "        enc = chardet.detect(fb.readline())['encoding']\n",
        "    return enc\n",
        "\n",
        "filename = os.path.join('data', 'mySUNI_2.csv')\n",
        "df = pd.read_csv(filename, encoding=get_encoding(filename))\n",
        "df.head(2)"
      ]
    },
    {
      "cell_type": "markdown",
      "metadata": {
        "id": "ZOrGl0v7xcK4"
      },
      "source": [
        "data 폴더에 있는 mySUNI_3.csv 파일을 읽어서 df에 저장하세요.\n",
        "- encoding은 cp949로 되어있습니다."
      ]
    },
    {
      "cell_type": "code",
      "execution_count": 71,
      "metadata": {
        "id": "SlRky0rqxcK5",
        "outputId": "97b6f51e-7ee8-4ec5-c411-740c249c84d8"
      },
      "outputs": [
        {
          "data": {
            "text/html": [
              "<div>\n",
              "<style scoped>\n",
              "    .dataframe tbody tr th:only-of-type {\n",
              "        vertical-align: middle;\n",
              "    }\n",
              "\n",
              "    .dataframe tbody tr th {\n",
              "        vertical-align: top;\n",
              "    }\n",
              "\n",
              "    .dataframe thead th {\n",
              "        text-align: right;\n",
              "    }\n",
              "</style>\n",
              "<table border=\"1\" class=\"dataframe\">\n",
              "  <thead>\n",
              "    <tr style=\"text-align: right;\">\n",
              "      <th></th>\n",
              "      <th>지역|GS칼텍스_셀프|GS칼텍스_일반|S-OIL_셀프|S-OIL_일반|SK에너지_셀프|SK에너지_일반|알뜰(ex)_셀프|알뜰주유소_셀프|알뜰주유소_일반|자가상표_셀프|자가상표_일반|현대오일뱅크_셀프|현대오일뱅크_일반</th>\n",
              "    </tr>\n",
              "  </thead>\n",
              "  <tbody>\n",
              "    <tr>\n",
              "      <th>0</th>\n",
              "      <td>서울 강남구|1479.6282857142858|1647.3725000000002|1...</td>\n",
              "    </tr>\n",
              "    <tr>\n",
              "      <th>1</th>\n",
              "      <td>서울 강동구|1451.5587500000001|1472.2130555555555|1...</td>\n",
              "    </tr>\n",
              "  </tbody>\n",
              "</table>\n",
              "</div>"
            ],
            "text/plain": [
              "  지역|GS칼텍스_셀프|GS칼텍스_일반|S-OIL_셀프|S-OIL_일반|SK에너지_셀프|SK에너지_일반|알뜰(ex)_셀프|알뜰주유소_셀프|알뜰주유소_일반|자가상표_셀프|자가상표_일반|현대오일뱅크_셀프|현대오일뱅크_일반\n",
              "0  서울 강남구|1479.6282857142858|1647.3725000000002|1...                                                                      \n",
              "1  서울 강동구|1451.5587500000001|1472.2130555555555|1...                                                                      "
            ]
          },
          "execution_count": 71,
          "metadata": {},
          "output_type": "execute_result"
        }
      ],
      "source": [
        "# 코드를 입력하세요.\n",
        "import os\n",
        "\n",
        "def get_encoding(filename):\n",
        "    import chardet\n",
        "    with open(filename, 'rb') as fb:\n",
        "        enc = chardet.detect(fb.readline())['encoding']\n",
        "    return enc\n",
        "\n",
        "filename = os.path.join('data', 'mySUNI_3.csv')\n",
        "df = pd.read_csv(filename, encoding=get_encoding(filename))\n",
        "df.head(2)\n"
      ]
    },
    {
      "cell_type": "markdown",
      "metadata": {
        "id": "WiY8_lzIxcK5"
      },
      "source": [
        "- 구분자(sep)는 ,가 아닌 |로 되어있습니다 다시 파일을 읽어오세요."
      ]
    },
    {
      "cell_type": "code",
      "execution_count": 72,
      "metadata": {
        "id": "YVkwL2GHxcK5",
        "outputId": "3b482b64-724a-4354-fe49-5c0c71ca9c0c"
      },
      "outputs": [
        {
          "data": {
            "text/html": [
              "<div>\n",
              "<style scoped>\n",
              "    .dataframe tbody tr th:only-of-type {\n",
              "        vertical-align: middle;\n",
              "    }\n",
              "\n",
              "    .dataframe tbody tr th {\n",
              "        vertical-align: top;\n",
              "    }\n",
              "\n",
              "    .dataframe thead th {\n",
              "        text-align: right;\n",
              "    }\n",
              "</style>\n",
              "<table border=\"1\" class=\"dataframe\">\n",
              "  <thead>\n",
              "    <tr style=\"text-align: right;\">\n",
              "      <th></th>\n",
              "      <th>지역</th>\n",
              "      <th>GS칼텍스_셀프</th>\n",
              "      <th>GS칼텍스_일반</th>\n",
              "      <th>S-OIL_셀프</th>\n",
              "      <th>S-OIL_일반</th>\n",
              "      <th>SK에너지_셀프</th>\n",
              "      <th>SK에너지_일반</th>\n",
              "      <th>알뜰(ex)_셀프</th>\n",
              "      <th>알뜰주유소_셀프</th>\n",
              "      <th>알뜰주유소_일반</th>\n",
              "      <th>자가상표_셀프</th>\n",
              "      <th>자가상표_일반</th>\n",
              "      <th>현대오일뱅크_셀프</th>\n",
              "      <th>현대오일뱅크_일반</th>\n",
              "    </tr>\n",
              "  </thead>\n",
              "  <tbody>\n",
              "    <tr>\n",
              "      <th>0</th>\n",
              "      <td>서울 강남구</td>\n",
              "      <td>1479.628286</td>\n",
              "      <td>1647.372500</td>\n",
              "      <td>1459.241304</td>\n",
              "      <td>1641.747917</td>\n",
              "      <td>1452.455417</td>\n",
              "      <td>1790.737444</td>\n",
              "      <td>NaN</td>\n",
              "      <td>NaN</td>\n",
              "      <td>NaN</td>\n",
              "      <td>NaN</td>\n",
              "      <td>NaN</td>\n",
              "      <td>1408.822500</td>\n",
              "      <td>1604.995806</td>\n",
              "    </tr>\n",
              "    <tr>\n",
              "      <th>1</th>\n",
              "      <td>서울 강동구</td>\n",
              "      <td>1451.558750</td>\n",
              "      <td>1472.213056</td>\n",
              "      <td>1456.763333</td>\n",
              "      <td>1528.702500</td>\n",
              "      <td>1457.974359</td>\n",
              "      <td>1666.781667</td>\n",
              "      <td>NaN</td>\n",
              "      <td>NaN</td>\n",
              "      <td>NaN</td>\n",
              "      <td>NaN</td>\n",
              "      <td>NaN</td>\n",
              "      <td>1412.656667</td>\n",
              "      <td>1441.861667</td>\n",
              "    </tr>\n",
              "  </tbody>\n",
              "</table>\n",
              "</div>"
            ],
            "text/plain": [
              "       지역     GS칼텍스_셀프     GS칼텍스_일반     S-OIL_셀프     S-OIL_일반     SK에너지_셀프  \\\n",
              "0  서울 강남구  1479.628286  1647.372500  1459.241304  1641.747917  1452.455417   \n",
              "1  서울 강동구  1451.558750  1472.213056  1456.763333  1528.702500  1457.974359   \n",
              "\n",
              "      SK에너지_일반  알뜰(ex)_셀프  알뜰주유소_셀프  알뜰주유소_일반  자가상표_셀프  자가상표_일반    현대오일뱅크_셀프  \\\n",
              "0  1790.737444        NaN       NaN       NaN      NaN      NaN  1408.822500   \n",
              "1  1666.781667        NaN       NaN       NaN      NaN      NaN  1412.656667   \n",
              "\n",
              "     현대오일뱅크_일반  \n",
              "0  1604.995806  \n",
              "1  1441.861667  "
            ]
          },
          "execution_count": 72,
          "metadata": {},
          "output_type": "execute_result"
        }
      ],
      "source": [
        "# 코드를 입력하세요.\n",
        "df = pd.read_csv(filename, encoding=get_encoding(filename), sep='|')\n",
        "df.head(2)"
      ]
    },
    {
      "cell_type": "markdown",
      "metadata": {
        "id": "WAh3XpDHxcK5"
      },
      "source": [
        "데이터를 5개씩 끊어서 읽어오세요."
      ]
    },
    {
      "cell_type": "code",
      "execution_count": 76,
      "metadata": {
        "id": "A9IHxgyYxcK5"
      },
      "outputs": [],
      "source": [
        "# 코드를 입력하세요.\n",
        "df = pd.read_csv(filename, encoding=get_encoding(filename), sep='|', chunksize=5)"
      ]
    },
    {
      "cell_type": "code",
      "execution_count": 78,
      "metadata": {
        "id": "_K2UYLCaxcK5",
        "outputId": "4c4e18f9-676a-4c01-ced3-4dafa18c35c4"
      },
      "outputs": [
        {
          "name": "stdout",
          "output_type": "stream",
          "text": [
            "5 <class 'pandas.core.frame.DataFrame'>\n",
            "5 <class 'pandas.core.frame.DataFrame'>\n",
            "5 <class 'pandas.core.frame.DataFrame'>\n",
            "5 <class 'pandas.core.frame.DataFrame'>\n",
            "5 <class 'pandas.core.frame.DataFrame'>\n"
          ]
        }
      ],
      "source": [
        "df = list(df)\n",
        "for d in df:\n",
        "    print(len(d), type(d))"
      ]
    },
    {
      "cell_type": "code",
      "execution_count": null,
      "metadata": {},
      "outputs": [],
      "source": []
    }
  ],
  "metadata": {
    "colab": {
      "collapsed_sections": [],
      "provenance": []
    },
    "kernelspec": {
      "display_name": "Python 3.9.13 64-bit",
      "language": "python",
      "name": "python3"
    },
    "language_info": {
      "codemirror_mode": {
        "name": "ipython",
        "version": 3
      },
      "file_extension": ".py",
      "mimetype": "text/x-python",
      "name": "python",
      "nbconvert_exporter": "python",
      "pygments_lexer": "ipython3",
      "version": "3.9.13"
    },
    "vscode": {
      "interpreter": {
        "hash": "81794d4967e6c3204c66dcd87b604927b115b27c00565d3d43f05ba2f3a2cb0d"
      }
    }
  },
  "nbformat": 4,
  "nbformat_minor": 0
}
