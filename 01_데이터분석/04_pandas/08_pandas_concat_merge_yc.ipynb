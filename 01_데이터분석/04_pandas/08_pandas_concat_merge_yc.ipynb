{
  "cells": [
    {
      "cell_type": "markdown",
      "metadata": {
        "id": "PeyPy-bfSKgF"
      },
      "source": [
        "# 패키지 설치"
      ]
    },
    {
      "cell_type": "code",
      "execution_count": null,
      "metadata": {
        "collapsed": true,
        "id": "eZkp6YliSKgI"
      },
      "outputs": [],
      "source": [
        "!pip install mySUNI"
      ]
    },
    {
      "cell_type": "markdown",
      "metadata": {
        "id": "MGvKLgxMSKgK"
      },
      "source": [
        "## 모듈 import"
      ]
    },
    {
      "cell_type": "code",
      "execution_count": null,
      "metadata": {
        "id": "RGhyFtVF0F0m"
      },
      "outputs": [],
      "source": [
        "import numpy as np\n",
        "import pandas as pd\n",
        "import seaborn as sns\n",
        "from mySUNI import cds\n",
        "from IPython.display import Image"
      ]
    },
    {
      "cell_type": "markdown",
      "metadata": {
        "id": "0SH3at42SKgL"
      },
      "source": [
        "## 데이터셋 로드"
      ]
    },
    {
      "cell_type": "code",
      "execution_count": null,
      "metadata": {
        "colab": {
          "base_uri": "https://localhost:8080/",
          "height": 645
        },
        "id": "C2pXplxASKgM",
        "outputId": "4eb99787-5374-44a9-fb25-07d5b3bfe61f"
      },
      "outputs": [],
      "source": [
        "cds.list_data()"
      ]
    },
    {
      "cell_type": "code",
      "execution_count": null,
      "metadata": {
        "id": "SgUQIXK8SKgN",
        "outputId": "7ffb53eb-fa76-40a6-9dac-a8dd8b7d6cb0",
        "scrolled": true
      },
      "outputs": [],
      "source": [
        "cds.download_data('유가정보')"
      ]
    },
    {
      "cell_type": "markdown",
      "metadata": {
        "id": "t4sKG8LPGvzM"
      },
      "source": [
        "**1월 부터 6월 까지 상반기** 데이터 로드"
      ]
    },
    {
      "cell_type": "code",
      "execution_count": 6,
      "metadata": {
        "id": "UTxY9Uv0GvzM"
      },
      "outputs": [],
      "source": [
        "# 'data/gas_first_2019.csv' 를 읽어 gas1 이라는 이름을 부여합니다. (encoding='euc-kr')\n",
        "gas1 = pd.read_csv('data/gas_first_2019.csv', encoding='euc-kr')"
      ]
    },
    {
      "cell_type": "code",
      "execution_count": 7,
      "metadata": {
        "colab": {
          "base_uri": "https://localhost:8080/",
          "height": 216
        },
        "id": "M0MBggJiGvzN",
        "outputId": "478a40b1-da37-4c80-bbb2-f07433bf0477"
      },
      "outputs": [
        {
          "data": {
            "text/plain": [
              "(90590, 11)"
            ]
          },
          "metadata": {},
          "output_type": "display_data"
        },
        {
          "data": {
            "text/html": [
              "<div>\n",
              "<style scoped>\n",
              "    .dataframe tbody tr th:only-of-type {\n",
              "        vertical-align: middle;\n",
              "    }\n",
              "\n",
              "    .dataframe tbody tr th {\n",
              "        vertical-align: top;\n",
              "    }\n",
              "\n",
              "    .dataframe thead th {\n",
              "        text-align: right;\n",
              "    }\n",
              "</style>\n",
              "<table border=\"1\" class=\"dataframe\">\n",
              "  <thead>\n",
              "    <tr style=\"text-align: right;\">\n",
              "      <th></th>\n",
              "      <th>번호</th>\n",
              "      <th>지역</th>\n",
              "      <th>상호</th>\n",
              "      <th>주소</th>\n",
              "      <th>기간</th>\n",
              "      <th>상표</th>\n",
              "      <th>셀프여부</th>\n",
              "      <th>고급휘발유</th>\n",
              "      <th>휘발유</th>\n",
              "      <th>경유</th>\n",
              "      <th>실내등유</th>\n",
              "    </tr>\n",
              "  </thead>\n",
              "  <tbody>\n",
              "    <tr>\n",
              "      <th>0</th>\n",
              "      <td>A0006039</td>\n",
              "      <td>서울 강남구</td>\n",
              "      <td>(주)동하힐탑셀프주유소</td>\n",
              "      <td>서울 강남구 논현로 640</td>\n",
              "      <td>20190101</td>\n",
              "      <td>SK에너지</td>\n",
              "      <td>셀프</td>\n",
              "      <td>1673</td>\n",
              "      <td>1465</td>\n",
              "      <td>1365</td>\n",
              "      <td>0</td>\n",
              "    </tr>\n",
              "    <tr>\n",
              "      <th>1</th>\n",
              "      <td>A0006039</td>\n",
              "      <td>서울 강남구</td>\n",
              "      <td>(주)동하힐탑셀프주유소</td>\n",
              "      <td>서울 강남구 논현로 640</td>\n",
              "      <td>20190102</td>\n",
              "      <td>SK에너지</td>\n",
              "      <td>셀프</td>\n",
              "      <td>1673</td>\n",
              "      <td>1465</td>\n",
              "      <td>1365</td>\n",
              "      <td>0</td>\n",
              "    </tr>\n",
              "    <tr>\n",
              "      <th>2</th>\n",
              "      <td>A0006039</td>\n",
              "      <td>서울 강남구</td>\n",
              "      <td>(주)동하힐탑셀프주유소</td>\n",
              "      <td>서울 강남구 논현로 640</td>\n",
              "      <td>20190103</td>\n",
              "      <td>SK에너지</td>\n",
              "      <td>셀프</td>\n",
              "      <td>1673</td>\n",
              "      <td>1465</td>\n",
              "      <td>1365</td>\n",
              "      <td>0</td>\n",
              "    </tr>\n",
              "    <tr>\n",
              "      <th>3</th>\n",
              "      <td>A0006039</td>\n",
              "      <td>서울 강남구</td>\n",
              "      <td>(주)동하힐탑셀프주유소</td>\n",
              "      <td>서울 강남구 논현로 640</td>\n",
              "      <td>20190104</td>\n",
              "      <td>SK에너지</td>\n",
              "      <td>셀프</td>\n",
              "      <td>1673</td>\n",
              "      <td>1465</td>\n",
              "      <td>1365</td>\n",
              "      <td>0</td>\n",
              "    </tr>\n",
              "    <tr>\n",
              "      <th>4</th>\n",
              "      <td>A0006039</td>\n",
              "      <td>서울 강남구</td>\n",
              "      <td>(주)동하힐탑셀프주유소</td>\n",
              "      <td>서울 강남구 논현로 640</td>\n",
              "      <td>20190105</td>\n",
              "      <td>SK에너지</td>\n",
              "      <td>셀프</td>\n",
              "      <td>1673</td>\n",
              "      <td>1465</td>\n",
              "      <td>1365</td>\n",
              "      <td>0</td>\n",
              "    </tr>\n",
              "  </tbody>\n",
              "</table>\n",
              "</div>"
            ],
            "text/plain": [
              "         번호      지역            상호              주소        기간     상표 셀프여부  \\\n",
              "0  A0006039  서울 강남구  (주)동하힐탑셀프주유소  서울 강남구 논현로 640  20190101  SK에너지   셀프   \n",
              "1  A0006039  서울 강남구  (주)동하힐탑셀프주유소  서울 강남구 논현로 640  20190102  SK에너지   셀프   \n",
              "2  A0006039  서울 강남구  (주)동하힐탑셀프주유소  서울 강남구 논현로 640  20190103  SK에너지   셀프   \n",
              "3  A0006039  서울 강남구  (주)동하힐탑셀프주유소  서울 강남구 논현로 640  20190104  SK에너지   셀프   \n",
              "4  A0006039  서울 강남구  (주)동하힐탑셀프주유소  서울 강남구 논현로 640  20190105  SK에너지   셀프   \n",
              "\n",
              "   고급휘발유   휘발유    경유  실내등유  \n",
              "0   1673  1465  1365     0  \n",
              "1   1673  1465  1365     0  \n",
              "2   1673  1465  1365     0  \n",
              "3   1673  1465  1365     0  \n",
              "4   1673  1465  1365     0  "
            ]
          },
          "metadata": {},
          "output_type": "display_data"
        }
      ],
      "source": [
        "display(gas1.shape, gas1.head())"
      ]
    },
    {
      "cell_type": "markdown",
      "metadata": {
        "id": "iF5cEaaSGvzP"
      },
      "source": [
        "**7월 부터 12월 까지 하반기** 데이터 로드"
      ]
    },
    {
      "cell_type": "code",
      "execution_count": 8,
      "metadata": {
        "id": "VRJ2Ta-UGvzO"
      },
      "outputs": [],
      "source": [
        "# 'data/gas_second_2019.csv' 를 읽어 gas2 라는 이름을 부여합니다. (encoding='euc-kr')\n",
        "gas2 = pd.read_csv('data/gas_second_2019.csv', encoding='euc-kr')"
      ]
    },
    {
      "cell_type": "code",
      "execution_count": 9,
      "metadata": {
        "colab": {
          "base_uri": "https://localhost:8080/",
          "height": 216
        },
        "id": "eW0cIyKVGvzQ",
        "outputId": "50696950-0fc0-49bd-db12-f823a29e13d7"
      },
      "outputs": [
        {
          "data": {
            "text/plain": [
              "(91124, 11)"
            ]
          },
          "metadata": {},
          "output_type": "display_data"
        },
        {
          "data": {
            "text/html": [
              "<div>\n",
              "<style scoped>\n",
              "    .dataframe tbody tr th:only-of-type {\n",
              "        vertical-align: middle;\n",
              "    }\n",
              "\n",
              "    .dataframe tbody tr th {\n",
              "        vertical-align: top;\n",
              "    }\n",
              "\n",
              "    .dataframe thead th {\n",
              "        text-align: right;\n",
              "    }\n",
              "</style>\n",
              "<table border=\"1\" class=\"dataframe\">\n",
              "  <thead>\n",
              "    <tr style=\"text-align: right;\">\n",
              "      <th></th>\n",
              "      <th>번호</th>\n",
              "      <th>지역</th>\n",
              "      <th>상호</th>\n",
              "      <th>주소</th>\n",
              "      <th>기간</th>\n",
              "      <th>상표</th>\n",
              "      <th>셀프여부</th>\n",
              "      <th>고급휘발유</th>\n",
              "      <th>휘발유</th>\n",
              "      <th>경유</th>\n",
              "      <th>실내등유</th>\n",
              "    </tr>\n",
              "  </thead>\n",
              "  <tbody>\n",
              "    <tr>\n",
              "      <th>0</th>\n",
              "      <td>A0006039</td>\n",
              "      <td>서울 강남구</td>\n",
              "      <td>(주)동하힐탑셀프주유소</td>\n",
              "      <td>서울 강남구 논현로 640</td>\n",
              "      <td>20190701</td>\n",
              "      <td>SK에너지</td>\n",
              "      <td>셀프</td>\n",
              "      <td>1777</td>\n",
              "      <td>1577</td>\n",
              "      <td>1477</td>\n",
              "      <td>0</td>\n",
              "    </tr>\n",
              "    <tr>\n",
              "      <th>1</th>\n",
              "      <td>A0006039</td>\n",
              "      <td>서울 강남구</td>\n",
              "      <td>(주)동하힐탑셀프주유소</td>\n",
              "      <td>서울 강남구 논현로 640</td>\n",
              "      <td>20190702</td>\n",
              "      <td>SK에너지</td>\n",
              "      <td>셀프</td>\n",
              "      <td>1777</td>\n",
              "      <td>1577</td>\n",
              "      <td>1477</td>\n",
              "      <td>0</td>\n",
              "    </tr>\n",
              "    <tr>\n",
              "      <th>2</th>\n",
              "      <td>A0006039</td>\n",
              "      <td>서울 강남구</td>\n",
              "      <td>(주)동하힐탑셀프주유소</td>\n",
              "      <td>서울 강남구 논현로 640</td>\n",
              "      <td>20190703</td>\n",
              "      <td>SK에너지</td>\n",
              "      <td>셀프</td>\n",
              "      <td>1777</td>\n",
              "      <td>1577</td>\n",
              "      <td>1477</td>\n",
              "      <td>0</td>\n",
              "    </tr>\n",
              "    <tr>\n",
              "      <th>3</th>\n",
              "      <td>A0006039</td>\n",
              "      <td>서울 강남구</td>\n",
              "      <td>(주)동하힐탑셀프주유소</td>\n",
              "      <td>서울 강남구 논현로 640</td>\n",
              "      <td>20190704</td>\n",
              "      <td>SK에너지</td>\n",
              "      <td>셀프</td>\n",
              "      <td>1777</td>\n",
              "      <td>1577</td>\n",
              "      <td>1477</td>\n",
              "      <td>0</td>\n",
              "    </tr>\n",
              "    <tr>\n",
              "      <th>4</th>\n",
              "      <td>A0006039</td>\n",
              "      <td>서울 강남구</td>\n",
              "      <td>(주)동하힐탑셀프주유소</td>\n",
              "      <td>서울 강남구 논현로 640</td>\n",
              "      <td>20190705</td>\n",
              "      <td>SK에너지</td>\n",
              "      <td>셀프</td>\n",
              "      <td>1777</td>\n",
              "      <td>1577</td>\n",
              "      <td>1477</td>\n",
              "      <td>0</td>\n",
              "    </tr>\n",
              "  </tbody>\n",
              "</table>\n",
              "</div>"
            ],
            "text/plain": [
              "         번호      지역            상호              주소        기간     상표 셀프여부  \\\n",
              "0  A0006039  서울 강남구  (주)동하힐탑셀프주유소  서울 강남구 논현로 640  20190701  SK에너지   셀프   \n",
              "1  A0006039  서울 강남구  (주)동하힐탑셀프주유소  서울 강남구 논현로 640  20190702  SK에너지   셀프   \n",
              "2  A0006039  서울 강남구  (주)동하힐탑셀프주유소  서울 강남구 논현로 640  20190703  SK에너지   셀프   \n",
              "3  A0006039  서울 강남구  (주)동하힐탑셀프주유소  서울 강남구 논현로 640  20190704  SK에너지   셀프   \n",
              "4  A0006039  서울 강남구  (주)동하힐탑셀프주유소  서울 강남구 논현로 640  20190705  SK에너지   셀프   \n",
              "\n",
              "   고급휘발유   휘발유    경유  실내등유  \n",
              "0   1777  1577  1477     0  \n",
              "1   1777  1577  1477     0  \n",
              "2   1777  1577  1477     0  \n",
              "3   1777  1577  1477     0  \n",
              "4   1777  1577  1477     0  "
            ]
          },
          "metadata": {},
          "output_type": "display_data"
        }
      ],
      "source": [
        "display(gas2.shape, gas2.head())"
      ]
    },
    {
      "cell_type": "markdown",
      "metadata": {
        "id": "ygGQCaZHSKgS"
      },
      "source": [
        "## concat() - 데이터 연결\n",
        "\n",
        "`concat()`은 DataFrame을 연결합니다.\n",
        "- pandas.concat(objs, axis=0, join='outer', ignore_index=False, ...)\n",
        "- 단순하게 지정한 DataFrame을 이어서 연결합니다."
      ]
    },
    {
      "cell_type": "markdown",
      "metadata": {
        "id": "YIgWNfDEGvzR"
      },
      "source": [
        "### 행 방향으로 연결\n",
        "\n",
        "기본 값인 `axis=0`이 지정되어 있고, 행 방향으로 연결합니다."
      ]
    },
    {
      "cell_type": "code",
      "execution_count": 11,
      "metadata": {},
      "outputs": [
        {
          "data": {
            "text/plain": [
              "array([ True,  True,  True,  True,  True,  True,  True,  True,  True,\n",
              "        True,  True])"
            ]
          },
          "metadata": {},
          "output_type": "display_data"
        }
      ],
      "source": [
        "display(gas1.columns == gas2.columns)"
      ]
    },
    {
      "cell_type": "code",
      "execution_count": 12,
      "metadata": {
        "colab": {
          "base_uri": "https://localhost:8080/",
          "height": 597
        },
        "id": "6PmCBYBhGvzR",
        "outputId": "0791bbec-4b44-4d76-eb08-318b41648b2f"
      },
      "outputs": [
        {
          "data": {
            "text/html": [
              "<div>\n",
              "<style scoped>\n",
              "    .dataframe tbody tr th:only-of-type {\n",
              "        vertical-align: middle;\n",
              "    }\n",
              "\n",
              "    .dataframe tbody tr th {\n",
              "        vertical-align: top;\n",
              "    }\n",
              "\n",
              "    .dataframe thead th {\n",
              "        text-align: right;\n",
              "    }\n",
              "</style>\n",
              "<table border=\"1\" class=\"dataframe\">\n",
              "  <thead>\n",
              "    <tr style=\"text-align: right;\">\n",
              "      <th></th>\n",
              "      <th>번호</th>\n",
              "      <th>지역</th>\n",
              "      <th>상호</th>\n",
              "      <th>주소</th>\n",
              "      <th>기간</th>\n",
              "      <th>상표</th>\n",
              "      <th>셀프여부</th>\n",
              "      <th>고급휘발유</th>\n",
              "      <th>휘발유</th>\n",
              "      <th>경유</th>\n",
              "      <th>실내등유</th>\n",
              "    </tr>\n",
              "  </thead>\n",
              "  <tbody>\n",
              "    <tr>\n",
              "      <th>0</th>\n",
              "      <td>A0006039</td>\n",
              "      <td>서울 강남구</td>\n",
              "      <td>(주)동하힐탑셀프주유소</td>\n",
              "      <td>서울 강남구 논현로 640</td>\n",
              "      <td>20190101</td>\n",
              "      <td>SK에너지</td>\n",
              "      <td>셀프</td>\n",
              "      <td>1673</td>\n",
              "      <td>1465</td>\n",
              "      <td>1365</td>\n",
              "      <td>0</td>\n",
              "    </tr>\n",
              "    <tr>\n",
              "      <th>1</th>\n",
              "      <td>A0006039</td>\n",
              "      <td>서울 강남구</td>\n",
              "      <td>(주)동하힐탑셀프주유소</td>\n",
              "      <td>서울 강남구 논현로 640</td>\n",
              "      <td>20190102</td>\n",
              "      <td>SK에너지</td>\n",
              "      <td>셀프</td>\n",
              "      <td>1673</td>\n",
              "      <td>1465</td>\n",
              "      <td>1365</td>\n",
              "      <td>0</td>\n",
              "    </tr>\n",
              "    <tr>\n",
              "      <th>2</th>\n",
              "      <td>A0006039</td>\n",
              "      <td>서울 강남구</td>\n",
              "      <td>(주)동하힐탑셀프주유소</td>\n",
              "      <td>서울 강남구 논현로 640</td>\n",
              "      <td>20190103</td>\n",
              "      <td>SK에너지</td>\n",
              "      <td>셀프</td>\n",
              "      <td>1673</td>\n",
              "      <td>1465</td>\n",
              "      <td>1365</td>\n",
              "      <td>0</td>\n",
              "    </tr>\n",
              "    <tr>\n",
              "      <th>3</th>\n",
              "      <td>A0006039</td>\n",
              "      <td>서울 강남구</td>\n",
              "      <td>(주)동하힐탑셀프주유소</td>\n",
              "      <td>서울 강남구 논현로 640</td>\n",
              "      <td>20190104</td>\n",
              "      <td>SK에너지</td>\n",
              "      <td>셀프</td>\n",
              "      <td>1673</td>\n",
              "      <td>1465</td>\n",
              "      <td>1365</td>\n",
              "      <td>0</td>\n",
              "    </tr>\n",
              "    <tr>\n",
              "      <th>4</th>\n",
              "      <td>A0006039</td>\n",
              "      <td>서울 강남구</td>\n",
              "      <td>(주)동하힐탑셀프주유소</td>\n",
              "      <td>서울 강남구 논현로 640</td>\n",
              "      <td>20190105</td>\n",
              "      <td>SK에너지</td>\n",
              "      <td>셀프</td>\n",
              "      <td>1673</td>\n",
              "      <td>1465</td>\n",
              "      <td>1365</td>\n",
              "      <td>0</td>\n",
              "    </tr>\n",
              "    <tr>\n",
              "      <th>...</th>\n",
              "      <td>...</td>\n",
              "      <td>...</td>\n",
              "      <td>...</td>\n",
              "      <td>...</td>\n",
              "      <td>...</td>\n",
              "      <td>...</td>\n",
              "      <td>...</td>\n",
              "      <td>...</td>\n",
              "      <td>...</td>\n",
              "      <td>...</td>\n",
              "      <td>...</td>\n",
              "    </tr>\n",
              "    <tr>\n",
              "      <th>91119</th>\n",
              "      <td>A0032659</td>\n",
              "      <td>서울 중랑구</td>\n",
              "      <td>지에스칼텍스㈜ 소망주유소</td>\n",
              "      <td>서울 중랑구 망우로 475</td>\n",
              "      <td>20191227</td>\n",
              "      <td>GS칼텍스</td>\n",
              "      <td>셀프</td>\n",
              "      <td>0</td>\n",
              "      <td>1540</td>\n",
              "      <td>1389</td>\n",
              "      <td>1100</td>\n",
              "    </tr>\n",
              "    <tr>\n",
              "      <th>91120</th>\n",
              "      <td>A0032659</td>\n",
              "      <td>서울 중랑구</td>\n",
              "      <td>지에스칼텍스㈜ 소망주유소</td>\n",
              "      <td>서울 중랑구 망우로 475</td>\n",
              "      <td>20191228</td>\n",
              "      <td>GS칼텍스</td>\n",
              "      <td>셀프</td>\n",
              "      <td>0</td>\n",
              "      <td>1540</td>\n",
              "      <td>1389</td>\n",
              "      <td>1100</td>\n",
              "    </tr>\n",
              "    <tr>\n",
              "      <th>91121</th>\n",
              "      <td>A0032659</td>\n",
              "      <td>서울 중랑구</td>\n",
              "      <td>지에스칼텍스㈜ 소망주유소</td>\n",
              "      <td>서울 중랑구 망우로 475</td>\n",
              "      <td>20191229</td>\n",
              "      <td>GS칼텍스</td>\n",
              "      <td>셀프</td>\n",
              "      <td>0</td>\n",
              "      <td>1540</td>\n",
              "      <td>1389</td>\n",
              "      <td>1100</td>\n",
              "    </tr>\n",
              "    <tr>\n",
              "      <th>91122</th>\n",
              "      <td>A0032659</td>\n",
              "      <td>서울 중랑구</td>\n",
              "      <td>지에스칼텍스㈜ 소망주유소</td>\n",
              "      <td>서울 중랑구 망우로 475</td>\n",
              "      <td>20191230</td>\n",
              "      <td>GS칼텍스</td>\n",
              "      <td>셀프</td>\n",
              "      <td>0</td>\n",
              "      <td>1540</td>\n",
              "      <td>1389</td>\n",
              "      <td>1100</td>\n",
              "    </tr>\n",
              "    <tr>\n",
              "      <th>91123</th>\n",
              "      <td>A0032659</td>\n",
              "      <td>서울 중랑구</td>\n",
              "      <td>지에스칼텍스㈜ 소망주유소</td>\n",
              "      <td>서울 중랑구 망우로 475</td>\n",
              "      <td>20191231</td>\n",
              "      <td>GS칼텍스</td>\n",
              "      <td>셀프</td>\n",
              "      <td>0</td>\n",
              "      <td>1540</td>\n",
              "      <td>1389</td>\n",
              "      <td>1100</td>\n",
              "    </tr>\n",
              "  </tbody>\n",
              "</table>\n",
              "<p>181714 rows × 11 columns</p>\n",
              "</div>"
            ],
            "text/plain": [
              "             번호      지역             상호              주소        기간     상표 셀프여부  \\\n",
              "0      A0006039  서울 강남구   (주)동하힐탑셀프주유소  서울 강남구 논현로 640  20190101  SK에너지   셀프   \n",
              "1      A0006039  서울 강남구   (주)동하힐탑셀프주유소  서울 강남구 논현로 640  20190102  SK에너지   셀프   \n",
              "2      A0006039  서울 강남구   (주)동하힐탑셀프주유소  서울 강남구 논현로 640  20190103  SK에너지   셀프   \n",
              "3      A0006039  서울 강남구   (주)동하힐탑셀프주유소  서울 강남구 논현로 640  20190104  SK에너지   셀프   \n",
              "4      A0006039  서울 강남구   (주)동하힐탑셀프주유소  서울 강남구 논현로 640  20190105  SK에너지   셀프   \n",
              "...         ...     ...            ...             ...       ...    ...  ...   \n",
              "91119  A0032659  서울 중랑구  지에스칼텍스㈜ 소망주유소  서울 중랑구 망우로 475  20191227  GS칼텍스   셀프   \n",
              "91120  A0032659  서울 중랑구  지에스칼텍스㈜ 소망주유소  서울 중랑구 망우로 475  20191228  GS칼텍스   셀프   \n",
              "91121  A0032659  서울 중랑구  지에스칼텍스㈜ 소망주유소  서울 중랑구 망우로 475  20191229  GS칼텍스   셀프   \n",
              "91122  A0032659  서울 중랑구  지에스칼텍스㈜ 소망주유소  서울 중랑구 망우로 475  20191230  GS칼텍스   셀프   \n",
              "91123  A0032659  서울 중랑구  지에스칼텍스㈜ 소망주유소  서울 중랑구 망우로 475  20191231  GS칼텍스   셀프   \n",
              "\n",
              "       고급휘발유   휘발유    경유  실내등유  \n",
              "0       1673  1465  1365     0  \n",
              "1       1673  1465  1365     0  \n",
              "2       1673  1465  1365     0  \n",
              "3       1673  1465  1365     0  \n",
              "4       1673  1465  1365     0  \n",
              "...      ...   ...   ...   ...  \n",
              "91119      0  1540  1389  1100  \n",
              "91120      0  1540  1389  1100  \n",
              "91121      0  1540  1389  1100  \n",
              "91122      0  1540  1389  1100  \n",
              "91123      0  1540  1389  1100  \n",
              "\n",
              "[181714 rows x 11 columns]"
            ]
          },
          "execution_count": 12,
          "metadata": {},
          "output_type": "execute_result"
        }
      ],
      "source": [
        "# gas1, gas2를 행 방향으로 연결합니다.\n",
        "# gas1, gas2의 columns가 동일한 경우 적합한 방법\n",
        "A = pd.concat([gas1, gas2], axis=0)\n"
      ]
    },
    {
      "cell_type": "markdown",
      "metadata": {
        "id": "JFozrWj3SKgT"
      },
      "source": [
        "연결시 위와 같이 index가 초기화가 되지 않아 **전체 DataFrame의 개수와 index가 맞지 않는** 모습입니다."
      ]
    },
    {
      "cell_type": "code",
      "execution_count": 13,
      "metadata": {
        "id": "09D3o1d1SKgT",
        "outputId": "04c6f6d5-299c-4da1-88bb-d33ffaba9dab"
      },
      "outputs": [
        {
          "data": {
            "text/html": [
              "<div>\n",
              "<style scoped>\n",
              "    .dataframe tbody tr th:only-of-type {\n",
              "        vertical-align: middle;\n",
              "    }\n",
              "\n",
              "    .dataframe tbody tr th {\n",
              "        vertical-align: top;\n",
              "    }\n",
              "\n",
              "    .dataframe thead th {\n",
              "        text-align: right;\n",
              "    }\n",
              "</style>\n",
              "<table border=\"1\" class=\"dataframe\">\n",
              "  <thead>\n",
              "    <tr style=\"text-align: right;\">\n",
              "      <th></th>\n",
              "      <th>번호</th>\n",
              "      <th>지역</th>\n",
              "      <th>상호</th>\n",
              "      <th>주소</th>\n",
              "      <th>기간</th>\n",
              "      <th>상표</th>\n",
              "      <th>셀프여부</th>\n",
              "      <th>고급휘발유</th>\n",
              "      <th>휘발유</th>\n",
              "      <th>경유</th>\n",
              "      <th>실내등유</th>\n",
              "    </tr>\n",
              "  </thead>\n",
              "  <tbody>\n",
              "    <tr>\n",
              "      <th>90588</th>\n",
              "      <td>A0032659</td>\n",
              "      <td>서울 중랑구</td>\n",
              "      <td>지에스칼텍스㈜ 소망주유소</td>\n",
              "      <td>서울 중랑구 망우로 475</td>\n",
              "      <td>20190629</td>\n",
              "      <td>GS칼텍스</td>\n",
              "      <td>셀프</td>\n",
              "      <td>0</td>\n",
              "      <td>1529</td>\n",
              "      <td>1389</td>\n",
              "      <td>0</td>\n",
              "    </tr>\n",
              "    <tr>\n",
              "      <th>90589</th>\n",
              "      <td>A0032659</td>\n",
              "      <td>서울 중랑구</td>\n",
              "      <td>지에스칼텍스㈜ 소망주유소</td>\n",
              "      <td>서울 중랑구 망우로 475</td>\n",
              "      <td>20190630</td>\n",
              "      <td>GS칼텍스</td>\n",
              "      <td>셀프</td>\n",
              "      <td>0</td>\n",
              "      <td>1529</td>\n",
              "      <td>1389</td>\n",
              "      <td>0</td>\n",
              "    </tr>\n",
              "    <tr>\n",
              "      <th>0</th>\n",
              "      <td>A0006039</td>\n",
              "      <td>서울 강남구</td>\n",
              "      <td>(주)동하힐탑셀프주유소</td>\n",
              "      <td>서울 강남구 논현로 640</td>\n",
              "      <td>20190701</td>\n",
              "      <td>SK에너지</td>\n",
              "      <td>셀프</td>\n",
              "      <td>1777</td>\n",
              "      <td>1577</td>\n",
              "      <td>1477</td>\n",
              "      <td>0</td>\n",
              "    </tr>\n",
              "    <tr>\n",
              "      <th>1</th>\n",
              "      <td>A0006039</td>\n",
              "      <td>서울 강남구</td>\n",
              "      <td>(주)동하힐탑셀프주유소</td>\n",
              "      <td>서울 강남구 논현로 640</td>\n",
              "      <td>20190702</td>\n",
              "      <td>SK에너지</td>\n",
              "      <td>셀프</td>\n",
              "      <td>1777</td>\n",
              "      <td>1577</td>\n",
              "      <td>1477</td>\n",
              "      <td>0</td>\n",
              "    </tr>\n",
              "    <tr>\n",
              "      <th>2</th>\n",
              "      <td>A0006039</td>\n",
              "      <td>서울 강남구</td>\n",
              "      <td>(주)동하힐탑셀프주유소</td>\n",
              "      <td>서울 강남구 논현로 640</td>\n",
              "      <td>20190703</td>\n",
              "      <td>SK에너지</td>\n",
              "      <td>셀프</td>\n",
              "      <td>1777</td>\n",
              "      <td>1577</td>\n",
              "      <td>1477</td>\n",
              "      <td>0</td>\n",
              "    </tr>\n",
              "  </tbody>\n",
              "</table>\n",
              "</div>"
            ],
            "text/plain": [
              "             번호      지역             상호              주소        기간     상표 셀프여부  \\\n",
              "90588  A0032659  서울 중랑구  지에스칼텍스㈜ 소망주유소  서울 중랑구 망우로 475  20190629  GS칼텍스   셀프   \n",
              "90589  A0032659  서울 중랑구  지에스칼텍스㈜ 소망주유소  서울 중랑구 망우로 475  20190630  GS칼텍스   셀프   \n",
              "0      A0006039  서울 강남구   (주)동하힐탑셀프주유소  서울 강남구 논현로 640  20190701  SK에너지   셀프   \n",
              "1      A0006039  서울 강남구   (주)동하힐탑셀프주유소  서울 강남구 논현로 640  20190702  SK에너지   셀프   \n",
              "2      A0006039  서울 강남구   (주)동하힐탑셀프주유소  서울 강남구 논현로 640  20190703  SK에너지   셀프   \n",
              "\n",
              "       고급휘발유   휘발유    경유  실내등유  \n",
              "90588      0  1529  1389     0  \n",
              "90589      0  1529  1389     0  \n",
              "0       1777  1577  1477     0  \n",
              "1       1777  1577  1477     0  \n",
              "2       1777  1577  1477     0  "
            ]
          },
          "execution_count": 13,
          "metadata": {},
          "output_type": "execute_result"
        }
      ],
      "source": [
        "pd.concat([gas1, gas2]).iloc[90588:90593]"
      ]
    },
    {
      "cell_type": "markdown",
      "metadata": {
        "id": "ZDTbG6OASKgU"
      },
      "source": [
        "연결 하면서 **index를 무시하고 연결** 할 수 있습니다."
      ]
    },
    {
      "cell_type": "code",
      "execution_count": 16,
      "metadata": {
        "id": "gMHACUfDGvzT",
        "outputId": "127fbaa1-75ef-4434-ba6f-c36cf87dd0e7"
      },
      "outputs": [
        {
          "data": {
            "text/plain": [
              "RangeIndex(start=0, stop=181714, step=1)"
            ]
          },
          "execution_count": 16,
          "metadata": {},
          "output_type": "execute_result"
        }
      ],
      "source": [
        "# ignore_index=True 를 사용하여 gas1, gas2를 행방향 연결하면서 \n",
        "# index를 무시하고 새롭게 RangeIndex를 사용하도록 합니다.\n",
        "gas = pd.concat([gas1, gas2], axis=0, ignore_index=True)\n",
        "gas.index"
      ]
    },
    {
      "cell_type": "code",
      "execution_count": 19,
      "metadata": {},
      "outputs": [
        {
          "data": {
            "text/html": [
              "<div>\n",
              "<style scoped>\n",
              "    .dataframe tbody tr th:only-of-type {\n",
              "        vertical-align: middle;\n",
              "    }\n",
              "\n",
              "    .dataframe tbody tr th {\n",
              "        vertical-align: top;\n",
              "    }\n",
              "\n",
              "    .dataframe thead th {\n",
              "        text-align: right;\n",
              "    }\n",
              "</style>\n",
              "<table border=\"1\" class=\"dataframe\">\n",
              "  <thead>\n",
              "    <tr style=\"text-align: right;\">\n",
              "      <th></th>\n",
              "      <th>번호</th>\n",
              "      <th>지역</th>\n",
              "      <th>상호</th>\n",
              "      <th>주소</th>\n",
              "      <th>기간</th>\n",
              "      <th>상표</th>\n",
              "      <th>셀프여부</th>\n",
              "      <th>고급휘발유</th>\n",
              "      <th>휘발유</th>\n",
              "      <th>경유</th>\n",
              "      <th>실내등유</th>\n",
              "    </tr>\n",
              "  </thead>\n",
              "  <tbody>\n",
              "    <tr>\n",
              "      <th>181712</th>\n",
              "      <td>A0032659</td>\n",
              "      <td>서울 중랑구</td>\n",
              "      <td>지에스칼텍스㈜ 소망주유소</td>\n",
              "      <td>서울 중랑구 망우로 475</td>\n",
              "      <td>20191230</td>\n",
              "      <td>GS칼텍스</td>\n",
              "      <td>셀프</td>\n",
              "      <td>0</td>\n",
              "      <td>1540</td>\n",
              "      <td>1389</td>\n",
              "      <td>1100</td>\n",
              "    </tr>\n",
              "    <tr>\n",
              "      <th>181713</th>\n",
              "      <td>A0032659</td>\n",
              "      <td>서울 중랑구</td>\n",
              "      <td>지에스칼텍스㈜ 소망주유소</td>\n",
              "      <td>서울 중랑구 망우로 475</td>\n",
              "      <td>20191231</td>\n",
              "      <td>GS칼텍스</td>\n",
              "      <td>셀프</td>\n",
              "      <td>0</td>\n",
              "      <td>1540</td>\n",
              "      <td>1389</td>\n",
              "      <td>1100</td>\n",
              "    </tr>\n",
              "  </tbody>\n",
              "</table>\n",
              "</div>"
            ],
            "text/plain": [
              "              번호      지역             상호              주소        기간     상표 셀프여부  \\\n",
              "181712  A0032659  서울 중랑구  지에스칼텍스㈜ 소망주유소  서울 중랑구 망우로 475  20191230  GS칼텍스   셀프   \n",
              "181713  A0032659  서울 중랑구  지에스칼텍스㈜ 소망주유소  서울 중랑구 망우로 475  20191231  GS칼텍스   셀프   \n",
              "\n",
              "        고급휘발유   휘발유    경유  실내등유  \n",
              "181712      0  1540  1389  1100  \n",
              "181713      0  1540  1389  1100  "
            ]
          },
          "execution_count": 19,
          "metadata": {},
          "output_type": "execute_result"
        }
      ],
      "source": [
        "# 파일목록 가져오기 모듈\n",
        "import glob\n",
        "# '?' : 아무거나 한글자 (1개)\n",
        "# '*' : 아무거나 여러글자 (0개 이상)\n",
        "# [123] : [] 속에 있는 문자 중에 1개\n",
        "\n",
        "df_list = [pd.read_csv(filename, encoding='euc-kr') \n",
        "              for filename in glob.glob('data/gas*.csv')]\n",
        "temp = pd.concat(df_list, ignore_index=True)\n",
        "temp.tail(2)"
      ]
    },
    {
      "cell_type": "markdown",
      "metadata": {
        "id": "1U2Ge3I4Gvzb"
      },
      "source": [
        "### 열 방향으로 연결\n",
        "\n",
        "열(column) 방향으로 연결 가능하며, `axis=1`로 지정합니다."
      ]
    },
    {
      "cell_type": "code",
      "execution_count": 20,
      "metadata": {
        "id": "HdNL8G-5Gvzb"
      },
      "outputs": [],
      "source": [
        "# 실습을 위한 DataFrame 임의 분할\n",
        "gas1 = gas.iloc[:, :5]\n",
        "gas2 = gas.iloc[:, 5:]"
      ]
    },
    {
      "cell_type": "code",
      "execution_count": 21,
      "metadata": {
        "colab": {
          "base_uri": "https://localhost:8080/",
          "height": 198
        },
        "id": "T9IqXjmxGvzc",
        "outputId": "e564e382-5155-4793-b374-6248af038eeb"
      },
      "outputs": [
        {
          "data": {
            "text/plain": [
              "Index(['번호', '지역', '상호', '주소', '기간'], dtype='object')"
            ]
          },
          "metadata": {},
          "output_type": "display_data"
        },
        {
          "data": {
            "text/plain": [
              "Index(['상표', '셀프여부', '고급휘발유', '휘발유', '경유', '실내등유'], dtype='object')"
            ]
          },
          "metadata": {},
          "output_type": "display_data"
        }
      ],
      "source": [
        "display(gas1.columns, gas2.columns)"
      ]
    },
    {
      "cell_type": "code",
      "execution_count": 22,
      "metadata": {
        "colab": {
          "base_uri": "https://localhost:8080/",
          "height": 198
        },
        "id": "bEn-P-cKGvze",
        "outputId": "c11d0e2c-fc2d-48b9-fc94-3e8919299506"
      },
      "outputs": [
        {
          "data": {
            "text/plain": [
              "RangeIndex(start=0, stop=181714, step=1)"
            ]
          },
          "metadata": {},
          "output_type": "display_data"
        },
        {
          "data": {
            "text/plain": [
              "RangeIndex(start=0, stop=181714, step=1)"
            ]
          },
          "metadata": {},
          "output_type": "display_data"
        }
      ],
      "source": [
        "display(gas1.index, gas2.index)"
      ]
    },
    {
      "cell_type": "code",
      "execution_count": 24,
      "metadata": {
        "colab": {
          "base_uri": "https://localhost:8080/",
          "height": 597
        },
        "id": "rbMYMxTMGvzf",
        "outputId": "b747d1b3-ddcd-4bd2-f690-1b9cdcb489b8"
      },
      "outputs": [
        {
          "data": {
            "text/plain": [
              "(181714, 11)"
            ]
          },
          "metadata": {},
          "output_type": "display_data"
        },
        {
          "data": {
            "text/plain": [
              "Index(['번호', '지역', '상호', '주소', '기간', '상표', '셀프여부', '고급휘발유', '휘발유', '경유',\n",
              "       '실내등유'],\n",
              "      dtype='object')"
            ]
          },
          "metadata": {},
          "output_type": "display_data"
        },
        {
          "data": {
            "text/plain": [
              "RangeIndex(start=0, stop=181714, step=1)"
            ]
          },
          "metadata": {},
          "output_type": "display_data"
        }
      ],
      "source": [
        "# gas1, gas2 를 열방향으로 연결합니다.\n",
        "# index가 동일한 경우 사용하는 것이 일반적임\n",
        "temp = pd.concat([gas1, gas2], axis=1)\n",
        "display(temp.shape, temp.columns, temp.index)"
      ]
    },
    {
      "cell_type": "markdown",
      "metadata": {
        "id": "Yhjp7h0DGvzg"
      },
      "source": [
        "## merge() - 병합\n",
        "\n",
        "서로 **다른 구성의 DataFrame이지만, 공통된 key값(컬럼)을 가지고 있다면 병합**할 수 있습니다."
      ]
    },
    {
      "cell_type": "code",
      "execution_count": 25,
      "metadata": {
        "colab": {
          "base_uri": "https://localhost:8080/",
          "height": 198
        },
        "id": "iAqmUU2nGvzg",
        "outputId": "71ebfae2-d44a-4f95-b65b-3b89ab5cb40f"
      },
      "outputs": [
        {
          "data": {
            "text/html": [
              "<div>\n",
              "<style scoped>\n",
              "    .dataframe tbody tr th:only-of-type {\n",
              "        vertical-align: middle;\n",
              "    }\n",
              "\n",
              "    .dataframe tbody tr th {\n",
              "        vertical-align: top;\n",
              "    }\n",
              "\n",
              "    .dataframe thead th {\n",
              "        text-align: right;\n",
              "    }\n",
              "</style>\n",
              "<table border=\"1\" class=\"dataframe\">\n",
              "  <thead>\n",
              "    <tr style=\"text-align: right;\">\n",
              "      <th></th>\n",
              "      <th>고객명</th>\n",
              "      <th>생년월일</th>\n",
              "      <th>성별</th>\n",
              "    </tr>\n",
              "  </thead>\n",
              "  <tbody>\n",
              "    <tr>\n",
              "      <th>0</th>\n",
              "      <td>박세리</td>\n",
              "      <td>1980-01-02</td>\n",
              "      <td>여자</td>\n",
              "    </tr>\n",
              "    <tr>\n",
              "      <th>1</th>\n",
              "      <td>이대호</td>\n",
              "      <td>1982-02-22</td>\n",
              "      <td>남자</td>\n",
              "    </tr>\n",
              "    <tr>\n",
              "      <th>2</th>\n",
              "      <td>손흥민</td>\n",
              "      <td>1993-06-12</td>\n",
              "      <td>남자</td>\n",
              "    </tr>\n",
              "    <tr>\n",
              "      <th>3</th>\n",
              "      <td>김연아</td>\n",
              "      <td>1988-10-16</td>\n",
              "      <td>여자</td>\n",
              "    </tr>\n",
              "    <tr>\n",
              "      <th>4</th>\n",
              "      <td>마이클조던</td>\n",
              "      <td>1970-03-03</td>\n",
              "      <td>남자</td>\n",
              "    </tr>\n",
              "  </tbody>\n",
              "</table>\n",
              "</div>"
            ],
            "text/plain": [
              "     고객명        생년월일  성별\n",
              "0    박세리  1980-01-02  여자\n",
              "1    이대호  1982-02-22  남자\n",
              "2    손흥민  1993-06-12  남자\n",
              "3    김연아  1988-10-16  여자\n",
              "4  마이클조던  1970-03-03  남자"
            ]
          },
          "execution_count": 25,
          "metadata": {},
          "output_type": "execute_result"
        }
      ],
      "source": [
        "df1 = pd.DataFrame({\n",
        "    '고객명': ['박세리', '이대호', '손흥민', '김연아', '마이클조던'],\n",
        "    '생년월일': ['1980-01-02', '1982-02-22', '1993-06-12', '1988-10-16', '1970-03-03'],\n",
        "    '성별': ['여자', '남자', '남자', '여자', '남자']})\n",
        "df1"
      ]
    },
    {
      "cell_type": "code",
      "execution_count": 26,
      "metadata": {
        "colab": {
          "base_uri": "https://localhost:8080/",
          "height": 198
        },
        "id": "QoVqp3eLGvzh",
        "outputId": "9e7c425f-e460-4a61-93ea-f8b3392340e5"
      },
      "outputs": [
        {
          "data": {
            "text/html": [
              "<div>\n",
              "<style scoped>\n",
              "    .dataframe tbody tr th:only-of-type {\n",
              "        vertical-align: middle;\n",
              "    }\n",
              "\n",
              "    .dataframe tbody tr th {\n",
              "        vertical-align: top;\n",
              "    }\n",
              "\n",
              "    .dataframe thead th {\n",
              "        text-align: right;\n",
              "    }\n",
              "</style>\n",
              "<table border=\"1\" class=\"dataframe\">\n",
              "  <thead>\n",
              "    <tr style=\"text-align: right;\">\n",
              "      <th></th>\n",
              "      <th>고객명</th>\n",
              "      <th>연봉</th>\n",
              "    </tr>\n",
              "  </thead>\n",
              "  <tbody>\n",
              "    <tr>\n",
              "      <th>0</th>\n",
              "      <td>김연아</td>\n",
              "      <td>2000원</td>\n",
              "    </tr>\n",
              "    <tr>\n",
              "      <th>1</th>\n",
              "      <td>박세리</td>\n",
              "      <td>3000원</td>\n",
              "    </tr>\n",
              "    <tr>\n",
              "      <th>2</th>\n",
              "      <td>손흥민</td>\n",
              "      <td>1500원</td>\n",
              "    </tr>\n",
              "    <tr>\n",
              "      <th>3</th>\n",
              "      <td>이대호</td>\n",
              "      <td>2500원</td>\n",
              "    </tr>\n",
              "    <tr>\n",
              "      <th>4</th>\n",
              "      <td>타이거우즈</td>\n",
              "      <td>3500원</td>\n",
              "    </tr>\n",
              "  </tbody>\n",
              "</table>\n",
              "</div>"
            ],
            "text/plain": [
              "     고객명     연봉\n",
              "0    김연아  2000원\n",
              "1    박세리  3000원\n",
              "2    손흥민  1500원\n",
              "3    이대호  2500원\n",
              "4  타이거우즈  3500원"
            ]
          },
          "execution_count": 26,
          "metadata": {},
          "output_type": "execute_result"
        }
      ],
      "source": [
        "df2 = pd.DataFrame({\n",
        "    '고객명': ['김연아', '박세리', '손흥민', '이대호', '타이거우즈'],\n",
        "    '연봉': ['2000원', '3000원', '1500원', '2500원', '3500원']})\n",
        "df2"
      ]
    },
    {
      "cell_type": "code",
      "execution_count": 27,
      "metadata": {
        "colab": {
          "base_uri": "https://localhost:8080/",
          "height": 168
        },
        "id": "vOqjbVIdGvzi",
        "outputId": "ef5907e5-6583-4f2c-9359-545ac4163a4e"
      },
      "outputs": [
        {
          "data": {
            "text/html": [
              "<div>\n",
              "<style scoped>\n",
              "    .dataframe tbody tr th:only-of-type {\n",
              "        vertical-align: middle;\n",
              "    }\n",
              "\n",
              "    .dataframe tbody tr th {\n",
              "        vertical-align: top;\n",
              "    }\n",
              "\n",
              "    .dataframe thead th {\n",
              "        text-align: right;\n",
              "    }\n",
              "</style>\n",
              "<table border=\"1\" class=\"dataframe\">\n",
              "  <thead>\n",
              "    <tr style=\"text-align: right;\">\n",
              "      <th></th>\n",
              "      <th>고객명</th>\n",
              "      <th>생년월일</th>\n",
              "      <th>성별</th>\n",
              "      <th>연봉</th>\n",
              "    </tr>\n",
              "  </thead>\n",
              "  <tbody>\n",
              "    <tr>\n",
              "      <th>0</th>\n",
              "      <td>박세리</td>\n",
              "      <td>1980-01-02</td>\n",
              "      <td>여자</td>\n",
              "      <td>3000원</td>\n",
              "    </tr>\n",
              "    <tr>\n",
              "      <th>1</th>\n",
              "      <td>이대호</td>\n",
              "      <td>1982-02-22</td>\n",
              "      <td>남자</td>\n",
              "      <td>2500원</td>\n",
              "    </tr>\n",
              "    <tr>\n",
              "      <th>2</th>\n",
              "      <td>손흥민</td>\n",
              "      <td>1993-06-12</td>\n",
              "      <td>남자</td>\n",
              "      <td>1500원</td>\n",
              "    </tr>\n",
              "    <tr>\n",
              "      <th>3</th>\n",
              "      <td>김연아</td>\n",
              "      <td>1988-10-16</td>\n",
              "      <td>여자</td>\n",
              "      <td>2000원</td>\n",
              "    </tr>\n",
              "  </tbody>\n",
              "</table>\n",
              "</div>"
            ],
            "text/plain": [
              "   고객명        생년월일  성별     연봉\n",
              "0  박세리  1980-01-02  여자  3000원\n",
              "1  이대호  1982-02-22  남자  2500원\n",
              "2  손흥민  1993-06-12  남자  1500원\n",
              "3  김연아  1988-10-16  여자  2000원"
            ]
          },
          "execution_count": 27,
          "metadata": {},
          "output_type": "execute_result"
        }
      ],
      "source": [
        "# df1, df2를 병합합니다.  (고객명 기준) - 같은 이름이므로 별도 지정 필요 없음\n",
        "pd.merge(df1, df2, on='고객명')"
      ]
    },
    {
      "cell_type": "markdown",
      "metadata": {
        "id": "bRUH-eNOSKgX"
      },
      "source": [
        "### 병합하는 방법 4가지"
      ]
    },
    {
      "cell_type": "markdown",
      "metadata": {
        "id": "qAB7SDtUSKgX"
      },
      "source": [
        "`how` 옵션 값을 지정하여 4가지 방식으로 병합을 할 수 있으며, 각기 다른 결과를 냅니다."
      ]
    },
    {
      "cell_type": "markdown",
      "metadata": {
        "id": "LpVP0c09Gvzj"
      },
      "source": [
        "- **how** : {`left`, `right`, `outer`, `inner`}, \n",
        "- **default**로 설정된 값은`inner` 입니다."
      ]
    },
    {
      "cell_type": "code",
      "execution_count": 28,
      "metadata": {
        "id": "lD0YC5QbSKgX",
        "outputId": "a009e920-896a-4565-f2ef-7da8a7d4cbb4"
      },
      "outputs": [
        {
          "data": {
            "text/html": [
              "<div>\n",
              "<style scoped>\n",
              "    .dataframe tbody tr th:only-of-type {\n",
              "        vertical-align: middle;\n",
              "    }\n",
              "\n",
              "    .dataframe tbody tr th {\n",
              "        vertical-align: top;\n",
              "    }\n",
              "\n",
              "    .dataframe thead th {\n",
              "        text-align: right;\n",
              "    }\n",
              "</style>\n",
              "<table border=\"1\" class=\"dataframe\">\n",
              "  <thead>\n",
              "    <tr style=\"text-align: right;\">\n",
              "      <th></th>\n",
              "      <th>고객명</th>\n",
              "      <th>생년월일</th>\n",
              "      <th>성별</th>\n",
              "      <th>연봉</th>\n",
              "    </tr>\n",
              "  </thead>\n",
              "  <tbody>\n",
              "    <tr>\n",
              "      <th>0</th>\n",
              "      <td>박세리</td>\n",
              "      <td>1980-01-02</td>\n",
              "      <td>여자</td>\n",
              "      <td>3000원</td>\n",
              "    </tr>\n",
              "    <tr>\n",
              "      <th>1</th>\n",
              "      <td>이대호</td>\n",
              "      <td>1982-02-22</td>\n",
              "      <td>남자</td>\n",
              "      <td>2500원</td>\n",
              "    </tr>\n",
              "    <tr>\n",
              "      <th>2</th>\n",
              "      <td>손흥민</td>\n",
              "      <td>1993-06-12</td>\n",
              "      <td>남자</td>\n",
              "      <td>1500원</td>\n",
              "    </tr>\n",
              "    <tr>\n",
              "      <th>3</th>\n",
              "      <td>김연아</td>\n",
              "      <td>1988-10-16</td>\n",
              "      <td>여자</td>\n",
              "      <td>2000원</td>\n",
              "    </tr>\n",
              "  </tbody>\n",
              "</table>\n",
              "</div>"
            ],
            "text/plain": [
              "   고객명        생년월일  성별     연봉\n",
              "0  박세리  1980-01-02  여자  3000원\n",
              "1  이대호  1982-02-22  남자  2500원\n",
              "2  손흥민  1993-06-12  남자  1500원\n",
              "3  김연아  1988-10-16  여자  2000원"
            ]
          },
          "execution_count": 28,
          "metadata": {},
          "output_type": "execute_result"
        }
      ],
      "source": [
        "# how='inner' 입니다.\n",
        "pd.merge(df1, df2)"
      ]
    },
    {
      "cell_type": "code",
      "execution_count": 29,
      "metadata": {
        "colab": {
          "base_uri": "https://localhost:8080/",
          "height": 198
        },
        "id": "3wyqJzQKGvzj",
        "outputId": "31906038-0cee-4954-a20e-9a2c17886686"
      },
      "outputs": [
        {
          "data": {
            "text/html": [
              "<div>\n",
              "<style scoped>\n",
              "    .dataframe tbody tr th:only-of-type {\n",
              "        vertical-align: middle;\n",
              "    }\n",
              "\n",
              "    .dataframe tbody tr th {\n",
              "        vertical-align: top;\n",
              "    }\n",
              "\n",
              "    .dataframe thead th {\n",
              "        text-align: right;\n",
              "    }\n",
              "</style>\n",
              "<table border=\"1\" class=\"dataframe\">\n",
              "  <thead>\n",
              "    <tr style=\"text-align: right;\">\n",
              "      <th></th>\n",
              "      <th>고객명</th>\n",
              "      <th>생년월일</th>\n",
              "      <th>성별</th>\n",
              "      <th>연봉</th>\n",
              "    </tr>\n",
              "  </thead>\n",
              "  <tbody>\n",
              "    <tr>\n",
              "      <th>0</th>\n",
              "      <td>박세리</td>\n",
              "      <td>1980-01-02</td>\n",
              "      <td>여자</td>\n",
              "      <td>3000원</td>\n",
              "    </tr>\n",
              "    <tr>\n",
              "      <th>1</th>\n",
              "      <td>이대호</td>\n",
              "      <td>1982-02-22</td>\n",
              "      <td>남자</td>\n",
              "      <td>2500원</td>\n",
              "    </tr>\n",
              "    <tr>\n",
              "      <th>2</th>\n",
              "      <td>손흥민</td>\n",
              "      <td>1993-06-12</td>\n",
              "      <td>남자</td>\n",
              "      <td>1500원</td>\n",
              "    </tr>\n",
              "    <tr>\n",
              "      <th>3</th>\n",
              "      <td>김연아</td>\n",
              "      <td>1988-10-16</td>\n",
              "      <td>여자</td>\n",
              "      <td>2000원</td>\n",
              "    </tr>\n",
              "    <tr>\n",
              "      <th>4</th>\n",
              "      <td>마이클조던</td>\n",
              "      <td>1970-03-03</td>\n",
              "      <td>남자</td>\n",
              "      <td>NaN</td>\n",
              "    </tr>\n",
              "  </tbody>\n",
              "</table>\n",
              "</div>"
            ],
            "text/plain": [
              "     고객명        생년월일  성별     연봉\n",
              "0    박세리  1980-01-02  여자  3000원\n",
              "1    이대호  1982-02-22  남자  2500원\n",
              "2    손흥민  1993-06-12  남자  1500원\n",
              "3    김연아  1988-10-16  여자  2000원\n",
              "4  마이클조던  1970-03-03  남자    NaN"
            ]
          },
          "execution_count": 29,
          "metadata": {},
          "output_type": "execute_result"
        }
      ],
      "source": [
        "pd.merge(df1, df2, how='left')"
      ]
    },
    {
      "cell_type": "code",
      "execution_count": 30,
      "metadata": {
        "colab": {
          "base_uri": "https://localhost:8080/",
          "height": 198
        },
        "id": "H4cGV2w5Gvzk",
        "outputId": "c65b4d4c-a11a-42a1-ce19-31c035b3b876"
      },
      "outputs": [
        {
          "data": {
            "text/html": [
              "<div>\n",
              "<style scoped>\n",
              "    .dataframe tbody tr th:only-of-type {\n",
              "        vertical-align: middle;\n",
              "    }\n",
              "\n",
              "    .dataframe tbody tr th {\n",
              "        vertical-align: top;\n",
              "    }\n",
              "\n",
              "    .dataframe thead th {\n",
              "        text-align: right;\n",
              "    }\n",
              "</style>\n",
              "<table border=\"1\" class=\"dataframe\">\n",
              "  <thead>\n",
              "    <tr style=\"text-align: right;\">\n",
              "      <th></th>\n",
              "      <th>고객명</th>\n",
              "      <th>생년월일</th>\n",
              "      <th>성별</th>\n",
              "      <th>연봉</th>\n",
              "    </tr>\n",
              "  </thead>\n",
              "  <tbody>\n",
              "    <tr>\n",
              "      <th>0</th>\n",
              "      <td>김연아</td>\n",
              "      <td>1988-10-16</td>\n",
              "      <td>여자</td>\n",
              "      <td>2000원</td>\n",
              "    </tr>\n",
              "    <tr>\n",
              "      <th>1</th>\n",
              "      <td>박세리</td>\n",
              "      <td>1980-01-02</td>\n",
              "      <td>여자</td>\n",
              "      <td>3000원</td>\n",
              "    </tr>\n",
              "    <tr>\n",
              "      <th>2</th>\n",
              "      <td>손흥민</td>\n",
              "      <td>1993-06-12</td>\n",
              "      <td>남자</td>\n",
              "      <td>1500원</td>\n",
              "    </tr>\n",
              "    <tr>\n",
              "      <th>3</th>\n",
              "      <td>이대호</td>\n",
              "      <td>1982-02-22</td>\n",
              "      <td>남자</td>\n",
              "      <td>2500원</td>\n",
              "    </tr>\n",
              "    <tr>\n",
              "      <th>4</th>\n",
              "      <td>타이거우즈</td>\n",
              "      <td>NaN</td>\n",
              "      <td>NaN</td>\n",
              "      <td>3500원</td>\n",
              "    </tr>\n",
              "  </tbody>\n",
              "</table>\n",
              "</div>"
            ],
            "text/plain": [
              "     고객명        생년월일   성별     연봉\n",
              "0    김연아  1988-10-16   여자  2000원\n",
              "1    박세리  1980-01-02   여자  3000원\n",
              "2    손흥민  1993-06-12   남자  1500원\n",
              "3    이대호  1982-02-22   남자  2500원\n",
              "4  타이거우즈         NaN  NaN  3500원"
            ]
          },
          "execution_count": 30,
          "metadata": {},
          "output_type": "execute_result"
        }
      ],
      "source": [
        "pd.merge(df1, df2, how='right')"
      ]
    },
    {
      "cell_type": "code",
      "execution_count": 31,
      "metadata": {
        "colab": {
          "base_uri": "https://localhost:8080/",
          "height": 228
        },
        "id": "Um8cj6iTGvzl",
        "outputId": "565b73b5-d68e-4ee7-a463-eb59e36694fb"
      },
      "outputs": [
        {
          "data": {
            "text/html": [
              "<div>\n",
              "<style scoped>\n",
              "    .dataframe tbody tr th:only-of-type {\n",
              "        vertical-align: middle;\n",
              "    }\n",
              "\n",
              "    .dataframe tbody tr th {\n",
              "        vertical-align: top;\n",
              "    }\n",
              "\n",
              "    .dataframe thead th {\n",
              "        text-align: right;\n",
              "    }\n",
              "</style>\n",
              "<table border=\"1\" class=\"dataframe\">\n",
              "  <thead>\n",
              "    <tr style=\"text-align: right;\">\n",
              "      <th></th>\n",
              "      <th>고객명</th>\n",
              "      <th>생년월일</th>\n",
              "      <th>성별</th>\n",
              "      <th>연봉</th>\n",
              "    </tr>\n",
              "  </thead>\n",
              "  <tbody>\n",
              "    <tr>\n",
              "      <th>0</th>\n",
              "      <td>박세리</td>\n",
              "      <td>1980-01-02</td>\n",
              "      <td>여자</td>\n",
              "      <td>3000원</td>\n",
              "    </tr>\n",
              "    <tr>\n",
              "      <th>1</th>\n",
              "      <td>이대호</td>\n",
              "      <td>1982-02-22</td>\n",
              "      <td>남자</td>\n",
              "      <td>2500원</td>\n",
              "    </tr>\n",
              "    <tr>\n",
              "      <th>2</th>\n",
              "      <td>손흥민</td>\n",
              "      <td>1993-06-12</td>\n",
              "      <td>남자</td>\n",
              "      <td>1500원</td>\n",
              "    </tr>\n",
              "    <tr>\n",
              "      <th>3</th>\n",
              "      <td>김연아</td>\n",
              "      <td>1988-10-16</td>\n",
              "      <td>여자</td>\n",
              "      <td>2000원</td>\n",
              "    </tr>\n",
              "    <tr>\n",
              "      <th>4</th>\n",
              "      <td>마이클조던</td>\n",
              "      <td>1970-03-03</td>\n",
              "      <td>남자</td>\n",
              "      <td>NaN</td>\n",
              "    </tr>\n",
              "    <tr>\n",
              "      <th>5</th>\n",
              "      <td>타이거우즈</td>\n",
              "      <td>NaN</td>\n",
              "      <td>NaN</td>\n",
              "      <td>3500원</td>\n",
              "    </tr>\n",
              "  </tbody>\n",
              "</table>\n",
              "</div>"
            ],
            "text/plain": [
              "     고객명        생년월일   성별     연봉\n",
              "0    박세리  1980-01-02   여자  3000원\n",
              "1    이대호  1982-02-22   남자  2500원\n",
              "2    손흥민  1993-06-12   남자  1500원\n",
              "3    김연아  1988-10-16   여자  2000원\n",
              "4  마이클조던  1970-03-03   남자    NaN\n",
              "5  타이거우즈         NaN  NaN  3500원"
            ]
          },
          "execution_count": 31,
          "metadata": {},
          "output_type": "execute_result"
        }
      ],
      "source": [
        "pd.merge(df1, df2, how='outer')"
      ]
    },
    {
      "cell_type": "markdown",
      "metadata": {
        "id": "kSwQ_eZWGvzn"
      },
      "source": [
        "### 병합하려는 컬럼의 이름이 다른 경우"
      ]
    },
    {
      "cell_type": "code",
      "execution_count": 32,
      "metadata": {
        "colab": {
          "base_uri": "https://localhost:8080/",
          "height": 198
        },
        "id": "ArUDADUlGvzn",
        "outputId": "788f2f4b-426a-47bd-a7a8-8dd9854f1e8e"
      },
      "outputs": [
        {
          "data": {
            "text/html": [
              "<div>\n",
              "<style scoped>\n",
              "    .dataframe tbody tr th:only-of-type {\n",
              "        vertical-align: middle;\n",
              "    }\n",
              "\n",
              "    .dataframe tbody tr th {\n",
              "        vertical-align: top;\n",
              "    }\n",
              "\n",
              "    .dataframe thead th {\n",
              "        text-align: right;\n",
              "    }\n",
              "</style>\n",
              "<table border=\"1\" class=\"dataframe\">\n",
              "  <thead>\n",
              "    <tr style=\"text-align: right;\">\n",
              "      <th></th>\n",
              "      <th>이름</th>\n",
              "      <th>생년월일</th>\n",
              "      <th>성별</th>\n",
              "    </tr>\n",
              "  </thead>\n",
              "  <tbody>\n",
              "    <tr>\n",
              "      <th>0</th>\n",
              "      <td>박세리</td>\n",
              "      <td>1980-01-02</td>\n",
              "      <td>여자</td>\n",
              "    </tr>\n",
              "    <tr>\n",
              "      <th>1</th>\n",
              "      <td>이대호</td>\n",
              "      <td>1982-02-22</td>\n",
              "      <td>남자</td>\n",
              "    </tr>\n",
              "    <tr>\n",
              "      <th>2</th>\n",
              "      <td>손흥민</td>\n",
              "      <td>1993-06-12</td>\n",
              "      <td>남자</td>\n",
              "    </tr>\n",
              "    <tr>\n",
              "      <th>3</th>\n",
              "      <td>김연아</td>\n",
              "      <td>1988-10-16</td>\n",
              "      <td>여자</td>\n",
              "    </tr>\n",
              "    <tr>\n",
              "      <th>4</th>\n",
              "      <td>마이클조던</td>\n",
              "      <td>1970-03-03</td>\n",
              "      <td>남자</td>\n",
              "    </tr>\n",
              "  </tbody>\n",
              "</table>\n",
              "</div>"
            ],
            "text/plain": [
              "      이름        생년월일  성별\n",
              "0    박세리  1980-01-02  여자\n",
              "1    이대호  1982-02-22  남자\n",
              "2    손흥민  1993-06-12  남자\n",
              "3    김연아  1988-10-16  여자\n",
              "4  마이클조던  1970-03-03  남자"
            ]
          },
          "execution_count": 32,
          "metadata": {},
          "output_type": "execute_result"
        }
      ],
      "source": [
        "df1 = pd.DataFrame({\n",
        "    '이름': ['박세리', '이대호', '손흥민', '김연아', '마이클조던'],\n",
        "    '생년월일': ['1980-01-02', '1982-02-22', '1993-06-12', '1988-10-16', '1970-03-03'],\n",
        "    '성별': ['여자', '남자', '남자', '여자', '남자']})\n",
        "df1"
      ]
    },
    {
      "cell_type": "code",
      "execution_count": 33,
      "metadata": {
        "colab": {
          "base_uri": "https://localhost:8080/",
          "height": 198
        },
        "id": "qaDhOhUpGvzo",
        "outputId": "d0c6366d-2901-4870-83ed-cb2bbc0ad622"
      },
      "outputs": [
        {
          "data": {
            "text/html": [
              "<div>\n",
              "<style scoped>\n",
              "    .dataframe tbody tr th:only-of-type {\n",
              "        vertical-align: middle;\n",
              "    }\n",
              "\n",
              "    .dataframe tbody tr th {\n",
              "        vertical-align: top;\n",
              "    }\n",
              "\n",
              "    .dataframe thead th {\n",
              "        text-align: right;\n",
              "    }\n",
              "</style>\n",
              "<table border=\"1\" class=\"dataframe\">\n",
              "  <thead>\n",
              "    <tr style=\"text-align: right;\">\n",
              "      <th></th>\n",
              "      <th>고객명</th>\n",
              "      <th>연봉</th>\n",
              "    </tr>\n",
              "  </thead>\n",
              "  <tbody>\n",
              "    <tr>\n",
              "      <th>0</th>\n",
              "      <td>김연아</td>\n",
              "      <td>2000원</td>\n",
              "    </tr>\n",
              "    <tr>\n",
              "      <th>1</th>\n",
              "      <td>박세리</td>\n",
              "      <td>3000원</td>\n",
              "    </tr>\n",
              "    <tr>\n",
              "      <th>2</th>\n",
              "      <td>손흥민</td>\n",
              "      <td>1500원</td>\n",
              "    </tr>\n",
              "    <tr>\n",
              "      <th>3</th>\n",
              "      <td>이대호</td>\n",
              "      <td>2500원</td>\n",
              "    </tr>\n",
              "    <tr>\n",
              "      <th>4</th>\n",
              "      <td>타이거우즈</td>\n",
              "      <td>3500원</td>\n",
              "    </tr>\n",
              "  </tbody>\n",
              "</table>\n",
              "</div>"
            ],
            "text/plain": [
              "     고객명     연봉\n",
              "0    김연아  2000원\n",
              "1    박세리  3000원\n",
              "2    손흥민  1500원\n",
              "3    이대호  2500원\n",
              "4  타이거우즈  3500원"
            ]
          },
          "execution_count": 33,
          "metadata": {},
          "output_type": "execute_result"
        }
      ],
      "source": [
        "df2 = pd.DataFrame({\n",
        "    '고객명': ['김연아', '박세리', '손흥민', '이대호', '타이거우즈'],\n",
        "    '연봉': ['2000원', '3000원', '1500원', '2500원', '3500원']})\n",
        "df2"
      ]
    },
    {
      "cell_type": "markdown",
      "metadata": {
        "id": "q-t7jugvSKgZ"
      },
      "source": [
        "`left_on`가 `right_on`을 지정합니다. \n",
        "\n",
        "이름과 고객명 컬럼이 모두 drop되지 않고 살아 있음을 확인합니다."
      ]
    },
    {
      "cell_type": "code",
      "execution_count": 36,
      "metadata": {
        "colab": {
          "base_uri": "https://localhost:8080/",
          "height": 168
        },
        "id": "mmGfwwlpGvzo",
        "outputId": "6d481444-385a-44a8-8cb9-2c17f66b884b"
      },
      "outputs": [
        {
          "data": {
            "text/html": [
              "<div>\n",
              "<style scoped>\n",
              "    .dataframe tbody tr th:only-of-type {\n",
              "        vertical-align: middle;\n",
              "    }\n",
              "\n",
              "    .dataframe tbody tr th {\n",
              "        vertical-align: top;\n",
              "    }\n",
              "\n",
              "    .dataframe thead th {\n",
              "        text-align: right;\n",
              "    }\n",
              "</style>\n",
              "<table border=\"1\" class=\"dataframe\">\n",
              "  <thead>\n",
              "    <tr style=\"text-align: right;\">\n",
              "      <th></th>\n",
              "      <th>이름</th>\n",
              "      <th>생년월일</th>\n",
              "      <th>성별</th>\n",
              "      <th>연봉</th>\n",
              "    </tr>\n",
              "  </thead>\n",
              "  <tbody>\n",
              "    <tr>\n",
              "      <th>0</th>\n",
              "      <td>박세리</td>\n",
              "      <td>1980-01-02</td>\n",
              "      <td>여자</td>\n",
              "      <td>3000원</td>\n",
              "    </tr>\n",
              "    <tr>\n",
              "      <th>1</th>\n",
              "      <td>이대호</td>\n",
              "      <td>1982-02-22</td>\n",
              "      <td>남자</td>\n",
              "      <td>2500원</td>\n",
              "    </tr>\n",
              "    <tr>\n",
              "      <th>2</th>\n",
              "      <td>손흥민</td>\n",
              "      <td>1993-06-12</td>\n",
              "      <td>남자</td>\n",
              "      <td>1500원</td>\n",
              "    </tr>\n",
              "    <tr>\n",
              "      <th>3</th>\n",
              "      <td>김연아</td>\n",
              "      <td>1988-10-16</td>\n",
              "      <td>여자</td>\n",
              "      <td>2000원</td>\n",
              "    </tr>\n",
              "  </tbody>\n",
              "</table>\n",
              "</div>"
            ],
            "text/plain": [
              "    이름        생년월일  성별     연봉\n",
              "0  박세리  1980-01-02  여자  3000원\n",
              "1  이대호  1982-02-22  남자  2500원\n",
              "2  손흥민  1993-06-12  남자  1500원\n",
              "3  김연아  1988-10-16  여자  2000원"
            ]
          },
          "execution_count": 36,
          "metadata": {},
          "output_type": "execute_result"
        }
      ],
      "source": [
        "pd.merge(df1, df2, left_on='이름', right_on='고객명').drop(columns='고객명')"
      ]
    }
  ],
  "metadata": {
    "colab": {
      "collapsed_sections": [],
      "provenance": []
    },
    "kernelspec": {
      "display_name": "Python 3.9.13 64-bit",
      "language": "python",
      "name": "python3"
    },
    "language_info": {
      "codemirror_mode": {
        "name": "ipython",
        "version": 3
      },
      "file_extension": ".py",
      "mimetype": "text/x-python",
      "name": "python",
      "nbconvert_exporter": "python",
      "pygments_lexer": "ipython3",
      "version": "3.9.13"
    },
    "vscode": {
      "interpreter": {
        "hash": "81794d4967e6c3204c66dcd87b604927b115b27c00565d3d43f05ba2f3a2cb0d"
      }
    }
  },
  "nbformat": 4,
  "nbformat_minor": 0
}
