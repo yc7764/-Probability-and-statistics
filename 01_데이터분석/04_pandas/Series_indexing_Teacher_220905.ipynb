{
 "cells": [
  {
   "cell_type": "code",
   "execution_count": 1,
   "metadata": {},
   "outputs": [
    {
     "data": {
      "text/plain": [
       "A    부장\n",
       "B    차장\n",
       "C    대리\n",
       "D    사원\n",
       "E    인턴\n",
       "dtype: object"
      ]
     },
     "execution_count": 1,
     "metadata": {},
     "output_type": "execute_result"
    }
   ],
   "source": [
    "import pandas as pd\n",
    "\n",
    "s = pd.Series(['부장', '차장', '대리', '사원', '인턴'],\n",
    "                index=list('ABCDE'))\n",
    "s"
   ]
  },
  {
   "cell_type": "markdown",
   "metadata": {},
   "source": [
    "#### Basic indexing"
   ]
  },
  {
   "cell_type": "code",
   "execution_count": 3,
   "metadata": {},
   "outputs": [
    {
     "name": "stdout",
     "output_type": "stream",
     "text": [
      "부장 부장 인턴\n"
     ]
    }
   ],
   "source": [
    "# single element indexer\n",
    "print(s['A'], s[0], s[-1])  # 부장 부장 인턴"
   ]
  },
  {
   "cell_type": "code",
   "execution_count": 4,
   "metadata": {},
   "outputs": [
    {
     "data": {
      "text/plain": [
       "A    부장\n",
       "C    대리\n",
       "dtype: object"
      ]
     },
     "metadata": {},
     "output_type": "display_data"
    },
    {
     "data": {
      "text/plain": [
       "A    부장\n",
       "E    인턴\n",
       "dtype: object"
      ]
     },
     "metadata": {},
     "output_type": "display_data"
    }
   ],
   "source": [
    "# index array indexer\n",
    "display(s[['A', 'C']], s[[0, -1]])"
   ]
  },
  {
   "cell_type": "code",
   "execution_count": 8,
   "metadata": {},
   "outputs": [
    {
     "data": {
      "text/plain": [
       "A    부장\n",
       "B    차장\n",
       "dtype: object"
      ]
     },
     "execution_count": 8,
     "metadata": {},
     "output_type": "execute_result"
    }
   ],
   "source": [
    "# boolean array indexer\n",
    "# dtype=bool, len(boolean array) == len(s) 를 만족하는 배열 => boolean array\n",
    "# s[[True, False, False, True, False]]  # True인 것만 꺼내옴\n",
    "\n",
    "# boolean array는 연산, 함수를 사용해서 만든다.\n",
    "indexer = s.str.contains('장')\n",
    "s[indexer]"
   ]
  },
  {
   "cell_type": "code",
   "execution_count": 11,
   "metadata": {},
   "outputs": [
    {
     "data": {
      "text/plain": [
       "B    차장\n",
       "C    대리\n",
       "D    사원\n",
       "dtype: object"
      ]
     },
     "metadata": {},
     "output_type": "display_data"
    },
    {
     "data": {
      "text/plain": [
       "B    차장\n",
       "C    대리\n",
       "dtype: object"
      ]
     },
     "metadata": {},
     "output_type": "display_data"
    }
   ],
   "source": [
    "# slice indexer  (start:stop:step)\n",
    "# start, stop => label로 사용하는 경우 stop을 포함한다\n",
    "# start, stop => integer로 사용하는 경우 stop을 포함하지 않는다\n",
    "display(s['B':'D'], s[1:3])  # 주의사항!!!!"
   ]
  },
  {
   "cell_type": "markdown",
   "metadata": {},
   "source": [
    "#### Selection by Label, Selection by Integer\n",
    "- Selection by Label : s.loc[indexer]\n",
    "- Selection by Integer : s.iloc[indexer]"
   ]
  },
  {
   "cell_type": "code",
   "execution_count": 19,
   "metadata": {},
   "outputs": [
    {
     "name": "stdout",
     "output_type": "stream",
     "text": [
      "부장 부장\n"
     ]
    }
   ],
   "source": [
    "# single element indexer\n",
    "print(s.loc['A'], s.iloc[0])"
   ]
  },
  {
   "cell_type": "code",
   "execution_count": 18,
   "metadata": {},
   "outputs": [
    {
     "data": {
      "text/plain": [
       "A    부장\n",
       "C    대리\n",
       "dtype: object"
      ]
     },
     "metadata": {},
     "output_type": "display_data"
    },
    {
     "data": {
      "text/plain": [
       "A    부장\n",
       "E    인턴\n",
       "dtype: object"
      ]
     },
     "metadata": {},
     "output_type": "display_data"
    }
   ],
   "source": [
    "# index array indexer\n",
    "display(s.loc[['A', 'C']], s.iloc[[0, -1]])"
   ]
  },
  {
   "cell_type": "code",
   "execution_count": 25,
   "metadata": {},
   "outputs": [
    {
     "name": "stdout",
     "output_type": "stream",
     "text": [
      "<class 'pandas.core.series.Series'>\n"
     ]
    },
    {
     "data": {
      "text/plain": [
       "A    부장\n",
       "B    차장\n",
       "dtype: object"
      ]
     },
     "metadata": {},
     "output_type": "display_data"
    },
    {
     "data": {
      "text/plain": [
       "A    부장\n",
       "B    차장\n",
       "dtype: object"
      ]
     },
     "metadata": {},
     "output_type": "display_data"
    }
   ],
   "source": [
    "# boolean array indexer\n",
    "indexer = s.str.contains('장')\n",
    "print(type(indexer))  # <class 'pandas.core.series.Series'>\n",
    "display(s.loc[indexer], s.iloc[indexer.to_list()])"
   ]
  },
  {
   "cell_type": "code",
   "execution_count": 30,
   "metadata": {},
   "outputs": [
    {
     "data": {
      "text/plain": [
       "B    차장\n",
       "C    대리\n",
       "D    사원\n",
       "dtype: object"
      ]
     },
     "metadata": {},
     "output_type": "display_data"
    },
    {
     "data": {
      "text/plain": [
       "B    차장\n",
       "C    대리\n",
       "dtype: object"
      ]
     },
     "metadata": {},
     "output_type": "display_data"
    }
   ],
   "source": [
    "# slice indexer\n",
    "display(s.loc['B':'D'], s.iloc[1:3])"
   ]
  },
  {
   "cell_type": "code",
   "execution_count": 31,
   "metadata": {},
   "outputs": [
    {
     "data": {
      "text/plain": [
       "1    부장\n",
       "2    차장\n",
       "3    대리\n",
       "4    사원\n",
       "5    인턴\n",
       "dtype: object"
      ]
     },
     "execution_count": 31,
     "metadata": {},
     "output_type": "execute_result"
    }
   ],
   "source": [
    "import pandas as pd\n",
    "\n",
    "s = pd.Series(['부장', '차장', '대리', '사원', '인턴'],\n",
    "                index=[1, 2, 3, 4, 5])\n",
    "s"
   ]
  },
  {
   "cell_type": "code",
   "execution_count": 33,
   "metadata": {},
   "outputs": [
    {
     "data": {
      "text/plain": [
       "('부장', '부장', '차장')"
      ]
     },
     "execution_count": 33,
     "metadata": {},
     "output_type": "execute_result"
    }
   ],
   "source": [
    "print(s[1], s.loc[1], s.iloc[1])"
   ]
  },
  {
   "cell_type": "code",
   "execution_count": 35,
   "metadata": {},
   "outputs": [
    {
     "name": "stdout",
     "output_type": "stream",
     "text": [
      "1    부장\n",
      "5    인턴\n",
      "dtype: object\n"
     ]
    }
   ],
   "source": [
    "#print(s[[0, -1]])\n",
    "print(s.iloc[[0,-1]])"
   ]
  }
 ],
 "metadata": {
  "kernelspec": {
   "display_name": "Python 3.9.13 64-bit",
   "language": "python",
   "name": "python3"
  },
  "language_info": {
   "codemirror_mode": {
    "name": "ipython",
    "version": 3
   },
   "file_extension": ".py",
   "mimetype": "text/x-python",
   "name": "python",
   "nbconvert_exporter": "python",
   "pygments_lexer": "ipython3",
   "version": "3.9.13"
  },
  "orig_nbformat": 4,
  "vscode": {
   "interpreter": {
    "hash": "81794d4967e6c3204c66dcd87b604927b115b27c00565d3d43f05ba2f3a2cb0d"
   }
  }
 },
 "nbformat": 4,
 "nbformat_minor": 2
}
