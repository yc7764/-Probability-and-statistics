{
  "nbformat": 4,
  "nbformat_minor": 0,
  "metadata": {
    "colab": {
      "provenance": [],
      "collapsed_sections": []
    },
    "kernelspec": {
      "display_name": "Python 3",
      "language": "python",
      "name": "python3"
    },
    "language_info": {
      "codemirror_mode": {
        "name": "ipython",
        "version": 3
      },
      "file_extension": ".py",
      "mimetype": "text/x-python",
      "name": "python",
      "nbconvert_exporter": "python",
      "pygments_lexer": "ipython3",
      "version": "3.8.2"
    }
  },
  "cells": [
    {
      "cell_type": "markdown",
      "metadata": {
        "id": "fHd2ajTgJ9Y5"
      },
      "source": [
        "## STEP 1: 문제 정의 및 목표 설정"
      ]
    },
    {
      "cell_type": "markdown",
      "metadata": {
        "id": "g429WwAbJ9Y9"
      },
      "source": [
        "**목표:**\n",
        "- 타이타닉호 승객데이터를 기반으로 생존에 영향을 미치는 요인을 분석합니다.\n",
        "\n",
        "**주요 과제:**\n",
        "- 기본 EDA (Exploratory Data Analysis)\n",
        "- 데이터 전처리 (불필요한 데이터 삭제, 추가, 변경)\n",
        "- 인사이트 발굴"
      ]
    },
    {
      "cell_type": "markdown",
      "metadata": {
        "id": "cceXkft2J9Y-"
      },
      "source": [
        "## STEP 2: 모듈 import"
      ]
    },
    {
      "cell_type": "code",
      "metadata": {
        "id": "RGhyFtVF0F0m"
      },
      "source": [
        "from IPython.display import Image\n",
        "import numpy as np\n",
        "import pandas as pd\n",
        "import seaborn as sns"
      ],
      "execution_count": null,
      "outputs": []
    },
    {
      "cell_type": "markdown",
      "metadata": {
        "id": "YhkxUxHeJ9ZA"
      },
      "source": [
        "## STEP 3: 데이터셋 로드\n",
        "`sns.load_dataset('titanic')` 함수를 이용하여 데이터를 불러오세요. 불러온 데이터는 df 변수에 저장하세요."
      ]
    },
    {
      "cell_type": "code",
      "metadata": {
        "id": "IBIhb5kSJ9ZA"
      },
      "source": [
        "df = sns.load_dataset('titanic')\n",
        "df.head()"
      ],
      "execution_count": null,
      "outputs": []
    },
    {
      "cell_type": "markdown",
      "metadata": {
        "id": "gf2og2zNJ9ZA"
      },
      "source": [
        "**컬럼(columns) 설명**\n",
        "\n",
        "- survivied: 생존여부 (1: 생존, 0: 사망)\n",
        "- pclass: 좌석 등급 (1등급, 2등급, 3등급)\n",
        "- sex: 성별\n",
        "- age: 나이\n",
        "- sibsp: 형제 + 배우자 수\n",
        "- parch: 부모 + 자녀 수\n",
        "- fare: 좌석 요금\n",
        "- embarked: 탑승 항구 (S, C, Q)\n",
        "- class: pclass와 동일\n",
        "- who: 성별과 동일\n",
        "- adult_male: 성인 남자 여부\n",
        "- deck: 데크 번호 (알파벳 + 숫자 혼용)\n",
        "- embark_town: 탑승 항구 이름\n",
        "- alive: 생존여부 (yes, no)\n",
        "- alone: 혼자 탑승 여부"
      ]
    },
    {
      "cell_type": "markdown",
      "metadata": {
        "id": "Mpi9Ok_0J9ZB"
      },
      "source": [
        "## STEP 4: 기본 데이터 조회"
      ]
    },
    {
      "cell_type": "markdown",
      "metadata": {
        "id": "IZXby1UyJ9ZC"
      },
      "source": [
        "### 상위 5개의 행을 출력"
      ]
    },
    {
      "cell_type": "code",
      "metadata": {
        "id": "Vg6wjfeNJ9ZD"
      },
      "source": [
        "# 코드를 입력해 주세요\n"
      ],
      "execution_count": null,
      "outputs": []
    },
    {
      "cell_type": "markdown",
      "metadata": {
        "id": "4IHt_S_jJ9ZE"
      },
      "source": [
        "<p><strong>[출력 결과]</strong></p><div>\n",
        "<style scoped>\n",
        "    .dataframe tbody tr th:only-of-type {\n",
        "        vertical-align: middle;\n",
        "    }\n",
        "\n",
        "    .dataframe tbody tr th {\n",
        "        vertical-align: top;\n",
        "    }\n",
        "\n",
        "    .dataframe thead th {\n",
        "        text-align: right;\n",
        "    }\n",
        "</style>\n",
        "<table border=\"1\" class=\"dataframe\">\n",
        "  <thead>\n",
        "    <tr style=\"text-align: right;\">\n",
        "      <th></th>\n",
        "      <th>survived</th>\n",
        "      <th>pclass</th>\n",
        "      <th>sex</th>\n",
        "      <th>age</th>\n",
        "      <th>sibsp</th>\n",
        "      <th>parch</th>\n",
        "      <th>fare</th>\n",
        "      <th>embarked</th>\n",
        "      <th>class</th>\n",
        "      <th>who</th>\n",
        "      <th>adult_male</th>\n",
        "      <th>deck</th>\n",
        "      <th>embark_town</th>\n",
        "      <th>alive</th>\n",
        "      <th>alone</th>\n",
        "    </tr>\n",
        "  </thead>\n",
        "  <tbody>\n",
        "    <tr>\n",
        "      <th>0</th>\n",
        "      <td>0</td>\n",
        "      <td>3</td>\n",
        "      <td>male</td>\n",
        "      <td>22.0</td>\n",
        "      <td>1</td>\n",
        "      <td>0</td>\n",
        "      <td>7.2500</td>\n",
        "      <td>S</td>\n",
        "      <td>Third</td>\n",
        "      <td>man</td>\n",
        "      <td>True</td>\n",
        "      <td>NaN</td>\n",
        "      <td>Southampton</td>\n",
        "      <td>no</td>\n",
        "      <td>False</td>\n",
        "    </tr>\n",
        "    <tr>\n",
        "      <th>1</th>\n",
        "      <td>1</td>\n",
        "      <td>1</td>\n",
        "      <td>female</td>\n",
        "      <td>38.0</td>\n",
        "      <td>1</td>\n",
        "      <td>0</td>\n",
        "      <td>71.2833</td>\n",
        "      <td>C</td>\n",
        "      <td>First</td>\n",
        "      <td>woman</td>\n",
        "      <td>False</td>\n",
        "      <td>C</td>\n",
        "      <td>Cherbourg</td>\n",
        "      <td>yes</td>\n",
        "      <td>False</td>\n",
        "    </tr>\n",
        "    <tr>\n",
        "      <th>2</th>\n",
        "      <td>1</td>\n",
        "      <td>3</td>\n",
        "      <td>female</td>\n",
        "      <td>26.0</td>\n",
        "      <td>0</td>\n",
        "      <td>0</td>\n",
        "      <td>7.9250</td>\n",
        "      <td>S</td>\n",
        "      <td>Third</td>\n",
        "      <td>woman</td>\n",
        "      <td>False</td>\n",
        "      <td>NaN</td>\n",
        "      <td>Southampton</td>\n",
        "      <td>yes</td>\n",
        "      <td>True</td>\n",
        "    </tr>\n",
        "    <tr>\n",
        "      <th>3</th>\n",
        "      <td>1</td>\n",
        "      <td>1</td>\n",
        "      <td>female</td>\n",
        "      <td>35.0</td>\n",
        "      <td>1</td>\n",
        "      <td>0</td>\n",
        "      <td>53.1000</td>\n",
        "      <td>S</td>\n",
        "      <td>First</td>\n",
        "      <td>woman</td>\n",
        "      <td>False</td>\n",
        "      <td>C</td>\n",
        "      <td>Southampton</td>\n",
        "      <td>yes</td>\n",
        "      <td>False</td>\n",
        "    </tr>\n",
        "    <tr>\n",
        "      <th>4</th>\n",
        "      <td>0</td>\n",
        "      <td>3</td>\n",
        "      <td>male</td>\n",
        "      <td>35.0</td>\n",
        "      <td>0</td>\n",
        "      <td>0</td>\n",
        "      <td>8.0500</td>\n",
        "      <td>S</td>\n",
        "      <td>Third</td>\n",
        "      <td>man</td>\n",
        "      <td>True</td>\n",
        "      <td>NaN</td>\n",
        "      <td>Southampton</td>\n",
        "      <td>no</td>\n",
        "      <td>True</td>\n",
        "    </tr>\n",
        "  </tbody>\n",
        "</table>\n",
        "</div>"
      ]
    },
    {
      "cell_type": "markdown",
      "metadata": {
        "id": "iVv2tlXvJ9ZF"
      },
      "source": [
        "### 하위 5개의 행을 출력"
      ]
    },
    {
      "cell_type": "code",
      "metadata": {
        "id": "cYoMF2DfJ9ZF"
      },
      "source": [
        "# 코드를 입력해 주세요\n"
      ],
      "execution_count": null,
      "outputs": []
    },
    {
      "cell_type": "markdown",
      "metadata": {
        "id": "bLHZZzQSJ9ZF"
      },
      "source": [
        "<p><strong>[출력 결과]</strong></p><div>\n",
        "<style scoped>\n",
        "    .dataframe tbody tr th:only-of-type {\n",
        "        vertical-align: middle;\n",
        "    }\n",
        "\n",
        "    .dataframe tbody tr th {\n",
        "        vertical-align: top;\n",
        "    }\n",
        "\n",
        "    .dataframe thead th {\n",
        "        text-align: right;\n",
        "    }\n",
        "</style>\n",
        "<table border=\"1\" class=\"dataframe\">\n",
        "  <thead>\n",
        "    <tr style=\"text-align: right;\">\n",
        "      <th></th>\n",
        "      <th>survived</th>\n",
        "      <th>pclass</th>\n",
        "      <th>sex</th>\n",
        "      <th>age</th>\n",
        "      <th>sibsp</th>\n",
        "      <th>parch</th>\n",
        "      <th>fare</th>\n",
        "      <th>embarked</th>\n",
        "      <th>class</th>\n",
        "      <th>who</th>\n",
        "      <th>adult_male</th>\n",
        "      <th>deck</th>\n",
        "      <th>embark_town</th>\n",
        "      <th>alive</th>\n",
        "      <th>alone</th>\n",
        "    </tr>\n",
        "  </thead>\n",
        "  <tbody>\n",
        "    <tr>\n",
        "      <th>886</th>\n",
        "      <td>0</td>\n",
        "      <td>2</td>\n",
        "      <td>male</td>\n",
        "      <td>27.0</td>\n",
        "      <td>0</td>\n",
        "      <td>0</td>\n",
        "      <td>13.00</td>\n",
        "      <td>S</td>\n",
        "      <td>Second</td>\n",
        "      <td>man</td>\n",
        "      <td>True</td>\n",
        "      <td>NaN</td>\n",
        "      <td>Southampton</td>\n",
        "      <td>no</td>\n",
        "      <td>True</td>\n",
        "    </tr>\n",
        "    <tr>\n",
        "      <th>887</th>\n",
        "      <td>1</td>\n",
        "      <td>1</td>\n",
        "      <td>female</td>\n",
        "      <td>19.0</td>\n",
        "      <td>0</td>\n",
        "      <td>0</td>\n",
        "      <td>30.00</td>\n",
        "      <td>S</td>\n",
        "      <td>First</td>\n",
        "      <td>woman</td>\n",
        "      <td>False</td>\n",
        "      <td>B</td>\n",
        "      <td>Southampton</td>\n",
        "      <td>yes</td>\n",
        "      <td>True</td>\n",
        "    </tr>\n",
        "    <tr>\n",
        "      <th>888</th>\n",
        "      <td>0</td>\n",
        "      <td>3</td>\n",
        "      <td>female</td>\n",
        "      <td>NaN</td>\n",
        "      <td>1</td>\n",
        "      <td>2</td>\n",
        "      <td>23.45</td>\n",
        "      <td>S</td>\n",
        "      <td>Third</td>\n",
        "      <td>woman</td>\n",
        "      <td>False</td>\n",
        "      <td>NaN</td>\n",
        "      <td>Southampton</td>\n",
        "      <td>no</td>\n",
        "      <td>False</td>\n",
        "    </tr>\n",
        "    <tr>\n",
        "      <th>889</th>\n",
        "      <td>1</td>\n",
        "      <td>1</td>\n",
        "      <td>male</td>\n",
        "      <td>26.0</td>\n",
        "      <td>0</td>\n",
        "      <td>0</td>\n",
        "      <td>30.00</td>\n",
        "      <td>C</td>\n",
        "      <td>First</td>\n",
        "      <td>man</td>\n",
        "      <td>True</td>\n",
        "      <td>C</td>\n",
        "      <td>Cherbourg</td>\n",
        "      <td>yes</td>\n",
        "      <td>True</td>\n",
        "    </tr>\n",
        "    <tr>\n",
        "      <th>890</th>\n",
        "      <td>0</td>\n",
        "      <td>3</td>\n",
        "      <td>male</td>\n",
        "      <td>32.0</td>\n",
        "      <td>0</td>\n",
        "      <td>0</td>\n",
        "      <td>7.75</td>\n",
        "      <td>Q</td>\n",
        "      <td>Third</td>\n",
        "      <td>man</td>\n",
        "      <td>True</td>\n",
        "      <td>NaN</td>\n",
        "      <td>Queenstown</td>\n",
        "      <td>no</td>\n",
        "      <td>True</td>\n",
        "    </tr>\n",
        "  </tbody>\n",
        "</table>\n",
        "</div>"
      ]
    },
    {
      "cell_type": "markdown",
      "metadata": {
        "id": "UeFn-c-KJ9ZH"
      },
      "source": [
        "### 데이터는 몇개의 행과 열로 이루어져 있는지 확인"
      ]
    },
    {
      "cell_type": "code",
      "metadata": {
        "id": "44LRWWRbJ9ZH"
      },
      "source": [
        "# 코드를 입력해 주세요\n"
      ],
      "execution_count": null,
      "outputs": []
    },
    {
      "cell_type": "markdown",
      "metadata": {
        "id": "Ck4hCqkzJ9ZH"
      },
      "source": [
        "<p><strong>[출력 결과]</strong></p><pre>(891, 15)</pre>"
      ]
    },
    {
      "cell_type": "markdown",
      "metadata": {
        "id": "-IAm_XYVJ9ZH"
      },
      "source": [
        "### 컬럼 별 데이터의 dtype과 개수를 확인"
      ]
    },
    {
      "cell_type": "code",
      "metadata": {
        "id": "6U0ZJt8UJ9ZI",
        "outputId": "739f7802-5715-47ea-ddb5-3cb81e024b31"
      },
      "source": [
        "# 코드를 입력해 주세요\n"
      ],
      "execution_count": null,
      "outputs": [
        {
          "name": "stdout",
          "output_type": "stream",
          "text": []
        }
      ]
    },
    {
      "cell_type": "markdown",
      "metadata": {
        "id": "jeEeu2_GJ9ZI"
      },
      "source": [
        "<p><strong>[출력 결과]</strong></p><pre><class 'pandas.core.frame.DataFrame'>\n",
        "RangeIndex: 891 entries, 0 to 890\n",
        "Data columns (total 15 columns):\n",
        "survived       891 non-null int64\n",
        "pclass         891 non-null int64\n",
        "sex            891 non-null object\n",
        "age            714 non-null float64\n",
        "sibsp          891 non-null int64\n",
        "parch          891 non-null int64\n",
        "fare           891 non-null float64\n",
        "embarked       889 non-null object\n",
        "class          891 non-null category\n",
        "who            891 non-null object\n",
        "adult_male     891 non-null bool\n",
        "deck           203 non-null category\n",
        "embark_town    889 non-null object\n",
        "alive          891 non-null object\n",
        "alone          891 non-null bool\n",
        "dtypes: bool(2), category(2), float64(2), int64(4), object(5)\n",
        "memory usage: 80.6+ KB\n",
        "</pre>"
      ]
    },
    {
      "cell_type": "markdown",
      "metadata": {
        "id": "gVIXQSmyJ9ZJ"
      },
      "source": [
        "### 데이터의 컬럼별 결측치를 확인"
      ]
    },
    {
      "cell_type": "code",
      "metadata": {
        "id": "YJxwLG-iJ9ZJ"
      },
      "source": [
        "# 코드를 입력해 주세요\n"
      ],
      "execution_count": null,
      "outputs": []
    },
    {
      "cell_type": "markdown",
      "metadata": {
        "id": "LjOeRXL1J9ZJ"
      },
      "source": [
        "<p><strong>[출력 결과]</strong></p><pre>survived         0\n",
        "pclass           0\n",
        "sex              0\n",
        "age            177\n",
        "sibsp            0\n",
        "parch            0\n",
        "fare             0\n",
        "embarked         2\n",
        "class            0\n",
        "who              0\n",
        "adult_male       0\n",
        "deck           688\n",
        "embark_town      2\n",
        "alive            0\n",
        "alone            0\n",
        "dtype: int64</pre>"
      ]
    },
    {
      "cell_type": "markdown",
      "metadata": {
        "id": "WYXXAyjzJ9ZK"
      },
      "source": [
        "### 생존자와 사망자의 분포를 확인해 주세요"
      ]
    },
    {
      "cell_type": "markdown",
      "metadata": {
        "id": "uu1hR0lLJ9ZK"
      },
      "source": [
        "0: 사망, 1: 생존"
      ]
    },
    {
      "cell_type": "code",
      "metadata": {
        "id": "GxMfnnH7J9ZK"
      },
      "source": [
        "# 코드를 입력해 주세요\n"
      ],
      "execution_count": null,
      "outputs": []
    },
    {
      "cell_type": "markdown",
      "metadata": {
        "id": "knb9AogwJ9ZK"
      },
      "source": [
        "<p><strong>[출력 결과]</strong></p><pre>0    549\n",
        "1    342\n",
        "Name: survived, dtype: int64</pre>"
      ]
    },
    {
      "cell_type": "markdown",
      "metadata": {
        "id": "EsKxqDEuJ9ZK"
      },
      "source": [
        "## STEP 5: 탐색적 데이터 분석 (EDA)"
      ]
    },
    {
      "cell_type": "markdown",
      "metadata": {
        "id": "XSgFysUoJ9ZK"
      },
      "source": [
        "### 항구별 생존자"
      ]
    },
    {
      "cell_type": "markdown",
      "metadata": {
        "id": "hhL1WqVQJ9ZK"
      },
      "source": [
        "#### 합계"
      ]
    },
    {
      "cell_type": "code",
      "metadata": {
        "id": "Wn2C0H32J9ZL"
      },
      "source": [
        "# 코드를 입력해 주세요\n"
      ],
      "execution_count": null,
      "outputs": []
    },
    {
      "cell_type": "markdown",
      "metadata": {
        "id": "N_rQ1-MYJ9ZL"
      },
      "source": [
        "<p><strong>[출력 결과]</strong></p><pre>embarked\n",
        "C     93\n",
        "Q     30\n",
        "S    217\n",
        "Name: survived, dtype: int64</pre>"
      ]
    },
    {
      "cell_type": "markdown",
      "metadata": {
        "id": "P9pr1QkmJ9ZL"
      },
      "source": [
        "#### 생존율"
      ]
    },
    {
      "cell_type": "code",
      "metadata": {
        "id": "KRpUNJ7lJ9ZL"
      },
      "source": [
        "# 코드를 입력해 주세요\n"
      ],
      "execution_count": null,
      "outputs": []
    },
    {
      "cell_type": "markdown",
      "metadata": {
        "id": "X7T8ppOCJ9ZL"
      },
      "source": [
        "<p><strong>[출력 결과]</strong></p><pre>embarked\n",
        "C    0.553571\n",
        "Q    0.389610\n",
        "S    0.336957\n",
        "Name: survived, dtype: float64</pre>"
      ]
    },
    {
      "cell_type": "markdown",
      "metadata": {
        "id": "L_uoF2cRJ9ZL"
      },
      "source": [
        "#### 합계 & 생존율 동시 출력"
      ]
    },
    {
      "cell_type": "code",
      "metadata": {
        "id": "9BzJNYTQJ9ZL"
      },
      "source": [
        "# 코드를 입력해 주세요\n"
      ],
      "execution_count": null,
      "outputs": []
    },
    {
      "cell_type": "markdown",
      "metadata": {
        "id": "Cp9tGIILJ9ZL"
      },
      "source": [
        "<p><strong>[출력 결과]</strong></p><div>\n",
        "<style scoped>\n",
        "    .dataframe tbody tr th:only-of-type {\n",
        "        vertical-align: middle;\n",
        "    }\n",
        "\n",
        "    .dataframe tbody tr th {\n",
        "        vertical-align: top;\n",
        "    }\n",
        "\n",
        "    .dataframe thead th {\n",
        "        text-align: right;\n",
        "    }\n",
        "</style>\n",
        "<table border=\"1\" class=\"dataframe\">\n",
        "  <thead>\n",
        "    <tr style=\"text-align: right;\">\n",
        "      <th></th>\n",
        "      <th>sum</th>\n",
        "      <th>mean</th>\n",
        "    </tr>\n",
        "    <tr>\n",
        "      <th>embarked</th>\n",
        "      <th></th>\n",
        "      <th></th>\n",
        "    </tr>\n",
        "  </thead>\n",
        "  <tbody>\n",
        "    <tr>\n",
        "      <th>C</th>\n",
        "      <td>93</td>\n",
        "      <td>0.553571</td>\n",
        "    </tr>\n",
        "    <tr>\n",
        "      <th>Q</th>\n",
        "      <td>30</td>\n",
        "      <td>0.389610</td>\n",
        "    </tr>\n",
        "    <tr>\n",
        "      <th>S</th>\n",
        "      <td>217</td>\n",
        "      <td>0.336957</td>\n",
        "    </tr>\n",
        "  </tbody>\n",
        "</table>\n",
        "</div>"
      ]
    },
    {
      "cell_type": "markdown",
      "metadata": {
        "id": "3A_2AbyMJ9ZM"
      },
      "source": [
        "### 성별 합계 & 생존율 동시 출력"
      ]
    },
    {
      "cell_type": "code",
      "metadata": {
        "id": "OTNcTPwVJ9ZM"
      },
      "source": [
        "# 코드를 입력해 주세요\n"
      ],
      "execution_count": null,
      "outputs": []
    },
    {
      "cell_type": "markdown",
      "metadata": {
        "id": "9ZVS0wcdJ9ZM"
      },
      "source": [
        "<p><strong>[출력 결과]</strong></p><div>\n",
        "<style scoped>\n",
        "    .dataframe tbody tr th:only-of-type {\n",
        "        vertical-align: middle;\n",
        "    }\n",
        "\n",
        "    .dataframe tbody tr th {\n",
        "        vertical-align: top;\n",
        "    }\n",
        "\n",
        "    .dataframe thead th {\n",
        "        text-align: right;\n",
        "    }\n",
        "</style>\n",
        "<table border=\"1\" class=\"dataframe\">\n",
        "  <thead>\n",
        "    <tr style=\"text-align: right;\">\n",
        "      <th></th>\n",
        "      <th>sum</th>\n",
        "      <th>mean</th>\n",
        "    </tr>\n",
        "    <tr>\n",
        "      <th>sex</th>\n",
        "      <th></th>\n",
        "      <th></th>\n",
        "    </tr>\n",
        "  </thead>\n",
        "  <tbody>\n",
        "    <tr>\n",
        "      <th>female</th>\n",
        "      <td>233</td>\n",
        "      <td>0.742038</td>\n",
        "    </tr>\n",
        "    <tr>\n",
        "      <th>male</th>\n",
        "      <td>109</td>\n",
        "      <td>0.188908</td>\n",
        "    </tr>\n",
        "  </tbody>\n",
        "</table>\n",
        "</div>"
      ]
    },
    {
      "cell_type": "markdown",
      "metadata": {
        "id": "KI8T5MSYJ9ZM"
      },
      "source": [
        "### 혼자인 사람과 혼자가 아닌 경우 합계 & 생존율 동시 출력"
      ]
    },
    {
      "cell_type": "code",
      "metadata": {
        "id": "FYwKKUpgJ9ZM"
      },
      "source": [
        "# 코드를 입력해 주세요\n"
      ],
      "execution_count": null,
      "outputs": []
    },
    {
      "cell_type": "markdown",
      "metadata": {
        "id": "lPo0BYZAJ9ZM"
      },
      "source": [
        "<p><strong>[출력 결과]</strong></p><div>\n",
        "<style scoped>\n",
        "    .dataframe tbody tr th:only-of-type {\n",
        "        vertical-align: middle;\n",
        "    }\n",
        "\n",
        "    .dataframe tbody tr th {\n",
        "        vertical-align: top;\n",
        "    }\n",
        "\n",
        "    .dataframe thead th {\n",
        "        text-align: right;\n",
        "    }\n",
        "</style>\n",
        "<table border=\"1\" class=\"dataframe\">\n",
        "  <thead>\n",
        "    <tr style=\"text-align: right;\">\n",
        "      <th></th>\n",
        "      <th>sum</th>\n",
        "      <th>mean</th>\n",
        "    </tr>\n",
        "    <tr>\n",
        "      <th>alone</th>\n",
        "      <th></th>\n",
        "      <th></th>\n",
        "    </tr>\n",
        "  </thead>\n",
        "  <tbody>\n",
        "    <tr>\n",
        "      <th>False</th>\n",
        "      <td>179</td>\n",
        "      <td>0.505650</td>\n",
        "    </tr>\n",
        "    <tr>\n",
        "      <th>True</th>\n",
        "      <td>163</td>\n",
        "      <td>0.303538</td>\n",
        "    </tr>\n",
        "  </tbody>\n",
        "</table>\n",
        "</div>"
      ]
    },
    {
      "cell_type": "markdown",
      "metadata": {
        "id": "UI7tmX9ZJ9ZN"
      },
      "source": [
        "### 등급(pclass)별 생존자 합계 & 생존율 동시 출력"
      ]
    },
    {
      "cell_type": "code",
      "metadata": {
        "id": "ZtW9qlRGJ9ZN"
      },
      "source": [
        "# 코드를 입력해 주세요\n"
      ],
      "execution_count": null,
      "outputs": []
    },
    {
      "cell_type": "markdown",
      "metadata": {
        "id": "ogQCccpjJ9ZN"
      },
      "source": [
        "<p><strong>[출력 결과]</strong></p><div>\n",
        "<style scoped>\n",
        "    .dataframe tbody tr th:only-of-type {\n",
        "        vertical-align: middle;\n",
        "    }\n",
        "\n",
        "    .dataframe tbody tr th {\n",
        "        vertical-align: top;\n",
        "    }\n",
        "\n",
        "    .dataframe thead th {\n",
        "        text-align: right;\n",
        "    }\n",
        "</style>\n",
        "<table border=\"1\" class=\"dataframe\">\n",
        "  <thead>\n",
        "    <tr style=\"text-align: right;\">\n",
        "      <th></th>\n",
        "      <th>sum</th>\n",
        "      <th>mean</th>\n",
        "    </tr>\n",
        "    <tr>\n",
        "      <th>pclass</th>\n",
        "      <th></th>\n",
        "      <th></th>\n",
        "    </tr>\n",
        "  </thead>\n",
        "  <tbody>\n",
        "    <tr>\n",
        "      <th>1</th>\n",
        "      <td>136</td>\n",
        "      <td>0.629630</td>\n",
        "    </tr>\n",
        "    <tr>\n",
        "      <th>2</th>\n",
        "      <td>87</td>\n",
        "      <td>0.472826</td>\n",
        "    </tr>\n",
        "    <tr>\n",
        "      <th>3</th>\n",
        "      <td>119</td>\n",
        "      <td>0.242363</td>\n",
        "    </tr>\n",
        "  </tbody>\n",
        "</table>\n",
        "</div>"
      ]
    },
    {
      "cell_type": "markdown",
      "metadata": {
        "id": "sl7DBxgAJ9ZN"
      },
      "source": [
        "### 성별, 등급별 생존자 합계 & 생존율 동시 출력"
      ]
    },
    {
      "cell_type": "code",
      "metadata": {
        "id": "JHsB4vGsJ9ZN"
      },
      "source": [
        "# 코드를 입력해 주세요\n"
      ],
      "execution_count": null,
      "outputs": []
    },
    {
      "cell_type": "markdown",
      "metadata": {
        "id": "r9VUPDEsJ9ZN"
      },
      "source": [
        "<p><strong>[출력 결과]</strong></p><div>\n",
        "<style scoped>\n",
        "    .dataframe tbody tr th:only-of-type {\n",
        "        vertical-align: middle;\n",
        "    }\n",
        "\n",
        "    .dataframe tbody tr th {\n",
        "        vertical-align: top;\n",
        "    }\n",
        "\n",
        "    .dataframe thead th {\n",
        "        text-align: right;\n",
        "    }\n",
        "</style>\n",
        "<table border=\"1\" class=\"dataframe\">\n",
        "  <thead>\n",
        "    <tr style=\"text-align: right;\">\n",
        "      <th></th>\n",
        "      <th></th>\n",
        "      <th>sum</th>\n",
        "      <th>mean</th>\n",
        "    </tr>\n",
        "    <tr>\n",
        "      <th>sex</th>\n",
        "      <th>pclass</th>\n",
        "      <th></th>\n",
        "      <th></th>\n",
        "    </tr>\n",
        "  </thead>\n",
        "  <tbody>\n",
        "    <tr>\n",
        "      <th rowspan=\"3\" valign=\"top\">female</th>\n",
        "      <th>1</th>\n",
        "      <td>91</td>\n",
        "      <td>0.968085</td>\n",
        "    </tr>\n",
        "    <tr>\n",
        "      <th>2</th>\n",
        "      <td>70</td>\n",
        "      <td>0.921053</td>\n",
        "    </tr>\n",
        "    <tr>\n",
        "      <th>3</th>\n",
        "      <td>72</td>\n",
        "      <td>0.500000</td>\n",
        "    </tr>\n",
        "    <tr>\n",
        "      <th rowspan=\"3\" valign=\"top\">male</th>\n",
        "      <th>1</th>\n",
        "      <td>45</td>\n",
        "      <td>0.368852</td>\n",
        "    </tr>\n",
        "    <tr>\n",
        "      <th>2</th>\n",
        "      <td>17</td>\n",
        "      <td>0.157407</td>\n",
        "    </tr>\n",
        "    <tr>\n",
        "      <th>3</th>\n",
        "      <td>47</td>\n",
        "      <td>0.135447</td>\n",
        "    </tr>\n",
        "  </tbody>\n",
        "</table>\n",
        "</div>"
      ]
    },
    {
      "cell_type": "markdown",
      "metadata": {
        "id": "OGb8d-8ZGv0M"
      },
      "source": [
        "### pivot_table 을 활용하여, (성별, pclass) 별 생존자 합계(sum)를 출력 하세요"
      ]
    },
    {
      "cell_type": "code",
      "metadata": {
        "id": "qKQGV_Bq4Eoh"
      },
      "source": [
        "df.pivot_table(index='sex', columns='pclass', values='survived', aggfunc=['sum', 'mean'])"
      ],
      "execution_count": null,
      "outputs": []
    },
    {
      "cell_type": "markdown",
      "metadata": {
        "id": "4VjCp3EJJ9ZN"
      },
      "source": [
        "### 혼자인 경우 / 성별 합계 & 생존율 동시 출력"
      ]
    },
    {
      "cell_type": "code",
      "metadata": {
        "id": "regxF6DUJ9ZO"
      },
      "source": [
        "# 코드를 입력해 주세요\n"
      ],
      "execution_count": null,
      "outputs": []
    },
    {
      "cell_type": "markdown",
      "metadata": {
        "id": "qgeBzPDtJ9ZO"
      },
      "source": [
        "<p><strong>[출력 결과]</strong></p><div>\n",
        "<style scoped>\n",
        "    .dataframe tbody tr th:only-of-type {\n",
        "        vertical-align: middle;\n",
        "    }\n",
        "\n",
        "    .dataframe tbody tr th {\n",
        "        vertical-align: top;\n",
        "    }\n",
        "\n",
        "    .dataframe thead th {\n",
        "        text-align: right;\n",
        "    }\n",
        "</style>\n",
        "<table border=\"1\" class=\"dataframe\">\n",
        "  <thead>\n",
        "    <tr style=\"text-align: right;\">\n",
        "      <th></th>\n",
        "      <th></th>\n",
        "      <th>sum</th>\n",
        "      <th>mean</th>\n",
        "    </tr>\n",
        "    <tr>\n",
        "      <th>alone</th>\n",
        "      <th>sex</th>\n",
        "      <th></th>\n",
        "      <th></th>\n",
        "    </tr>\n",
        "  </thead>\n",
        "  <tbody>\n",
        "    <tr>\n",
        "      <th rowspan=\"2\" valign=\"top\">False</th>\n",
        "      <th>female</th>\n",
        "      <td>134</td>\n",
        "      <td>0.712766</td>\n",
        "    </tr>\n",
        "    <tr>\n",
        "      <th>male</th>\n",
        "      <td>45</td>\n",
        "      <td>0.271084</td>\n",
        "    </tr>\n",
        "    <tr>\n",
        "      <th rowspan=\"2\" valign=\"top\">True</th>\n",
        "      <th>female</th>\n",
        "      <td>99</td>\n",
        "      <td>0.785714</td>\n",
        "    </tr>\n",
        "    <tr>\n",
        "      <th>male</th>\n",
        "      <td>64</td>\n",
        "      <td>0.155718</td>\n",
        "    </tr>\n",
        "  </tbody>\n",
        "</table>\n",
        "</div>"
      ]
    },
    {
      "cell_type": "markdown",
      "metadata": {
        "id": "FugxH1b5J9ZO"
      },
      "source": [
        "### who, 등급별 생존자 합계 & 생존율 동시 출력"
      ]
    },
    {
      "cell_type": "code",
      "metadata": {
        "id": "TWodf7GkJ9ZO"
      },
      "source": [
        "# 코드를 입력해 주세요\n"
      ],
      "execution_count": null,
      "outputs": []
    },
    {
      "cell_type": "markdown",
      "metadata": {
        "id": "6v_C8vSMJ9ZO"
      },
      "source": [
        "<p><strong>[출력 결과]</strong></p><div>\n",
        "<style scoped>\n",
        "    .dataframe tbody tr th:only-of-type {\n",
        "        vertical-align: middle;\n",
        "    }\n",
        "\n",
        "    .dataframe tbody tr th {\n",
        "        vertical-align: top;\n",
        "    }\n",
        "\n",
        "    .dataframe thead th {\n",
        "        text-align: right;\n",
        "    }\n",
        "</style>\n",
        "<table border=\"1\" class=\"dataframe\">\n",
        "  <thead>\n",
        "    <tr style=\"text-align: right;\">\n",
        "      <th></th>\n",
        "      <th></th>\n",
        "      <th>sum</th>\n",
        "      <th>mean</th>\n",
        "    </tr>\n",
        "    <tr>\n",
        "      <th>who</th>\n",
        "      <th>pclass</th>\n",
        "      <th></th>\n",
        "      <th></th>\n",
        "    </tr>\n",
        "  </thead>\n",
        "  <tbody>\n",
        "    <tr>\n",
        "      <th rowspan=\"3\" valign=\"top\">child</th>\n",
        "      <th>1</th>\n",
        "      <td>5</td>\n",
        "      <td>0.833333</td>\n",
        "    </tr>\n",
        "    <tr>\n",
        "      <th>2</th>\n",
        "      <td>19</td>\n",
        "      <td>1.000000</td>\n",
        "    </tr>\n",
        "    <tr>\n",
        "      <th>3</th>\n",
        "      <td>25</td>\n",
        "      <td>0.431034</td>\n",
        "    </tr>\n",
        "    <tr>\n",
        "      <th rowspan=\"3\" valign=\"top\">man</th>\n",
        "      <th>1</th>\n",
        "      <td>42</td>\n",
        "      <td>0.352941</td>\n",
        "    </tr>\n",
        "    <tr>\n",
        "      <th>2</th>\n",
        "      <td>8</td>\n",
        "      <td>0.080808</td>\n",
        "    </tr>\n",
        "    <tr>\n",
        "      <th>3</th>\n",
        "      <td>38</td>\n",
        "      <td>0.119122</td>\n",
        "    </tr>\n",
        "    <tr>\n",
        "      <th rowspan=\"3\" valign=\"top\">woman</th>\n",
        "      <th>1</th>\n",
        "      <td>89</td>\n",
        "      <td>0.978022</td>\n",
        "    </tr>\n",
        "    <tr>\n",
        "      <th>2</th>\n",
        "      <td>60</td>\n",
        "      <td>0.909091</td>\n",
        "    </tr>\n",
        "    <tr>\n",
        "      <th>3</th>\n",
        "      <td>56</td>\n",
        "      <td>0.491228</td>\n",
        "    </tr>\n",
        "  </tbody>\n",
        "</table>\n",
        "</div>"
      ]
    },
    {
      "cell_type": "markdown",
      "metadata": {
        "id": "4MCYlsiKJ9ZO"
      },
      "source": [
        "### 다음을 수행하세요"
      ]
    },
    {
      "cell_type": "markdown",
      "metadata": {
        "id": "gA0v3QK2J9ZO"
      },
      "source": [
        "위의 결과를 토대로\n",
        "1. 별도의 DataFrame로 생성 \n",
        "2. 인덱스 초기화 `reset_index()` \n",
        "3. 생존율 내림차순 정렬"
      ]
    },
    {
      "cell_type": "code",
      "metadata": {
        "id": "zFg-web3J9ZO"
      },
      "source": [
        "# 코드를 입력해 주세요\n"
      ],
      "execution_count": null,
      "outputs": []
    },
    {
      "cell_type": "markdown",
      "metadata": {
        "id": "HZdMgYqvJ9ZP"
      },
      "source": [
        "<p><strong>[출력 결과]</strong></p><div>\n",
        "<style scoped>\n",
        "    .dataframe tbody tr th:only-of-type {\n",
        "        vertical-align: middle;\n",
        "    }\n",
        "\n",
        "    .dataframe tbody tr th {\n",
        "        vertical-align: top;\n",
        "    }\n",
        "\n",
        "    .dataframe thead th {\n",
        "        text-align: right;\n",
        "    }\n",
        "</style>\n",
        "<table border=\"1\" class=\"dataframe\">\n",
        "  <thead>\n",
        "    <tr style=\"text-align: right;\">\n",
        "      <th></th>\n",
        "      <th>who</th>\n",
        "      <th>pclass</th>\n",
        "      <th>sum</th>\n",
        "      <th>mean</th>\n",
        "    </tr>\n",
        "  </thead>\n",
        "  <tbody>\n",
        "    <tr>\n",
        "      <th>0</th>\n",
        "      <td>child</td>\n",
        "      <td>2</td>\n",
        "      <td>19</td>\n",
        "      <td>1.000000</td>\n",
        "    </tr>\n",
        "    <tr>\n",
        "      <th>1</th>\n",
        "      <td>woman</td>\n",
        "      <td>1</td>\n",
        "      <td>89</td>\n",
        "      <td>0.978022</td>\n",
        "    </tr>\n",
        "    <tr>\n",
        "      <th>2</th>\n",
        "      <td>woman</td>\n",
        "      <td>2</td>\n",
        "      <td>60</td>\n",
        "      <td>0.909091</td>\n",
        "    </tr>\n",
        "    <tr>\n",
        "      <th>3</th>\n",
        "      <td>child</td>\n",
        "      <td>1</td>\n",
        "      <td>5</td>\n",
        "      <td>0.833333</td>\n",
        "    </tr>\n",
        "    <tr>\n",
        "      <th>4</th>\n",
        "      <td>woman</td>\n",
        "      <td>3</td>\n",
        "      <td>56</td>\n",
        "      <td>0.491228</td>\n",
        "    </tr>\n",
        "    <tr>\n",
        "      <th>5</th>\n",
        "      <td>child</td>\n",
        "      <td>3</td>\n",
        "      <td>25</td>\n",
        "      <td>0.431034</td>\n",
        "    </tr>\n",
        "    <tr>\n",
        "      <th>6</th>\n",
        "      <td>man</td>\n",
        "      <td>1</td>\n",
        "      <td>42</td>\n",
        "      <td>0.352941</td>\n",
        "    </tr>\n",
        "    <tr>\n",
        "      <th>7</th>\n",
        "      <td>man</td>\n",
        "      <td>3</td>\n",
        "      <td>38</td>\n",
        "      <td>0.119122</td>\n",
        "    </tr>\n",
        "    <tr>\n",
        "      <th>8</th>\n",
        "      <td>man</td>\n",
        "      <td>2</td>\n",
        "      <td>8</td>\n",
        "      <td>0.080808</td>\n",
        "    </tr>\n",
        "  </tbody>\n",
        "</table>\n",
        "</div>"
      ]
    },
    {
      "cell_type": "markdown",
      "metadata": {
        "id": "MoU4q8K3J9ZP"
      },
      "source": [
        "### child의 나이는 몇 세부터 몇 세까지 정의되었는지 확인"
      ]
    },
    {
      "cell_type": "markdown",
      "metadata": {
        "id": "jXZlGkYvJ9ZP"
      },
      "source": [
        "hint: `.loc`와 `agg`를 활용합니다."
      ]
    },
    {
      "cell_type": "code",
      "metadata": {
        "id": "QJuc32RcJ9ZP"
      },
      "source": [
        "# 코드를 입력해 주세요\n"
      ],
      "execution_count": null,
      "outputs": []
    },
    {
      "cell_type": "markdown",
      "metadata": {
        "id": "NrR_v_UNJ9ZQ"
      },
      "source": [
        "<p><strong>[출력 결과]</strong></p><pre>min     0.42\n",
        "max    15.00\n",
        "Name: age, dtype: float64</pre>"
      ]
    },
    {
      "cell_type": "markdown",
      "metadata": {
        "id": "KkMg1fPMJ9ZQ"
      },
      "source": [
        "### 등급별(pclass) / 연령별(who) 평균 요금 비교"
      ]
    },
    {
      "cell_type": "code",
      "metadata": {
        "id": "ut9HE1OqJ9ZQ"
      },
      "source": [
        "# 코드를 입력해 주세요\n"
      ],
      "execution_count": null,
      "outputs": []
    },
    {
      "cell_type": "markdown",
      "metadata": {
        "id": "Ybuza_OKJ9ZQ"
      },
      "source": [
        "<p><strong>[출력 결과]</strong></p><div>\n",
        "<style scoped>\n",
        "    .dataframe tbody tr th:only-of-type {\n",
        "        vertical-align: middle;\n",
        "    }\n",
        "\n",
        "    .dataframe tbody tr th {\n",
        "        vertical-align: top;\n",
        "    }\n",
        "\n",
        "    .dataframe thead th {\n",
        "        text-align: right;\n",
        "    }\n",
        "</style>\n",
        "<table border=\"1\" class=\"dataframe\">\n",
        "  <thead>\n",
        "    <tr style=\"text-align: right;\">\n",
        "      <th></th>\n",
        "      <th></th>\n",
        "      <th>fare</th>\n",
        "    </tr>\n",
        "    <tr>\n",
        "      <th>pclass</th>\n",
        "      <th>who</th>\n",
        "      <th></th>\n",
        "    </tr>\n",
        "  </thead>\n",
        "  <tbody>\n",
        "    <tr>\n",
        "      <th rowspan=\"3\" valign=\"top\">1</th>\n",
        "      <th>child</th>\n",
        "      <td>139.382633</td>\n",
        "    </tr>\n",
        "    <tr>\n",
        "      <th>man</th>\n",
        "      <td>65.951086</td>\n",
        "    </tr>\n",
        "    <tr>\n",
        "      <th>woman</th>\n",
        "      <td>104.317995</td>\n",
        "    </tr>\n",
        "    <tr>\n",
        "      <th rowspan=\"3\" valign=\"top\">2</th>\n",
        "      <th>child</th>\n",
        "      <td>28.323905</td>\n",
        "    </tr>\n",
        "    <tr>\n",
        "      <th>man</th>\n",
        "      <td>19.054124</td>\n",
        "    </tr>\n",
        "    <tr>\n",
        "      <th>woman</th>\n",
        "      <td>20.868624</td>\n",
        "    </tr>\n",
        "    <tr>\n",
        "      <th rowspan=\"3\" valign=\"top\">3</th>\n",
        "      <th>child</th>\n",
        "      <td>23.220190</td>\n",
        "    </tr>\n",
        "    <tr>\n",
        "      <th>man</th>\n",
        "      <td>11.340213</td>\n",
        "    </tr>\n",
        "    <tr>\n",
        "      <th>woman</th>\n",
        "      <td>15.354351</td>\n",
        "    </tr>\n",
        "  </tbody>\n",
        "</table>\n",
        "</div>"
      ]
    },
    {
      "cell_type": "markdown",
      "metadata": {
        "id": "SFa4ayarJ9ZQ"
      },
      "source": [
        "### 부자는 살았을까? (fare 요금 기준 상위 10%의 생존율 확인)"
      ]
    },
    {
      "cell_type": "markdown",
      "metadata": {
        "id": "og34Dnh9J9ZQ"
      },
      "source": [
        "fare 요금 기준 상위 10% 기준 요금 확인"
      ]
    },
    {
      "cell_type": "code",
      "metadata": {
        "id": "ZVpaKbSTJ9ZQ"
      },
      "source": [
        "# 코드를 입력해 주세요\n"
      ],
      "execution_count": null,
      "outputs": []
    },
    {
      "cell_type": "markdown",
      "metadata": {
        "id": "mwVzJi0aJ9ZQ"
      },
      "source": [
        "<p><strong>[출력 결과]</strong></p><pre>77.9583</pre>"
      ]
    },
    {
      "cell_type": "markdown",
      "metadata": {
        "id": "j6L7WgfDJ9ZQ"
      },
      "source": [
        "부자의 데이터 개수와 생존율 확인"
      ]
    },
    {
      "cell_type": "code",
      "metadata": {
        "id": "hjZtS-KlJ9ZQ"
      },
      "source": [
        "# 코드를 입력해 주세요\n"
      ],
      "execution_count": null,
      "outputs": []
    },
    {
      "cell_type": "markdown",
      "metadata": {
        "id": "NuVx94PNJ9ZR"
      },
      "source": [
        "<p><strong>[출력 결과]</strong></p><pre>count    90.000000\n",
        "mean      0.766667\n",
        "Name: survived, dtype: float64</pre>"
      ]
    },
    {
      "cell_type": "markdown",
      "metadata": {
        "id": "jDBbvFpOJ9ZR"
      },
      "source": [
        "### 생존자의 평균 나이와 사망자의 평균 나이 비교"
      ]
    },
    {
      "cell_type": "code",
      "metadata": {
        "id": "F0cGOGGiJ9ZR"
      },
      "source": [
        "# 코드를 입력해 주세요\n"
      ],
      "execution_count": null,
      "outputs": []
    },
    {
      "cell_type": "markdown",
      "metadata": {
        "id": "9wd_Jwc1J9ZR"
      },
      "source": [
        "<p><strong>[출력 결과]</strong></p><pre>survived\n",
        "0    30.626179\n",
        "1    28.343690\n",
        "Name: age, dtype: float64</pre>"
      ]
    },
    {
      "cell_type": "markdown",
      "metadata": {
        "id": "wGLJoVlOJ9ZR"
      },
      "source": [
        "### deck 정보가 NaN인 경우와 채워져 있는 경우 생존율 비교"
      ]
    },
    {
      "cell_type": "markdown",
      "metadata": {
        "id": "edy7xvNYJ9ZR"
      },
      "source": [
        "deck 정보가 결측치인 경우 생존율"
      ]
    },
    {
      "cell_type": "code",
      "metadata": {
        "id": "rwOZcti0J9ZR"
      },
      "source": [
        "# 코드를 입력해 주세요\n"
      ],
      "execution_count": null,
      "outputs": []
    },
    {
      "cell_type": "markdown",
      "metadata": {
        "id": "UXMrEu0VJ9ZR"
      },
      "source": [
        "<p><strong>[출력 결과]</strong></p><pre>0.29941860465116277</pre>"
      ]
    },
    {
      "cell_type": "markdown",
      "metadata": {
        "id": "2F2ntdFrJ9ZR"
      },
      "source": [
        "deck 정보가 결측치가 아닌 경우 생존율"
      ]
    },
    {
      "cell_type": "code",
      "metadata": {
        "id": "Cs3Lw6SGJ9ZS"
      },
      "source": [
        "# 코드를 입력해 주세요\n"
      ],
      "execution_count": null,
      "outputs": []
    },
    {
      "cell_type": "markdown",
      "metadata": {
        "id": "x3IRUPnTJ9ZS"
      },
      "source": [
        "<p><strong>[출력 결과]</strong></p><pre>0.6699507389162561</pre>"
      ]
    },
    {
      "cell_type": "markdown",
      "metadata": {
        "id": "nRFnGB2lJ9ZS"
      },
      "source": [
        "## STEP 6: 전처리 (pre-processing)"
      ]
    },
    {
      "cell_type": "markdown",
      "metadata": {
        "id": "8ZqxzyIEGv0J"
      },
      "source": [
        "### 결측치 처리"
      ]
    },
    {
      "cell_type": "markdown",
      "metadata": {
        "id": "8bbgH7A6J9ZS"
      },
      "source": [
        "a) 결측치 확인"
      ]
    },
    {
      "cell_type": "code",
      "metadata": {
        "id": "TvbLH004J9ZS"
      },
      "source": [
        "# 코드를 입력해 주세요\n"
      ],
      "execution_count": null,
      "outputs": []
    },
    {
      "cell_type": "markdown",
      "metadata": {
        "id": "Vp_4fQ5GJ9ZS"
      },
      "source": [
        "<p><strong>[출력 결과]</strong></p><pre>survived         0\n",
        "pclass           0\n",
        "sex              0\n",
        "age            177\n",
        "sibsp            0\n",
        "parch            0\n",
        "fare             0\n",
        "embarked         2\n",
        "class            0\n",
        "who              0\n",
        "adult_male       0\n",
        "deck           688\n",
        "embark_town      2\n",
        "alive            0\n",
        "alone            0\n",
        "dtype: int64</pre>"
      ]
    },
    {
      "cell_type": "markdown",
      "metadata": {
        "id": "hWqv-RbsJ9ZS"
      },
      "source": [
        "b) `embarked` 컬럼은 **최빈값(mode)**으로 채워 주세요"
      ]
    },
    {
      "cell_type": "code",
      "metadata": {
        "id": "khQMM9yQJ9ZS"
      },
      "source": [
        "# 코드를 입력해 주세요\n"
      ],
      "execution_count": null,
      "outputs": []
    },
    {
      "cell_type": "code",
      "metadata": {
        "id": "sd0lD3RVJ9ZT"
      },
      "source": [
        "# 코드 검증 (Cell 실행시 에러가 나지 않아야 함)\n",
        "assert 0 == df['embarked'].isnull().sum()"
      ],
      "execution_count": null,
      "outputs": []
    },
    {
      "cell_type": "markdown",
      "metadata": {
        "id": "czK6St2lJ9ZT"
      },
      "source": [
        "c) `age` 컬럼의 결측치 처리\n",
        "- 남자라면 => 남자 평균 나이로 채웁니다.\n",
        "- 여자라면 => 여자 평균 나이로 채웁니다."
      ]
    },
    {
      "cell_type": "markdown",
      "metadata": {
        "id": "lZQNrh-FJ9ZT"
      },
      "source": [
        "남성과 여성의 평균 나이를 출력"
      ]
    },
    {
      "cell_type": "code",
      "metadata": {
        "id": "XdkjuGhhJ9ZT"
      },
      "source": [
        "# 코드를 입력해 주세요\n"
      ],
      "execution_count": null,
      "outputs": []
    },
    {
      "cell_type": "markdown",
      "metadata": {
        "id": "fmPT9PNAJ9ZT"
      },
      "source": [
        "<p><strong>[출력 결과]</strong></p><pre>sex\n",
        "female    27.915709\n",
        "male      30.726645\n",
        "Name: age, dtype: float64</pre>"
      ]
    },
    {
      "cell_type": "code",
      "metadata": {
        "id": "7_NkevrYJ9ZT"
      },
      "source": [
        "# 코드를 입력해 주세요\n"
      ],
      "execution_count": null,
      "outputs": []
    },
    {
      "cell_type": "code",
      "metadata": {
        "id": "96qLLK1TzOIq"
      },
      "source": [
        "# 코드 검증 (Cell 실행시 에러가 나지 않아야 함)\n",
        "assert 27.92 == round(df.groupby('sex')['age'].mean()['female'], 2)\n",
        "assert 30.73 == round(df.groupby('sex')['age'].mean()['male'], 2)"
      ],
      "execution_count": null,
      "outputs": []
    },
    {
      "cell_type": "markdown",
      "metadata": {
        "id": "M7Y70-kuJ9ZT"
      },
      "source": [
        "- embarked는 최빈값(most frequent)으로 일괄 채워주세요"
      ]
    },
    {
      "cell_type": "markdown",
      "metadata": {
        "id": "Fc_HkYg9J9ZT"
      },
      "source": [
        "d) `deck` 컬럼 결측치는 **No Data**로 채웁니다."
      ]
    },
    {
      "cell_type": "code",
      "metadata": {
        "id": "7jQ_KAkhJ9ZT"
      },
      "source": [
        "df['deck'].value_counts()"
      ],
      "execution_count": null,
      "outputs": []
    },
    {
      "cell_type": "markdown",
      "metadata": {
        "id": "uH6W5meNJ9ZU"
      },
      "source": [
        "CategoricalDtype 임을 염두해 주세요"
      ]
    },
    {
      "cell_type": "code",
      "metadata": {
        "id": "buGexymxJ9ZU"
      },
      "source": [
        "df['deck'].dtype"
      ],
      "execution_count": null,
      "outputs": []
    },
    {
      "cell_type": "markdown",
      "metadata": {
        "id": "s-oQlgsjJ9ZU"
      },
      "source": [
        "`No Data`를 카테고리에 먼저 **추가**하기"
      ]
    },
    {
      "cell_type": "code",
      "metadata": {
        "id": "0Y44tDqvJ9ZU"
      },
      "source": [
        "# 코드를 입력해 주세요\n"
      ],
      "execution_count": null,
      "outputs": []
    },
    {
      "cell_type": "markdown",
      "metadata": {
        "id": "cgveT-qwJ9ZU"
      },
      "source": [
        "`No Data`로 결측치 채우기"
      ]
    },
    {
      "cell_type": "code",
      "metadata": {
        "id": "M8gw1xkPJ9ZU"
      },
      "source": [
        "# 코드를 입력해 주세요\n"
      ],
      "execution_count": null,
      "outputs": []
    },
    {
      "cell_type": "code",
      "metadata": {
        "id": "BZOLLsh9J9ZU"
      },
      "source": [
        "df['deck'].value_counts()"
      ],
      "execution_count": null,
      "outputs": []
    },
    {
      "cell_type": "markdown",
      "metadata": {
        "id": "DubF5BGDGv0D"
      },
      "source": [
        "### 중복된 컬럼 제거\n",
        "\n",
        "제거 대상 컬럼\n",
        "- `class`, `embark_town`, `alive`"
      ]
    },
    {
      "cell_type": "code",
      "metadata": {
        "id": "vPkanbBQJ9ZU"
      },
      "source": [
        "df.head()"
      ],
      "execution_count": null,
      "outputs": []
    },
    {
      "cell_type": "code",
      "metadata": {
        "id": "HcQ_VEcIGv0D"
      },
      "source": [
        "# 코드를 입력해 주세요\n"
      ],
      "execution_count": null,
      "outputs": []
    },
    {
      "cell_type": "code",
      "metadata": {
        "id": "R_1SbVo1J9ZV"
      },
      "source": [
        "df.head()"
      ],
      "execution_count": null,
      "outputs": []
    },
    {
      "cell_type": "markdown",
      "metadata": {
        "id": "abbBAsTGJ9ZV"
      },
      "source": [
        "### 특성 공학 (feature engineering)"
      ]
    },
    {
      "cell_type": "markdown",
      "metadata": {
        "id": "F6YZWbaWGv0O"
      },
      "source": [
        "a) 가족의 숫자는 `sibsp` + `parch` 숫자 입니다. `family` 컬럼을 만들고 **sibsp + parch 더한 값을 입력**해 주세요"
      ]
    },
    {
      "cell_type": "code",
      "metadata": {
        "id": "TIuYgywaGv0O"
      },
      "source": [
        "# 코드를 입력해 주세요\n"
      ],
      "execution_count": null,
      "outputs": []
    },
    {
      "cell_type": "code",
      "metadata": {
        "id": "ZQEdQ42ZGv0P"
      },
      "source": [
        "df.head()"
      ],
      "execution_count": null,
      "outputs": []
    },
    {
      "cell_type": "markdown",
      "metadata": {
        "id": "aFev6yNL0F5I"
      },
      "source": [
        "다음을 수행하세요\n",
        "\n",
        "- 성별(sex), 가족수(family)별 생존율을 확인\n",
        "- `reset_index()`후 생존율 내림차순 정렬"
      ]
    },
    {
      "cell_type": "markdown",
      "metadata": {
        "id": "7ddULgJ3J9ZV"
      },
      "source": [
        "b) 성별 가족수 별 생존율 확인"
      ]
    },
    {
      "cell_type": "code",
      "metadata": {
        "id": "ONxoT9siJ9ZW"
      },
      "source": [
        "# 코드를 입력해 주세요\n"
      ],
      "execution_count": null,
      "outputs": []
    },
    {
      "cell_type": "markdown",
      "metadata": {
        "id": "KsSzhuZqJ9ZW"
      },
      "source": [
        "<p><strong>[출력 결과]</strong></p><div>\n",
        "<style scoped>\n",
        "    .dataframe tbody tr th:only-of-type {\n",
        "        vertical-align: middle;\n",
        "    }\n",
        "\n",
        "    .dataframe tbody tr th {\n",
        "        vertical-align: top;\n",
        "    }\n",
        "\n",
        "    .dataframe thead th {\n",
        "        text-align: right;\n",
        "    }\n",
        "</style>\n",
        "<table border=\"1\" class=\"dataframe\">\n",
        "  <thead>\n",
        "    <tr style=\"text-align: right;\">\n",
        "      <th></th>\n",
        "      <th></th>\n",
        "      <th>survived</th>\n",
        "    </tr>\n",
        "    <tr>\n",
        "      <th>sex</th>\n",
        "      <th>family</th>\n",
        "      <th></th>\n",
        "    </tr>\n",
        "  </thead>\n",
        "  <tbody>\n",
        "    <tr>\n",
        "      <th rowspan=\"9\" valign=\"top\">female</th>\n",
        "      <th>0</th>\n",
        "      <td>0.785714</td>\n",
        "    </tr>\n",
        "    <tr>\n",
        "      <th>1</th>\n",
        "      <td>0.816092</td>\n",
        "    </tr>\n",
        "    <tr>\n",
        "      <th>2</th>\n",
        "      <td>0.775510</td>\n",
        "    </tr>\n",
        "    <tr>\n",
        "      <th>3</th>\n",
        "      <td>0.842105</td>\n",
        "    </tr>\n",
        "    <tr>\n",
        "      <th>4</th>\n",
        "      <td>0.250000</td>\n",
        "    </tr>\n",
        "    <tr>\n",
        "      <th>5</th>\n",
        "      <td>0.375000</td>\n",
        "    </tr>\n",
        "    <tr>\n",
        "      <th>6</th>\n",
        "      <td>0.375000</td>\n",
        "    </tr>\n",
        "    <tr>\n",
        "      <th>7</th>\n",
        "      <td>0.000000</td>\n",
        "    </tr>\n",
        "    <tr>\n",
        "      <th>10</th>\n",
        "      <td>0.000000</td>\n",
        "    </tr>\n",
        "    <tr>\n",
        "      <th rowspan=\"9\" valign=\"top\">male</th>\n",
        "      <th>0</th>\n",
        "      <td>0.155718</td>\n",
        "    </tr>\n",
        "    <tr>\n",
        "      <th>1</th>\n",
        "      <td>0.243243</td>\n",
        "    </tr>\n",
        "    <tr>\n",
        "      <th>2</th>\n",
        "      <td>0.396226</td>\n",
        "    </tr>\n",
        "    <tr>\n",
        "      <th>3</th>\n",
        "      <td>0.500000</td>\n",
        "    </tr>\n",
        "    <tr>\n",
        "      <th>4</th>\n",
        "      <td>0.000000</td>\n",
        "    </tr>\n",
        "    <tr>\n",
        "      <th>5</th>\n",
        "      <td>0.000000</td>\n",
        "    </tr>\n",
        "    <tr>\n",
        "      <th>6</th>\n",
        "      <td>0.250000</td>\n",
        "    </tr>\n",
        "    <tr>\n",
        "      <th>7</th>\n",
        "      <td>0.000000</td>\n",
        "    </tr>\n",
        "    <tr>\n",
        "      <th>10</th>\n",
        "      <td>0.000000</td>\n",
        "    </tr>\n",
        "  </tbody>\n",
        "</table>\n",
        "</div>"
      ]
    },
    {
      "cell_type": "markdown",
      "metadata": {
        "id": "Kxldxx0WJ9ZW"
      },
      "source": [
        "c) 생존율 TOP 5 출력"
      ]
    },
    {
      "cell_type": "code",
      "metadata": {
        "id": "zMB3q95SJ9ZW"
      },
      "source": [
        "# 코드를 입력해 주세요\n"
      ],
      "execution_count": null,
      "outputs": []
    },
    {
      "cell_type": "markdown",
      "metadata": {
        "id": "9GS3JiWIJ9ZW"
      },
      "source": [
        "<p><strong>[출력 결과]</strong></p><div>\n",
        "<style scoped>\n",
        "    .dataframe tbody tr th:only-of-type {\n",
        "        vertical-align: middle;\n",
        "    }\n",
        "\n",
        "    .dataframe tbody tr th {\n",
        "        vertical-align: top;\n",
        "    }\n",
        "\n",
        "    .dataframe thead th {\n",
        "        text-align: right;\n",
        "    }\n",
        "</style>\n",
        "<table border=\"1\" class=\"dataframe\">\n",
        "  <thead>\n",
        "    <tr style=\"text-align: right;\">\n",
        "      <th></th>\n",
        "      <th>sex</th>\n",
        "      <th>family</th>\n",
        "      <th>survived</th>\n",
        "    </tr>\n",
        "  </thead>\n",
        "  <tbody>\n",
        "    <tr>\n",
        "      <th>0</th>\n",
        "      <td>female</td>\n",
        "      <td>3</td>\n",
        "      <td>0.842105</td>\n",
        "    </tr>\n",
        "    <tr>\n",
        "      <th>1</th>\n",
        "      <td>female</td>\n",
        "      <td>1</td>\n",
        "      <td>0.816092</td>\n",
        "    </tr>\n",
        "    <tr>\n",
        "      <th>2</th>\n",
        "      <td>female</td>\n",
        "      <td>0</td>\n",
        "      <td>0.785714</td>\n",
        "    </tr>\n",
        "    <tr>\n",
        "      <th>3</th>\n",
        "      <td>female</td>\n",
        "      <td>2</td>\n",
        "      <td>0.775510</td>\n",
        "    </tr>\n",
        "    <tr>\n",
        "      <th>4</th>\n",
        "      <td>male</td>\n",
        "      <td>3</td>\n",
        "      <td>0.500000</td>\n",
        "    </tr>\n",
        "  </tbody>\n",
        "</table>\n",
        "</div>"
      ]
    },
    {
      "cell_type": "markdown",
      "metadata": {
        "id": "1ZsV8w7oJ9ZX"
      },
      "source": [
        "d) 생존율 하위 TOP 10 출력"
      ]
    },
    {
      "cell_type": "code",
      "metadata": {
        "id": "t7BmgW_0J9ZX"
      },
      "source": [
        "# 코드를 입력해 주세요\n"
      ],
      "execution_count": null,
      "outputs": []
    },
    {
      "cell_type": "markdown",
      "metadata": {
        "id": "n0nr5bBoJ9ZX"
      },
      "source": [
        "<p><strong>[출력 결과]</strong></p><div>\n",
        "<style scoped>\n",
        "    .dataframe tbody tr th:only-of-type {\n",
        "        vertical-align: middle;\n",
        "    }\n",
        "\n",
        "    .dataframe tbody tr th {\n",
        "        vertical-align: top;\n",
        "    }\n",
        "\n",
        "    .dataframe thead th {\n",
        "        text-align: right;\n",
        "    }\n",
        "</style>\n",
        "<table border=\"1\" class=\"dataframe\">\n",
        "  <thead>\n",
        "    <tr style=\"text-align: right;\">\n",
        "      <th></th>\n",
        "      <th>sex</th>\n",
        "      <th>family</th>\n",
        "      <th>survived</th>\n",
        "    </tr>\n",
        "  </thead>\n",
        "  <tbody>\n",
        "    <tr>\n",
        "      <th>0</th>\n",
        "      <td>female</td>\n",
        "      <td>4</td>\n",
        "      <td>0.250000</td>\n",
        "    </tr>\n",
        "    <tr>\n",
        "      <th>1</th>\n",
        "      <td>male</td>\n",
        "      <td>6</td>\n",
        "      <td>0.250000</td>\n",
        "    </tr>\n",
        "    <tr>\n",
        "      <th>2</th>\n",
        "      <td>male</td>\n",
        "      <td>1</td>\n",
        "      <td>0.243243</td>\n",
        "    </tr>\n",
        "    <tr>\n",
        "      <th>3</th>\n",
        "      <td>male</td>\n",
        "      <td>0</td>\n",
        "      <td>0.155718</td>\n",
        "    </tr>\n",
        "    <tr>\n",
        "      <th>4</th>\n",
        "      <td>female</td>\n",
        "      <td>10</td>\n",
        "      <td>0.000000</td>\n",
        "    </tr>\n",
        "    <tr>\n",
        "      <th>5</th>\n",
        "      <td>male</td>\n",
        "      <td>4</td>\n",
        "      <td>0.000000</td>\n",
        "    </tr>\n",
        "    <tr>\n",
        "      <th>6</th>\n",
        "      <td>male</td>\n",
        "      <td>5</td>\n",
        "      <td>0.000000</td>\n",
        "    </tr>\n",
        "    <tr>\n",
        "      <th>7</th>\n",
        "      <td>female</td>\n",
        "      <td>7</td>\n",
        "      <td>0.000000</td>\n",
        "    </tr>\n",
        "    <tr>\n",
        "      <th>8</th>\n",
        "      <td>male</td>\n",
        "      <td>7</td>\n",
        "      <td>0.000000</td>\n",
        "    </tr>\n",
        "    <tr>\n",
        "      <th>9</th>\n",
        "      <td>male</td>\n",
        "      <td>10</td>\n",
        "      <td>0.000000</td>\n",
        "    </tr>\n",
        "  </tbody>\n",
        "</table>\n",
        "</div>"
      ]
    },
    {
      "cell_type": "markdown",
      "metadata": {
        "id": "ZfoVHe_MGv0K"
      },
      "source": [
        "e) apply 함수를 활용하여, 남자는 1, 여자는 0으로 값을 변경하고 `gender` 컬럼을 새로 만들어 적용하세요"
      ]
    },
    {
      "cell_type": "code",
      "metadata": {
        "id": "9BV0IuDmzOI0"
      },
      "source": [
        "# 코드를 입력해 주세요\n"
      ],
      "execution_count": null,
      "outputs": []
    },
    {
      "cell_type": "code",
      "metadata": {
        "id": "iVbp95b5J9ZX"
      },
      "source": [
        "# 코드 검증\n",
        "df['gender'].value_counts()"
      ],
      "execution_count": null,
      "outputs": []
    },
    {
      "cell_type": "markdown",
      "metadata": {
        "id": "oX0oHX39J9ZX"
      },
      "source": [
        "<p><strong>[출력 결과]</strong></p><pre>1    577\n",
        "0    314\n",
        "Name: gender, dtype: int64</pre>"
      ]
    },
    {
      "cell_type": "markdown",
      "metadata": {
        "id": "P7czW8JuJ9ZY"
      },
      "source": [
        "f) 요금을 5구간으로 나누어 `fare_bin` 컬럼을 새로 만들어 적용하세요 (동일한 분포를 갖도록 `pd.qcut()`을 사용합니다)"
      ]
    },
    {
      "cell_type": "code",
      "metadata": {
        "id": "_bEaEBYwJ9ZY"
      },
      "source": [
        "# 코드를 입력해 주세요\n"
      ],
      "execution_count": null,
      "outputs": []
    },
    {
      "cell_type": "code",
      "metadata": {
        "id": "wz4t8JMrJ9ZY"
      },
      "source": [
        "df['fare_bin'].value_counts()"
      ],
      "execution_count": null,
      "outputs": []
    },
    {
      "cell_type": "markdown",
      "metadata": {
        "id": "DkiMoBCfJ9ZY"
      },
      "source": [
        "g) 나이를 10구간으로 나누어 `age_bin` 컬럼을 새로 만들어 적용하세요 (동일한 구간을 갖도록 `pd.cut()`을 사용합니다.)"
      ]
    },
    {
      "cell_type": "code",
      "metadata": {
        "id": "n3hsZD_hJ9ZY"
      },
      "source": [
        "# 코드를 입력해 주세요\n"
      ],
      "execution_count": null,
      "outputs": []
    },
    {
      "cell_type": "code",
      "metadata": {
        "id": "RwA58WjPJ9ZY"
      },
      "source": [
        "df['age_bin'].value_counts()"
      ],
      "execution_count": null,
      "outputs": []
    }
  ]
}