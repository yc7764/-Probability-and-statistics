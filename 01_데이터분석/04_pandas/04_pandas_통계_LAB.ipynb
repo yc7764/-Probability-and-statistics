{
  "nbformat": 4,
  "nbformat_minor": 0,
  "metadata": {
    "colab": {
      "provenance": [],
      "collapsed_sections": []
    },
    "kernelspec": {
      "display_name": "Python 3",
      "language": "python",
      "name": "python3"
    },
    "language_info": {
      "codemirror_mode": {
        "name": "ipython",
        "version": 3
      },
      "file_extension": ".py",
      "mimetype": "text/x-python",
      "name": "python",
      "nbconvert_exporter": "python",
      "pygments_lexer": "ipython3",
      "version": "3.8.3"
    }
  },
  "cells": [
    {
      "cell_type": "markdown",
      "metadata": {
        "id": "rGOsOJrOA9XF"
      },
      "source": [
        "# 패키지 설치"
      ]
    },
    {
      "cell_type": "code",
      "metadata": {
        "id": "T7IwuQOOA9XJ",
        "outputId": "0a9563a6-e788-4701-e9ab-ba264234ec07"
      },
      "source": [
        "!pip install mySUNI"
      ],
      "execution_count": null,
      "outputs": [
        {
          "name": "stdout",
          "output_type": "stream",
          "text": [
            "Requirement already satisfied: mySUNI in c:\\users\\tbcas\\anaconda3\\lib\\site-packages (1.2.2)\n",
            "Requirement already satisfied: tqdm in c:\\users\\tbcas\\anaconda3\\lib\\site-packages (from mySUNI) (4.47.0)\n"
          ]
        }
      ]
    },
    {
      "cell_type": "markdown",
      "metadata": {
        "id": "1Xr3jDeqA9XL"
      },
      "source": [
        "## 모듈 import"
      ]
    },
    {
      "cell_type": "code",
      "metadata": {
        "id": "RGhyFtVF0F0m"
      },
      "source": [
        "import numpy as np\n",
        "import pandas as pd\n",
        "import seaborn as sns\n",
        "from mySUNI import cds\n",
        "from IPython.display import Image"
      ],
      "execution_count": null,
      "outputs": []
    },
    {
      "cell_type": "markdown",
      "metadata": {
        "id": "0EhD0ni9A9XN"
      },
      "source": [
        "## 데이터셋 로드"
      ]
    },
    {
      "cell_type": "code",
      "metadata": {
        "id": "1B9xDJ9OA9XN",
        "outputId": "19b886ce-efd6-4f4e-cd90-87ddb46a3e54"
      },
      "source": [
        "df = sns.load_dataset('titanic')\n",
        "df.head()"
      ],
      "execution_count": null,
      "outputs": [
        {
          "data": {
            "text/html": [
              "<div>\n",
              "<style scoped>\n",
              "    .dataframe tbody tr th:only-of-type {\n",
              "        vertical-align: middle;\n",
              "    }\n",
              "\n",
              "    .dataframe tbody tr th {\n",
              "        vertical-align: top;\n",
              "    }\n",
              "\n",
              "    .dataframe thead th {\n",
              "        text-align: right;\n",
              "    }\n",
              "</style>\n",
              "<table border=\"1\" class=\"dataframe\">\n",
              "  <thead>\n",
              "    <tr style=\"text-align: right;\">\n",
              "      <th></th>\n",
              "      <th>survived</th>\n",
              "      <th>pclass</th>\n",
              "      <th>sex</th>\n",
              "      <th>age</th>\n",
              "      <th>sibsp</th>\n",
              "      <th>parch</th>\n",
              "      <th>fare</th>\n",
              "      <th>embarked</th>\n",
              "      <th>class</th>\n",
              "      <th>who</th>\n",
              "      <th>adult_male</th>\n",
              "      <th>deck</th>\n",
              "      <th>embark_town</th>\n",
              "      <th>alive</th>\n",
              "      <th>alone</th>\n",
              "    </tr>\n",
              "  </thead>\n",
              "  <tbody>\n",
              "    <tr>\n",
              "      <th>0</th>\n",
              "      <td>0</td>\n",
              "      <td>3</td>\n",
              "      <td>male</td>\n",
              "      <td>22.0</td>\n",
              "      <td>1</td>\n",
              "      <td>0</td>\n",
              "      <td>7.2500</td>\n",
              "      <td>S</td>\n",
              "      <td>Third</td>\n",
              "      <td>man</td>\n",
              "      <td>True</td>\n",
              "      <td>NaN</td>\n",
              "      <td>Southampton</td>\n",
              "      <td>no</td>\n",
              "      <td>False</td>\n",
              "    </tr>\n",
              "    <tr>\n",
              "      <th>1</th>\n",
              "      <td>1</td>\n",
              "      <td>1</td>\n",
              "      <td>female</td>\n",
              "      <td>38.0</td>\n",
              "      <td>1</td>\n",
              "      <td>0</td>\n",
              "      <td>71.2833</td>\n",
              "      <td>C</td>\n",
              "      <td>First</td>\n",
              "      <td>woman</td>\n",
              "      <td>False</td>\n",
              "      <td>C</td>\n",
              "      <td>Cherbourg</td>\n",
              "      <td>yes</td>\n",
              "      <td>False</td>\n",
              "    </tr>\n",
              "    <tr>\n",
              "      <th>2</th>\n",
              "      <td>1</td>\n",
              "      <td>3</td>\n",
              "      <td>female</td>\n",
              "      <td>26.0</td>\n",
              "      <td>0</td>\n",
              "      <td>0</td>\n",
              "      <td>7.9250</td>\n",
              "      <td>S</td>\n",
              "      <td>Third</td>\n",
              "      <td>woman</td>\n",
              "      <td>False</td>\n",
              "      <td>NaN</td>\n",
              "      <td>Southampton</td>\n",
              "      <td>yes</td>\n",
              "      <td>True</td>\n",
              "    </tr>\n",
              "    <tr>\n",
              "      <th>3</th>\n",
              "      <td>1</td>\n",
              "      <td>1</td>\n",
              "      <td>female</td>\n",
              "      <td>35.0</td>\n",
              "      <td>1</td>\n",
              "      <td>0</td>\n",
              "      <td>53.1000</td>\n",
              "      <td>S</td>\n",
              "      <td>First</td>\n",
              "      <td>woman</td>\n",
              "      <td>False</td>\n",
              "      <td>C</td>\n",
              "      <td>Southampton</td>\n",
              "      <td>yes</td>\n",
              "      <td>False</td>\n",
              "    </tr>\n",
              "    <tr>\n",
              "      <th>4</th>\n",
              "      <td>0</td>\n",
              "      <td>3</td>\n",
              "      <td>male</td>\n",
              "      <td>35.0</td>\n",
              "      <td>0</td>\n",
              "      <td>0</td>\n",
              "      <td>8.0500</td>\n",
              "      <td>S</td>\n",
              "      <td>Third</td>\n",
              "      <td>man</td>\n",
              "      <td>True</td>\n",
              "      <td>NaN</td>\n",
              "      <td>Southampton</td>\n",
              "      <td>no</td>\n",
              "      <td>True</td>\n",
              "    </tr>\n",
              "  </tbody>\n",
              "</table>\n",
              "</div>"
            ],
            "text/plain": [
              "   survived  pclass     sex   age  sibsp  parch     fare embarked  class  \\\n",
              "0         0       3    male  22.0      1      0   7.2500        S  Third   \n",
              "1         1       1  female  38.0      1      0  71.2833        C  First   \n",
              "2         1       3  female  26.0      0      0   7.9250        S  Third   \n",
              "3         1       1  female  35.0      1      0  53.1000        S  First   \n",
              "4         0       3    male  35.0      0      0   8.0500        S  Third   \n",
              "\n",
              "     who  adult_male deck  embark_town alive  alone  \n",
              "0    man        True  NaN  Southampton    no  False  \n",
              "1  woman       False    C    Cherbourg   yes  False  \n",
              "2  woman       False  NaN  Southampton   yes   True  \n",
              "3  woman       False    C  Southampton   yes  False  \n",
              "4    man        True  NaN  Southampton    no   True  "
            ]
          },
          "execution_count": 4,
          "metadata": {},
          "output_type": "execute_result"
        }
      ]
    },
    {
      "cell_type": "markdown",
      "metadata": {
        "id": "UdedIBo0A9XO"
      },
      "source": [
        "**컬럼(columns) 설명**\n",
        "\n",
        "- survivied: 생존여부 (1: 생존, 0: 사망)\n",
        "- pclass: 좌석 등급 (1등급, 2등급, 3등급)\n",
        "- sex: 성별\n",
        "- age: 나이\n",
        "- sibsp: 형제 + 배우자 수\n",
        "- parch: 부모 + 자녀 수\n",
        "- fare: 좌석 요금\n",
        "- embarked: 탑승 항구 (S, C, Q)\n",
        "- class: pclass와 동일\n",
        "- who: 성별과 동일\n",
        "- adult_male: 성인 남자 여부\n",
        "- deck: 데크 번호 (알파벳 + 숫자 혼용)\n",
        "- embark_town: 탑승 항구 이름\n",
        "- alive: 생존여부 (yes, no)\n",
        "- alone: 혼자 탑승 여부"
      ]
    },
    {
      "cell_type": "markdown",
      "metadata": {
        "id": "ZtiT9FxJGvyh"
      },
      "source": [
        "# 통계\n",
        "\n",
        "**통계**는 데이터 분석에서 굉장히 **중요한 요소**입니다.\n",
        "\n",
        "데이터에 대한 통계 계산식을 Pandas 함수로 제공하기 때문에 어렵지 않게 통계 값을 산출할 수 있습니다."
      ]
    },
    {
      "cell_type": "markdown",
      "metadata": {
        "id": "pTzBFtSbA9XQ"
      },
      "source": [
        "## describe() - 요약통계\n",
        "\n",
        "전반적인 주요 통계를 확인할 수 있습니다.\n",
        "\n",
        "기본 값으로 **수치형(Numerical) 컬럼**에 대한 통계표를 보여줍니다."
      ]
    },
    {
      "cell_type": "markdown",
      "metadata": {
        "id": "nOYExP2rA9XR"
      },
      "source": [
        "- **count**: 데이터 개수\n",
        "- **mean**: 평균\n",
        "- **std**: 표준편차\n",
        "- **min**: 최솟값\n",
        "- **max**: 최대값"
      ]
    },
    {
      "cell_type": "code",
      "metadata": {
        "id": "RWOeSQNiA9XR",
        "outputId": "d33ab5cc-3090-4a47-de9b-ba8989e5c4e1"
      },
      "source": [
        "df.describe()"
      ],
      "execution_count": null,
      "outputs": [
        {
          "data": {
            "text/html": [
              "<div>\n",
              "<style scoped>\n",
              "    .dataframe tbody tr th:only-of-type {\n",
              "        vertical-align: middle;\n",
              "    }\n",
              "\n",
              "    .dataframe tbody tr th {\n",
              "        vertical-align: top;\n",
              "    }\n",
              "\n",
              "    .dataframe thead th {\n",
              "        text-align: right;\n",
              "    }\n",
              "</style>\n",
              "<table border=\"1\" class=\"dataframe\">\n",
              "  <thead>\n",
              "    <tr style=\"text-align: right;\">\n",
              "      <th></th>\n",
              "      <th>survived</th>\n",
              "      <th>pclass</th>\n",
              "      <th>age</th>\n",
              "      <th>sibsp</th>\n",
              "      <th>parch</th>\n",
              "      <th>fare</th>\n",
              "    </tr>\n",
              "  </thead>\n",
              "  <tbody>\n",
              "    <tr>\n",
              "      <th>count</th>\n",
              "      <td>891.000000</td>\n",
              "      <td>891.000000</td>\n",
              "      <td>714.000000</td>\n",
              "      <td>891.000000</td>\n",
              "      <td>891.000000</td>\n",
              "      <td>891.000000</td>\n",
              "    </tr>\n",
              "    <tr>\n",
              "      <th>mean</th>\n",
              "      <td>0.383838</td>\n",
              "      <td>2.308642</td>\n",
              "      <td>29.699118</td>\n",
              "      <td>0.523008</td>\n",
              "      <td>0.381594</td>\n",
              "      <td>32.204208</td>\n",
              "    </tr>\n",
              "    <tr>\n",
              "      <th>std</th>\n",
              "      <td>0.486592</td>\n",
              "      <td>0.836071</td>\n",
              "      <td>14.526497</td>\n",
              "      <td>1.102743</td>\n",
              "      <td>0.806057</td>\n",
              "      <td>49.693429</td>\n",
              "    </tr>\n",
              "    <tr>\n",
              "      <th>min</th>\n",
              "      <td>0.000000</td>\n",
              "      <td>1.000000</td>\n",
              "      <td>0.420000</td>\n",
              "      <td>0.000000</td>\n",
              "      <td>0.000000</td>\n",
              "      <td>0.000000</td>\n",
              "    </tr>\n",
              "    <tr>\n",
              "      <th>25%</th>\n",
              "      <td>0.000000</td>\n",
              "      <td>2.000000</td>\n",
              "      <td>20.125000</td>\n",
              "      <td>0.000000</td>\n",
              "      <td>0.000000</td>\n",
              "      <td>7.910400</td>\n",
              "    </tr>\n",
              "    <tr>\n",
              "      <th>50%</th>\n",
              "      <td>0.000000</td>\n",
              "      <td>3.000000</td>\n",
              "      <td>28.000000</td>\n",
              "      <td>0.000000</td>\n",
              "      <td>0.000000</td>\n",
              "      <td>14.454200</td>\n",
              "    </tr>\n",
              "    <tr>\n",
              "      <th>75%</th>\n",
              "      <td>1.000000</td>\n",
              "      <td>3.000000</td>\n",
              "      <td>38.000000</td>\n",
              "      <td>1.000000</td>\n",
              "      <td>0.000000</td>\n",
              "      <td>31.000000</td>\n",
              "    </tr>\n",
              "    <tr>\n",
              "      <th>max</th>\n",
              "      <td>1.000000</td>\n",
              "      <td>3.000000</td>\n",
              "      <td>80.000000</td>\n",
              "      <td>8.000000</td>\n",
              "      <td>6.000000</td>\n",
              "      <td>512.329200</td>\n",
              "    </tr>\n",
              "  </tbody>\n",
              "</table>\n",
              "</div>"
            ],
            "text/plain": [
              "         survived      pclass         age       sibsp       parch        fare\n",
              "count  891.000000  891.000000  714.000000  891.000000  891.000000  891.000000\n",
              "mean     0.383838    2.308642   29.699118    0.523008    0.381594   32.204208\n",
              "std      0.486592    0.836071   14.526497    1.102743    0.806057   49.693429\n",
              "min      0.000000    1.000000    0.420000    0.000000    0.000000    0.000000\n",
              "25%      0.000000    2.000000   20.125000    0.000000    0.000000    7.910400\n",
              "50%      0.000000    3.000000   28.000000    0.000000    0.000000   14.454200\n",
              "75%      1.000000    3.000000   38.000000    1.000000    0.000000   31.000000\n",
              "max      1.000000    3.000000   80.000000    8.000000    6.000000  512.329200"
            ]
          },
          "execution_count": 3,
          "metadata": {},
          "output_type": "execute_result"
        }
      ]
    },
    {
      "cell_type": "markdown",
      "metadata": {
        "id": "mMk09qaXA9XS"
      },
      "source": [
        "**문자열 컬럼에 대한 통계표**도 확인할 수 있습니다.\n",
        "\n",
        "- **count**: 데이터 개수\n",
        "- **unique**: 고유 데이터의 값 개수\n",
        "- **top**: 가장 많이 출현한 데이터 개수\n",
        "- **freq**: 가장 많이 출현한 데이터의 빈도수"
      ]
    },
    {
      "cell_type": "code",
      "metadata": {
        "id": "pZ3iVjPtA9XS",
        "outputId": "089c4919-3928-449a-a36b-673d008ce55a"
      },
      "source": [
        "df.describe(include='object')"
      ],
      "execution_count": null,
      "outputs": [
        {
          "data": {
            "text/html": [
              "<div>\n",
              "<style scoped>\n",
              "    .dataframe tbody tr th:only-of-type {\n",
              "        vertical-align: middle;\n",
              "    }\n",
              "\n",
              "    .dataframe tbody tr th {\n",
              "        vertical-align: top;\n",
              "    }\n",
              "\n",
              "    .dataframe thead th {\n",
              "        text-align: right;\n",
              "    }\n",
              "</style>\n",
              "<table border=\"1\" class=\"dataframe\">\n",
              "  <thead>\n",
              "    <tr style=\"text-align: right;\">\n",
              "      <th></th>\n",
              "      <th>sex</th>\n",
              "      <th>embarked</th>\n",
              "      <th>who</th>\n",
              "      <th>embark_town</th>\n",
              "      <th>alive</th>\n",
              "    </tr>\n",
              "  </thead>\n",
              "  <tbody>\n",
              "    <tr>\n",
              "      <th>count</th>\n",
              "      <td>891</td>\n",
              "      <td>889</td>\n",
              "      <td>891</td>\n",
              "      <td>889</td>\n",
              "      <td>891</td>\n",
              "    </tr>\n",
              "    <tr>\n",
              "      <th>unique</th>\n",
              "      <td>2</td>\n",
              "      <td>3</td>\n",
              "      <td>3</td>\n",
              "      <td>3</td>\n",
              "      <td>2</td>\n",
              "    </tr>\n",
              "    <tr>\n",
              "      <th>top</th>\n",
              "      <td>male</td>\n",
              "      <td>S</td>\n",
              "      <td>man</td>\n",
              "      <td>Southampton</td>\n",
              "      <td>no</td>\n",
              "    </tr>\n",
              "    <tr>\n",
              "      <th>freq</th>\n",
              "      <td>577</td>\n",
              "      <td>644</td>\n",
              "      <td>537</td>\n",
              "      <td>644</td>\n",
              "      <td>549</td>\n",
              "    </tr>\n",
              "  </tbody>\n",
              "</table>\n",
              "</div>"
            ],
            "text/plain": [
              "         sex embarked  who  embark_town alive\n",
              "count    891      889  891          889   891\n",
              "unique     2        3    3            3     2\n",
              "top     male        S  man  Southampton    no\n",
              "freq     577      644  537          644   549"
            ]
          },
          "execution_count": 4,
          "metadata": {},
          "output_type": "execute_result"
        }
      ]
    },
    {
      "cell_type": "markdown",
      "metadata": {
        "id": "3d9MnX0EA9XT"
      },
      "source": [
        "## count() - 개수\n",
        "\n",
        "데이터의 개수"
      ]
    },
    {
      "cell_type": "code",
      "metadata": {
        "colab": {
          "base_uri": "https://localhost:8080/",
          "height": 35
        },
        "id": "L1cwtGNdGvyj",
        "outputId": "01102e3c-b7cd-4112-8f22-c911a3034ea5"
      },
      "source": [
        "# DataFrame 전체의 column 별 개수를 구하는 경우\n"
      ],
      "execution_count": null,
      "outputs": [
        {
          "data": {
            "text/plain": [
              "survived       891\n",
              "pclass         891\n",
              "sex            891\n",
              "age            714\n",
              "sibsp          891\n",
              "parch          891\n",
              "fare           891\n",
              "embarked       889\n",
              "class          891\n",
              "who            891\n",
              "adult_male     891\n",
              "deck           203\n",
              "embark_town    889\n",
              "alive          891\n",
              "alone          891\n",
              "dtype: int64"
            ]
          },
          "execution_count": 5,
          "metadata": {},
          "output_type": "execute_result"
        }
      ]
    },
    {
      "cell_type": "code",
      "metadata": {
        "colab": {
          "base_uri": "https://localhost:8080/",
          "height": 145
        },
        "id": "v5gqX-K8Gvyk",
        "outputId": "51240af4-acb2-486e-b201-d3f1087819a4"
      },
      "source": [
        "# 단일 column의 데이터 개수를 구하는 경우 -'age' column의 개수\n"
      ],
      "execution_count": null,
      "outputs": [
        {
          "data": {
            "text/plain": [
              "714"
            ]
          },
          "execution_count": 6,
          "metadata": {},
          "output_type": "execute_result"
        }
      ]
    },
    {
      "cell_type": "markdown",
      "metadata": {
        "id": "Y_KB7OYyA9XU"
      },
      "source": [
        "## mean() - 평균\n",
        "\n",
        "데이터의 **평균**"
      ]
    },
    {
      "cell_type": "code",
      "metadata": {
        "id": "r16hMzgYA9XU",
        "outputId": "5e112c8f-e1a2-471d-906d-5631bf05b6cc"
      },
      "source": [
        "# DataFrame 평균 - column별 평균\n"
      ],
      "execution_count": null,
      "outputs": [
        {
          "data": {
            "text/plain": [
              "survived       0.383838\n",
              "pclass         2.308642\n",
              "age           29.699118\n",
              "sibsp          0.523008\n",
              "parch          0.381594\n",
              "fare          32.204208\n",
              "adult_male     0.602694\n",
              "alone          0.602694\n",
              "dtype: float64"
            ]
          },
          "execution_count": 7,
          "metadata": {},
          "output_type": "execute_result"
        }
      ]
    },
    {
      "cell_type": "code",
      "metadata": {
        "id": "yRxC4h67A9XV",
        "outputId": "f6117db2-1c49-4c1e-ac41-26939d04d6b5"
      },
      "source": [
        "# Column 평균 - 'age' column의 평균\n"
      ],
      "execution_count": null,
      "outputs": [
        {
          "data": {
            "text/plain": [
              "29.69911764705882"
            ]
          },
          "execution_count": 8,
          "metadata": {},
          "output_type": "execute_result"
        }
      ]
    },
    {
      "cell_type": "markdown",
      "metadata": {
        "id": "en9EDM_aA9XV"
      },
      "source": [
        "### Mean - 조건별 평균"
      ]
    },
    {
      "cell_type": "markdown",
      "metadata": {
        "id": "91_6N_x0A9XV"
      },
      "source": [
        "성인 남성의 나이의 평균 구하기"
      ]
    },
    {
      "cell_type": "code",
      "metadata": {
        "id": "DRP9lKNWA9XW",
        "outputId": "a54964e9-31b0-4086-b250-f5f9aaa3a6da"
      },
      "source": [
        "# 성인 남성의 나이의 평균 구하기 'adult_male' 및'age' column 사용\n",
        "condition = \n"
      ],
      "execution_count": null,
      "outputs": [
        {
          "data": {
            "text/plain": [
              "33.17312348668281"
            ]
          },
          "execution_count": 9,
          "metadata": {},
          "output_type": "execute_result"
        }
      ]
    },
    {
      "cell_type": "markdown",
      "metadata": {
        "id": "LA540Ft-A9XX"
      },
      "source": [
        "### 연습문제\n",
        "\n",
        "다음 조건을 만족하는 승객의 **나이 평균**과 조건을 만족하는 **데이터의 개수**를 구하세요.\n",
        "\n",
        "- `fare`를 30 이상 40 미만 지불한 승객\n",
        "- `pclass`는 1등급"
      ]
    },
    {
      "cell_type": "code",
      "metadata": {
        "id": "Es7kuX3NA9XX",
        "outputId": "2c79eec7-e444-4985-91c3-821d02c43e7f"
      },
      "source": [
        "df.head()"
      ],
      "execution_count": null,
      "outputs": [
        {
          "data": {
            "text/html": [
              "<div>\n",
              "<style scoped>\n",
              "    .dataframe tbody tr th:only-of-type {\n",
              "        vertical-align: middle;\n",
              "    }\n",
              "\n",
              "    .dataframe tbody tr th {\n",
              "        vertical-align: top;\n",
              "    }\n",
              "\n",
              "    .dataframe thead th {\n",
              "        text-align: right;\n",
              "    }\n",
              "</style>\n",
              "<table border=\"1\" class=\"dataframe\">\n",
              "  <thead>\n",
              "    <tr style=\"text-align: right;\">\n",
              "      <th></th>\n",
              "      <th>survived</th>\n",
              "      <th>pclass</th>\n",
              "      <th>sex</th>\n",
              "      <th>age</th>\n",
              "      <th>sibsp</th>\n",
              "      <th>parch</th>\n",
              "      <th>fare</th>\n",
              "      <th>embarked</th>\n",
              "      <th>class</th>\n",
              "      <th>who</th>\n",
              "      <th>adult_male</th>\n",
              "      <th>deck</th>\n",
              "      <th>embark_town</th>\n",
              "      <th>alive</th>\n",
              "      <th>alone</th>\n",
              "    </tr>\n",
              "  </thead>\n",
              "  <tbody>\n",
              "    <tr>\n",
              "      <th>0</th>\n",
              "      <td>0</td>\n",
              "      <td>3</td>\n",
              "      <td>male</td>\n",
              "      <td>22.0</td>\n",
              "      <td>1</td>\n",
              "      <td>0</td>\n",
              "      <td>7.2500</td>\n",
              "      <td>S</td>\n",
              "      <td>Third</td>\n",
              "      <td>man</td>\n",
              "      <td>True</td>\n",
              "      <td>NaN</td>\n",
              "      <td>Southampton</td>\n",
              "      <td>no</td>\n",
              "      <td>False</td>\n",
              "    </tr>\n",
              "    <tr>\n",
              "      <th>1</th>\n",
              "      <td>1</td>\n",
              "      <td>1</td>\n",
              "      <td>female</td>\n",
              "      <td>38.0</td>\n",
              "      <td>1</td>\n",
              "      <td>0</td>\n",
              "      <td>71.2833</td>\n",
              "      <td>C</td>\n",
              "      <td>First</td>\n",
              "      <td>woman</td>\n",
              "      <td>False</td>\n",
              "      <td>C</td>\n",
              "      <td>Cherbourg</td>\n",
              "      <td>yes</td>\n",
              "      <td>False</td>\n",
              "    </tr>\n",
              "    <tr>\n",
              "      <th>2</th>\n",
              "      <td>1</td>\n",
              "      <td>3</td>\n",
              "      <td>female</td>\n",
              "      <td>26.0</td>\n",
              "      <td>0</td>\n",
              "      <td>0</td>\n",
              "      <td>7.9250</td>\n",
              "      <td>S</td>\n",
              "      <td>Third</td>\n",
              "      <td>woman</td>\n",
              "      <td>False</td>\n",
              "      <td>NaN</td>\n",
              "      <td>Southampton</td>\n",
              "      <td>yes</td>\n",
              "      <td>True</td>\n",
              "    </tr>\n",
              "    <tr>\n",
              "      <th>3</th>\n",
              "      <td>1</td>\n",
              "      <td>1</td>\n",
              "      <td>female</td>\n",
              "      <td>35.0</td>\n",
              "      <td>1</td>\n",
              "      <td>0</td>\n",
              "      <td>53.1000</td>\n",
              "      <td>S</td>\n",
              "      <td>First</td>\n",
              "      <td>woman</td>\n",
              "      <td>False</td>\n",
              "      <td>C</td>\n",
              "      <td>Southampton</td>\n",
              "      <td>yes</td>\n",
              "      <td>False</td>\n",
              "    </tr>\n",
              "    <tr>\n",
              "      <th>4</th>\n",
              "      <td>0</td>\n",
              "      <td>3</td>\n",
              "      <td>male</td>\n",
              "      <td>35.0</td>\n",
              "      <td>0</td>\n",
              "      <td>0</td>\n",
              "      <td>8.0500</td>\n",
              "      <td>S</td>\n",
              "      <td>Third</td>\n",
              "      <td>man</td>\n",
              "      <td>True</td>\n",
              "      <td>NaN</td>\n",
              "      <td>Southampton</td>\n",
              "      <td>no</td>\n",
              "      <td>True</td>\n",
              "    </tr>\n",
              "  </tbody>\n",
              "</table>\n",
              "</div>"
            ],
            "text/plain": [
              "   survived  pclass     sex   age  sibsp  parch     fare embarked  class  \\\n",
              "0         0       3    male  22.0      1      0   7.2500        S  Third   \n",
              "1         1       1  female  38.0      1      0  71.2833        C  First   \n",
              "2         1       3  female  26.0      0      0   7.9250        S  Third   \n",
              "3         1       1  female  35.0      1      0  53.1000        S  First   \n",
              "4         0       3    male  35.0      0      0   8.0500        S  Third   \n",
              "\n",
              "     who  adult_male deck  embark_town alive  alone  \n",
              "0    man        True  NaN  Southampton    no  False  \n",
              "1  woman       False    C    Cherbourg   yes  False  \n",
              "2  woman       False  NaN  Southampton   yes   True  \n",
              "3  woman       False    C  Southampton   yes  False  \n",
              "4    man        True  NaN  Southampton    no   True  "
            ]
          },
          "execution_count": 10,
          "metadata": {},
          "output_type": "execute_result"
        }
      ]
    },
    {
      "cell_type": "code",
      "metadata": {
        "id": "nyS9K2TJA9XX",
        "outputId": "da38accd-df25-4bbb-d24c-1cc8cf2bac4c"
      },
      "source": [
        "# 코드를 입력해 주세요 (데이터 개수 구하기)\n",
        "\n",
        "# fare를 30 이상 40 미만 지불한 승객\n",
        "condition1 = \n",
        "# pclass는 1등급\n",
        "condition2 = \n",
        "\n",
        "df.loc[condition1 & condition2, 'age'].count()"
      ],
      "execution_count": null,
      "outputs": [
        {
          "data": {
            "text/plain": [
              "21"
            ]
          },
          "execution_count": 11,
          "metadata": {},
          "output_type": "execute_result"
        }
      ]
    },
    {
      "cell_type": "code",
      "metadata": {
        "id": "JvVSdipmA9XX",
        "outputId": "6cabb06f-f785-4a86-acd9-0a1401e4cf1c"
      },
      "source": [
        "# 코드를 입력해 주세요 (나이 평균 구하기)\n",
        "# condition1, condition2 두 조건을 모두 만족하는 승객의 나이 평균을 구하세요.\n",
        "\n"
      ],
      "execution_count": null,
      "outputs": [
        {
          "data": {
            "text/plain": [
              "44.095238095238095"
            ]
          },
          "execution_count": 12,
          "metadata": {},
          "output_type": "execute_result"
        }
      ]
    },
    {
      "cell_type": "markdown",
      "metadata": {
        "id": "K1yjCBKTA9XY"
      },
      "source": [
        "### `skipna=True` 옵션"
      ]
    },
    {
      "cell_type": "markdown",
      "metadata": {
        "id": "3ET1HGulGC7N"
      },
      "source": [
        "기술 통계 함수에서는 `skipna=True`가 **기본으로 설정** 되어 있습니다.\n",
        "\n",
        "만약, `skipna=False`로 설정하게 된다면, **NaN 값이 있는 column은 NaN 값으로 출력** 됩니다."
      ]
    },
    {
      "cell_type": "code",
      "metadata": {
        "colab": {
          "base_uri": "https://localhost:8080/",
          "height": 145
        },
        "id": "JvCSuDZ8Fqd8",
        "outputId": "7d175a4d-9c69-489f-c5b0-795342ec1bcf"
      },
      "source": [
        "# skipna=False를 지정한 경우\n",
        "df.mean(skipna=False)"
      ],
      "execution_count": null,
      "outputs": [
        {
          "data": {
            "text/plain": [
              "survived       0.383838\n",
              "pclass         2.308642\n",
              "age                 NaN\n",
              "sibsp          0.523008\n",
              "parch          0.381594\n",
              "fare          32.204208\n",
              "adult_male     0.602694\n",
              "alone          0.602694\n",
              "dtype: float64"
            ]
          },
          "execution_count": 13,
          "metadata": {},
          "output_type": "execute_result"
        }
      ]
    },
    {
      "cell_type": "code",
      "metadata": {
        "id": "suAa_s7lA9XY",
        "outputId": "18366e21-e236-4375-9267-d59c1a13288b"
      },
      "source": [
        "# skipna=True를 지정한 경우\n",
        "df.mean(skipna=True)"
      ],
      "execution_count": null,
      "outputs": [
        {
          "data": {
            "text/plain": [
              "survived       0.383838\n",
              "pclass         2.308642\n",
              "age           29.699118\n",
              "sibsp          0.523008\n",
              "parch          0.381594\n",
              "fare          32.204208\n",
              "adult_male     0.602694\n",
              "alone          0.602694\n",
              "dtype: float64"
            ]
          },
          "execution_count": 14,
          "metadata": {},
          "output_type": "execute_result"
        }
      ]
    },
    {
      "cell_type": "markdown",
      "metadata": {
        "id": "eayRU5YgA9XZ"
      },
      "source": [
        "## median() - 중앙값\n",
        "\n",
        "데이터의 중앙 값을 출력 합니다. 데이터를 **오름차순 정렬하여 중앙에 위치한 값**입니다.\n",
        "\n",
        "이상치(outlier)가 존재하는 경우, `mean()`보다 `median()`을 대표값으로 더 **선호**합니다."
      ]
    },
    {
      "cell_type": "code",
      "metadata": {
        "id": "Eiai-2s1A9XZ",
        "outputId": "b558a620-bab7-4351-b1c6-b3e7a8766d6f"
      },
      "source": [
        "pd.Series([1, 2, 3, 4, 5]).median()"
      ],
      "execution_count": null,
      "outputs": [
        {
          "data": {
            "text/plain": [
              "3.0"
            ]
          },
          "execution_count": 15,
          "metadata": {},
          "output_type": "execute_result"
        }
      ]
    },
    {
      "cell_type": "code",
      "metadata": {
        "id": "lxHM1ICxA9XZ",
        "outputId": "5b9df85a-80db-4a89-db69-e7fce683044f"
      },
      "source": [
        "pd.Series([4, 5, 1, 2, 3]).median()"
      ],
      "execution_count": null,
      "outputs": [
        {
          "data": {
            "text/plain": [
              "3.0"
            ]
          },
          "execution_count": 16,
          "metadata": {},
          "output_type": "execute_result"
        }
      ]
    },
    {
      "cell_type": "markdown",
      "metadata": {
        "id": "AAnafFV8A9XZ"
      },
      "source": [
        "**짝수**개의 데이터가 있는 경우에는 **가운데 2개 중앙 데이터의 평균 값을 출력** 합니다."
      ]
    },
    {
      "cell_type": "code",
      "metadata": {
        "id": "VyPbu8GVA9XZ",
        "outputId": "16e5e11b-f8d3-4342-f1b9-8cef4b6a45aa"
      },
      "source": [
        "pd.Series([1, 2, 3, 4, 5, 6]).median()"
      ],
      "execution_count": null,
      "outputs": [
        {
          "data": {
            "text/plain": [
              "3.5"
            ]
          },
          "execution_count": 17,
          "metadata": {},
          "output_type": "execute_result"
        }
      ]
    },
    {
      "cell_type": "markdown",
      "metadata": {
        "id": "PITiObjrA9XZ"
      },
      "source": [
        "나이의 평균(mean)과 중앙값(median)은 약간의 **차이가 있음**을 확인할 수 있습니다."
      ]
    },
    {
      "cell_type": "code",
      "metadata": {
        "id": "h6LnrSyFA9Xa",
        "outputId": "593db591-25c4-4c03-8246-920b7bc0c8bc"
      },
      "source": [
        "print(f\"나이 평균: {df['age'].mean():.5f}\\n나이 중앙값: {df['age'].median()}\\n차이: {df['age'].mean() - df['age'].median():.5f}\")"
      ],
      "execution_count": null,
      "outputs": [
        {
          "name": "stdout",
          "output_type": "stream",
          "text": [
            "나이 평균: 29.69912\n",
            "나이 중앙값: 28.0\n",
            "차이: 1.69912\n"
          ]
        }
      ]
    },
    {
      "cell_type": "markdown",
      "metadata": {
        "id": "gMvzb56yA9Xa"
      },
      "source": [
        "## sum() - 합계\n",
        "\n",
        "데이터의 **합계**입니다. 문자열 column은 모든 데이터가 붙어서 출력될 수 있습니다."
      ]
    },
    {
      "cell_type": "code",
      "metadata": {
        "colab": {
          "base_uri": "https://localhost:8080/",
          "height": 90
        },
        "id": "Yimq5aoHGvym",
        "outputId": "a0b1fedb-ca70-4b70-b2ba-c5290c4c0249"
      },
      "source": [
        "df.sum()"
      ],
      "execution_count": null,
      "outputs": [
        {
          "data": {
            "text/plain": [
              "survived                                                    342\n",
              "pclass                                                     2057\n",
              "sex           malefemalefemalefemalemalemalemalemalefemalefe...\n",
              "age                                                     21205.2\n",
              "sibsp                                                       466\n",
              "parch                                                       340\n",
              "fare                                                    28693.9\n",
              "class         ThirdFirstThirdFirstThirdThirdFirstThirdThirdS...\n",
              "who           manwomanwomanwomanmanmanmanchildwomanchildchil...\n",
              "adult_male                                                  537\n",
              "alive         noyesyesyesnonononoyesyesyesyesnononoyesnoyesn...\n",
              "alone                                                       537\n",
              "dtype: object"
            ]
          },
          "execution_count": 19,
          "metadata": {},
          "output_type": "execute_result"
        }
      ]
    },
    {
      "cell_type": "markdown",
      "metadata": {
        "id": "OeYJ2kydA9Xa"
      },
      "source": [
        "단일 column에 대한 **합계 출력**"
      ]
    },
    {
      "cell_type": "code",
      "metadata": {
        "id": "IQ2k2BGqA9Xa",
        "outputId": "6e2ba09f-3746-4881-b888-16dc1ff345b1"
      },
      "source": [
        "# 'fare' column에 대한 합계 출력\n"
      ],
      "execution_count": null,
      "outputs": [
        {
          "data": {
            "text/plain": [
              "28693.9493"
            ]
          },
          "execution_count": 20,
          "metadata": {},
          "output_type": "execute_result"
        }
      ]
    },
    {
      "cell_type": "markdown",
      "metadata": {
        "id": "BJgWosHJA9Xb"
      },
      "source": [
        "## cumsum() - 누적합, cumprod() - 누적곱"
      ]
    },
    {
      "cell_type": "markdown",
      "metadata": {
        "id": "SebR4Av_A9Xb"
      },
      "source": [
        "누적되는 합계를 구할 수 있습니다."
      ]
    },
    {
      "cell_type": "code",
      "metadata": {
        "colab": {
          "base_uri": "https://localhost:8080/",
          "height": 235
        },
        "id": "xV-TDWMzGvyp",
        "outputId": "f052447a-74b6-4f67-d01b-55b7d7a489fc"
      },
      "source": [
        "# 'age' column에 대한 누적 합 구하기\n"
      ],
      "execution_count": null,
      "outputs": [
        {
          "data": {
            "text/plain": [
              "0         22.00\n",
              "1         60.00\n",
              "2         86.00\n",
              "3        121.00\n",
              "4        156.00\n",
              "         ...   \n",
              "886    21128.17\n",
              "887    21147.17\n",
              "888         NaN\n",
              "889    21173.17\n",
              "890    21205.17\n",
              "Name: age, Length: 891, dtype: float64"
            ]
          },
          "execution_count": 21,
          "metadata": {},
          "output_type": "execute_result"
        }
      ]
    },
    {
      "cell_type": "markdown",
      "metadata": {
        "id": "2f9WeNKAA9Xb"
      },
      "source": [
        "누적되는 곱도 구할 수 있으나, 일반적으로 **값이 너무 커지므로 잘 활용하지는 않습니다.**"
      ]
    },
    {
      "cell_type": "code",
      "metadata": {
        "id": "4fyMcwEoA9Xb",
        "outputId": "a9b875fe-3491-4e3f-8d23-63f8a7a04678"
      },
      "source": [
        "# 'age' column에 대한 누적 곱 구하기\n"
      ],
      "execution_count": null,
      "outputs": [
        {
          "data": {
            "text/plain": [
              "0            22.0\n",
              "1           836.0\n",
              "2         21736.0\n",
              "3        760760.0\n",
              "4      26626600.0\n",
              "          ...    \n",
              "886           inf\n",
              "887           inf\n",
              "888           NaN\n",
              "889           inf\n",
              "890           inf\n",
              "Name: age, Length: 891, dtype: float64"
            ]
          },
          "execution_count": 22,
          "metadata": {},
          "output_type": "execute_result"
        }
      ]
    },
    {
      "cell_type": "markdown",
      "metadata": {
        "id": "ZU60qjD9A9Xb"
      },
      "source": [
        "## var() - 분산"
      ]
    },
    {
      "cell_type": "markdown",
      "metadata": {
        "id": "hoaEl3pzA9Xc"
      },
      "source": [
        "$\\large 분산 = \\Huge\\frac{{}\\sum_{i=1}^{n}(X_{i} - \\bar{X})^{2}}{n-1}$\n",
        "\n",
        "$\\large 평균 = \\huge \\bar{x}$"
      ]
    },
    {
      "cell_type": "code",
      "metadata": {
        "id": "pO17kRjgA9Xc",
        "outputId": "b3e68027-f101-424e-c8ac-ef56605ab89f"
      },
      "source": [
        "# 평균\n",
        "fare_mean = df['fare'].values.mean()\n",
        "\n",
        "# 분산\n",
        "my_var = ((df['fare'].values - fare_mean) ** 2).sum() / (df['fare'].count() - 1)\n",
        "my_var"
      ],
      "execution_count": null,
      "outputs": [
        {
          "data": {
            "text/plain": [
              "2469.436845743116"
            ]
          },
          "execution_count": 23,
          "metadata": {},
          "output_type": "execute_result"
        }
      ]
    },
    {
      "cell_type": "code",
      "metadata": {
        "id": "jjvkBvkoA9Xc",
        "outputId": "cbdbbd1b-869b-4dbf-c811-bd7cf2d4993a"
      },
      "source": [
        "# df의 'fare' column에 대한 분산을 함수를 사용해 구해봅니다.\n"
      ],
      "execution_count": null,
      "outputs": [
        {
          "data": {
            "text/plain": [
              "2469.436845743117"
            ]
          },
          "execution_count": 24,
          "metadata": {},
          "output_type": "execute_result"
        }
      ]
    },
    {
      "cell_type": "markdown",
      "metadata": {
        "id": "B-H3kKqpA9Xc"
      },
      "source": [
        "## std() - 표준편차"
      ]
    },
    {
      "cell_type": "markdown",
      "metadata": {
        "id": "pGL-sM-yA9Xd"
      },
      "source": [
        "$\\large 표준편차 =\\huge \\sqrt{분산} = \\sqrt{\\frac{{}\\sum_{i=1}^{n}(X_{i} - \\bar{X})^{2}}{n}}$"
      ]
    },
    {
      "cell_type": "markdown",
      "metadata": {
        "id": "xaAAxqWyA9Xd"
      },
      "source": [
        "분산(var)의 제곱근"
      ]
    },
    {
      "cell_type": "code",
      "metadata": {
        "id": "mmy3yiBQA9Xd",
        "outputId": "2f36afb5-3c5e-4457-f9aa-c9898ae10368"
      },
      "source": [
        "np.sqrt(df['fare'].var())"
      ],
      "execution_count": null,
      "outputs": [
        {
          "data": {
            "text/plain": [
              "49.693428597180905"
            ]
          },
          "execution_count": 25,
          "metadata": {},
          "output_type": "execute_result"
        }
      ]
    },
    {
      "cell_type": "code",
      "metadata": {
        "id": "u975GFn5A9Xd",
        "outputId": "380f5426-13d6-4cf7-8a65-355c6f32d157"
      },
      "source": [
        "np.sqrt(my_var)"
      ],
      "execution_count": null,
      "outputs": [
        {
          "data": {
            "text/plain": [
              "49.6934285971809"
            ]
          },
          "execution_count": 26,
          "metadata": {},
          "output_type": "execute_result"
        }
      ]
    },
    {
      "cell_type": "markdown",
      "metadata": {
        "id": "Mub2Dsx0A9Xd"
      },
      "source": [
        "## min() - 최소값, max() - 최대값"
      ]
    },
    {
      "cell_type": "code",
      "metadata": {
        "id": "FHHE6RrBA9Xd",
        "outputId": "8557f6ff-4ae2-40e7-869d-4e70695c0cb4"
      },
      "source": [
        "# 최소값\n",
        "df['age'].min()"
      ],
      "execution_count": null,
      "outputs": [
        {
          "data": {
            "text/plain": [
              "0.42"
            ]
          },
          "execution_count": 27,
          "metadata": {},
          "output_type": "execute_result"
        }
      ]
    },
    {
      "cell_type": "code",
      "metadata": {
        "id": "5fK73LiDA9Xe",
        "outputId": "98dc58f1-10df-460a-f4db-99c28dcab69d"
      },
      "source": [
        "# 최대값\n",
        "df['age'].max()"
      ],
      "execution_count": null,
      "outputs": [
        {
          "data": {
            "text/plain": [
              "80.0"
            ]
          },
          "execution_count": 28,
          "metadata": {},
          "output_type": "execute_result"
        }
      ]
    },
    {
      "cell_type": "markdown",
      "metadata": {
        "id": "T8N7durnA9Xe"
      },
      "source": [
        "## quantile() - 분위\n",
        "\n",
        "**Quantile이란 주어진 데이터를 동등한 크기로 분할하는 지점**을 말합니다\n",
        "\n",
        "10%의 경우 0.1을, 80%의 경우 0.8을 대입하여 값을 구합니다."
      ]
    },
    {
      "cell_type": "code",
      "metadata": {
        "id": "ZjGMKj2bA9Xe",
        "outputId": "6842a5eb-c88a-4f55-9f02-0ee282458c28"
      },
      "source": [
        "# df의 'age' column에 대해 10% quantile을 구해 봅니다.\n"
      ],
      "execution_count": null,
      "outputs": [
        {
          "data": {
            "text/plain": [
              "14.0"
            ]
          },
          "execution_count": 29,
          "metadata": {},
          "output_type": "execute_result"
        }
      ]
    },
    {
      "cell_type": "code",
      "metadata": {
        "id": "AtIB-qxcA9Xe",
        "outputId": "935ac23d-d63e-4f62-d6e2-c0876ed9cec8"
      },
      "source": [
        "# df의 'age' column에 대해 80% quantile을 구해 봅니다.\n"
      ],
      "execution_count": null,
      "outputs": [
        {
          "data": {
            "text/plain": [
              "41.0"
            ]
          },
          "execution_count": 30,
          "metadata": {},
          "output_type": "execute_result"
        }
      ]
    },
    {
      "cell_type": "markdown",
      "metadata": {
        "id": "5urF-TatA9Xe"
      },
      "source": [
        "## unique() - 고유값, nunique() - 고유값 개수\n",
        "\n",
        "고유값과 고유값의 개수를 구하고자 할 때 사용합니다."
      ]
    },
    {
      "cell_type": "markdown",
      "metadata": {
        "id": "OT94tzgOA9Xe"
      },
      "source": [
        "**unique()**"
      ]
    },
    {
      "cell_type": "code",
      "metadata": {
        "id": "uDKBfJ0xA9Xe",
        "outputId": "4f6b4b72-9d47-4e77-c102-32b57168d3a6"
      },
      "source": [
        "#  df의 'who' 컬럼에 대해 고유값을 구해봅니다.\n"
      ],
      "execution_count": null,
      "outputs": [
        {
          "data": {
            "text/plain": [
              "array(['man', 'woman', 'child'], dtype=object)"
            ]
          },
          "execution_count": 31,
          "metadata": {},
          "output_type": "execute_result"
        }
      ]
    },
    {
      "cell_type": "markdown",
      "metadata": {
        "id": "DL5byiUHA9Xf"
      },
      "source": [
        "**nunique()**: 고유값의 개수를 출력합니다."
      ]
    },
    {
      "cell_type": "code",
      "metadata": {
        "id": "KUxZNEhvA9Xf",
        "outputId": "80415c91-5539-4973-de32-bc0cf0460e47"
      },
      "source": [
        "# df의 'who' column 에 대한 고유값의 개수를 구해봅니다.\n"
      ],
      "execution_count": null,
      "outputs": [
        {
          "data": {
            "text/plain": [
              "3"
            ]
          },
          "execution_count": 32,
          "metadata": {},
          "output_type": "execute_result"
        }
      ]
    },
    {
      "cell_type": "markdown",
      "metadata": {
        "id": "NTKWegaPA9Xf"
      },
      "source": [
        "## mode() - 최빈값\n",
        "\n",
        "최빈값은 **가장 많이 출현한 데이터**를 의미합니다."
      ]
    },
    {
      "cell_type": "code",
      "metadata": {
        "id": "Lwyz2jPWA9Xf",
        "outputId": "7ce4f68c-ff06-4712-89cb-a26dcb0847d6"
      },
      "source": [
        "# df의 'who' column에 대한 최빈값을 구해봅니다.\n"
      ],
      "execution_count": null,
      "outputs": [
        {
          "data": {
            "text/plain": [
              "0    man\n",
              "dtype: object"
            ]
          },
          "execution_count": 33,
          "metadata": {},
          "output_type": "execute_result"
        }
      ]
    },
    {
      "cell_type": "markdown",
      "metadata": {
        "id": "3Q1BYNJaA9Xf"
      },
      "source": [
        "카테고리형 데이터에도 적용 가능합니다."
      ]
    },
    {
      "cell_type": "code",
      "metadata": {
        "id": "KQP1hhvYA9Xf",
        "outputId": "2ea948ef-1575-4bdf-d807-333037065aeb"
      },
      "source": [
        "# df의 'deck' column에 대한 최빈값을 구해봅니다.\n"
      ],
      "execution_count": null,
      "outputs": [
        {
          "data": {
            "text/plain": [
              "0    C\n",
              "Name: deck, dtype: category\n",
              "Categories (7, object): [A, B, C, D, E, F, G]"
            ]
          },
          "execution_count": 34,
          "metadata": {},
          "output_type": "execute_result"
        }
      ]
    },
    {
      "cell_type": "markdown",
      "metadata": {
        "id": "kmqgyZmmA9Xf"
      },
      "source": [
        "## corr() - 상관관계 \n",
        "\n",
        "`corr()`로 컬럼(column)별 **상관관계**를 확인할 수 있습니다.\n",
        "\n",
        "- **-1~1 사이의 범위**를 가집니다.\n",
        "- **-1에 가까울 수록 반비례** 관계, **1에 가까울수록 정비례** 관계를 의미합니다."
      ]
    },
    {
      "cell_type": "code",
      "metadata": {
        "id": "Ow4YcYQfA9Xg",
        "outputId": "7766393d-cfdb-4263-e5c5-71d20be83dd8"
      },
      "source": [
        "# df의 각 column 사이의 상관계수를 구합니다.\n"
      ],
      "execution_count": null,
      "outputs": [
        {
          "data": {
            "text/html": [
              "<div>\n",
              "<style scoped>\n",
              "    .dataframe tbody tr th:only-of-type {\n",
              "        vertical-align: middle;\n",
              "    }\n",
              "\n",
              "    .dataframe tbody tr th {\n",
              "        vertical-align: top;\n",
              "    }\n",
              "\n",
              "    .dataframe thead th {\n",
              "        text-align: right;\n",
              "    }\n",
              "</style>\n",
              "<table border=\"1\" class=\"dataframe\">\n",
              "  <thead>\n",
              "    <tr style=\"text-align: right;\">\n",
              "      <th></th>\n",
              "      <th>survived</th>\n",
              "      <th>pclass</th>\n",
              "      <th>age</th>\n",
              "      <th>sibsp</th>\n",
              "      <th>parch</th>\n",
              "      <th>fare</th>\n",
              "      <th>adult_male</th>\n",
              "      <th>alone</th>\n",
              "    </tr>\n",
              "  </thead>\n",
              "  <tbody>\n",
              "    <tr>\n",
              "      <th>survived</th>\n",
              "      <td>1.000000</td>\n",
              "      <td>-0.338481</td>\n",
              "      <td>-0.077221</td>\n",
              "      <td>-0.035322</td>\n",
              "      <td>0.081629</td>\n",
              "      <td>0.257307</td>\n",
              "      <td>-0.557080</td>\n",
              "      <td>-0.203367</td>\n",
              "    </tr>\n",
              "    <tr>\n",
              "      <th>pclass</th>\n",
              "      <td>-0.338481</td>\n",
              "      <td>1.000000</td>\n",
              "      <td>-0.369226</td>\n",
              "      <td>0.083081</td>\n",
              "      <td>0.018443</td>\n",
              "      <td>-0.549500</td>\n",
              "      <td>0.094035</td>\n",
              "      <td>0.135207</td>\n",
              "    </tr>\n",
              "    <tr>\n",
              "      <th>age</th>\n",
              "      <td>-0.077221</td>\n",
              "      <td>-0.369226</td>\n",
              "      <td>1.000000</td>\n",
              "      <td>-0.308247</td>\n",
              "      <td>-0.189119</td>\n",
              "      <td>0.096067</td>\n",
              "      <td>0.280328</td>\n",
              "      <td>0.198270</td>\n",
              "    </tr>\n",
              "    <tr>\n",
              "      <th>sibsp</th>\n",
              "      <td>-0.035322</td>\n",
              "      <td>0.083081</td>\n",
              "      <td>-0.308247</td>\n",
              "      <td>1.000000</td>\n",
              "      <td>0.414838</td>\n",
              "      <td>0.159651</td>\n",
              "      <td>-0.253586</td>\n",
              "      <td>-0.584471</td>\n",
              "    </tr>\n",
              "    <tr>\n",
              "      <th>parch</th>\n",
              "      <td>0.081629</td>\n",
              "      <td>0.018443</td>\n",
              "      <td>-0.189119</td>\n",
              "      <td>0.414838</td>\n",
              "      <td>1.000000</td>\n",
              "      <td>0.216225</td>\n",
              "      <td>-0.349943</td>\n",
              "      <td>-0.583398</td>\n",
              "    </tr>\n",
              "    <tr>\n",
              "      <th>fare</th>\n",
              "      <td>0.257307</td>\n",
              "      <td>-0.549500</td>\n",
              "      <td>0.096067</td>\n",
              "      <td>0.159651</td>\n",
              "      <td>0.216225</td>\n",
              "      <td>1.000000</td>\n",
              "      <td>-0.182024</td>\n",
              "      <td>-0.271832</td>\n",
              "    </tr>\n",
              "    <tr>\n",
              "      <th>adult_male</th>\n",
              "      <td>-0.557080</td>\n",
              "      <td>0.094035</td>\n",
              "      <td>0.280328</td>\n",
              "      <td>-0.253586</td>\n",
              "      <td>-0.349943</td>\n",
              "      <td>-0.182024</td>\n",
              "      <td>1.000000</td>\n",
              "      <td>0.404744</td>\n",
              "    </tr>\n",
              "    <tr>\n",
              "      <th>alone</th>\n",
              "      <td>-0.203367</td>\n",
              "      <td>0.135207</td>\n",
              "      <td>0.198270</td>\n",
              "      <td>-0.584471</td>\n",
              "      <td>-0.583398</td>\n",
              "      <td>-0.271832</td>\n",
              "      <td>0.404744</td>\n",
              "      <td>1.000000</td>\n",
              "    </tr>\n",
              "  </tbody>\n",
              "</table>\n",
              "</div>"
            ],
            "text/plain": [
              "            survived    pclass       age     sibsp     parch      fare  \\\n",
              "survived    1.000000 -0.338481 -0.077221 -0.035322  0.081629  0.257307   \n",
              "pclass     -0.338481  1.000000 -0.369226  0.083081  0.018443 -0.549500   \n",
              "age        -0.077221 -0.369226  1.000000 -0.308247 -0.189119  0.096067   \n",
              "sibsp      -0.035322  0.083081 -0.308247  1.000000  0.414838  0.159651   \n",
              "parch       0.081629  0.018443 -0.189119  0.414838  1.000000  0.216225   \n",
              "fare        0.257307 -0.549500  0.096067  0.159651  0.216225  1.000000   \n",
              "adult_male -0.557080  0.094035  0.280328 -0.253586 -0.349943 -0.182024   \n",
              "alone      -0.203367  0.135207  0.198270 -0.584471 -0.583398 -0.271832   \n",
              "\n",
              "            adult_male     alone  \n",
              "survived     -0.557080 -0.203367  \n",
              "pclass        0.094035  0.135207  \n",
              "age           0.280328  0.198270  \n",
              "sibsp        -0.253586 -0.584471  \n",
              "parch        -0.349943 -0.583398  \n",
              "fare         -0.182024 -0.271832  \n",
              "adult_male    1.000000  0.404744  \n",
              "alone         0.404744  1.000000  "
            ]
          },
          "execution_count": 35,
          "metadata": {},
          "output_type": "execute_result"
        }
      ]
    },
    {
      "cell_type": "markdown",
      "metadata": {
        "id": "pHtQ2KRQA9Xg"
      },
      "source": [
        "**특정 컬럼에 대한 상관관계**를 확인할 수 있습니다."
      ]
    },
    {
      "cell_type": "code",
      "metadata": {
        "id": "34BHD-4XA9Xg",
        "outputId": "65058d5e-cdde-4919-e054-2fbe685fc18b"
      },
      "source": [
        "df.corr()['survived']"
      ],
      "execution_count": null,
      "outputs": [
        {
          "data": {
            "text/plain": [
              "survived      1.000000\n",
              "pclass       -0.338481\n",
              "age          -0.077221\n",
              "sibsp        -0.035322\n",
              "parch         0.081629\n",
              "fare          0.257307\n",
              "adult_male   -0.557080\n",
              "alone        -0.203367\n",
              "Name: survived, dtype: float64"
            ]
          },
          "execution_count": 36,
          "metadata": {},
          "output_type": "execute_result"
        }
      ]
    }
  ]
}