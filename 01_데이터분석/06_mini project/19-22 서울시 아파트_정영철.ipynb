{
 "cells": [
  {
   "cell_type": "code",
   "execution_count": 1,
   "metadata": {},
   "outputs": [],
   "source": [
    "import pandas as pd\n",
    "import numpy as np\n",
    "import seaborn as sns\n",
    "import matplotlib.pyplot as plt\n",
    "%matplotlib inline"
   ]
  },
  {
   "cell_type": "code",
   "execution_count": 2,
   "metadata": {},
   "outputs": [],
   "source": [
    "import platform\n",
    "\n",
    "from matplotlib import font_manager, rc\n",
    "plt.rcParams['axes.unicode_minus'] = False\n",
    "\n",
    "if platform.system() == 'Darwin':\n",
    "    rc('font', family='AppleGothic')\n",
    "elif platform.system() == 'Windows':\n",
    "    path = \"c:/Windows/Fonts/malgun.ttf\"\n",
    "    font_name = font_manager.FontProperties(fname=path).get_name()\n",
    "    rc('font', family=font_name)\n",
    "else:\n",
    "    print('Unknown system... sorry~~~~')"
   ]
  },
  {
   "cell_type": "code",
   "execution_count": 4,
   "metadata": {},
   "outputs": [
    {
     "data": {
      "text/html": [
       "<div>\n",
       "<style scoped>\n",
       "    .dataframe tbody tr th:only-of-type {\n",
       "        vertical-align: middle;\n",
       "    }\n",
       "\n",
       "    .dataframe tbody tr th {\n",
       "        vertical-align: top;\n",
       "    }\n",
       "\n",
       "    .dataframe thead th {\n",
       "        text-align: right;\n",
       "    }\n",
       "</style>\n",
       "<table border=\"1\" class=\"dataframe\">\n",
       "  <thead>\n",
       "    <tr style=\"text-align: right;\">\n",
       "      <th></th>\n",
       "      <th>건축년도</th>\n",
       "      <th>거래년도</th>\n",
       "      <th>거래월</th>\n",
       "      <th>법정동</th>\n",
       "      <th>거래금액</th>\n",
       "      <th>아파트이름</th>\n",
       "      <th>전용면적</th>\n",
       "      <th>층</th>\n",
       "      <th>전용면적(평)</th>\n",
       "      <th>전용면적(평)2</th>\n",
       "      <th>전용면적(평)3</th>\n",
       "      <th>반기</th>\n",
       "      <th>분기</th>\n",
       "      <th>평당거래금액</th>\n",
       "      <th>시도명</th>\n",
       "      <th>시군구명</th>\n",
       "    </tr>\n",
       "  </thead>\n",
       "  <tbody>\n",
       "    <tr>\n",
       "      <th>0</th>\n",
       "      <td>1988</td>\n",
       "      <td>2020</td>\n",
       "      <td>6</td>\n",
       "      <td>개포동</td>\n",
       "      <td>149500</td>\n",
       "      <td>개포2차현대아파트(220)</td>\n",
       "      <td>77.75</td>\n",
       "      <td>4</td>\n",
       "      <td>23.52</td>\n",
       "      <td>23</td>\n",
       "      <td>(20, 25]</td>\n",
       "      <td>상반기</td>\n",
       "      <td>2분기</td>\n",
       "      <td>6500.000000</td>\n",
       "      <td>서울특별시</td>\n",
       "      <td>강남구</td>\n",
       "    </tr>\n",
       "    <tr>\n",
       "      <th>1</th>\n",
       "      <td>1987</td>\n",
       "      <td>2020</td>\n",
       "      <td>2</td>\n",
       "      <td>개포동</td>\n",
       "      <td>144000</td>\n",
       "      <td>개포6차우성아파트1동~8동</td>\n",
       "      <td>54.98</td>\n",
       "      <td>4</td>\n",
       "      <td>16.63</td>\n",
       "      <td>16</td>\n",
       "      <td>(15, 20]</td>\n",
       "      <td>상반기</td>\n",
       "      <td>1분기</td>\n",
       "      <td>9000.000000</td>\n",
       "      <td>서울특별시</td>\n",
       "      <td>강남구</td>\n",
       "    </tr>\n",
       "    <tr>\n",
       "      <th>2</th>\n",
       "      <td>1987</td>\n",
       "      <td>2020</td>\n",
       "      <td>6</td>\n",
       "      <td>개포동</td>\n",
       "      <td>162750</td>\n",
       "      <td>개포6차우성아파트1동~8동</td>\n",
       "      <td>79.97</td>\n",
       "      <td>4</td>\n",
       "      <td>24.19</td>\n",
       "      <td>24</td>\n",
       "      <td>(20, 25]</td>\n",
       "      <td>상반기</td>\n",
       "      <td>2분기</td>\n",
       "      <td>6781.250000</td>\n",
       "      <td>서울특별시</td>\n",
       "      <td>강남구</td>\n",
       "    </tr>\n",
       "    <tr>\n",
       "      <th>3</th>\n",
       "      <td>1987</td>\n",
       "      <td>2020</td>\n",
       "      <td>6</td>\n",
       "      <td>개포동</td>\n",
       "      <td>160000</td>\n",
       "      <td>개포6차우성아파트1동~8동</td>\n",
       "      <td>79.97</td>\n",
       "      <td>5</td>\n",
       "      <td>24.19</td>\n",
       "      <td>24</td>\n",
       "      <td>(20, 25]</td>\n",
       "      <td>상반기</td>\n",
       "      <td>2분기</td>\n",
       "      <td>6666.666667</td>\n",
       "      <td>서울특별시</td>\n",
       "      <td>강남구</td>\n",
       "    </tr>\n",
       "    <tr>\n",
       "      <th>4</th>\n",
       "      <td>1987</td>\n",
       "      <td>2020</td>\n",
       "      <td>6</td>\n",
       "      <td>개포동</td>\n",
       "      <td>150000</td>\n",
       "      <td>개포6차우성아파트1동~8동</td>\n",
       "      <td>79.97</td>\n",
       "      <td>2</td>\n",
       "      <td>24.19</td>\n",
       "      <td>24</td>\n",
       "      <td>(20, 25]</td>\n",
       "      <td>상반기</td>\n",
       "      <td>2분기</td>\n",
       "      <td>6250.000000</td>\n",
       "      <td>서울특별시</td>\n",
       "      <td>강남구</td>\n",
       "    </tr>\n",
       "  </tbody>\n",
       "</table>\n",
       "</div>"
      ],
      "text/plain": [
       "   건축년도  거래년도  거래월  법정동    거래금액           아파트이름   전용면적  층  전용면적(평)  전용면적(평)2  \\\n",
       "0  1988  2020    6  개포동  149500  개포2차현대아파트(220)  77.75  4    23.52        23   \n",
       "1  1987  2020    2  개포동  144000  개포6차우성아파트1동~8동  54.98  4    16.63        16   \n",
       "2  1987  2020    6  개포동  162750  개포6차우성아파트1동~8동  79.97  4    24.19        24   \n",
       "3  1987  2020    6  개포동  160000  개포6차우성아파트1동~8동  79.97  5    24.19        24   \n",
       "4  1987  2020    6  개포동  150000  개포6차우성아파트1동~8동  79.97  2    24.19        24   \n",
       "\n",
       "   전용면적(평)3   반기   분기       평당거래금액    시도명 시군구명  \n",
       "0  (20, 25]  상반기  2분기  6500.000000  서울특별시  강남구  \n",
       "1  (15, 20]  상반기  1분기  9000.000000  서울특별시  강남구  \n",
       "2  (20, 25]  상반기  2분기  6781.250000  서울특별시  강남구  \n",
       "3  (20, 25]  상반기  2분기  6666.666667  서울특별시  강남구  \n",
       "4  (20, 25]  상반기  2분기  6250.000000  서울특별시  강남구  "
      ]
     },
     "execution_count": 4,
     "metadata": {},
     "output_type": "execute_result"
    }
   ],
   "source": [
    "apt = pd.read_csv('19_22_apt.csv', encoding='utf-8')\n",
    "apt.head()"
   ]
  },
  {
   "cell_type": "code",
   "execution_count": 5,
   "metadata": {},
   "outputs": [
    {
     "data": {
      "text/html": [
       "<div>\n",
       "<style scoped>\n",
       "    .dataframe tbody tr th:only-of-type {\n",
       "        vertical-align: middle;\n",
       "    }\n",
       "\n",
       "    .dataframe tbody tr th {\n",
       "        vertical-align: top;\n",
       "    }\n",
       "\n",
       "    .dataframe thead th {\n",
       "        text-align: right;\n",
       "    }\n",
       "</style>\n",
       "<table border=\"1\" class=\"dataframe\">\n",
       "  <thead>\n",
       "    <tr style=\"text-align: right;\">\n",
       "      <th></th>\n",
       "      <th>건축년도</th>\n",
       "      <th>거래년도</th>\n",
       "      <th>거래월</th>\n",
       "      <th>법정동</th>\n",
       "      <th>거래금액</th>\n",
       "      <th>아파트이름</th>\n",
       "      <th>전용면적</th>\n",
       "      <th>층</th>\n",
       "      <th>전용면적(평)</th>\n",
       "      <th>전용면적(평)2</th>\n",
       "      <th>전용면적(평)3</th>\n",
       "      <th>반기</th>\n",
       "      <th>분기</th>\n",
       "      <th>평당거래금액</th>\n",
       "      <th>시도명</th>\n",
       "      <th>시군구명</th>\n",
       "      <th>거래시기</th>\n",
       "    </tr>\n",
       "  </thead>\n",
       "  <tbody>\n",
       "    <tr>\n",
       "      <th>0</th>\n",
       "      <td>1988</td>\n",
       "      <td>2020</td>\n",
       "      <td>6</td>\n",
       "      <td>개포동</td>\n",
       "      <td>149500</td>\n",
       "      <td>개포2차현대아파트(220)</td>\n",
       "      <td>77.75</td>\n",
       "      <td>4</td>\n",
       "      <td>23.52</td>\n",
       "      <td>23</td>\n",
       "      <td>(20, 25]</td>\n",
       "      <td>상반기</td>\n",
       "      <td>2분기</td>\n",
       "      <td>6500.000000</td>\n",
       "      <td>서울특별시</td>\n",
       "      <td>강남구</td>\n",
       "      <td>2020_2분기</td>\n",
       "    </tr>\n",
       "    <tr>\n",
       "      <th>1</th>\n",
       "      <td>1987</td>\n",
       "      <td>2020</td>\n",
       "      <td>2</td>\n",
       "      <td>개포동</td>\n",
       "      <td>144000</td>\n",
       "      <td>개포6차우성아파트1동~8동</td>\n",
       "      <td>54.98</td>\n",
       "      <td>4</td>\n",
       "      <td>16.63</td>\n",
       "      <td>16</td>\n",
       "      <td>(15, 20]</td>\n",
       "      <td>상반기</td>\n",
       "      <td>1분기</td>\n",
       "      <td>9000.000000</td>\n",
       "      <td>서울특별시</td>\n",
       "      <td>강남구</td>\n",
       "      <td>2020_1분기</td>\n",
       "    </tr>\n",
       "    <tr>\n",
       "      <th>2</th>\n",
       "      <td>1987</td>\n",
       "      <td>2020</td>\n",
       "      <td>6</td>\n",
       "      <td>개포동</td>\n",
       "      <td>162750</td>\n",
       "      <td>개포6차우성아파트1동~8동</td>\n",
       "      <td>79.97</td>\n",
       "      <td>4</td>\n",
       "      <td>24.19</td>\n",
       "      <td>24</td>\n",
       "      <td>(20, 25]</td>\n",
       "      <td>상반기</td>\n",
       "      <td>2분기</td>\n",
       "      <td>6781.250000</td>\n",
       "      <td>서울특별시</td>\n",
       "      <td>강남구</td>\n",
       "      <td>2020_2분기</td>\n",
       "    </tr>\n",
       "    <tr>\n",
       "      <th>3</th>\n",
       "      <td>1987</td>\n",
       "      <td>2020</td>\n",
       "      <td>6</td>\n",
       "      <td>개포동</td>\n",
       "      <td>160000</td>\n",
       "      <td>개포6차우성아파트1동~8동</td>\n",
       "      <td>79.97</td>\n",
       "      <td>5</td>\n",
       "      <td>24.19</td>\n",
       "      <td>24</td>\n",
       "      <td>(20, 25]</td>\n",
       "      <td>상반기</td>\n",
       "      <td>2분기</td>\n",
       "      <td>6666.666667</td>\n",
       "      <td>서울특별시</td>\n",
       "      <td>강남구</td>\n",
       "      <td>2020_2분기</td>\n",
       "    </tr>\n",
       "    <tr>\n",
       "      <th>4</th>\n",
       "      <td>1987</td>\n",
       "      <td>2020</td>\n",
       "      <td>6</td>\n",
       "      <td>개포동</td>\n",
       "      <td>150000</td>\n",
       "      <td>개포6차우성아파트1동~8동</td>\n",
       "      <td>79.97</td>\n",
       "      <td>2</td>\n",
       "      <td>24.19</td>\n",
       "      <td>24</td>\n",
       "      <td>(20, 25]</td>\n",
       "      <td>상반기</td>\n",
       "      <td>2분기</td>\n",
       "      <td>6250.000000</td>\n",
       "      <td>서울특별시</td>\n",
       "      <td>강남구</td>\n",
       "      <td>2020_2분기</td>\n",
       "    </tr>\n",
       "  </tbody>\n",
       "</table>\n",
       "</div>"
      ],
      "text/plain": [
       "   건축년도  거래년도  거래월  법정동    거래금액           아파트이름   전용면적  층  전용면적(평)  전용면적(평)2  \\\n",
       "0  1988  2020    6  개포동  149500  개포2차현대아파트(220)  77.75  4    23.52        23   \n",
       "1  1987  2020    2  개포동  144000  개포6차우성아파트1동~8동  54.98  4    16.63        16   \n",
       "2  1987  2020    6  개포동  162750  개포6차우성아파트1동~8동  79.97  4    24.19        24   \n",
       "3  1987  2020    6  개포동  160000  개포6차우성아파트1동~8동  79.97  5    24.19        24   \n",
       "4  1987  2020    6  개포동  150000  개포6차우성아파트1동~8동  79.97  2    24.19        24   \n",
       "\n",
       "   전용면적(평)3   반기   분기       평당거래금액    시도명 시군구명      거래시기  \n",
       "0  (20, 25]  상반기  2분기  6500.000000  서울특별시  강남구  2020_2분기  \n",
       "1  (15, 20]  상반기  1분기  9000.000000  서울특별시  강남구  2020_1분기  \n",
       "2  (20, 25]  상반기  2분기  6781.250000  서울특별시  강남구  2020_2분기  \n",
       "3  (20, 25]  상반기  2분기  6666.666667  서울특별시  강남구  2020_2분기  \n",
       "4  (20, 25]  상반기  2분기  6250.000000  서울특별시  강남구  2020_2분기  "
      ]
     },
     "execution_count": 5,
     "metadata": {},
     "output_type": "execute_result"
    }
   ],
   "source": [
    "apt['거래년도'] = apt['거래년도'].astype('str')\n",
    "apt['거래시기'] = apt['거래년도'] + '_' + apt['분기']\n",
    "apt.head()"
   ]
  },
  {
   "cell_type": "code",
   "execution_count": 69,
   "metadata": {},
   "outputs": [
    {
     "data": {
      "text/html": [
       "<div>\n",
       "<style scoped>\n",
       "    .dataframe tbody tr th:only-of-type {\n",
       "        vertical-align: middle;\n",
       "    }\n",
       "\n",
       "    .dataframe tbody tr th {\n",
       "        vertical-align: top;\n",
       "    }\n",
       "\n",
       "    .dataframe thead th {\n",
       "        text-align: right;\n",
       "    }\n",
       "</style>\n",
       "<table border=\"1\" class=\"dataframe\">\n",
       "  <thead>\n",
       "    <tr style=\"text-align: right;\">\n",
       "      <th></th>\n",
       "      <th>건축년도</th>\n",
       "      <th>거래년도</th>\n",
       "      <th>거래월</th>\n",
       "      <th>법정동</th>\n",
       "      <th>거래금액</th>\n",
       "      <th>아파트이름</th>\n",
       "      <th>전용면적</th>\n",
       "      <th>층</th>\n",
       "      <th>전용면적(평)</th>\n",
       "      <th>전용면적(평)2</th>\n",
       "      <th>전용면적(평)3</th>\n",
       "      <th>반기</th>\n",
       "      <th>분기</th>\n",
       "      <th>평당거래금액</th>\n",
       "      <th>시도명</th>\n",
       "      <th>시군구명</th>\n",
       "      <th>거래시기</th>\n",
       "      <th>권역</th>\n",
       "    </tr>\n",
       "  </thead>\n",
       "  <tbody>\n",
       "    <tr>\n",
       "      <th>0</th>\n",
       "      <td>1988</td>\n",
       "      <td>2020</td>\n",
       "      <td>6</td>\n",
       "      <td>개포동</td>\n",
       "      <td>149500</td>\n",
       "      <td>개포2차현대아파트(220)</td>\n",
       "      <td>77.75</td>\n",
       "      <td>4</td>\n",
       "      <td>23.52</td>\n",
       "      <td>23</td>\n",
       "      <td>(20, 25]</td>\n",
       "      <td>상반기</td>\n",
       "      <td>2분기</td>\n",
       "      <td>6500.000000</td>\n",
       "      <td>서울특별시</td>\n",
       "      <td>강남구</td>\n",
       "      <td>2020_2분기</td>\n",
       "      <td>동남권</td>\n",
       "    </tr>\n",
       "    <tr>\n",
       "      <th>1</th>\n",
       "      <td>1987</td>\n",
       "      <td>2020</td>\n",
       "      <td>2</td>\n",
       "      <td>개포동</td>\n",
       "      <td>144000</td>\n",
       "      <td>개포6차우성아파트1동~8동</td>\n",
       "      <td>54.98</td>\n",
       "      <td>4</td>\n",
       "      <td>16.63</td>\n",
       "      <td>16</td>\n",
       "      <td>(15, 20]</td>\n",
       "      <td>상반기</td>\n",
       "      <td>1분기</td>\n",
       "      <td>9000.000000</td>\n",
       "      <td>서울특별시</td>\n",
       "      <td>강남구</td>\n",
       "      <td>2020_1분기</td>\n",
       "      <td>동남권</td>\n",
       "    </tr>\n",
       "    <tr>\n",
       "      <th>2</th>\n",
       "      <td>1987</td>\n",
       "      <td>2020</td>\n",
       "      <td>6</td>\n",
       "      <td>개포동</td>\n",
       "      <td>162750</td>\n",
       "      <td>개포6차우성아파트1동~8동</td>\n",
       "      <td>79.97</td>\n",
       "      <td>4</td>\n",
       "      <td>24.19</td>\n",
       "      <td>24</td>\n",
       "      <td>(20, 25]</td>\n",
       "      <td>상반기</td>\n",
       "      <td>2분기</td>\n",
       "      <td>6781.250000</td>\n",
       "      <td>서울특별시</td>\n",
       "      <td>강남구</td>\n",
       "      <td>2020_2분기</td>\n",
       "      <td>동남권</td>\n",
       "    </tr>\n",
       "    <tr>\n",
       "      <th>3</th>\n",
       "      <td>1987</td>\n",
       "      <td>2020</td>\n",
       "      <td>6</td>\n",
       "      <td>개포동</td>\n",
       "      <td>160000</td>\n",
       "      <td>개포6차우성아파트1동~8동</td>\n",
       "      <td>79.97</td>\n",
       "      <td>5</td>\n",
       "      <td>24.19</td>\n",
       "      <td>24</td>\n",
       "      <td>(20, 25]</td>\n",
       "      <td>상반기</td>\n",
       "      <td>2분기</td>\n",
       "      <td>6666.666667</td>\n",
       "      <td>서울특별시</td>\n",
       "      <td>강남구</td>\n",
       "      <td>2020_2분기</td>\n",
       "      <td>동남권</td>\n",
       "    </tr>\n",
       "    <tr>\n",
       "      <th>4</th>\n",
       "      <td>1987</td>\n",
       "      <td>2020</td>\n",
       "      <td>6</td>\n",
       "      <td>개포동</td>\n",
       "      <td>150000</td>\n",
       "      <td>개포6차우성아파트1동~8동</td>\n",
       "      <td>79.97</td>\n",
       "      <td>2</td>\n",
       "      <td>24.19</td>\n",
       "      <td>24</td>\n",
       "      <td>(20, 25]</td>\n",
       "      <td>상반기</td>\n",
       "      <td>2분기</td>\n",
       "      <td>6250.000000</td>\n",
       "      <td>서울특별시</td>\n",
       "      <td>강남구</td>\n",
       "      <td>2020_2분기</td>\n",
       "      <td>동남권</td>\n",
       "    </tr>\n",
       "  </tbody>\n",
       "</table>\n",
       "</div>"
      ],
      "text/plain": [
       "   건축년도  거래년도  거래월  법정동    거래금액           아파트이름   전용면적  층  전용면적(평)  전용면적(평)2  \\\n",
       "0  1988  2020    6  개포동  149500  개포2차현대아파트(220)  77.75  4    23.52        23   \n",
       "1  1987  2020    2  개포동  144000  개포6차우성아파트1동~8동  54.98  4    16.63        16   \n",
       "2  1987  2020    6  개포동  162750  개포6차우성아파트1동~8동  79.97  4    24.19        24   \n",
       "3  1987  2020    6  개포동  160000  개포6차우성아파트1동~8동  79.97  5    24.19        24   \n",
       "4  1987  2020    6  개포동  150000  개포6차우성아파트1동~8동  79.97  2    24.19        24   \n",
       "\n",
       "   전용면적(평)3   반기   분기       평당거래금액    시도명 시군구명      거래시기   권역  \n",
       "0  (20, 25]  상반기  2분기  6500.000000  서울특별시  강남구  2020_2분기  동남권  \n",
       "1  (15, 20]  상반기  1분기  9000.000000  서울특별시  강남구  2020_1분기  동남권  \n",
       "2  (20, 25]  상반기  2분기  6781.250000  서울특별시  강남구  2020_2분기  동남권  \n",
       "3  (20, 25]  상반기  2분기  6666.666667  서울특별시  강남구  2020_2분기  동남권  \n",
       "4  (20, 25]  상반기  2분기  6250.000000  서울특별시  강남구  2020_2분기  동남권  "
      ]
     },
     "execution_count": 69,
     "metadata": {},
     "output_type": "execute_result"
    }
   ],
   "source": [
    "def gu_tran(x):\n",
    "    tran = {'종로구':'도심권','중구': '도심권','용산구': '도심권',\n",
    "            '은평구':'서북권','서대문구': '서북권','마포구': '서북권',\n",
    "            '강북구':'동북권','도봉구': '동북권','노원구':'동북권','성북구':'동북권','동대문구':'동북권','중랑구':'동북권','성동구':'동북권','광진구':'동북권',\n",
    "            '강서구': '서남권','양천구': '서남권','영등포구': '서남권','구로구': '서남권','금천구': '서남권','동작구': '서남권','관악구': '서남권',\n",
    "           '강남구': '동남권','송파구': '동남권','서초구': '동남권','강동구': '동남권'}\n",
    "    return tran.get(x)\n",
    "\n",
    "apt['권역'] = apt['시군구명'].apply(gu_tran)\n",
    "apt.head()\n"
   ]
  },
  {
   "cell_type": "markdown",
   "metadata": {},
   "source": [
    "# 지역별 평균 평당거래금액"
   ]
  },
  {
   "cell_type": "code",
   "execution_count": 78,
   "metadata": {},
   "outputs": [
    {
     "data": {
      "image/png": "[encoded data removed]",
      "text/plain": [
       "<Figure size 2000x500 with 2 Axes>"
      ]
     },
     "metadata": {},
     "output_type": "display_data"
    }
   ],
   "source": [
    "gubun_transaction = apt.groupby('시군구명').mean()[['평당거래금액']].reset_index(drop=False)\n",
    "plt.figure(figsize=(20, 5))\n",
    "plt.subplot(1, 2, 1)\n",
    "sns.lineplot(data=gubun_transaction, x='시군구명', y='평당거래금액')\n",
    "plt.xticks(rotation=60)\n",
    "plt.title('지역별 총 평균 평당 거래 금액(시군구명 순서)')\n",
    "plt.subplot(1, 2, 2)\n",
    "sns.lineplot(data=gubun_transaction.sort_values(by='평당거래금액'), x='시군구명', y='평당거래금액')\n",
    "plt.xticks(rotation=60)\n",
    "plt.title('지역별 총 평균 평당 거래 금액(평당 거래금액 크기 순서)')\n",
    "plt.show()"
   ]
  },
  {
   "cell_type": "code",
   "execution_count": null,
   "metadata": {},
   "outputs": [],
   "source": [
    "pip install plotly"
   ]
  },
  {
   "cell_type": "code",
   "execution_count": null,
   "metadata": {},
   "outputs": [],
   "source": [
    "pip install chart_studio"
   ]
  },
  {
   "cell_type": "code",
   "execution_count": null,
   "metadata": {},
   "outputs": [],
   "source": [
    "pip install cufflinks"
   ]
  },
  {
   "cell_type": "markdown",
   "metadata": {},
   "source": [
    "# 지역별 평균 평당거래금액(Plotly)"
   ]
  },
  {
   "cell_type": "code",
   "execution_count": 96,
   "metadata": {},
   "outputs": [
    {
     "data": {
      "text/html": [
       "        <script type=\"text/javascript\">\n",
       "        window.PlotlyConfig = {MathJaxConfig: 'local'};\n",
       "        if (window.MathJax && window.MathJax.Hub && window.MathJax.Hub.Config) {window.MathJax.Hub.Config({SVG: {font: \"STIX-Web\"}});}\n",
       "        if (typeof require !== 'undefined') {\n",
       "        require.undef(\"plotly\");\n",
       "        requirejs.config({\n",
       "            paths: {\n",
       "                'plotly': ['https://cdn.plot.ly/plotly-2.14.0.min']\n",
       "            }\n",
       "        });\n",
       "        require(['plotly'], function(Plotly) {\n",
       "            window._Plotly = Plotly;\n",
       "        });\n",
       "        }\n",
       "        </script>\n",
       "        "
      ]
     },
     "metadata": {},
     "output_type": "display_data"
    },
    {
     "data": {
      "application/vnd.plotly.v1+json": {
       "config": {
        "linkText": "Export to plot.ly",
        "plotlyServerURL": "https://plot.ly",
        "showLink": true
       },
       "data": [
        {
         "line": {
          "color": "rgba(255, 153, 51, 1.0)",
          "dash": "solid",
          "shape": "linear",
          "width": 1.3
         },
         "marker": {
          "size": 12,
          "symbol": "circle"
         },
         "mode": "lines+markers",
         "name": "평당거래금액",
         "text": "",
         "type": "scatter",
         "x": [
          "강남구",
          "강동구",
          "강북구",
          "강서구",
          "관악구",
          "광진구",
          "구로구",
          "금천구",
          "노원구",
          "도봉구",
          "동대문구",
          "동작구",
          "마포구",
          "서대문구",
          "서초구",
          "성동구",
          "성북구",
          "송파구",
          "양천구",
          "영등포구",
          "용산구",
          "은평구",
          "종로구",
          "중구",
          "중랑구"
         ],
         "y": [
          7293.877108600494,
          3983.6215284973655,
          2633.7819037535614,
          3355.803942684357,
          3043.0062090361585,
          4271.840109851019,
          2710.665574941368,
          2573.13267212682,
          2934.196289771709,
          2394.245660162953,
          3376.7140404364304,
          4367.427357006443,
          4610.852507024667,
          3570.395949205332,
          6628.315605464558,
          4941.919885744034,
          3120.7724650242203,
          5454.000292438067,
          3890.5147722215565,
          4035.2466022627636,
          5545.328256993909,
          2911.662283909081,
          3734.95844512563,
          3891.381550667907,
          2694.890913896051
         ]
        }
       ],
       "layout": {
        "legend": {
         "bgcolor": "#F5F6F9",
         "font": {
          "color": "#4D5663"
         }
        },
        "paper_bgcolor": "#F5F6F9",
        "plot_bgcolor": "#F5F6F9",
        "template": {
         "data": {
          "bar": [
           {
            "error_x": {
             "color": "#2a3f5f"
            },
            "error_y": {
             "color": "#2a3f5f"
            },
            "marker": {
             "line": {
              "color": "#E5ECF6",
              "width": 0.5
             },
             "pattern": {
              "fillmode": "overlay",
              "size": 10,
              "solidity": 0.2
             }
            },
            "type": "bar"
           }
          ],
          "barpolar": [
           {
            "marker": {
             "line": {
              "color": "#E5ECF6",
              "width": 0.5
             },
             "pattern": {
              "fillmode": "overlay",
              "size": 10,
              "solidity": 0.2
             }
            },
            "type": "barpolar"
           }
          ],
          "carpet": [
           {
            "aaxis": {
             "endlinecolor": "#2a3f5f",
             "gridcolor": "white",
             "linecolor": "white",
             "minorgridcolor": "white",
             "startlinecolor": "#2a3f5f"
            },
            "baxis": {
             "endlinecolor": "#2a3f5f",
             "gridcolor": "white",
             "linecolor": "white",
             "minorgridcolor": "white",
             "startlinecolor": "#2a3f5f"
            },
            "type": "carpet"
           }
          ],
          "choropleth": [
           {
            "colorbar": {
             "outlinewidth": 0,
             "ticks": ""
            },
            "type": "choropleth"
           }
          ],
          "contour": [
           {
            "colorbar": {
             "outlinewidth": 0,
             "ticks": ""
            },
            "colorscale": [
             [
              0,
              "#0d0887"
             ],
             [
              0.1111111111111111,
              "#46039f"
             ],
             [
              0.2222222222222222,
              "#7201a8"
             ],
             [
              0.3333333333333333,
              "#9c179e"
             ],
             [
              0.4444444444444444,
              "#bd3786"
             ],
             [
              0.5555555555555556,
              "#d8576b"
             ],
             [
              0.6666666666666666,
              "#ed7953"
             ],
             [
              0.7777777777777778,
              "#fb9f3a"
             ],
             [
              0.8888888888888888,
              "#fdca26"
             ],
             [
              1,
              "#f0f921"
             ]
            ],
            "type": "contour"
           }
          ],
          "contourcarpet": [
           {
            "colorbar": {
             "outlinewidth": 0,
             "ticks": ""
            },
            "type": "contourcarpet"
           }
          ],
          "heatmap": [
           {
            "colorbar": {
             "outlinewidth": 0,
             "ticks": ""
            },
            "colorscale": [
             [
              0,
              "#0d0887"
             ],
             [
              0.1111111111111111,
              "#46039f"
             ],
             [
              0.2222222222222222,
              "#7201a8"
             ],
             [
              0.3333333333333333,
              "#9c179e"
             ],
             [
              0.4444444444444444,
              "#bd3786"
             ],
             [
              0.5555555555555556,
              "#d8576b"
             ],
             [
              0.6666666666666666,
              "#ed7953"
             ],
             [
              0.7777777777777778,
              "#fb9f3a"
             ],
             [
              0.8888888888888888,
              "#fdca26"
             ],
             [
              1,
              "#f0f921"
             ]
            ],
            "type": "heatmap"
           }
          ],
          "heatmapgl": [
           {
            "colorbar": {
             "outlinewidth": 0,
             "ticks": ""
            },
            "colorscale": [
             [
              0,
              "#0d0887"
             ],
             [
              0.1111111111111111,
              "#46039f"
             ],
             [
              0.2222222222222222,
              "#7201a8"
             ],
             [
              0.3333333333333333,
              "#9c179e"
             ],
             [
              0.4444444444444444,
              "#bd3786"
             ],
             [
              0.5555555555555556,
              "#d8576b"
             ],
             [
              0.6666666666666666,
              "#ed7953"
             ],
             [
              0.7777777777777778,
              "#fb9f3a"
             ],
             [
              0.8888888888888888,
              "#fdca26"
             ],
             [
              1,
              "#f0f921"
             ]
            ],
            "type": "heatmapgl"
           }
          ],
          "histogram": [
           {
            "marker": {
             "pattern": {
              "fillmode": "overlay",
              "size": 10,
              "solidity": 0.2
             }
            },
            "type": "histogram"
           }
          ],
          "histogram2d": [
           {
            "colorbar": {
             "outlinewidth": 0,
             "ticks": ""
            },
            "colorscale": [
             [
              0,
              "#0d0887"
             ],
             [
              0.1111111111111111,
              "#46039f"
             ],
             [
              0.2222222222222222,
              "#7201a8"
             ],
             [
              0.3333333333333333,
              "#9c179e"
             ],
             [
              0.4444444444444444,
              "#bd3786"
             ],
             [
              0.5555555555555556,
              "#d8576b"
             ],
             [
              0.6666666666666666,
              "#ed7953"
             ],
             [
              0.7777777777777778,
              "#fb9f3a"
             ],
             [
              0.8888888888888888,
              "#fdca26"
             ],
             [
              1,
              "#f0f921"
             ]
            ],
            "type": "histogram2d"
           }
          ],
          "histogram2dcontour": [
           {
            "colorbar": {
             "outlinewidth": 0,
             "ticks": ""
            },
            "colorscale": [
             [
              0,
              "#0d0887"
             ],
             [
              0.1111111111111111,
              "#46039f"
             ],
             [
              0.2222222222222222,
              "#7201a8"
             ],
             [
              0.3333333333333333,
              "#9c179e"
             ],
             [
              0.4444444444444444,
              "#bd3786"
             ],
             [
              0.5555555555555556,
              "#d8576b"
             ],
             [
              0.6666666666666666,
              "#ed7953"
             ],
             [
              0.7777777777777778,
              "#fb9f3a"
             ],
             [
              0.8888888888888888,
              "#fdca26"
             ],
             [
              1,
              "#f0f921"
             ]
            ],
            "type": "histogram2dcontour"
           }
          ],
          "mesh3d": [
           {
            "colorbar": {
             "outlinewidth": 0,
             "ticks": ""
            },
            "type": "mesh3d"
           }
          ],
          "parcoords": [
           {
            "line": {
             "colorbar": {
              "outlinewidth": 0,
              "ticks": ""
             }
            },
            "type": "parcoords"
           }
          ],
          "pie": [
           {
            "automargin": true,
            "type": "pie"
           }
          ],
          "scatter": [
           {
            "fillpattern": {
             "fillmode": "overlay",
             "size": 10,
             "solidity": 0.2
            },
            "type": "scatter"
           }
          ],
          "scatter3d": [
           {
            "line": {
             "colorbar": {
              "outlinewidth": 0,
              "ticks": ""
             }
            },
            "marker": {
             "colorbar": {
              "outlinewidth": 0,
              "ticks": ""
             }
            },
            "type": "scatter3d"
           }
          ],
          "scattercarpet": [
           {
            "marker": {
             "colorbar": {
              "outlinewidth": 0,
              "ticks": ""
             }
            },
            "type": "scattercarpet"
           }
          ],
          "scattergeo": [
           {
            "marker": {
             "colorbar": {
              "outlinewidth": 0,
              "ticks": ""
             }
            },
            "type": "scattergeo"
           }
          ],
          "scattergl": [
           {
            "marker": {
             "colorbar": {
              "outlinewidth": 0,
              "ticks": ""
             }
            },
            "type": "scattergl"
           }
          ],
          "scattermapbox": [
           {
            "marker": {
             "colorbar": {
              "outlinewidth": 0,
              "ticks": ""
             }
            },
            "type": "scattermapbox"
           }
          ],
          "scatterpolar": [
           {
            "marker": {
             "colorbar": {
              "outlinewidth": 0,
              "ticks": ""
             }
            },
            "type": "scatterpolar"
           }
          ],
          "scatterpolargl": [
           {
            "marker": {
             "colorbar": {
              "outlinewidth": 0,
              "ticks": ""
             }
            },
            "type": "scatterpolargl"
           }
          ],
          "scatterternary": [
           {
            "marker": {
             "colorbar": {
              "outlinewidth": 0,
              "ticks": ""
             }
            },
            "type": "scatterternary"
           }
          ],
          "surface": [
           {
            "colorbar": {
             "outlinewidth": 0,
             "ticks": ""
            },
            "colorscale": [
             [
              0,
              "#0d0887"
             ],
             [
              0.1111111111111111,
              "#46039f"
             ],
             [
              0.2222222222222222,
              "#7201a8"
             ],
             [
              0.3333333333333333,
              "#9c179e"
             ],
             [
              0.4444444444444444,
              "#bd3786"
             ],
             [
              0.5555555555555556,
              "#d8576b"
             ],
             [
              0.6666666666666666,
              "#ed7953"
             ],
             [
              0.7777777777777778,
              "#fb9f3a"
             ],
             [
              0.8888888888888888,
              "#fdca26"
             ],
             [
              1,
              "#f0f921"
             ]
            ],
            "type": "surface"
           }
          ],
          "table": [
           {
            "cells": {
             "fill": {
              "color": "#EBF0F8"
             },
             "line": {
              "color": "white"
             }
            },
            "header": {
             "fill": {
              "color": "#C8D4E3"
             },
             "line": {
              "color": "white"
             }
            },
            "type": "table"
           }
          ]
         },
         "layout": {
          "annotationdefaults": {
           "arrowcolor": "#2a3f5f",
           "arrowhead": 0,
           "arrowwidth": 1
          },
          "autotypenumbers": "strict",
          "coloraxis": {
           "colorbar": {
            "outlinewidth": 0,
            "ticks": ""
           }
          },
          "colorscale": {
           "diverging": [
            [
             0,
             "#8e0152"
            ],
            [
             0.1,
             "#c51b7d"
            ],
            [
             0.2,
             "#de77ae"
            ],
            [
             0.3,
             "#f1b6da"
            ],
            [
             0.4,
             "#fde0ef"
            ],
            [
             0.5,
             "#f7f7f7"
            ],
            [
             0.6,
             "#e6f5d0"
            ],
            [
             0.7,
             "#b8e186"
            ],
            [
             0.8,
             "#7fbc41"
            ],
            [
             0.9,
             "#4d9221"
            ],
            [
             1,
             "#276419"
            ]
           ],
           "sequential": [
            [
             0,
             "#0d0887"
            ],
            [
             0.1111111111111111,
             "#46039f"
            ],
            [
             0.2222222222222222,
             "#7201a8"
            ],
            [
             0.3333333333333333,
             "#9c179e"
            ],
            [
             0.4444444444444444,
             "#bd3786"
            ],
            [
             0.5555555555555556,
             "#d8576b"
            ],
            [
             0.6666666666666666,
             "#ed7953"
            ],
            [
             0.7777777777777778,
             "#fb9f3a"
            ],
            [
             0.8888888888888888,
             "#fdca26"
            ],
            [
             1,
             "#f0f921"
            ]
           ],
           "sequentialminus": [
            [
             0,
             "#0d0887"
            ],
            [
             0.1111111111111111,
             "#46039f"
            ],
            [
             0.2222222222222222,
             "#7201a8"
            ],
            [
             0.3333333333333333,
             "#9c179e"
            ],
            [
             0.4444444444444444,
             "#bd3786"
            ],
            [
             0.5555555555555556,
             "#d8576b"
            ],
            [
             0.6666666666666666,
             "#ed7953"
            ],
            [
             0.7777777777777778,
             "#fb9f3a"
            ],
            [
             0.8888888888888888,
             "#fdca26"
            ],
            [
             1,
             "#f0f921"
            ]
           ]
          },
          "colorway": [
           "#636efa",
           "#EF553B",
           "#00cc96",
           "#ab63fa",
           "#FFA15A",
           "#19d3f3",
           "#FF6692",
           "#B6E880",
           "#FF97FF",
           "#FECB52"
          ],
          "font": {
           "color": "#2a3f5f"
          },
          "geo": {
           "bgcolor": "white",
           "lakecolor": "white",
           "landcolor": "#E5ECF6",
           "showlakes": true,
           "showland": true,
           "subunitcolor": "white"
          },
          "hoverlabel": {
           "align": "left"
          },
          "hovermode": "closest",
          "mapbox": {
           "style": "light"
          },
          "paper_bgcolor": "white",
          "plot_bgcolor": "#E5ECF6",
          "polar": {
           "angularaxis": {
            "gridcolor": "white",
            "linecolor": "white",
            "ticks": ""
           },
           "bgcolor": "#E5ECF6",
           "radialaxis": {
            "gridcolor": "white",
            "linecolor": "white",
            "ticks": ""
           }
          },
          "scene": {
           "xaxis": {
            "backgroundcolor": "#E5ECF6",
            "gridcolor": "white",
            "gridwidth": 2,
            "linecolor": "white",
            "showbackground": true,
            "ticks": "",
            "zerolinecolor": "white"
           },
           "yaxis": {
            "backgroundcolor": "#E5ECF6",
            "gridcolor": "white",
            "gridwidth": 2,
            "linecolor": "white",
            "showbackground": true,
            "ticks": "",
            "zerolinecolor": "white"
           },
           "zaxis": {
            "backgroundcolor": "#E5ECF6",
            "gridcolor": "white",
            "gridwidth": 2,
            "linecolor": "white",
            "showbackground": true,
            "ticks": "",
            "zerolinecolor": "white"
           }
          },
          "shapedefaults": {
           "line": {
            "color": "#2a3f5f"
           }
          },
          "ternary": {
           "aaxis": {
            "gridcolor": "white",
            "linecolor": "white",
            "ticks": ""
           },
           "baxis": {
            "gridcolor": "white",
            "linecolor": "white",
            "ticks": ""
           },
           "bgcolor": "#E5ECF6",
           "caxis": {
            "gridcolor": "white",
            "linecolor": "white",
            "ticks": ""
           }
          },
          "title": {
           "x": 0.05
          },
          "xaxis": {
           "automargin": true,
           "gridcolor": "white",
           "linecolor": "white",
           "ticks": "",
           "title": {
            "standoff": 15
           },
           "zerolinecolor": "white",
           "zerolinewidth": 2
          },
          "yaxis": {
           "automargin": true,
           "gridcolor": "white",
           "linecolor": "white",
           "ticks": "",
           "title": {
            "standoff": 15
           },
           "zerolinecolor": "white",
           "zerolinewidth": 2
          }
         }
        },
        "title": {
         "font": {
          "color": "#4D5663"
         }
        },
        "xaxis": {
         "gridcolor": "#E1E5ED",
         "showgrid": true,
         "tickfont": {
          "color": "#4D5663"
         },
         "title": {
          "font": {
           "color": "#4D5663"
          },
          "text": ""
         },
         "zerolinecolor": "#E1E5ED"
        },
        "yaxis": {
         "gridcolor": "#E1E5ED",
         "showgrid": true,
         "tickfont": {
          "color": "#4D5663"
         },
         "title": {
          "font": {
           "color": "#4D5663"
          },
          "text": ""
         },
         "zerolinecolor": "#E1E5ED"
        }
       }
      },
      "text/html": [
       "<div>                            <div id=\"d470179e-f804-475d-a0c4-b702f3db54e5\" class=\"plotly-graph-div\" style=\"height:525px; width:100%;\"></div>            <script type=\"text/javascript\">                require([\"plotly\"], function(Plotly) {                    window.PLOTLYENV=window.PLOTLYENV || {};\n",
       "                    window.PLOTLYENV.BASE_URL='https://plot.ly';                                    if (document.getElementById(\"d470179e-f804-475d-a0c4-b702f3db54e5\")) {                    Plotly.newPlot(                        \"d470179e-f804-475d-a0c4-b702f3db54e5\",                        [{\"line\":{\"color\":\"rgba(255, 153, 51, 1.0)\",\"dash\":\"solid\",\"shape\":\"linear\",\"width\":1.3},\"marker\":{\"size\":12,\"symbol\":\"circle\"},\"mode\":\"lines+markers\",\"name\":\"\\ud3c9\\ub2f9\\uac70\\ub798\\uae08\\uc561\",\"text\":\"\",\"x\":[\"\\uac15\\ub0a8\\uad6c\",\"\\uac15\\ub3d9\\uad6c\",\"\\uac15\\ubd81\\uad6c\",\"\\uac15\\uc11c\\uad6c\",\"\\uad00\\uc545\\uad6c\",\"\\uad11\\uc9c4\\uad6c\",\"\\uad6c\\ub85c\\uad6c\",\"\\uae08\\ucc9c\\uad6c\",\"\\ub178\\uc6d0\\uad6c\",\"\\ub3c4\\ubd09\\uad6c\",\"\\ub3d9\\ub300\\ubb38\\uad6c\",\"\\ub3d9\\uc791\\uad6c\",\"\\ub9c8\\ud3ec\\uad6c\",\"\\uc11c\\ub300\\ubb38\\uad6c\",\"\\uc11c\\ucd08\\uad6c\",\"\\uc131\\ub3d9\\uad6c\",\"\\uc131\\ubd81\\uad6c\",\"\\uc1a1\\ud30c\\uad6c\",\"\\uc591\\ucc9c\\uad6c\",\"\\uc601\\ub4f1\\ud3ec\\uad6c\",\"\\uc6a9\\uc0b0\\uad6c\",\"\\uc740\\ud3c9\\uad6c\",\"\\uc885\\ub85c\\uad6c\",\"\\uc911\\uad6c\",\"\\uc911\\ub791\\uad6c\"],\"y\":[7293.877108600494,3983.6215284973655,2633.7819037535614,3355.803942684357,3043.0062090361585,4271.840109851019,2710.665574941368,2573.13267212682,2934.196289771709,2394.245660162953,3376.7140404364304,4367.427357006443,4610.852507024667,3570.395949205332,6628.315605464558,4941.919885744034,3120.7724650242203,5454.000292438067,3890.5147722215565,4035.2466022627636,5545.328256993909,2911.662283909081,3734.95844512563,3891.381550667907,2694.890913896051],\"type\":\"scatter\"}],                        {\"legend\":{\"bgcolor\":\"#F5F6F9\",\"font\":{\"color\":\"#4D5663\"}},\"paper_bgcolor\":\"#F5F6F9\",\"plot_bgcolor\":\"#F5F6F9\",\"template\":{\"data\":{\"barpolar\":[{\"marker\":{\"line\":{\"color\":\"#E5ECF6\",\"width\":0.5},\"pattern\":{\"fillmode\":\"overlay\",\"size\":10,\"solidity\":0.2}},\"type\":\"barpolar\"}],\"bar\":[{\"error_x\":{\"color\":\"#2a3f5f\"},\"error_y\":{\"color\":\"#2a3f5f\"},\"marker\":{\"line\":{\"color\":\"#E5ECF6\",\"width\":0.5},\"pattern\":{\"fillmode\":\"overlay\",\"size\":10,\"solidity\":0.2}},\"type\":\"bar\"}],\"carpet\":[{\"aaxis\":{\"endlinecolor\":\"#2a3f5f\",\"gridcolor\":\"white\",\"linecolor\":\"white\",\"minorgridcolor\":\"white\",\"startlinecolor\":\"#2a3f5f\"},\"baxis\":{\"endlinecolor\":\"#2a3f5f\",\"gridcolor\":\"white\",\"linecolor\":\"white\",\"minorgridcolor\":\"white\",\"startlinecolor\":\"#2a3f5f\"},\"type\":\"carpet\"}],\"choropleth\":[{\"colorbar\":{\"outlinewidth\":0,\"ticks\":\"\"},\"type\":\"choropleth\"}],\"contourcarpet\":[{\"colorbar\":{\"outlinewidth\":0,\"ticks\":\"\"},\"type\":\"contourcarpet\"}],\"contour\":[{\"colorbar\":{\"outlinewidth\":0,\"ticks\":\"\"},\"colorscale\":[[0.0,\"#0d0887\"],[0.1111111111111111,\"#46039f\"],[0.2222222222222222,\"#7201a8\"],[0.3333333333333333,\"#9c179e\"],[0.4444444444444444,\"#bd3786\"],[0.5555555555555556,\"#d8576b\"],[0.6666666666666666,\"#ed7953\"],[0.7777777777777778,\"#fb9f3a\"],[0.8888888888888888,\"#fdca26\"],[1.0,\"#f0f921\"]],\"type\":\"contour\"}],\"heatmapgl\":[{\"colorbar\":{\"outlinewidth\":0,\"ticks\":\"\"},\"colorscale\":[[0.0,\"#0d0887\"],[0.1111111111111111,\"#46039f\"],[0.2222222222222222,\"#7201a8\"],[0.3333333333333333,\"#9c179e\"],[0.4444444444444444,\"#bd3786\"],[0.5555555555555556,\"#d8576b\"],[0.6666666666666666,\"#ed7953\"],[0.7777777777777778,\"#fb9f3a\"],[0.8888888888888888,\"#fdca26\"],[1.0,\"#f0f921\"]],\"type\":\"heatmapgl\"}],\"heatmap\":[{\"colorbar\":{\"outlinewidth\":0,\"ticks\":\"\"},\"colorscale\":[[0.0,\"#0d0887\"],[0.1111111111111111,\"#46039f\"],[0.2222222222222222,\"#7201a8\"],[0.3333333333333333,\"#9c179e\"],[0.4444444444444444,\"#bd3786\"],[0.5555555555555556,\"#d8576b\"],[0.6666666666666666,\"#ed7953\"],[0.7777777777777778,\"#fb9f3a\"],[0.8888888888888888,\"#fdca26\"],[1.0,\"#f0f921\"]],\"type\":\"heatmap\"}],\"histogram2dcontour\":[{\"colorbar\":{\"outlinewidth\":0,\"ticks\":\"\"},\"colorscale\":[[0.0,\"#0d0887\"],[0.1111111111111111,\"#46039f\"],[0.2222222222222222,\"#7201a8\"],[0.3333333333333333,\"#9c179e\"],[0.4444444444444444,\"#bd3786\"],[0.5555555555555556,\"#d8576b\"],[0.6666666666666666,\"#ed7953\"],[0.7777777777777778,\"#fb9f3a\"],[0.8888888888888888,\"#fdca26\"],[1.0,\"#f0f921\"]],\"type\":\"histogram2dcontour\"}],\"histogram2d\":[{\"colorbar\":{\"outlinewidth\":0,\"ticks\":\"\"},\"colorscale\":[[0.0,\"#0d0887\"],[0.1111111111111111,\"#46039f\"],[0.2222222222222222,\"#7201a8\"],[0.3333333333333333,\"#9c179e\"],[0.4444444444444444,\"#bd3786\"],[0.5555555555555556,\"#d8576b\"],[0.6666666666666666,\"#ed7953\"],[0.7777777777777778,\"#fb9f3a\"],[0.8888888888888888,\"#fdca26\"],[1.0,\"#f0f921\"]],\"type\":\"histogram2d\"}],\"histogram\":[{\"marker\":{\"pattern\":{\"fillmode\":\"overlay\",\"size\":10,\"solidity\":0.2}},\"type\":\"histogram\"}],\"mesh3d\":[{\"colorbar\":{\"outlinewidth\":0,\"ticks\":\"\"},\"type\":\"mesh3d\"}],\"parcoords\":[{\"line\":{\"colorbar\":{\"outlinewidth\":0,\"ticks\":\"\"}},\"type\":\"parcoords\"}],\"pie\":[{\"automargin\":true,\"type\":\"pie\"}],\"scatter3d\":[{\"line\":{\"colorbar\":{\"outlinewidth\":0,\"ticks\":\"\"}},\"marker\":{\"colorbar\":{\"outlinewidth\":0,\"ticks\":\"\"}},\"type\":\"scatter3d\"}],\"scattercarpet\":[{\"marker\":{\"colorbar\":{\"outlinewidth\":0,\"ticks\":\"\"}},\"type\":\"scattercarpet\"}],\"scattergeo\":[{\"marker\":{\"colorbar\":{\"outlinewidth\":0,\"ticks\":\"\"}},\"type\":\"scattergeo\"}],\"scattergl\":[{\"marker\":{\"colorbar\":{\"outlinewidth\":0,\"ticks\":\"\"}},\"type\":\"scattergl\"}],\"scattermapbox\":[{\"marker\":{\"colorbar\":{\"outlinewidth\":0,\"ticks\":\"\"}},\"type\":\"scattermapbox\"}],\"scatterpolargl\":[{\"marker\":{\"colorbar\":{\"outlinewidth\":0,\"ticks\":\"\"}},\"type\":\"scatterpolargl\"}],\"scatterpolar\":[{\"marker\":{\"colorbar\":{\"outlinewidth\":0,\"ticks\":\"\"}},\"type\":\"scatterpolar\"}],\"scatter\":[{\"fillpattern\":{\"fillmode\":\"overlay\",\"size\":10,\"solidity\":0.2},\"type\":\"scatter\"}],\"scatterternary\":[{\"marker\":{\"colorbar\":{\"outlinewidth\":0,\"ticks\":\"\"}},\"type\":\"scatterternary\"}],\"surface\":[{\"colorbar\":{\"outlinewidth\":0,\"ticks\":\"\"},\"colorscale\":[[0.0,\"#0d0887\"],[0.1111111111111111,\"#46039f\"],[0.2222222222222222,\"#7201a8\"],[0.3333333333333333,\"#9c179e\"],[0.4444444444444444,\"#bd3786\"],[0.5555555555555556,\"#d8576b\"],[0.6666666666666666,\"#ed7953\"],[0.7777777777777778,\"#fb9f3a\"],[0.8888888888888888,\"#fdca26\"],[1.0,\"#f0f921\"]],\"type\":\"surface\"}],\"table\":[{\"cells\":{\"fill\":{\"color\":\"#EBF0F8\"},\"line\":{\"color\":\"white\"}},\"header\":{\"fill\":{\"color\":\"#C8D4E3\"},\"line\":{\"color\":\"white\"}},\"type\":\"table\"}]},\"layout\":{\"annotationdefaults\":{\"arrowcolor\":\"#2a3f5f\",\"arrowhead\":0,\"arrowwidth\":1},\"autotypenumbers\":\"strict\",\"coloraxis\":{\"colorbar\":{\"outlinewidth\":0,\"ticks\":\"\"}},\"colorscale\":{\"diverging\":[[0,\"#8e0152\"],[0.1,\"#c51b7d\"],[0.2,\"#de77ae\"],[0.3,\"#f1b6da\"],[0.4,\"#fde0ef\"],[0.5,\"#f7f7f7\"],[0.6,\"#e6f5d0\"],[0.7,\"#b8e186\"],[0.8,\"#7fbc41\"],[0.9,\"#4d9221\"],[1,\"#276419\"]],\"sequential\":[[0.0,\"#0d0887\"],[0.1111111111111111,\"#46039f\"],[0.2222222222222222,\"#7201a8\"],[0.3333333333333333,\"#9c179e\"],[0.4444444444444444,\"#bd3786\"],[0.5555555555555556,\"#d8576b\"],[0.6666666666666666,\"#ed7953\"],[0.7777777777777778,\"#fb9f3a\"],[0.8888888888888888,\"#fdca26\"],[1.0,\"#f0f921\"]],\"sequentialminus\":[[0.0,\"#0d0887\"],[0.1111111111111111,\"#46039f\"],[0.2222222222222222,\"#7201a8\"],[0.3333333333333333,\"#9c179e\"],[0.4444444444444444,\"#bd3786\"],[0.5555555555555556,\"#d8576b\"],[0.6666666666666666,\"#ed7953\"],[0.7777777777777778,\"#fb9f3a\"],[0.8888888888888888,\"#fdca26\"],[1.0,\"#f0f921\"]]},\"colorway\":[\"#636efa\",\"#EF553B\",\"#00cc96\",\"#ab63fa\",\"#FFA15A\",\"#19d3f3\",\"#FF6692\",\"#B6E880\",\"#FF97FF\",\"#FECB52\"],\"font\":{\"color\":\"#2a3f5f\"},\"geo\":{\"bgcolor\":\"white\",\"lakecolor\":\"white\",\"landcolor\":\"#E5ECF6\",\"showlakes\":true,\"showland\":true,\"subunitcolor\":\"white\"},\"hoverlabel\":{\"align\":\"left\"},\"hovermode\":\"closest\",\"mapbox\":{\"style\":\"light\"},\"paper_bgcolor\":\"white\",\"plot_bgcolor\":\"#E5ECF6\",\"polar\":{\"angularaxis\":{\"gridcolor\":\"white\",\"linecolor\":\"white\",\"ticks\":\"\"},\"bgcolor\":\"#E5ECF6\",\"radialaxis\":{\"gridcolor\":\"white\",\"linecolor\":\"white\",\"ticks\":\"\"}},\"scene\":{\"xaxis\":{\"backgroundcolor\":\"#E5ECF6\",\"gridcolor\":\"white\",\"gridwidth\":2,\"linecolor\":\"white\",\"showbackground\":true,\"ticks\":\"\",\"zerolinecolor\":\"white\"},\"yaxis\":{\"backgroundcolor\":\"#E5ECF6\",\"gridcolor\":\"white\",\"gridwidth\":2,\"linecolor\":\"white\",\"showbackground\":true,\"ticks\":\"\",\"zerolinecolor\":\"white\"},\"zaxis\":{\"backgroundcolor\":\"#E5ECF6\",\"gridcolor\":\"white\",\"gridwidth\":2,\"linecolor\":\"white\",\"showbackground\":true,\"ticks\":\"\",\"zerolinecolor\":\"white\"}},\"shapedefaults\":{\"line\":{\"color\":\"#2a3f5f\"}},\"ternary\":{\"aaxis\":{\"gridcolor\":\"white\",\"linecolor\":\"white\",\"ticks\":\"\"},\"baxis\":{\"gridcolor\":\"white\",\"linecolor\":\"white\",\"ticks\":\"\"},\"bgcolor\":\"#E5ECF6\",\"caxis\":{\"gridcolor\":\"white\",\"linecolor\":\"white\",\"ticks\":\"\"}},\"title\":{\"x\":0.05},\"xaxis\":{\"automargin\":true,\"gridcolor\":\"white\",\"linecolor\":\"white\",\"ticks\":\"\",\"title\":{\"standoff\":15},\"zerolinecolor\":\"white\",\"zerolinewidth\":2},\"yaxis\":{\"automargin\":true,\"gridcolor\":\"white\",\"linecolor\":\"white\",\"ticks\":\"\",\"title\":{\"standoff\":15},\"zerolinecolor\":\"white\",\"zerolinewidth\":2}}},\"title\":{\"font\":{\"color\":\"#4D5663\"}},\"xaxis\":{\"gridcolor\":\"#E1E5ED\",\"showgrid\":true,\"tickfont\":{\"color\":\"#4D5663\"},\"title\":{\"font\":{\"color\":\"#4D5663\"},\"text\":\"\"},\"zerolinecolor\":\"#E1E5ED\"},\"yaxis\":{\"gridcolor\":\"#E1E5ED\",\"showgrid\":true,\"tickfont\":{\"color\":\"#4D5663\"},\"title\":{\"font\":{\"color\":\"#4D5663\"},\"text\":\"\"},\"zerolinecolor\":\"#E1E5ED\"}},                        {\"showLink\": true, \"linkText\": \"Export to plot.ly\", \"plotlyServerURL\": \"https://plot.ly\", \"responsive\": true}                    ).then(function(){\n",
       "                            \n",
       "var gd = document.getElementById('d470179e-f804-475d-a0c4-b702f3db54e5');\n",
       "var x = new MutationObserver(function (mutations, observer) {{\n",
       "        var display = window.getComputedStyle(gd).display;\n",
       "        if (!display || display === 'none') {{\n",
       "            console.log([gd, 'removed!']);\n",
       "            Plotly.purge(gd);\n",
       "            observer.disconnect();\n",
       "        }}\n",
       "}});\n",
       "\n",
       "// Listen for the removal of the full notebook cells\n",
       "var notebookContainer = gd.closest('#notebook-container');\n",
       "if (notebookContainer) {{\n",
       "    x.observe(notebookContainer, {childList: true});\n",
       "}}\n",
       "\n",
       "// Listen for the clearing of the current output cell\n",
       "var outputEl = gd.closest('.output');\n",
       "if (outputEl) {{\n",
       "    x.observe(outputEl, {childList: true});\n",
       "}}\n",
       "\n",
       "                        })                };                });            </script>        </div>"
      ]
     },
     "metadata": {},
     "output_type": "display_data"
    }
   ],
   "source": [
    "import chart_studio.plotly as py\n",
    "import cufflinks as cf\n",
    "\n",
    "cf.go_offline(connected=True)\n",
    "\n",
    "gubun_transaction.iplot(kind='line', mode='lines+markers', x='시군구명', y='평당거래금액')"
   ]
  },
  {
   "cell_type": "markdown",
   "metadata": {},
   "source": [
    "# 연도_분기별 평균 평당거래금액"
   ]
  },
  {
   "cell_type": "code",
   "execution_count": 79,
   "metadata": {},
   "outputs": [
    {
     "data": {
      "image/png": "[encoded data removed]",
      "text/plain": [
       "<Figure size 2000x500 with 2 Axes>"
      ]
     },
     "metadata": {},
     "output_type": "display_data"
    }
   ],
   "source": [
    "time_transaction = apt.groupby('거래시기').mean()[['평당거래금액']].reset_index(drop=False)\n",
    "plt.figure(figsize=(20, 5))\n",
    "plt.subplot(1, 2, 1)\n",
    "sns.lineplot(data=time_transaction, x='거래시기', y='평당거래금액')\n",
    "plt.xticks(rotation=60)\n",
    "plt.title('연도_분기별 평균 평당 거래 금액(시간 순서)')\n",
    "plt.subplot(1, 2, 2)\n",
    "sns.lineplot(data=time_transaction.sort_values(by='평당거래금액'), x='거래시기', y='평당거래금액')\n",
    "plt.xticks(rotation=60)\n",
    "plt.title('연도_분기별 평균 평당 거래 금액(평당 거래금액 크기 순서)')\n",
    "plt.show()\n"
   ]
  },
  {
   "cell_type": "markdown",
   "metadata": {},
   "source": [
    "# 연도_분기별 평균 평당거래금액(Plotly)"
   ]
  },
  {
   "cell_type": "code",
   "execution_count": 97,
   "metadata": {},
   "outputs": [
    {
     "data": {
      "application/vnd.plotly.v1+json": {
       "config": {
        "linkText": "Export to plot.ly",
        "plotlyServerURL": "https://plot.ly",
        "showLink": true
       },
       "data": [
        {
         "line": {
          "color": "rgba(255, 153, 51, 1.0)",
          "dash": "solid",
          "shape": "linear",
          "width": 1.3
         },
         "marker": {
          "size": 12,
          "symbol": "circle"
         },
         "mode": "lines+markers",
         "name": "평당거래금액",
         "text": "",
         "type": "scatter",
         "x": [
          "2019_1분기",
          "2019_2분기",
          "2019_3분기",
          "2019_4분기",
          "2020_1분기",
          "2020_2분기",
          "2020_3분기",
          "2020_4분기",
          "2021_1분기",
          "2021_2분기",
          "2021_3분기",
          "2021_4분기",
          "2022_1분기",
          "2022_2분기"
         ],
         "y": [
          2951.389955247316,
          3614.1376453749344,
          3598.1071092506313,
          3558.700975200445,
          3128.397266670411,
          3659.5741965229404,
          3938.1661732868947,
          4368.3379152654115,
          4468.206705526159,
          4673.779634302486,
          4843.831178796339,
          4906.602946384652,
          4736.255805921541,
          4962.781255552858
         ]
        }
       ],
       "layout": {
        "legend": {
         "bgcolor": "#F5F6F9",
         "font": {
          "color": "#4D5663"
         }
        },
        "paper_bgcolor": "#F5F6F9",
        "plot_bgcolor": "#F5F6F9",
        "template": {
         "data": {
          "bar": [
           {
            "error_x": {
             "color": "#2a3f5f"
            },
            "error_y": {
             "color": "#2a3f5f"
            },
            "marker": {
             "line": {
              "color": "#E5ECF6",
              "width": 0.5
             },
             "pattern": {
              "fillmode": "overlay",
              "size": 10,
              "solidity": 0.2
             }
            },
            "type": "bar"
           }
          ],
          "barpolar": [
           {
            "marker": {
             "line": {
              "color": "#E5ECF6",
              "width": 0.5
             },
             "pattern": {
              "fillmode": "overlay",
              "size": 10,
              "solidity": 0.2
             }
            },
            "type": "barpolar"
           }
          ],
          "carpet": [
           {
            "aaxis": {
             "endlinecolor": "#2a3f5f",
             "gridcolor": "white",
             "linecolor": "white",
             "minorgridcolor": "white",
             "startlinecolor": "#2a3f5f"
            },
            "baxis": {
             "endlinecolor": "#2a3f5f",
             "gridcolor": "white",
             "linecolor": "white",
             "minorgridcolor": "white",
             "startlinecolor": "#2a3f5f"
            },
            "type": "carpet"
           }
          ],
          "choropleth": [
           {
            "colorbar": {
             "outlinewidth": 0,
             "ticks": ""
            },
            "type": "choropleth"
           }
          ],
          "contour": [
           {
            "colorbar": {
             "outlinewidth": 0,
             "ticks": ""
            },
            "colorscale": [
             [
              0,
              "#0d0887"
             ],
             [
              0.1111111111111111,
              "#46039f"
             ],
             [
              0.2222222222222222,
              "#7201a8"
             ],
             [
              0.3333333333333333,
              "#9c179e"
             ],
             [
              0.4444444444444444,
              "#bd3786"
             ],
             [
              0.5555555555555556,
              "#d8576b"
             ],
             [
              0.6666666666666666,
              "#ed7953"
             ],
             [
              0.7777777777777778,
              "#fb9f3a"
             ],
             [
              0.8888888888888888,
              "#fdca26"
             ],
             [
              1,
              "#f0f921"
             ]
            ],
            "type": "contour"
           }
          ],
          "contourcarpet": [
           {
            "colorbar": {
             "outlinewidth": 0,
             "ticks": ""
            },
            "type": "contourcarpet"
           }
          ],
          "heatmap": [
           {
            "colorbar": {
             "outlinewidth": 0,
             "ticks": ""
            },
            "colorscale": [
             [
              0,
              "#0d0887"
             ],
             [
              0.1111111111111111,
              "#46039f"
             ],
             [
              0.2222222222222222,
              "#7201a8"
             ],
             [
              0.3333333333333333,
              "#9c179e"
             ],
             [
              0.4444444444444444,
              "#bd3786"
             ],
             [
              0.5555555555555556,
              "#d8576b"
             ],
             [
              0.6666666666666666,
              "#ed7953"
             ],
             [
              0.7777777777777778,
              "#fb9f3a"
             ],
             [
              0.8888888888888888,
              "#fdca26"
             ],
             [
              1,
              "#f0f921"
             ]
            ],
            "type": "heatmap"
           }
          ],
          "heatmapgl": [
           {
            "colorbar": {
             "outlinewidth": 0,
             "ticks": ""
            },
            "colorscale": [
             [
              0,
              "#0d0887"
             ],
             [
              0.1111111111111111,
              "#46039f"
             ],
             [
              0.2222222222222222,
              "#7201a8"
             ],
             [
              0.3333333333333333,
              "#9c179e"
             ],
             [
              0.4444444444444444,
              "#bd3786"
             ],
             [
              0.5555555555555556,
              "#d8576b"
             ],
             [
              0.6666666666666666,
              "#ed7953"
             ],
             [
              0.7777777777777778,
              "#fb9f3a"
             ],
             [
              0.8888888888888888,
              "#fdca26"
             ],
             [
              1,
              "#f0f921"
             ]
            ],
            "type": "heatmapgl"
           }
          ],
          "histogram": [
           {
            "marker": {
             "pattern": {
              "fillmode": "overlay",
              "size": 10,
              "solidity": 0.2
             }
            },
            "type": "histogram"
           }
          ],
          "histogram2d": [
           {
            "colorbar": {
             "outlinewidth": 0,
             "ticks": ""
            },
            "colorscale": [
             [
              0,
              "#0d0887"
             ],
             [
              0.1111111111111111,
              "#46039f"
             ],
             [
              0.2222222222222222,
              "#7201a8"
             ],
             [
              0.3333333333333333,
              "#9c179e"
             ],
             [
              0.4444444444444444,
              "#bd3786"
             ],
             [
              0.5555555555555556,
              "#d8576b"
             ],
             [
              0.6666666666666666,
              "#ed7953"
             ],
             [
              0.7777777777777778,
              "#fb9f3a"
             ],
             [
              0.8888888888888888,
              "#fdca26"
             ],
             [
              1,
              "#f0f921"
             ]
            ],
            "type": "histogram2d"
           }
          ],
          "histogram2dcontour": [
           {
            "colorbar": {
             "outlinewidth": 0,
             "ticks": ""
            },
            "colorscale": [
             [
              0,
              "#0d0887"
             ],
             [
              0.1111111111111111,
              "#46039f"
             ],
             [
              0.2222222222222222,
              "#7201a8"
             ],
             [
              0.3333333333333333,
              "#9c179e"
             ],
             [
              0.4444444444444444,
              "#bd3786"
             ],
             [
              0.5555555555555556,
              "#d8576b"
             ],
             [
              0.6666666666666666,
              "#ed7953"
             ],
             [
              0.7777777777777778,
              "#fb9f3a"
             ],
             [
              0.8888888888888888,
              "#fdca26"
             ],
             [
              1,
              "#f0f921"
             ]
            ],
            "type": "histogram2dcontour"
           }
          ],
          "mesh3d": [
           {
            "colorbar": {
             "outlinewidth": 0,
             "ticks": ""
            },
            "type": "mesh3d"
           }
          ],
          "parcoords": [
           {
            "line": {
             "colorbar": {
              "outlinewidth": 0,
              "ticks": ""
             }
            },
            "type": "parcoords"
           }
          ],
          "pie": [
           {
            "automargin": true,
            "type": "pie"
           }
          ],
          "scatter": [
           {
            "fillpattern": {
             "fillmode": "overlay",
             "size": 10,
             "solidity": 0.2
            },
            "type": "scatter"
           }
          ],
          "scatter3d": [
           {
            "line": {
             "colorbar": {
              "outlinewidth": 0,
              "ticks": ""
             }
            },
            "marker": {
             "colorbar": {
              "outlinewidth": 0,
              "ticks": ""
             }
            },
            "type": "scatter3d"
           }
          ],
          "scattercarpet": [
           {
            "marker": {
             "colorbar": {
              "outlinewidth": 0,
              "ticks": ""
             }
            },
            "type": "scattercarpet"
           }
          ],
          "scattergeo": [
           {
            "marker": {
             "colorbar": {
              "outlinewidth": 0,
              "ticks": ""
             }
            },
            "type": "scattergeo"
           }
          ],
          "scattergl": [
           {
            "marker": {
             "colorbar": {
              "outlinewidth": 0,
              "ticks": ""
             }
            },
            "type": "scattergl"
           }
          ],
          "scattermapbox": [
           {
            "marker": {
             "colorbar": {
              "outlinewidth": 0,
              "ticks": ""
             }
            },
            "type": "scattermapbox"
           }
          ],
          "scatterpolar": [
           {
            "marker": {
             "colorbar": {
              "outlinewidth": 0,
              "ticks": ""
             }
            },
            "type": "scatterpolar"
           }
          ],
          "scatterpolargl": [
           {
            "marker": {
             "colorbar": {
              "outlinewidth": 0,
              "ticks": ""
             }
            },
            "type": "scatterpolargl"
           }
          ],
          "scatterternary": [
           {
            "marker": {
             "colorbar": {
              "outlinewidth": 0,
              "ticks": ""
             }
            },
            "type": "scatterternary"
           }
          ],
          "surface": [
           {
            "colorbar": {
             "outlinewidth": 0,
             "ticks": ""
            },
            "colorscale": [
             [
              0,
              "#0d0887"
             ],
             [
              0.1111111111111111,
              "#46039f"
             ],
             [
              0.2222222222222222,
              "#7201a8"
             ],
             [
              0.3333333333333333,
              "#9c179e"
             ],
             [
              0.4444444444444444,
              "#bd3786"
             ],
             [
              0.5555555555555556,
              "#d8576b"
             ],
             [
              0.6666666666666666,
              "#ed7953"
             ],
             [
              0.7777777777777778,
              "#fb9f3a"
             ],
             [
              0.8888888888888888,
              "#fdca26"
             ],
             [
              1,
              "#f0f921"
             ]
            ],
            "type": "surface"
           }
          ],
          "table": [
           {
            "cells": {
             "fill": {
              "color": "#EBF0F8"
             },
             "line": {
              "color": "white"
             }
            },
            "header": {
             "fill": {
              "color": "#C8D4E3"
             },
             "line": {
              "color": "white"
             }
            },
            "type": "table"
           }
          ]
         },
         "layout": {
          "annotationdefaults": {
           "arrowcolor": "#2a3f5f",
           "arrowhead": 0,
           "arrowwidth": 1
          },
          "autotypenumbers": "strict",
          "coloraxis": {
           "colorbar": {
            "outlinewidth": 0,
            "ticks": ""
           }
          },
          "colorscale": {
           "diverging": [
            [
             0,
             "#8e0152"
            ],
            [
             0.1,
             "#c51b7d"
            ],
            [
             0.2,
             "#de77ae"
            ],
            [
             0.3,
             "#f1b6da"
            ],
            [
             0.4,
             "#fde0ef"
            ],
            [
             0.5,
             "#f7f7f7"
            ],
            [
             0.6,
             "#e6f5d0"
            ],
            [
             0.7,
             "#b8e186"
            ],
            [
             0.8,
             "#7fbc41"
            ],
            [
             0.9,
             "#4d9221"
            ],
            [
             1,
             "#276419"
            ]
           ],
           "sequential": [
            [
             0,
             "#0d0887"
            ],
            [
             0.1111111111111111,
             "#46039f"
            ],
            [
             0.2222222222222222,
             "#7201a8"
            ],
            [
             0.3333333333333333,
             "#9c179e"
            ],
            [
             0.4444444444444444,
             "#bd3786"
            ],
            [
             0.5555555555555556,
             "#d8576b"
            ],
            [
             0.6666666666666666,
             "#ed7953"
            ],
            [
             0.7777777777777778,
             "#fb9f3a"
            ],
            [
             0.8888888888888888,
             "#fdca26"
            ],
            [
             1,
             "#f0f921"
            ]
           ],
           "sequentialminus": [
            [
             0,
             "#0d0887"
            ],
            [
             0.1111111111111111,
             "#46039f"
            ],
            [
             0.2222222222222222,
             "#7201a8"
            ],
            [
             0.3333333333333333,
             "#9c179e"
            ],
            [
             0.4444444444444444,
             "#bd3786"
            ],
            [
             0.5555555555555556,
             "#d8576b"
            ],
            [
             0.6666666666666666,
             "#ed7953"
            ],
            [
             0.7777777777777778,
             "#fb9f3a"
            ],
            [
             0.8888888888888888,
             "#fdca26"
            ],
            [
             1,
             "#f0f921"
            ]
           ]
          },
          "colorway": [
           "#636efa",
           "#EF553B",
           "#00cc96",
           "#ab63fa",
           "#FFA15A",
           "#19d3f3",
           "#FF6692",
           "#B6E880",
           "#FF97FF",
           "#FECB52"
          ],
          "font": {
           "color": "#2a3f5f"
          },
          "geo": {
           "bgcolor": "white",
           "lakecolor": "white",
           "landcolor": "#E5ECF6",
           "showlakes": true,
           "showland": true,
           "subunitcolor": "white"
          },
          "hoverlabel": {
           "align": "left"
          },
          "hovermode": "closest",
          "mapbox": {
           "style": "light"
          },
          "paper_bgcolor": "white",
          "plot_bgcolor": "#E5ECF6",
          "polar": {
           "angularaxis": {
            "gridcolor": "white",
            "linecolor": "white",
            "ticks": ""
           },
           "bgcolor": "#E5ECF6",
           "radialaxis": {
            "gridcolor": "white",
            "linecolor": "white",
            "ticks": ""
           }
          },
          "scene": {
           "xaxis": {
            "backgroundcolor": "#E5ECF6",
            "gridcolor": "white",
            "gridwidth": 2,
            "linecolor": "white",
            "showbackground": true,
            "ticks": "",
            "zerolinecolor": "white"
           },
           "yaxis": {
            "backgroundcolor": "#E5ECF6",
            "gridcolor": "white",
            "gridwidth": 2,
            "linecolor": "white",
            "showbackground": true,
            "ticks": "",
            "zerolinecolor": "white"
           },
           "zaxis": {
            "backgroundcolor": "#E5ECF6",
            "gridcolor": "white",
            "gridwidth": 2,
            "linecolor": "white",
            "showbackground": true,
            "ticks": "",
            "zerolinecolor": "white"
           }
          },
          "shapedefaults": {
           "line": {
            "color": "#2a3f5f"
           }
          },
          "ternary": {
           "aaxis": {
            "gridcolor": "white",
            "linecolor": "white",
            "ticks": ""
           },
           "baxis": {
            "gridcolor": "white",
            "linecolor": "white",
            "ticks": ""
           },
           "bgcolor": "#E5ECF6",
           "caxis": {
            "gridcolor": "white",
            "linecolor": "white",
            "ticks": ""
           }
          },
          "title": {
           "x": 0.05
          },
          "xaxis": {
           "automargin": true,
           "gridcolor": "white",
           "linecolor": "white",
           "ticks": "",
           "title": {
            "standoff": 15
           },
           "zerolinecolor": "white",
           "zerolinewidth": 2
          },
          "yaxis": {
           "automargin": true,
           "gridcolor": "white",
           "linecolor": "white",
           "ticks": "",
           "title": {
            "standoff": 15
           },
           "zerolinecolor": "white",
           "zerolinewidth": 2
          }
         }
        },
        "title": {
         "font": {
          "color": "#4D5663"
         }
        },
        "xaxis": {
         "gridcolor": "#E1E5ED",
         "showgrid": true,
         "tickfont": {
          "color": "#4D5663"
         },
         "title": {
          "font": {
           "color": "#4D5663"
          },
          "text": ""
         },
         "zerolinecolor": "#E1E5ED"
        },
        "yaxis": {
         "gridcolor": "#E1E5ED",
         "showgrid": true,
         "tickfont": {
          "color": "#4D5663"
         },
         "title": {
          "font": {
           "color": "#4D5663"
          },
          "text": ""
         },
         "zerolinecolor": "#E1E5ED"
        }
       }
      },
      "text/html": [
       "<div>                            <div id=\"992e5129-0445-4335-a592-5d43db8f7e1a\" class=\"plotly-graph-div\" style=\"height:525px; width:100%;\"></div>            <script type=\"text/javascript\">                require([\"plotly\"], function(Plotly) {                    window.PLOTLYENV=window.PLOTLYENV || {};\n",
       "                    window.PLOTLYENV.BASE_URL='https://plot.ly';                                    if (document.getElementById(\"992e5129-0445-4335-a592-5d43db8f7e1a\")) {                    Plotly.newPlot(                        \"992e5129-0445-4335-a592-5d43db8f7e1a\",                        [{\"line\":{\"color\":\"rgba(255, 153, 51, 1.0)\",\"dash\":\"solid\",\"shape\":\"linear\",\"width\":1.3},\"marker\":{\"size\":12,\"symbol\":\"circle\"},\"mode\":\"lines+markers\",\"name\":\"\\ud3c9\\ub2f9\\uac70\\ub798\\uae08\\uc561\",\"text\":\"\",\"x\":[\"2019_1\\ubd84\\uae30\",\"2019_2\\ubd84\\uae30\",\"2019_3\\ubd84\\uae30\",\"2019_4\\ubd84\\uae30\",\"2020_1\\ubd84\\uae30\",\"2020_2\\ubd84\\uae30\",\"2020_3\\ubd84\\uae30\",\"2020_4\\ubd84\\uae30\",\"2021_1\\ubd84\\uae30\",\"2021_2\\ubd84\\uae30\",\"2021_3\\ubd84\\uae30\",\"2021_4\\ubd84\\uae30\",\"2022_1\\ubd84\\uae30\",\"2022_2\\ubd84\\uae30\"],\"y\":[2951.389955247316,3614.1376453749344,3598.1071092506313,3558.700975200445,3128.397266670411,3659.5741965229404,3938.1661732868947,4368.3379152654115,4468.206705526159,4673.779634302486,4843.831178796339,4906.602946384652,4736.255805921541,4962.781255552858],\"type\":\"scatter\"}],                        {\"legend\":{\"bgcolor\":\"#F5F6F9\",\"font\":{\"color\":\"#4D5663\"}},\"paper_bgcolor\":\"#F5F6F9\",\"plot_bgcolor\":\"#F5F6F9\",\"template\":{\"data\":{\"barpolar\":[{\"marker\":{\"line\":{\"color\":\"#E5ECF6\",\"width\":0.5},\"pattern\":{\"fillmode\":\"overlay\",\"size\":10,\"solidity\":0.2}},\"type\":\"barpolar\"}],\"bar\":[{\"error_x\":{\"color\":\"#2a3f5f\"},\"error_y\":{\"color\":\"#2a3f5f\"},\"marker\":{\"line\":{\"color\":\"#E5ECF6\",\"width\":0.5},\"pattern\":{\"fillmode\":\"overlay\",\"size\":10,\"solidity\":0.2}},\"type\":\"bar\"}],\"carpet\":[{\"aaxis\":{\"endlinecolor\":\"#2a3f5f\",\"gridcolor\":\"white\",\"linecolor\":\"white\",\"minorgridcolor\":\"white\",\"startlinecolor\":\"#2a3f5f\"},\"baxis\":{\"endlinecolor\":\"#2a3f5f\",\"gridcolor\":\"white\",\"linecolor\":\"white\",\"minorgridcolor\":\"white\",\"startlinecolor\":\"#2a3f5f\"},\"type\":\"carpet\"}],\"choropleth\":[{\"colorbar\":{\"outlinewidth\":0,\"ticks\":\"\"},\"type\":\"choropleth\"}],\"contourcarpet\":[{\"colorbar\":{\"outlinewidth\":0,\"ticks\":\"\"},\"type\":\"contourcarpet\"}],\"contour\":[{\"colorbar\":{\"outlinewidth\":0,\"ticks\":\"\"},\"colorscale\":[[0.0,\"#0d0887\"],[0.1111111111111111,\"#46039f\"],[0.2222222222222222,\"#7201a8\"],[0.3333333333333333,\"#9c179e\"],[0.4444444444444444,\"#bd3786\"],[0.5555555555555556,\"#d8576b\"],[0.6666666666666666,\"#ed7953\"],[0.7777777777777778,\"#fb9f3a\"],[0.8888888888888888,\"#fdca26\"],[1.0,\"#f0f921\"]],\"type\":\"contour\"}],\"heatmapgl\":[{\"colorbar\":{\"outlinewidth\":0,\"ticks\":\"\"},\"colorscale\":[[0.0,\"#0d0887\"],[0.1111111111111111,\"#46039f\"],[0.2222222222222222,\"#7201a8\"],[0.3333333333333333,\"#9c179e\"],[0.4444444444444444,\"#bd3786\"],[0.5555555555555556,\"#d8576b\"],[0.6666666666666666,\"#ed7953\"],[0.7777777777777778,\"#fb9f3a\"],[0.8888888888888888,\"#fdca26\"],[1.0,\"#f0f921\"]],\"type\":\"heatmapgl\"}],\"heatmap\":[{\"colorbar\":{\"outlinewidth\":0,\"ticks\":\"\"},\"colorscale\":[[0.0,\"#0d0887\"],[0.1111111111111111,\"#46039f\"],[0.2222222222222222,\"#7201a8\"],[0.3333333333333333,\"#9c179e\"],[0.4444444444444444,\"#bd3786\"],[0.5555555555555556,\"#d8576b\"],[0.6666666666666666,\"#ed7953\"],[0.7777777777777778,\"#fb9f3a\"],[0.8888888888888888,\"#fdca26\"],[1.0,\"#f0f921\"]],\"type\":\"heatmap\"}],\"histogram2dcontour\":[{\"colorbar\":{\"outlinewidth\":0,\"ticks\":\"\"},\"colorscale\":[[0.0,\"#0d0887\"],[0.1111111111111111,\"#46039f\"],[0.2222222222222222,\"#7201a8\"],[0.3333333333333333,\"#9c179e\"],[0.4444444444444444,\"#bd3786\"],[0.5555555555555556,\"#d8576b\"],[0.6666666666666666,\"#ed7953\"],[0.7777777777777778,\"#fb9f3a\"],[0.8888888888888888,\"#fdca26\"],[1.0,\"#f0f921\"]],\"type\":\"histogram2dcontour\"}],\"histogram2d\":[{\"colorbar\":{\"outlinewidth\":0,\"ticks\":\"\"},\"colorscale\":[[0.0,\"#0d0887\"],[0.1111111111111111,\"#46039f\"],[0.2222222222222222,\"#7201a8\"],[0.3333333333333333,\"#9c179e\"],[0.4444444444444444,\"#bd3786\"],[0.5555555555555556,\"#d8576b\"],[0.6666666666666666,\"#ed7953\"],[0.7777777777777778,\"#fb9f3a\"],[0.8888888888888888,\"#fdca26\"],[1.0,\"#f0f921\"]],\"type\":\"histogram2d\"}],\"histogram\":[{\"marker\":{\"pattern\":{\"fillmode\":\"overlay\",\"size\":10,\"solidity\":0.2}},\"type\":\"histogram\"}],\"mesh3d\":[{\"colorbar\":{\"outlinewidth\":0,\"ticks\":\"\"},\"type\":\"mesh3d\"}],\"parcoords\":[{\"line\":{\"colorbar\":{\"outlinewidth\":0,\"ticks\":\"\"}},\"type\":\"parcoords\"}],\"pie\":[{\"automargin\":true,\"type\":\"pie\"}],\"scatter3d\":[{\"line\":{\"colorbar\":{\"outlinewidth\":0,\"ticks\":\"\"}},\"marker\":{\"colorbar\":{\"outlinewidth\":0,\"ticks\":\"\"}},\"type\":\"scatter3d\"}],\"scattercarpet\":[{\"marker\":{\"colorbar\":{\"outlinewidth\":0,\"ticks\":\"\"}},\"type\":\"scattercarpet\"}],\"scattergeo\":[{\"marker\":{\"colorbar\":{\"outlinewidth\":0,\"ticks\":\"\"}},\"type\":\"scattergeo\"}],\"scattergl\":[{\"marker\":{\"colorbar\":{\"outlinewidth\":0,\"ticks\":\"\"}},\"type\":\"scattergl\"}],\"scattermapbox\":[{\"marker\":{\"colorbar\":{\"outlinewidth\":0,\"ticks\":\"\"}},\"type\":\"scattermapbox\"}],\"scatterpolargl\":[{\"marker\":{\"colorbar\":{\"outlinewidth\":0,\"ticks\":\"\"}},\"type\":\"scatterpolargl\"}],\"scatterpolar\":[{\"marker\":{\"colorbar\":{\"outlinewidth\":0,\"ticks\":\"\"}},\"type\":\"scatterpolar\"}],\"scatter\":[{\"fillpattern\":{\"fillmode\":\"overlay\",\"size\":10,\"solidity\":0.2},\"type\":\"scatter\"}],\"scatterternary\":[{\"marker\":{\"colorbar\":{\"outlinewidth\":0,\"ticks\":\"\"}},\"type\":\"scatterternary\"}],\"surface\":[{\"colorbar\":{\"outlinewidth\":0,\"ticks\":\"\"},\"colorscale\":[[0.0,\"#0d0887\"],[0.1111111111111111,\"#46039f\"],[0.2222222222222222,\"#7201a8\"],[0.3333333333333333,\"#9c179e\"],[0.4444444444444444,\"#bd3786\"],[0.5555555555555556,\"#d8576b\"],[0.6666666666666666,\"#ed7953\"],[0.7777777777777778,\"#fb9f3a\"],[0.8888888888888888,\"#fdca26\"],[1.0,\"#f0f921\"]],\"type\":\"surface\"}],\"table\":[{\"cells\":{\"fill\":{\"color\":\"#EBF0F8\"},\"line\":{\"color\":\"white\"}},\"header\":{\"fill\":{\"color\":\"#C8D4E3\"},\"line\":{\"color\":\"white\"}},\"type\":\"table\"}]},\"layout\":{\"annotationdefaults\":{\"arrowcolor\":\"#2a3f5f\",\"arrowhead\":0,\"arrowwidth\":1},\"autotypenumbers\":\"strict\",\"coloraxis\":{\"colorbar\":{\"outlinewidth\":0,\"ticks\":\"\"}},\"colorscale\":{\"diverging\":[[0,\"#8e0152\"],[0.1,\"#c51b7d\"],[0.2,\"#de77ae\"],[0.3,\"#f1b6da\"],[0.4,\"#fde0ef\"],[0.5,\"#f7f7f7\"],[0.6,\"#e6f5d0\"],[0.7,\"#b8e186\"],[0.8,\"#7fbc41\"],[0.9,\"#4d9221\"],[1,\"#276419\"]],\"sequential\":[[0.0,\"#0d0887\"],[0.1111111111111111,\"#46039f\"],[0.2222222222222222,\"#7201a8\"],[0.3333333333333333,\"#9c179e\"],[0.4444444444444444,\"#bd3786\"],[0.5555555555555556,\"#d8576b\"],[0.6666666666666666,\"#ed7953\"],[0.7777777777777778,\"#fb9f3a\"],[0.8888888888888888,\"#fdca26\"],[1.0,\"#f0f921\"]],\"sequentialminus\":[[0.0,\"#0d0887\"],[0.1111111111111111,\"#46039f\"],[0.2222222222222222,\"#7201a8\"],[0.3333333333333333,\"#9c179e\"],[0.4444444444444444,\"#bd3786\"],[0.5555555555555556,\"#d8576b\"],[0.6666666666666666,\"#ed7953\"],[0.7777777777777778,\"#fb9f3a\"],[0.8888888888888888,\"#fdca26\"],[1.0,\"#f0f921\"]]},\"colorway\":[\"#636efa\",\"#EF553B\",\"#00cc96\",\"#ab63fa\",\"#FFA15A\",\"#19d3f3\",\"#FF6692\",\"#B6E880\",\"#FF97FF\",\"#FECB52\"],\"font\":{\"color\":\"#2a3f5f\"},\"geo\":{\"bgcolor\":\"white\",\"lakecolor\":\"white\",\"landcolor\":\"#E5ECF6\",\"showlakes\":true,\"showland\":true,\"subunitcolor\":\"white\"},\"hoverlabel\":{\"align\":\"left\"},\"hovermode\":\"closest\",\"mapbox\":{\"style\":\"light\"},\"paper_bgcolor\":\"white\",\"plot_bgcolor\":\"#E5ECF6\",\"polar\":{\"angularaxis\":{\"gridcolor\":\"white\",\"linecolor\":\"white\",\"ticks\":\"\"},\"bgcolor\":\"#E5ECF6\",\"radialaxis\":{\"gridcolor\":\"white\",\"linecolor\":\"white\",\"ticks\":\"\"}},\"scene\":{\"xaxis\":{\"backgroundcolor\":\"#E5ECF6\",\"gridcolor\":\"white\",\"gridwidth\":2,\"linecolor\":\"white\",\"showbackground\":true,\"ticks\":\"\",\"zerolinecolor\":\"white\"},\"yaxis\":{\"backgroundcolor\":\"#E5ECF6\",\"gridcolor\":\"white\",\"gridwidth\":2,\"linecolor\":\"white\",\"showbackground\":true,\"ticks\":\"\",\"zerolinecolor\":\"white\"},\"zaxis\":{\"backgroundcolor\":\"#E5ECF6\",\"gridcolor\":\"white\",\"gridwidth\":2,\"linecolor\":\"white\",\"showbackground\":true,\"ticks\":\"\",\"zerolinecolor\":\"white\"}},\"shapedefaults\":{\"line\":{\"color\":\"#2a3f5f\"}},\"ternary\":{\"aaxis\":{\"gridcolor\":\"white\",\"linecolor\":\"white\",\"ticks\":\"\"},\"baxis\":{\"gridcolor\":\"white\",\"linecolor\":\"white\",\"ticks\":\"\"},\"bgcolor\":\"#E5ECF6\",\"caxis\":{\"gridcolor\":\"white\",\"linecolor\":\"white\",\"ticks\":\"\"}},\"title\":{\"x\":0.05},\"xaxis\":{\"automargin\":true,\"gridcolor\":\"white\",\"linecolor\":\"white\",\"ticks\":\"\",\"title\":{\"standoff\":15},\"zerolinecolor\":\"white\",\"zerolinewidth\":2},\"yaxis\":{\"automargin\":true,\"gridcolor\":\"white\",\"linecolor\":\"white\",\"ticks\":\"\",\"title\":{\"standoff\":15},\"zerolinecolor\":\"white\",\"zerolinewidth\":2}}},\"title\":{\"font\":{\"color\":\"#4D5663\"}},\"xaxis\":{\"gridcolor\":\"#E1E5ED\",\"showgrid\":true,\"tickfont\":{\"color\":\"#4D5663\"},\"title\":{\"font\":{\"color\":\"#4D5663\"},\"text\":\"\"},\"zerolinecolor\":\"#E1E5ED\"},\"yaxis\":{\"gridcolor\":\"#E1E5ED\",\"showgrid\":true,\"tickfont\":{\"color\":\"#4D5663\"},\"title\":{\"font\":{\"color\":\"#4D5663\"},\"text\":\"\"},\"zerolinecolor\":\"#E1E5ED\"}},                        {\"showLink\": true, \"linkText\": \"Export to plot.ly\", \"plotlyServerURL\": \"https://plot.ly\", \"responsive\": true}                    ).then(function(){\n",
       "                            \n",
       "var gd = document.getElementById('992e5129-0445-4335-a592-5d43db8f7e1a');\n",
       "var x = new MutationObserver(function (mutations, observer) {{\n",
       "        var display = window.getComputedStyle(gd).display;\n",
       "        if (!display || display === 'none') {{\n",
       "            console.log([gd, 'removed!']);\n",
       "            Plotly.purge(gd);\n",
       "            observer.disconnect();\n",
       "        }}\n",
       "}});\n",
       "\n",
       "// Listen for the removal of the full notebook cells\n",
       "var notebookContainer = gd.closest('#notebook-container');\n",
       "if (notebookContainer) {{\n",
       "    x.observe(notebookContainer, {childList: true});\n",
       "}}\n",
       "\n",
       "// Listen for the clearing of the current output cell\n",
       "var outputEl = gd.closest('.output');\n",
       "if (outputEl) {{\n",
       "    x.observe(outputEl, {childList: true});\n",
       "}}\n",
       "\n",
       "                        })                };                });            </script>        </div>"
      ]
     },
     "metadata": {},
     "output_type": "display_data"
    }
   ],
   "source": [
    "time_transaction.iplot(kind='line', mode='lines+markers', x='거래시기', y='평당거래금액')"
   ]
  },
  {
   "cell_type": "code",
   "execution_count": 80,
   "metadata": {},
   "outputs": [
    {
     "data": {
      "image/png": "[encoded data removed]",
      "text/plain": [
       "<Figure size 2000x500 with 1 Axes>"
      ]
     },
     "metadata": {},
     "output_type": "display_data"
    }
   ],
   "source": [
    "time_gubun = apt.groupby(['거래시기', '시군구명']).mean()[['평당거래금액']].reset_index(drop=False)\n",
    "plt.figure(figsize=(20, 5))\n",
    "sns.lineplot(data=time_gubun, x='시군구명', y='평당거래금액', hue='거래시기')\n",
    "plt.title('')\n",
    "plt.show()"
   ]
  },
  {
   "cell_type": "code",
   "execution_count": 115,
   "metadata": {},
   "outputs": [
    {
     "data": {
      "application/vnd.plotly.v1+json": {
       "config": {
        "plotlyServerURL": "https://plot.ly"
       },
       "data": [
        {
         "hovertemplate": "거래시기=2019_1분기<br>시군구명=%{x}<br>평당거래금액=%{y}<extra></extra>",
         "legendgroup": "2019_1분기",
         "line": {
          "color": "#636efa",
          "dash": "solid"
         },
         "marker": {
          "symbol": "circle"
         },
         "mode": "lines",
         "name": "2019_1분기",
         "orientation": "v",
         "showlegend": true,
         "type": "scatter",
         "x": [
          "강남구",
          "강동구",
          "강북구",
          "강서구",
          "관악구",
          "광진구",
          "구로구",
          "금천구",
          "노원구",
          "도봉구",
          "동대문구",
          "동작구",
          "마포구",
          "서대문구",
          "서초구",
          "성동구",
          "성북구",
          "송파구",
          "양천구",
          "영등포구",
          "용산구",
          "은평구",
          "종로구",
          "중구",
          "중랑구"
         ],
         "xaxis": "x",
         "y": [
          5953.115679248986,
          3239.8354845938734,
          1990.0515587925722,
          2551.311700980067,
          2368.710670843304,
          3068.0060468476163,
          2013.3502720746521,
          1821.880486073779,
          2158.107212342581,
          1815.1949859561687,
          2661.423719760771,
          2964.8643713591846,
          3908.5701530619676,
          2559.0082342027285,
          5094.388203912718,
          3741.740972590828,
          2302.686972533029,
          4717.086844608867,
          2894.726186058838,
          3149.6152783019234,
          4859.534629088432,
          2230.4790444793707,
          2992.693727070137,
          3049.272111367469,
          2014.0463394092415
         ],
         "yaxis": "y"
        },
        {
         "hovertemplate": "거래시기=2019_2분기<br>시군구명=%{x}<br>평당거래금액=%{y}<extra></extra>",
         "legendgroup": "2019_2분기",
         "line": {
          "color": "#EF553B",
          "dash": "solid"
         },
         "marker": {
          "symbol": "circle"
         },
         "mode": "lines",
         "name": "2019_2분기",
         "orientation": "v",
         "showlegend": true,
         "type": "scatter",
         "x": [
          "강남구",
          "강동구",
          "강북구",
          "강서구",
          "관악구",
          "광진구",
          "구로구",
          "금천구",
          "노원구",
          "도봉구",
          "동대문구",
          "동작구",
          "마포구",
          "서대문구",
          "서초구",
          "성동구",
          "성북구",
          "송파구",
          "양천구",
          "영등포구",
          "용산구",
          "은평구",
          "종로구",
          "중구",
          "중랑구"
         ],
         "xaxis": "x",
         "y": [
          6817.365568247921,
          3319.5998658894778,
          2042.7024736636495,
          2700.795369186264,
          2437.280702245669,
          3519.412976802967,
          2194.3899724213,
          2056.5306913458294,
          2325.2908335613424,
          1927.6941734096608,
          2765.087130762108,
          3463.732846593774,
          3985.244119785111,
          2888.995317673339,
          5857.548245738664,
          4019.3625660833964,
          2426.773713971958,
          4829.86350231551,
          3657.106507019537,
          3737.4237078197298,
          4972.36815094067,
          2241.857406691964,
          3142.828835118047,
          3284.2835326908944,
          2105.549098754424
         ],
         "yaxis": "y"
        },
        {
         "hovertemplate": "거래시기=2019_3분기<br>시군구명=%{x}<br>평당거래금액=%{y}<extra></extra>",
         "legendgroup": "2019_3분기",
         "line": {
          "color": "#00cc96",
          "dash": "solid"
         },
         "marker": {
          "symbol": "circle"
         },
         "mode": "lines",
         "name": "2019_3분기",
         "orientation": "v",
         "showlegend": true,
         "type": "scatter",
         "x": [
          "강남구",
          "강동구",
          "강북구",
          "강서구",
          "관악구",
          "광진구",
          "구로구",
          "금천구",
          "노원구",
          "도봉구",
          "동대문구",
          "동작구",
          "마포구",
          "서대문구",
          "서초구",
          "성동구",
          "성북구",
          "송파구",
          "양천구",
          "영등포구",
          "용산구",
          "은평구",
          "종로구",
          "중구",
          "중랑구"
         ],
         "xaxis": "x",
         "y": [
          7112.762268867699,
          3448.4499201190542,
          2145.652317421805,
          2870.801074026478,
          2594.6649250547716,
          3733.2544873004404,
          2427.6203468171216,
          2183.608625070549,
          2335.662563081133,
          2010.4952526919992,
          2910.8429598221232,
          3603.851448126141,
          4110.791306366611,
          3263.037191801244,
          5966.9137668679805,
          4196.993496286359,
          2610.2978161639135,
          4854.007540844576,
          3425.058143413212,
          3464.7955674110053,
          4981.932750405465,
          2458.522553831178,
          3766.480166270256,
          3488.596540563259,
          2165.5301597042276
         ],
         "yaxis": "y"
        },
        {
         "hovertemplate": "거래시기=2019_4분기<br>시군구명=%{x}<br>평당거래금액=%{y}<extra></extra>",
         "legendgroup": "2019_4분기",
         "line": {
          "color": "#ab63fa",
          "dash": "solid"
         },
         "marker": {
          "symbol": "circle"
         },
         "mode": "lines",
         "name": "2019_4분기",
         "orientation": "v",
         "showlegend": true,
         "type": "scatter",
         "x": [
          "강남구",
          "강동구",
          "강북구",
          "강서구",
          "관악구",
          "광진구",
          "구로구",
          "금천구",
          "노원구",
          "도봉구",
          "동대문구",
          "동작구",
          "마포구",
          "서대문구",
          "서초구",
          "성동구",
          "성북구",
          "송파구",
          "양천구",
          "영등포구",
          "용산구",
          "은평구",
          "종로구",
          "중구",
          "중랑구"
         ],
         "xaxis": "x",
         "y": [
          7116.768319962811,
          3462.539032732237,
          2323.1774078183776,
          3027.517105686897,
          2665.925183505035,
          3953.481968813099,
          2540.607428072563,
          2164.2926635285166,
          2515.2836008919867,
          2095.4460695478974,
          2917.0603901213212,
          3744.8187674266715,
          4289.741492815729,
          3270.141945294777,
          6031.039067326554,
          4319.262289678274,
          2668.1922765702907,
          4955.956950258021,
          3578.5406577569593,
          3573.473435863113,
          4955.788388950797,
          2611.1312068614916,
          3506.7872924512635,
          3654.6366146660584,
          2426.1383319617926
         ],
         "yaxis": "y"
        },
        {
         "hovertemplate": "거래시기=2020_1분기<br>시군구명=%{x}<br>평당거래금액=%{y}<extra></extra>",
         "legendgroup": "2020_1분기",
         "line": {
          "color": "#FFA15A",
          "dash": "solid"
         },
         "marker": {
          "symbol": "circle"
         },
         "mode": "lines",
         "name": "2020_1분기",
         "orientation": "v",
         "showlegend": true,
         "type": "scatter",
         "x": [
          "강남구",
          "강동구",
          "강북구",
          "강서구",
          "관악구",
          "광진구",
          "구로구",
          "금천구",
          "노원구",
          "도봉구",
          "동대문구",
          "동작구",
          "마포구",
          "서대문구",
          "서초구",
          "성동구",
          "성북구",
          "송파구",
          "양천구",
          "영등포구",
          "용산구",
          "은평구",
          "종로구",
          "중구",
          "중랑구"
         ],
         "xaxis": "x",
         "y": [
          6845.667463098908,
          3416.4253149446527,
          2334.1098529248993,
          2984.964256062279,
          2723.1685169231537,
          3840.9707643058505,
          2400.9435663455297,
          2260.301807189246,
          2583.046824068729,
          2136.356918126869,
          2921.956524170676,
          3689.543505138043,
          4073.959528918683,
          3064.5693202923035,
          5198.580992109194,
          4440.210838788887,
          2715.391394821141,
          4864.36110237102,
          3072.6199699092763,
          3601.5129475521317,
          4917.736303393366,
          2550.544117614941,
          3056.6830166404657,
          3510.9314063224597,
          2321.6301406178436
         ],
         "yaxis": "y"
        },
        {
         "hovertemplate": "거래시기=2020_2분기<br>시군구명=%{x}<br>평당거래금액=%{y}<extra></extra>",
         "legendgroup": "2020_2분기",
         "line": {
          "color": "#19d3f3",
          "dash": "solid"
         },
         "marker": {
          "symbol": "circle"
         },
         "mode": "lines",
         "name": "2020_2분기",
         "orientation": "v",
         "showlegend": true,
         "type": "scatter",
         "x": [
          "강남구",
          "강동구",
          "강북구",
          "강서구",
          "관악구",
          "광진구",
          "구로구",
          "금천구",
          "노원구",
          "도봉구",
          "동대문구",
          "동작구",
          "마포구",
          "서대문구",
          "서초구",
          "성동구",
          "성북구",
          "송파구",
          "양천구",
          "영등포구",
          "용산구",
          "은평구",
          "종로구",
          "중구",
          "중랑구"
         ],
         "xaxis": "x",
         "y": [
          7021.968716445693,
          3784.180917384685,
          2545.7838441513254,
          3153.3098279844494,
          2859.266549454484,
          4134.630461813103,
          2588.2908562957823,
          2245.9428510737107,
          2690.076244337363,
          2110.322492659424,
          3197.3285975541794,
          3906.3629598528487,
          4433.039818085951,
          3296.5606899806185,
          6299.913196041369,
          4687.643290103771,
          2936.9883322385754,
          5572.4944481420025,
          3746.663337435415,
          3979.418257381155,
          5122.507996024512,
          2678.0286162493708,
          3489.250157112035,
          3722.075072738517,
          2513.253955963721
         ],
         "yaxis": "y"
        },
        {
         "hovertemplate": "거래시기=2020_3분기<br>시군구명=%{x}<br>평당거래금액=%{y}<extra></extra>",
         "legendgroup": "2020_3분기",
         "line": {
          "color": "#FF6692",
          "dash": "solid"
         },
         "marker": {
          "symbol": "circle"
         },
         "mode": "lines",
         "name": "2020_3분기",
         "orientation": "v",
         "showlegend": true,
         "type": "scatter",
         "x": [
          "강남구",
          "강동구",
          "강북구",
          "강서구",
          "관악구",
          "광진구",
          "구로구",
          "금천구",
          "노원구",
          "도봉구",
          "동대문구",
          "동작구",
          "마포구",
          "서대문구",
          "서초구",
          "성동구",
          "성북구",
          "송파구",
          "양천구",
          "영등포구",
          "용산구",
          "은평구",
          "종로구",
          "중구",
          "중랑구"
         ],
         "xaxis": "x",
         "y": [
          7077.910879831032,
          4156.9772492204,
          2759.633131773078,
          3390.076601707351,
          3043.2632417127797,
          4551.098332977423,
          2796.0650182147806,
          2707.453866339325,
          3050.147154065415,
          2385.2488127919555,
          3524.0317351639214,
          4237.026162007474,
          4607.676006041068,
          3729.225481015203,
          6420.970738750524,
          5240.795432760273,
          3370.1470979371734,
          5139.235097867394,
          4060.7218220329855,
          4046.4530237855715,
          5577.372423584545,
          2868.9752711231204,
          3817.047948012932,
          3896.3315240833062,
          2714.7640852051695
         ],
         "yaxis": "y"
        },
        {
         "hovertemplate": "거래시기=2020_4분기<br>시군구명=%{x}<br>평당거래금액=%{y}<extra></extra>",
         "legendgroup": "2020_4분기",
         "line": {
          "color": "#B6E880",
          "dash": "solid"
         },
         "marker": {
          "symbol": "circle"
         },
         "mode": "lines",
         "name": "2020_4분기",
         "orientation": "v",
         "showlegend": true,
         "type": "scatter",
         "x": [
          "강남구",
          "강동구",
          "강북구",
          "강서구",
          "관악구",
          "광진구",
          "구로구",
          "금천구",
          "노원구",
          "도봉구",
          "동대문구",
          "동작구",
          "마포구",
          "서대문구",
          "서초구",
          "성동구",
          "성북구",
          "송파구",
          "양천구",
          "영등포구",
          "용산구",
          "은평구",
          "종로구",
          "중구",
          "중랑구"
         ],
         "xaxis": "x",
         "y": [
          7585.402532677671,
          4627.381718381498,
          3083.394022704611,
          3581.6798513699105,
          3367.6105119095732,
          4785.605269182895,
          2708.4040440924277,
          3033.085673083527,
          3427.273111856953,
          2737.318012341677,
          3960.334924839616,
          4753.9017721100345,
          4963.8787650543445,
          4023.490441831877,
          7174.593809560945,
          5527.5221553313395,
          3576.7847541227093,
          5833.622638099585,
          4585.398266142657,
          4399.897580592138,
          5707.209037550502,
          3223.7577513310066,
          3705.2225025758817,
          4301.061447045656,
          2892.814707408069
         ],
         "yaxis": "y"
        },
        {
         "hovertemplate": "거래시기=2021_1분기<br>시군구명=%{x}<br>평당거래금액=%{y}<extra></extra>",
         "legendgroup": "2021_1분기",
         "line": {
          "color": "#FF97FF",
          "dash": "solid"
         },
         "marker": {
          "symbol": "circle"
         },
         "mode": "lines",
         "name": "2021_1분기",
         "orientation": "v",
         "showlegend": true,
         "type": "scatter",
         "x": [
          "강남구",
          "강동구",
          "강북구",
          "강서구",
          "관악구",
          "광진구",
          "구로구",
          "금천구",
          "노원구",
          "도봉구",
          "동대문구",
          "동작구",
          "마포구",
          "서대문구",
          "서초구",
          "성동구",
          "성북구",
          "송파구",
          "양천구",
          "영등포구",
          "용산구",
          "은평구",
          "종로구",
          "중구",
          "중랑구"
         ],
         "xaxis": "x",
         "y": [
          7687.450129349288,
          4797.502631615483,
          3116.565938339382,
          3765.9350099284243,
          3561.5403886725785,
          5050.4938242670305,
          3121.4824973905684,
          3028.956282229211,
          3586.615171966966,
          2910.33112188069,
          3988.706874861156,
          4693.59032825524,
          5120.742297539605,
          4065.90868082837,
          7097.7813777902775,
          5847.149867947642,
          3715.7962531369785,
          6411.195548837939,
          4710.472535232045,
          4689.536286223136,
          6031.039109860713,
          3349.0676167804554,
          3967.6923327287805,
          4421.294900612893,
          3093.09364313765
         ],
         "yaxis": "y"
        },
        {
         "hovertemplate": "거래시기=2021_2분기<br>시군구명=%{x}<br>평당거래금액=%{y}<extra></extra>",
         "legendgroup": "2021_2분기",
         "line": {
          "color": "#FECB52",
          "dash": "solid"
         },
         "marker": {
          "symbol": "circle"
         },
         "mode": "lines",
         "name": "2021_2분기",
         "orientation": "v",
         "showlegend": true,
         "type": "scatter",
         "x": [
          "강남구",
          "강동구",
          "강북구",
          "강서구",
          "관악구",
          "광진구",
          "구로구",
          "금천구",
          "노원구",
          "도봉구",
          "동대문구",
          "동작구",
          "마포구",
          "서대문구",
          "서초구",
          "성동구",
          "성북구",
          "송파구",
          "양천구",
          "영등포구",
          "용산구",
          "은평구",
          "종로구",
          "중구",
          "중랑구"
         ],
         "xaxis": "x",
         "y": [
          7709.116310346317,
          4919.00633303288,
          3198.209259830877,
          4043.3230317591265,
          3680.067398766315,
          4995.89503543577,
          3040.886624513617,
          3077.588495888831,
          3828.968695025533,
          3085.437451734533,
          3792.6428455279934,
          7470.717707477173,
          5071.49404290587,
          4073.1176722136747,
          7388.527422572122,
          6147.340162478345,
          3763.117979494764,
          6538.811988482566,
          4611.971512393314,
          4615.080002279853,
          6261.019147957338,
          3320.310209687187,
          4060.4118599439626,
          4303.6483400972575,
          3227.4147408386884
         ],
         "yaxis": "y"
        },
        {
         "hovertemplate": "거래시기=2021_3분기<br>시군구명=%{x}<br>평당거래금액=%{y}<extra></extra>",
         "legendgroup": "2021_3분기",
         "line": {
          "color": "#636efa",
          "dash": "solid"
         },
         "marker": {
          "symbol": "circle"
         },
         "mode": "lines",
         "name": "2021_3분기",
         "orientation": "v",
         "showlegend": true,
         "type": "scatter",
         "x": [
          "강남구",
          "강동구",
          "강북구",
          "강서구",
          "관악구",
          "광진구",
          "구로구",
          "금천구",
          "노원구",
          "도봉구",
          "동대문구",
          "동작구",
          "마포구",
          "서대문구",
          "서초구",
          "성동구",
          "성북구",
          "송파구",
          "양천구",
          "영등포구",
          "용산구",
          "은평구",
          "종로구",
          "중구",
          "중랑구"
         ],
         "xaxis": "x",
         "y": [
          8393.200259325407,
          5236.393398735876,
          3265.961157437545,
          4239.495474127769,
          3897.9030692111423,
          5294.276179627457,
          3497.09520300751,
          3250.8002889956947,
          3991.303711066986,
          3206.3669154995837,
          4166.1095711481885,
          5120.978387767933,
          5655.9040662011585,
          4594.436827576277,
          7881.61347510375,
          6182.891033139082,
          4075.7666192031256,
          7174.816021693663,
          4385.962082742809,
          4836.59890348385,
          6680.704778109792,
          3793.0249258455556,
          4456.288071666598,
          4631.338941594711,
          3469.2205759834283
         ],
         "yaxis": "y"
        },
        {
         "hovertemplate": "거래시기=2021_4분기<br>시군구명=%{x}<br>평당거래금액=%{y}<extra></extra>",
         "legendgroup": "2021_4분기",
         "line": {
          "color": "#EF553B",
          "dash": "solid"
         },
         "marker": {
          "symbol": "circle"
         },
         "mode": "lines",
         "name": "2021_4분기",
         "orientation": "v",
         "showlegend": true,
         "type": "scatter",
         "x": [
          "강남구",
          "강동구",
          "강북구",
          "강서구",
          "관악구",
          "광진구",
          "구로구",
          "금천구",
          "노원구",
          "도봉구",
          "동대문구",
          "동작구",
          "마포구",
          "서대문구",
          "서초구",
          "성동구",
          "성북구",
          "송파구",
          "양천구",
          "영등포구",
          "용산구",
          "은평구",
          "종로구",
          "중구",
          "중랑구"
         ],
         "xaxis": "x",
         "y": [
          8336.96589301028,
          4776.596353919824,
          3205.583257956766,
          3941.6251473386633,
          3781.1206818789774,
          5249.338542575722,
          3333.632333276786,
          3386.3195619664994,
          4082.350583047266,
          3333.5212332184005,
          4213.943561474897,
          5059.5781588715545,
          5542.970060108517,
          4390.6850762760605,
          7726.562917215594,
          6350.000013791066,
          3994.882270312572,
          6944.3820704379405,
          4518.294813619567,
          4576.469772319107,
          7518.788187762623,
          3841.297936481122,
          4558.42718302149,
          4562.331083681861,
          3477.2688341905
         ],
         "yaxis": "y"
        },
        {
         "hovertemplate": "거래시기=2022_1분기<br>시군구명=%{x}<br>평당거래금액=%{y}<extra></extra>",
         "legendgroup": "2022_1분기",
         "line": {
          "color": "#00cc96",
          "dash": "solid"
         },
         "marker": {
          "symbol": "circle"
         },
         "mode": "lines",
         "name": "2022_1분기",
         "orientation": "v",
         "showlegend": true,
         "type": "scatter",
         "x": [
          "강남구",
          "강동구",
          "강북구",
          "강서구",
          "관악구",
          "광진구",
          "구로구",
          "금천구",
          "노원구",
          "도봉구",
          "동대문구",
          "동작구",
          "마포구",
          "서대문구",
          "서초구",
          "성동구",
          "성북구",
          "송파구",
          "양천구",
          "영등포구",
          "용산구",
          "은평구",
          "종로구",
          "중구",
          "중랑구"
         ],
         "xaxis": "x",
         "y": [
          7845.647755801112,
          4705.4569309047865,
          3003.213006086509,
          3633.919953161929,
          3657.5996927621727,
          5118.7285999087535,
          3062.67506006229,
          3218.296972362292,
          3997.2379901506283,
          3251.872880459159,
          3867.6047763426877,
          4781.357703058338,
          5569.668099077015,
          4292.104692187945,
          7566.5593968095645,
          6487.395420042326,
          4096.5727109672835,
          6461.177734664467,
          4482.308957249134,
          4457.820458512455,
          6562.675348396862,
          4021.3605910133706,
          4682.7660535007535,
          4711.2448845496,
          3261.5046445785883
         ],
         "yaxis": "y"
        },
        {
         "hovertemplate": "거래시기=2022_2분기<br>시군구명=%{x}<br>평당거래금액=%{y}<extra></extra>",
         "legendgroup": "2022_2분기",
         "line": {
          "color": "#ab63fa",
          "dash": "solid"
         },
         "marker": {
          "symbol": "circle"
         },
         "mode": "lines",
         "name": "2022_2분기",
         "orientation": "v",
         "showlegend": true,
         "type": "scatter",
         "x": [
          "강남구",
          "강동구",
          "강북구",
          "강서구",
          "관악구",
          "광진구",
          "구로구",
          "금천구",
          "노원구",
          "도봉구",
          "동대문구",
          "동작구",
          "마포구",
          "서대문구",
          "서초구",
          "성동구",
          "성북구",
          "송파구",
          "양천구",
          "영등포구",
          "용산구",
          "은평구",
          "종로구",
          "중구",
          "중랑구"
         ],
         "xaxis": "x",
         "y": [
          8310.752219513008,
          4605.19395789389,
          3259.95053908715,
          3714.1724399465606,
          3728.443736330849,
          5066.209137912406,
          3173.359365088992,
          3290.6073563687014,
          4018.3371686977025,
          3134.202746837327,
          3988.5976232633925,
          5127.69834452886,
          5356.1298253402265,
          4228.058380429305,
          8787.77507365216,
          6638.292919068861,
          3865.1213098449707,
          7130.135508223548,
          4652.502402232331,
          4744.755389372671,
          7170.367577477585,
          3554.6558522308796,
          4501.833143536485,
          4095.0461081191033,
          3712.612075127544
         ],
         "yaxis": "y"
        }
       ],
       "layout": {
        "legend": {
         "title": {
          "text": "거래시기"
         },
         "tracegroupgap": 0
        },
        "margin": {
         "t": 60
        },
        "template": {
         "data": {
          "bar": [
           {
            "error_x": {
             "color": "#2a3f5f"
            },
            "error_y": {
             "color": "#2a3f5f"
            },
            "marker": {
             "line": {
              "color": "#E5ECF6",
              "width": 0.5
             },
             "pattern": {
              "fillmode": "overlay",
              "size": 10,
              "solidity": 0.2
             }
            },
            "type": "bar"
           }
          ],
          "barpolar": [
           {
            "marker": {
             "line": {
              "color": "#E5ECF6",
              "width": 0.5
             },
             "pattern": {
              "fillmode": "overlay",
              "size": 10,
              "solidity": 0.2
             }
            },
            "type": "barpolar"
           }
          ],
          "carpet": [
           {
            "aaxis": {
             "endlinecolor": "#2a3f5f",
             "gridcolor": "white",
             "linecolor": "white",
             "minorgridcolor": "white",
             "startlinecolor": "#2a3f5f"
            },
            "baxis": {
             "endlinecolor": "#2a3f5f",
             "gridcolor": "white",
             "linecolor": "white",
             "minorgridcolor": "white",
             "startlinecolor": "#2a3f5f"
            },
            "type": "carpet"
           }
          ],
          "choropleth": [
           {
            "colorbar": {
             "outlinewidth": 0,
             "ticks": ""
            },
            "type": "choropleth"
           }
          ],
          "contour": [
           {
            "colorbar": {
             "outlinewidth": 0,
             "ticks": ""
            },
            "colorscale": [
             [
              0,
              "#0d0887"
             ],
             [
              0.1111111111111111,
              "#46039f"
             ],
             [
              0.2222222222222222,
              "#7201a8"
             ],
             [
              0.3333333333333333,
              "#9c179e"
             ],
             [
              0.4444444444444444,
              "#bd3786"
             ],
             [
              0.5555555555555556,
              "#d8576b"
             ],
             [
              0.6666666666666666,
              "#ed7953"
             ],
             [
              0.7777777777777778,
              "#fb9f3a"
             ],
             [
              0.8888888888888888,
              "#fdca26"
             ],
             [
              1,
              "#f0f921"
             ]
            ],
            "type": "contour"
           }
          ],
          "contourcarpet": [
           {
            "colorbar": {
             "outlinewidth": 0,
             "ticks": ""
            },
            "type": "contourcarpet"
           }
          ],
          "heatmap": [
           {
            "colorbar": {
             "outlinewidth": 0,
             "ticks": ""
            },
            "colorscale": [
             [
              0,
              "#0d0887"
             ],
             [
              0.1111111111111111,
              "#46039f"
             ],
             [
              0.2222222222222222,
              "#7201a8"
             ],
             [
              0.3333333333333333,
              "#9c179e"
             ],
             [
              0.4444444444444444,
              "#bd3786"
             ],
             [
              0.5555555555555556,
              "#d8576b"
             ],
             [
              0.6666666666666666,
              "#ed7953"
             ],
             [
              0.7777777777777778,
              "#fb9f3a"
             ],
             [
              0.8888888888888888,
              "#fdca26"
             ],
             [
              1,
              "#f0f921"
             ]
            ],
            "type": "heatmap"
           }
          ],
          "heatmapgl": [
           {
            "colorbar": {
             "outlinewidth": 0,
             "ticks": ""
            },
            "colorscale": [
             [
              0,
              "#0d0887"
             ],
             [
              0.1111111111111111,
              "#46039f"
             ],
             [
              0.2222222222222222,
              "#7201a8"
             ],
             [
              0.3333333333333333,
              "#9c179e"
             ],
             [
              0.4444444444444444,
              "#bd3786"
             ],
             [
              0.5555555555555556,
              "#d8576b"
             ],
             [
              0.6666666666666666,
              "#ed7953"
             ],
             [
              0.7777777777777778,
              "#fb9f3a"
             ],
             [
              0.8888888888888888,
              "#fdca26"
             ],
             [
              1,
              "#f0f921"
             ]
            ],
            "type": "heatmapgl"
           }
          ],
          "histogram": [
           {
            "marker": {
             "pattern": {
              "fillmode": "overlay",
              "size": 10,
              "solidity": 0.2
             }
            },
            "type": "histogram"
           }
          ],
          "histogram2d": [
           {
            "colorbar": {
             "outlinewidth": 0,
             "ticks": ""
            },
            "colorscale": [
             [
              0,
              "#0d0887"
             ],
             [
              0.1111111111111111,
              "#46039f"
             ],
             [
              0.2222222222222222,
              "#7201a8"
             ],
             [
              0.3333333333333333,
              "#9c179e"
             ],
             [
              0.4444444444444444,
              "#bd3786"
             ],
             [
              0.5555555555555556,
              "#d8576b"
             ],
             [
              0.6666666666666666,
              "#ed7953"
             ],
             [
              0.7777777777777778,
              "#fb9f3a"
             ],
             [
              0.8888888888888888,
              "#fdca26"
             ],
             [
              1,
              "#f0f921"
             ]
            ],
            "type": "histogram2d"
           }
          ],
          "histogram2dcontour": [
           {
            "colorbar": {
             "outlinewidth": 0,
             "ticks": ""
            },
            "colorscale": [
             [
              0,
              "#0d0887"
             ],
             [
              0.1111111111111111,
              "#46039f"
             ],
             [
              0.2222222222222222,
              "#7201a8"
             ],
             [
              0.3333333333333333,
              "#9c179e"
             ],
             [
              0.4444444444444444,
              "#bd3786"
             ],
             [
              0.5555555555555556,
              "#d8576b"
             ],
             [
              0.6666666666666666,
              "#ed7953"
             ],
             [
              0.7777777777777778,
              "#fb9f3a"
             ],
             [
              0.8888888888888888,
              "#fdca26"
             ],
             [
              1,
              "#f0f921"
             ]
            ],
            "type": "histogram2dcontour"
           }
          ],
          "mesh3d": [
           {
            "colorbar": {
             "outlinewidth": 0,
             "ticks": ""
            },
            "type": "mesh3d"
           }
          ],
          "parcoords": [
           {
            "line": {
             "colorbar": {
              "outlinewidth": 0,
              "ticks": ""
             }
            },
            "type": "parcoords"
           }
          ],
          "pie": [
           {
            "automargin": true,
            "type": "pie"
           }
          ],
          "scatter": [
           {
            "fillpattern": {
             "fillmode": "overlay",
             "size": 10,
             "solidity": 0.2
            },
            "type": "scatter"
           }
          ],
          "scatter3d": [
           {
            "line": {
             "colorbar": {
              "outlinewidth": 0,
              "ticks": ""
             }
            },
            "marker": {
             "colorbar": {
              "outlinewidth": 0,
              "ticks": ""
             }
            },
            "type": "scatter3d"
           }
          ],
          "scattercarpet": [
           {
            "marker": {
             "colorbar": {
              "outlinewidth": 0,
              "ticks": ""
             }
            },
            "type": "scattercarpet"
           }
          ],
          "scattergeo": [
           {
            "marker": {
             "colorbar": {
              "outlinewidth": 0,
              "ticks": ""
             }
            },
            "type": "scattergeo"
           }
          ],
          "scattergl": [
           {
            "marker": {
             "colorbar": {
              "outlinewidth": 0,
              "ticks": ""
             }
            },
            "type": "scattergl"
           }
          ],
          "scattermapbox": [
           {
            "marker": {
             "colorbar": {
              "outlinewidth": 0,
              "ticks": ""
             }
            },
            "type": "scattermapbox"
           }
          ],
          "scatterpolar": [
           {
            "marker": {
             "colorbar": {
              "outlinewidth": 0,
              "ticks": ""
             }
            },
            "type": "scatterpolar"
           }
          ],
          "scatterpolargl": [
           {
            "marker": {
             "colorbar": {
              "outlinewidth": 0,
              "ticks": ""
             }
            },
            "type": "scatterpolargl"
           }
          ],
          "scatterternary": [
           {
            "marker": {
             "colorbar": {
              "outlinewidth": 0,
              "ticks": ""
             }
            },
            "type": "scatterternary"
           }
          ],
          "surface": [
           {
            "colorbar": {
             "outlinewidth": 0,
             "ticks": ""
            },
            "colorscale": [
             [
              0,
              "#0d0887"
             ],
             [
              0.1111111111111111,
              "#46039f"
             ],
             [
              0.2222222222222222,
              "#7201a8"
             ],
             [
              0.3333333333333333,
              "#9c179e"
             ],
             [
              0.4444444444444444,
              "#bd3786"
             ],
             [
              0.5555555555555556,
              "#d8576b"
             ],
             [
              0.6666666666666666,
              "#ed7953"
             ],
             [
              0.7777777777777778,
              "#fb9f3a"
             ],
             [
              0.8888888888888888,
              "#fdca26"
             ],
             [
              1,
              "#f0f921"
             ]
            ],
            "type": "surface"
           }
          ],
          "table": [
           {
            "cells": {
             "fill": {
              "color": "#EBF0F8"
             },
             "line": {
              "color": "white"
             }
            },
            "header": {
             "fill": {
              "color": "#C8D4E3"
             },
             "line": {
              "color": "white"
             }
            },
            "type": "table"
           }
          ]
         },
         "layout": {
          "annotationdefaults": {
           "arrowcolor": "#2a3f5f",
           "arrowhead": 0,
           "arrowwidth": 1
          },
          "autotypenumbers": "strict",
          "coloraxis": {
           "colorbar": {
            "outlinewidth": 0,
            "ticks": ""
           }
          },
          "colorscale": {
           "diverging": [
            [
             0,
             "#8e0152"
            ],
            [
             0.1,
             "#c51b7d"
            ],
            [
             0.2,
             "#de77ae"
            ],
            [
             0.3,
             "#f1b6da"
            ],
            [
             0.4,
             "#fde0ef"
            ],
            [
             0.5,
             "#f7f7f7"
            ],
            [
             0.6,
             "#e6f5d0"
            ],
            [
             0.7,
             "#b8e186"
            ],
            [
             0.8,
             "#7fbc41"
            ],
            [
             0.9,
             "#4d9221"
            ],
            [
             1,
             "#276419"
            ]
           ],
           "sequential": [
            [
             0,
             "#0d0887"
            ],
            [
             0.1111111111111111,
             "#46039f"
            ],
            [
             0.2222222222222222,
             "#7201a8"
            ],
            [
             0.3333333333333333,
             "#9c179e"
            ],
            [
             0.4444444444444444,
             "#bd3786"
            ],
            [
             0.5555555555555556,
             "#d8576b"
            ],
            [
             0.6666666666666666,
             "#ed7953"
            ],
            [
             0.7777777777777778,
             "#fb9f3a"
            ],
            [
             0.8888888888888888,
             "#fdca26"
            ],
            [
             1,
             "#f0f921"
            ]
           ],
           "sequentialminus": [
            [
             0,
             "#0d0887"
            ],
            [
             0.1111111111111111,
             "#46039f"
            ],
            [
             0.2222222222222222,
             "#7201a8"
            ],
            [
             0.3333333333333333,
             "#9c179e"
            ],
            [
             0.4444444444444444,
             "#bd3786"
            ],
            [
             0.5555555555555556,
             "#d8576b"
            ],
            [
             0.6666666666666666,
             "#ed7953"
            ],
            [
             0.7777777777777778,
             "#fb9f3a"
            ],
            [
             0.8888888888888888,
             "#fdca26"
            ],
            [
             1,
             "#f0f921"
            ]
           ]
          },
          "colorway": [
           "#636efa",
           "#EF553B",
           "#00cc96",
           "#ab63fa",
           "#FFA15A",
           "#19d3f3",
           "#FF6692",
           "#B6E880",
           "#FF97FF",
           "#FECB52"
          ],
          "font": {
           "color": "#2a3f5f"
          },
          "geo": {
           "bgcolor": "white",
           "lakecolor": "white",
           "landcolor": "#E5ECF6",
           "showlakes": true,
           "showland": true,
           "subunitcolor": "white"
          },
          "hoverlabel": {
           "align": "left"
          },
          "hovermode": "closest",
          "mapbox": {
           "style": "light"
          },
          "paper_bgcolor": "white",
          "plot_bgcolor": "#E5ECF6",
          "polar": {
           "angularaxis": {
            "gridcolor": "white",
            "linecolor": "white",
            "ticks": ""
           },
           "bgcolor": "#E5ECF6",
           "radialaxis": {
            "gridcolor": "white",
            "linecolor": "white",
            "ticks": ""
           }
          },
          "scene": {
           "xaxis": {
            "backgroundcolor": "#E5ECF6",
            "gridcolor": "white",
            "gridwidth": 2,
            "linecolor": "white",
            "showbackground": true,
            "ticks": "",
            "zerolinecolor": "white"
           },
           "yaxis": {
            "backgroundcolor": "#E5ECF6",
            "gridcolor": "white",
            "gridwidth": 2,
            "linecolor": "white",
            "showbackground": true,
            "ticks": "",
            "zerolinecolor": "white"
           },
           "zaxis": {
            "backgroundcolor": "#E5ECF6",
            "gridcolor": "white",
            "gridwidth": 2,
            "linecolor": "white",
            "showbackground": true,
            "ticks": "",
            "zerolinecolor": "white"
           }
          },
          "shapedefaults": {
           "line": {
            "color": "#2a3f5f"
           }
          },
          "ternary": {
           "aaxis": {
            "gridcolor": "white",
            "linecolor": "white",
            "ticks": ""
           },
           "baxis": {
            "gridcolor": "white",
            "linecolor": "white",
            "ticks": ""
           },
           "bgcolor": "#E5ECF6",
           "caxis": {
            "gridcolor": "white",
            "linecolor": "white",
            "ticks": ""
           }
          },
          "title": {
           "x": 0.05
          },
          "xaxis": {
           "automargin": true,
           "gridcolor": "white",
           "linecolor": "white",
           "ticks": "",
           "title": {
            "standoff": 15
           },
           "zerolinecolor": "white",
           "zerolinewidth": 2
          },
          "yaxis": {
           "automargin": true,
           "gridcolor": "white",
           "linecolor": "white",
           "ticks": "",
           "title": {
            "standoff": 15
           },
           "zerolinecolor": "white",
           "zerolinewidth": 2
          }
         }
        },
        "xaxis": {
         "anchor": "y",
         "domain": [
          0,
          1
         ],
         "title": {
          "text": "시군구명"
         }
        },
        "yaxis": {
         "anchor": "x",
         "domain": [
          0,
          1
         ],
         "title": {
          "text": "평당거래금액"
         }
        }
       }
      },
      "text/html": [
       "<div>                            <div id=\"bd3c0d42-8f13-4994-8c76-bf5a108cd38a\" class=\"plotly-graph-div\" style=\"height:525px; width:100%;\"></div>            <script type=\"text/javascript\">                require([\"plotly\"], function(Plotly) {                    window.PLOTLYENV=window.PLOTLYENV || {};                                    if (document.getElementById(\"bd3c0d42-8f13-4994-8c76-bf5a108cd38a\")) {                    Plotly.newPlot(                        \"bd3c0d42-8f13-4994-8c76-bf5a108cd38a\",                        [{\"hovertemplate\":\"\\uac70\\ub798\\uc2dc\\uae30=2019_1\\ubd84\\uae30<br>\\uc2dc\\uad70\\uad6c\\uba85=%{x}<br>\\ud3c9\\ub2f9\\uac70\\ub798\\uae08\\uc561=%{y}<extra></extra>\",\"legendgroup\":\"2019_1\\ubd84\\uae30\",\"line\":{\"color\":\"#636efa\",\"dash\":\"solid\"},\"marker\":{\"symbol\":\"circle\"},\"mode\":\"lines\",\"name\":\"2019_1\\ubd84\\uae30\",\"orientation\":\"v\",\"showlegend\":true,\"x\":[\"\\uac15\\ub0a8\\uad6c\",\"\\uac15\\ub3d9\\uad6c\",\"\\uac15\\ubd81\\uad6c\",\"\\uac15\\uc11c\\uad6c\",\"\\uad00\\uc545\\uad6c\",\"\\uad11\\uc9c4\\uad6c\",\"\\uad6c\\ub85c\\uad6c\",\"\\uae08\\ucc9c\\uad6c\",\"\\ub178\\uc6d0\\uad6c\",\"\\ub3c4\\ubd09\\uad6c\",\"\\ub3d9\\ub300\\ubb38\\uad6c\",\"\\ub3d9\\uc791\\uad6c\",\"\\ub9c8\\ud3ec\\uad6c\",\"\\uc11c\\ub300\\ubb38\\uad6c\",\"\\uc11c\\ucd08\\uad6c\",\"\\uc131\\ub3d9\\uad6c\",\"\\uc131\\ubd81\\uad6c\",\"\\uc1a1\\ud30c\\uad6c\",\"\\uc591\\ucc9c\\uad6c\",\"\\uc601\\ub4f1\\ud3ec\\uad6c\",\"\\uc6a9\\uc0b0\\uad6c\",\"\\uc740\\ud3c9\\uad6c\",\"\\uc885\\ub85c\\uad6c\",\"\\uc911\\uad6c\",\"\\uc911\\ub791\\uad6c\"],\"xaxis\":\"x\",\"y\":[5953.115679248986,3239.8354845938734,1990.0515587925722,2551.311700980067,2368.710670843304,3068.0060468476163,2013.3502720746521,1821.880486073779,2158.107212342581,1815.1949859561687,2661.423719760771,2964.8643713591846,3908.5701530619676,2559.0082342027285,5094.388203912718,3741.740972590828,2302.686972533029,4717.086844608867,2894.726186058838,3149.6152783019234,4859.534629088432,2230.4790444793707,2992.693727070137,3049.272111367469,2014.0463394092415],\"yaxis\":\"y\",\"type\":\"scatter\"},{\"hovertemplate\":\"\\uac70\\ub798\\uc2dc\\uae30=2019_2\\ubd84\\uae30<br>\\uc2dc\\uad70\\uad6c\\uba85=%{x}<br>\\ud3c9\\ub2f9\\uac70\\ub798\\uae08\\uc561=%{y}<extra></extra>\",\"legendgroup\":\"2019_2\\ubd84\\uae30\",\"line\":{\"color\":\"#EF553B\",\"dash\":\"solid\"},\"marker\":{\"symbol\":\"circle\"},\"mode\":\"lines\",\"name\":\"2019_2\\ubd84\\uae30\",\"orientation\":\"v\",\"showlegend\":true,\"x\":[\"\\uac15\\ub0a8\\uad6c\",\"\\uac15\\ub3d9\\uad6c\",\"\\uac15\\ubd81\\uad6c\",\"\\uac15\\uc11c\\uad6c\",\"\\uad00\\uc545\\uad6c\",\"\\uad11\\uc9c4\\uad6c\",\"\\uad6c\\ub85c\\uad6c\",\"\\uae08\\ucc9c\\uad6c\",\"\\ub178\\uc6d0\\uad6c\",\"\\ub3c4\\ubd09\\uad6c\",\"\\ub3d9\\ub300\\ubb38\\uad6c\",\"\\ub3d9\\uc791\\uad6c\",\"\\ub9c8\\ud3ec\\uad6c\",\"\\uc11c\\ub300\\ubb38\\uad6c\",\"\\uc11c\\ucd08\\uad6c\",\"\\uc131\\ub3d9\\uad6c\",\"\\uc131\\ubd81\\uad6c\",\"\\uc1a1\\ud30c\\uad6c\",\"\\uc591\\ucc9c\\uad6c\",\"\\uc601\\ub4f1\\ud3ec\\uad6c\",\"\\uc6a9\\uc0b0\\uad6c\",\"\\uc740\\ud3c9\\uad6c\",\"\\uc885\\ub85c\\uad6c\",\"\\uc911\\uad6c\",\"\\uc911\\ub791\\uad6c\"],\"xaxis\":\"x\",\"y\":[6817.365568247921,3319.5998658894778,2042.7024736636495,2700.795369186264,2437.280702245669,3519.412976802967,2194.3899724213,2056.5306913458294,2325.2908335613424,1927.6941734096608,2765.087130762108,3463.732846593774,3985.244119785111,2888.995317673339,5857.548245738664,4019.3625660833964,2426.773713971958,4829.86350231551,3657.106507019537,3737.4237078197298,4972.36815094067,2241.857406691964,3142.828835118047,3284.2835326908944,2105.549098754424],\"yaxis\":\"y\",\"type\":\"scatter\"},{\"hovertemplate\":\"\\uac70\\ub798\\uc2dc\\uae30=2019_3\\ubd84\\uae30<br>\\uc2dc\\uad70\\uad6c\\uba85=%{x}<br>\\ud3c9\\ub2f9\\uac70\\ub798\\uae08\\uc561=%{y}<extra></extra>\",\"legendgroup\":\"2019_3\\ubd84\\uae30\",\"line\":{\"color\":\"#00cc96\",\"dash\":\"solid\"},\"marker\":{\"symbol\":\"circle\"},\"mode\":\"lines\",\"name\":\"2019_3\\ubd84\\uae30\",\"orientation\":\"v\",\"showlegend\":true,\"x\":[\"\\uac15\\ub0a8\\uad6c\",\"\\uac15\\ub3d9\\uad6c\",\"\\uac15\\ubd81\\uad6c\",\"\\uac15\\uc11c\\uad6c\",\"\\uad00\\uc545\\uad6c\",\"\\uad11\\uc9c4\\uad6c\",\"\\uad6c\\ub85c\\uad6c\",\"\\uae08\\ucc9c\\uad6c\",\"\\ub178\\uc6d0\\uad6c\",\"\\ub3c4\\ubd09\\uad6c\",\"\\ub3d9\\ub300\\ubb38\\uad6c\",\"\\ub3d9\\uc791\\uad6c\",\"\\ub9c8\\ud3ec\\uad6c\",\"\\uc11c\\ub300\\ubb38\\uad6c\",\"\\uc11c\\ucd08\\uad6c\",\"\\uc131\\ub3d9\\uad6c\",\"\\uc131\\ubd81\\uad6c\",\"\\uc1a1\\ud30c\\uad6c\",\"\\uc591\\ucc9c\\uad6c\",\"\\uc601\\ub4f1\\ud3ec\\uad6c\",\"\\uc6a9\\uc0b0\\uad6c\",\"\\uc740\\ud3c9\\uad6c\",\"\\uc885\\ub85c\\uad6c\",\"\\uc911\\uad6c\",\"\\uc911\\ub791\\uad6c\"],\"xaxis\":\"x\",\"y\":[7112.762268867699,3448.4499201190542,2145.652317421805,2870.801074026478,2594.6649250547716,3733.2544873004404,2427.6203468171216,2183.608625070549,2335.662563081133,2010.4952526919992,2910.8429598221232,3603.851448126141,4110.791306366611,3263.037191801244,5966.9137668679805,4196.993496286359,2610.2978161639135,4854.007540844576,3425.058143413212,3464.7955674110053,4981.932750405465,2458.522553831178,3766.480166270256,3488.596540563259,2165.5301597042276],\"yaxis\":\"y\",\"type\":\"scatter\"},{\"hovertemplate\":\"\\uac70\\ub798\\uc2dc\\uae30=2019_4\\ubd84\\uae30<br>\\uc2dc\\uad70\\uad6c\\uba85=%{x}<br>\\ud3c9\\ub2f9\\uac70\\ub798\\uae08\\uc561=%{y}<extra></extra>\",\"legendgroup\":\"2019_4\\ubd84\\uae30\",\"line\":{\"color\":\"#ab63fa\",\"dash\":\"solid\"},\"marker\":{\"symbol\":\"circle\"},\"mode\":\"lines\",\"name\":\"2019_4\\ubd84\\uae30\",\"orientation\":\"v\",\"showlegend\":true,\"x\":[\"\\uac15\\ub0a8\\uad6c\",\"\\uac15\\ub3d9\\uad6c\",\"\\uac15\\ubd81\\uad6c\",\"\\uac15\\uc11c\\uad6c\",\"\\uad00\\uc545\\uad6c\",\"\\uad11\\uc9c4\\uad6c\",\"\\uad6c\\ub85c\\uad6c\",\"\\uae08\\ucc9c\\uad6c\",\"\\ub178\\uc6d0\\uad6c\",\"\\ub3c4\\ubd09\\uad6c\",\"\\ub3d9\\ub300\\ubb38\\uad6c\",\"\\ub3d9\\uc791\\uad6c\",\"\\ub9c8\\ud3ec\\uad6c\",\"\\uc11c\\ub300\\ubb38\\uad6c\",\"\\uc11c\\ucd08\\uad6c\",\"\\uc131\\ub3d9\\uad6c\",\"\\uc131\\ubd81\\uad6c\",\"\\uc1a1\\ud30c\\uad6c\",\"\\uc591\\ucc9c\\uad6c\",\"\\uc601\\ub4f1\\ud3ec\\uad6c\",\"\\uc6a9\\uc0b0\\uad6c\",\"\\uc740\\ud3c9\\uad6c\",\"\\uc885\\ub85c\\uad6c\",\"\\uc911\\uad6c\",\"\\uc911\\ub791\\uad6c\"],\"xaxis\":\"x\",\"y\":[7116.768319962811,3462.539032732237,2323.1774078183776,3027.517105686897,2665.925183505035,3953.481968813099,2540.607428072563,2164.2926635285166,2515.2836008919867,2095.4460695478974,2917.0603901213212,3744.8187674266715,4289.741492815729,3270.141945294777,6031.039067326554,4319.262289678274,2668.1922765702907,4955.956950258021,3578.5406577569593,3573.473435863113,4955.788388950797,2611.1312068614916,3506.7872924512635,3654.6366146660584,2426.1383319617926],\"yaxis\":\"y\",\"type\":\"scatter\"},{\"hovertemplate\":\"\\uac70\\ub798\\uc2dc\\uae30=2020_1\\ubd84\\uae30<br>\\uc2dc\\uad70\\uad6c\\uba85=%{x}<br>\\ud3c9\\ub2f9\\uac70\\ub798\\uae08\\uc561=%{y}<extra></extra>\",\"legendgroup\":\"2020_1\\ubd84\\uae30\",\"line\":{\"color\":\"#FFA15A\",\"dash\":\"solid\"},\"marker\":{\"symbol\":\"circle\"},\"mode\":\"lines\",\"name\":\"2020_1\\ubd84\\uae30\",\"orientation\":\"v\",\"showlegend\":true,\"x\":[\"\\uac15\\ub0a8\\uad6c\",\"\\uac15\\ub3d9\\uad6c\",\"\\uac15\\ubd81\\uad6c\",\"\\uac15\\uc11c\\uad6c\",\"\\uad00\\uc545\\uad6c\",\"\\uad11\\uc9c4\\uad6c\",\"\\uad6c\\ub85c\\uad6c\",\"\\uae08\\ucc9c\\uad6c\",\"\\ub178\\uc6d0\\uad6c\",\"\\ub3c4\\ubd09\\uad6c\",\"\\ub3d9\\ub300\\ubb38\\uad6c\",\"\\ub3d9\\uc791\\uad6c\",\"\\ub9c8\\ud3ec\\uad6c\",\"\\uc11c\\ub300\\ubb38\\uad6c\",\"\\uc11c\\ucd08\\uad6c\",\"\\uc131\\ub3d9\\uad6c\",\"\\uc131\\ubd81\\uad6c\",\"\\uc1a1\\ud30c\\uad6c\",\"\\uc591\\ucc9c\\uad6c\",\"\\uc601\\ub4f1\\ud3ec\\uad6c\",\"\\uc6a9\\uc0b0\\uad6c\",\"\\uc740\\ud3c9\\uad6c\",\"\\uc885\\ub85c\\uad6c\",\"\\uc911\\uad6c\",\"\\uc911\\ub791\\uad6c\"],\"xaxis\":\"x\",\"y\":[6845.667463098908,3416.4253149446527,2334.1098529248993,2984.964256062279,2723.1685169231537,3840.9707643058505,2400.9435663455297,2260.301807189246,2583.046824068729,2136.356918126869,2921.956524170676,3689.543505138043,4073.959528918683,3064.5693202923035,5198.580992109194,4440.210838788887,2715.391394821141,4864.36110237102,3072.6199699092763,3601.5129475521317,4917.736303393366,2550.544117614941,3056.6830166404657,3510.9314063224597,2321.6301406178436],\"yaxis\":\"y\",\"type\":\"scatter\"},{\"hovertemplate\":\"\\uac70\\ub798\\uc2dc\\uae30=2020_2\\ubd84\\uae30<br>\\uc2dc\\uad70\\uad6c\\uba85=%{x}<br>\\ud3c9\\ub2f9\\uac70\\ub798\\uae08\\uc561=%{y}<extra></extra>\",\"legendgroup\":\"2020_2\\ubd84\\uae30\",\"line\":{\"color\":\"#19d3f3\",\"dash\":\"solid\"},\"marker\":{\"symbol\":\"circle\"},\"mode\":\"lines\",\"name\":\"2020_2\\ubd84\\uae30\",\"orientation\":\"v\",\"showlegend\":true,\"x\":[\"\\uac15\\ub0a8\\uad6c\",\"\\uac15\\ub3d9\\uad6c\",\"\\uac15\\ubd81\\uad6c\",\"\\uac15\\uc11c\\uad6c\",\"\\uad00\\uc545\\uad6c\",\"\\uad11\\uc9c4\\uad6c\",\"\\uad6c\\ub85c\\uad6c\",\"\\uae08\\ucc9c\\uad6c\",\"\\ub178\\uc6d0\\uad6c\",\"\\ub3c4\\ubd09\\uad6c\",\"\\ub3d9\\ub300\\ubb38\\uad6c\",\"\\ub3d9\\uc791\\uad6c\",\"\\ub9c8\\ud3ec\\uad6c\",\"\\uc11c\\ub300\\ubb38\\uad6c\",\"\\uc11c\\ucd08\\uad6c\",\"\\uc131\\ub3d9\\uad6c\",\"\\uc131\\ubd81\\uad6c\",\"\\uc1a1\\ud30c\\uad6c\",\"\\uc591\\ucc9c\\uad6c\",\"\\uc601\\ub4f1\\ud3ec\\uad6c\",\"\\uc6a9\\uc0b0\\uad6c\",\"\\uc740\\ud3c9\\uad6c\",\"\\uc885\\ub85c\\uad6c\",\"\\uc911\\uad6c\",\"\\uc911\\ub791\\uad6c\"],\"xaxis\":\"x\",\"y\":[7021.968716445693,3784.180917384685,2545.7838441513254,3153.3098279844494,2859.266549454484,4134.630461813103,2588.2908562957823,2245.9428510737107,2690.076244337363,2110.322492659424,3197.3285975541794,3906.3629598528487,4433.039818085951,3296.5606899806185,6299.913196041369,4687.643290103771,2936.9883322385754,5572.4944481420025,3746.663337435415,3979.418257381155,5122.507996024512,2678.0286162493708,3489.250157112035,3722.075072738517,2513.253955963721],\"yaxis\":\"y\",\"type\":\"scatter\"},{\"hovertemplate\":\"\\uac70\\ub798\\uc2dc\\uae30=2020_3\\ubd84\\uae30<br>\\uc2dc\\uad70\\uad6c\\uba85=%{x}<br>\\ud3c9\\ub2f9\\uac70\\ub798\\uae08\\uc561=%{y}<extra></extra>\",\"legendgroup\":\"2020_3\\ubd84\\uae30\",\"line\":{\"color\":\"#FF6692\",\"dash\":\"solid\"},\"marker\":{\"symbol\":\"circle\"},\"mode\":\"lines\",\"name\":\"2020_3\\ubd84\\uae30\",\"orientation\":\"v\",\"showlegend\":true,\"x\":[\"\\uac15\\ub0a8\\uad6c\",\"\\uac15\\ub3d9\\uad6c\",\"\\uac15\\ubd81\\uad6c\",\"\\uac15\\uc11c\\uad6c\",\"\\uad00\\uc545\\uad6c\",\"\\uad11\\uc9c4\\uad6c\",\"\\uad6c\\ub85c\\uad6c\",\"\\uae08\\ucc9c\\uad6c\",\"\\ub178\\uc6d0\\uad6c\",\"\\ub3c4\\ubd09\\uad6c\",\"\\ub3d9\\ub300\\ubb38\\uad6c\",\"\\ub3d9\\uc791\\uad6c\",\"\\ub9c8\\ud3ec\\uad6c\",\"\\uc11c\\ub300\\ubb38\\uad6c\",\"\\uc11c\\ucd08\\uad6c\",\"\\uc131\\ub3d9\\uad6c\",\"\\uc131\\ubd81\\uad6c\",\"\\uc1a1\\ud30c\\uad6c\",\"\\uc591\\ucc9c\\uad6c\",\"\\uc601\\ub4f1\\ud3ec\\uad6c\",\"\\uc6a9\\uc0b0\\uad6c\",\"\\uc740\\ud3c9\\uad6c\",\"\\uc885\\ub85c\\uad6c\",\"\\uc911\\uad6c\",\"\\uc911\\ub791\\uad6c\"],\"xaxis\":\"x\",\"y\":[7077.910879831032,4156.9772492204,2759.633131773078,3390.076601707351,3043.2632417127797,4551.098332977423,2796.0650182147806,2707.453866339325,3050.147154065415,2385.2488127919555,3524.0317351639214,4237.026162007474,4607.676006041068,3729.225481015203,6420.970738750524,5240.795432760273,3370.1470979371734,5139.235097867394,4060.7218220329855,4046.4530237855715,5577.372423584545,2868.9752711231204,3817.047948012932,3896.3315240833062,2714.7640852051695],\"yaxis\":\"y\",\"type\":\"scatter\"},{\"hovertemplate\":\"\\uac70\\ub798\\uc2dc\\uae30=2020_4\\ubd84\\uae30<br>\\uc2dc\\uad70\\uad6c\\uba85=%{x}<br>\\ud3c9\\ub2f9\\uac70\\ub798\\uae08\\uc561=%{y}<extra></extra>\",\"legendgroup\":\"2020_4\\ubd84\\uae30\",\"line\":{\"color\":\"#B6E880\",\"dash\":\"solid\"},\"marker\":{\"symbol\":\"circle\"},\"mode\":\"lines\",\"name\":\"2020_4\\ubd84\\uae30\",\"orientation\":\"v\",\"showlegend\":true,\"x\":[\"\\uac15\\ub0a8\\uad6c\",\"\\uac15\\ub3d9\\uad6c\",\"\\uac15\\ubd81\\uad6c\",\"\\uac15\\uc11c\\uad6c\",\"\\uad00\\uc545\\uad6c\",\"\\uad11\\uc9c4\\uad6c\",\"\\uad6c\\ub85c\\uad6c\",\"\\uae08\\ucc9c\\uad6c\",\"\\ub178\\uc6d0\\uad6c\",\"\\ub3c4\\ubd09\\uad6c\",\"\\ub3d9\\ub300\\ubb38\\uad6c\",\"\\ub3d9\\uc791\\uad6c\",\"\\ub9c8\\ud3ec\\uad6c\",\"\\uc11c\\ub300\\ubb38\\uad6c\",\"\\uc11c\\ucd08\\uad6c\",\"\\uc131\\ub3d9\\uad6c\",\"\\uc131\\ubd81\\uad6c\",\"\\uc1a1\\ud30c\\uad6c\",\"\\uc591\\ucc9c\\uad6c\",\"\\uc601\\ub4f1\\ud3ec\\uad6c\",\"\\uc6a9\\uc0b0\\uad6c\",\"\\uc740\\ud3c9\\uad6c\",\"\\uc885\\ub85c\\uad6c\",\"\\uc911\\uad6c\",\"\\uc911\\ub791\\uad6c\"],\"xaxis\":\"x\",\"y\":[7585.402532677671,4627.381718381498,3083.394022704611,3581.6798513699105,3367.6105119095732,4785.605269182895,2708.4040440924277,3033.085673083527,3427.273111856953,2737.318012341677,3960.334924839616,4753.9017721100345,4963.8787650543445,4023.490441831877,7174.593809560945,5527.5221553313395,3576.7847541227093,5833.622638099585,4585.398266142657,4399.897580592138,5707.209037550502,3223.7577513310066,3705.2225025758817,4301.061447045656,2892.814707408069],\"yaxis\":\"y\",\"type\":\"scatter\"},{\"hovertemplate\":\"\\uac70\\ub798\\uc2dc\\uae30=2021_1\\ubd84\\uae30<br>\\uc2dc\\uad70\\uad6c\\uba85=%{x}<br>\\ud3c9\\ub2f9\\uac70\\ub798\\uae08\\uc561=%{y}<extra></extra>\",\"legendgroup\":\"2021_1\\ubd84\\uae30\",\"line\":{\"color\":\"#FF97FF\",\"dash\":\"solid\"},\"marker\":{\"symbol\":\"circle\"},\"mode\":\"lines\",\"name\":\"2021_1\\ubd84\\uae30\",\"orientation\":\"v\",\"showlegend\":true,\"x\":[\"\\uac15\\ub0a8\\uad6c\",\"\\uac15\\ub3d9\\uad6c\",\"\\uac15\\ubd81\\uad6c\",\"\\uac15\\uc11c\\uad6c\",\"\\uad00\\uc545\\uad6c\",\"\\uad11\\uc9c4\\uad6c\",\"\\uad6c\\ub85c\\uad6c\",\"\\uae08\\ucc9c\\uad6c\",\"\\ub178\\uc6d0\\uad6c\",\"\\ub3c4\\ubd09\\uad6c\",\"\\ub3d9\\ub300\\ubb38\\uad6c\",\"\\ub3d9\\uc791\\uad6c\",\"\\ub9c8\\ud3ec\\uad6c\",\"\\uc11c\\ub300\\ubb38\\uad6c\",\"\\uc11c\\ucd08\\uad6c\",\"\\uc131\\ub3d9\\uad6c\",\"\\uc131\\ubd81\\uad6c\",\"\\uc1a1\\ud30c\\uad6c\",\"\\uc591\\ucc9c\\uad6c\",\"\\uc601\\ub4f1\\ud3ec\\uad6c\",\"\\uc6a9\\uc0b0\\uad6c\",\"\\uc740\\ud3c9\\uad6c\",\"\\uc885\\ub85c\\uad6c\",\"\\uc911\\uad6c\",\"\\uc911\\ub791\\uad6c\"],\"xaxis\":\"x\",\"y\":[7687.450129349288,4797.502631615483,3116.565938339382,3765.9350099284243,3561.5403886725785,5050.4938242670305,3121.4824973905684,3028.956282229211,3586.615171966966,2910.33112188069,3988.706874861156,4693.59032825524,5120.742297539605,4065.90868082837,7097.7813777902775,5847.149867947642,3715.7962531369785,6411.195548837939,4710.472535232045,4689.536286223136,6031.039109860713,3349.0676167804554,3967.6923327287805,4421.294900612893,3093.09364313765],\"yaxis\":\"y\",\"type\":\"scatter\"},{\"hovertemplate\":\"\\uac70\\ub798\\uc2dc\\uae30=2021_2\\ubd84\\uae30<br>\\uc2dc\\uad70\\uad6c\\uba85=%{x}<br>\\ud3c9\\ub2f9\\uac70\\ub798\\uae08\\uc561=%{y}<extra></extra>\",\"legendgroup\":\"2021_2\\ubd84\\uae30\",\"line\":{\"color\":\"#FECB52\",\"dash\":\"solid\"},\"marker\":{\"symbol\":\"circle\"},\"mode\":\"lines\",\"name\":\"2021_2\\ubd84\\uae30\",\"orientation\":\"v\",\"showlegend\":true,\"x\":[\"\\uac15\\ub0a8\\uad6c\",\"\\uac15\\ub3d9\\uad6c\",\"\\uac15\\ubd81\\uad6c\",\"\\uac15\\uc11c\\uad6c\",\"\\uad00\\uc545\\uad6c\",\"\\uad11\\uc9c4\\uad6c\",\"\\uad6c\\ub85c\\uad6c\",\"\\uae08\\ucc9c\\uad6c\",\"\\ub178\\uc6d0\\uad6c\",\"\\ub3c4\\ubd09\\uad6c\",\"\\ub3d9\\ub300\\ubb38\\uad6c\",\"\\ub3d9\\uc791\\uad6c\",\"\\ub9c8\\ud3ec\\uad6c\",\"\\uc11c\\ub300\\ubb38\\uad6c\",\"\\uc11c\\ucd08\\uad6c\",\"\\uc131\\ub3d9\\uad6c\",\"\\uc131\\ubd81\\uad6c\",\"\\uc1a1\\ud30c\\uad6c\",\"\\uc591\\ucc9c\\uad6c\",\"\\uc601\\ub4f1\\ud3ec\\uad6c\",\"\\uc6a9\\uc0b0\\uad6c\",\"\\uc740\\ud3c9\\uad6c\",\"\\uc885\\ub85c\\uad6c\",\"\\uc911\\uad6c\",\"\\uc911\\ub791\\uad6c\"],\"xaxis\":\"x\",\"y\":[7709.116310346317,4919.00633303288,3198.209259830877,4043.3230317591265,3680.067398766315,4995.89503543577,3040.886624513617,3077.588495888831,3828.968695025533,3085.437451734533,3792.6428455279934,7470.717707477173,5071.49404290587,4073.1176722136747,7388.527422572122,6147.340162478345,3763.117979494764,6538.811988482566,4611.971512393314,4615.080002279853,6261.019147957338,3320.310209687187,4060.4118599439626,4303.6483400972575,3227.4147408386884],\"yaxis\":\"y\",\"type\":\"scatter\"},{\"hovertemplate\":\"\\uac70\\ub798\\uc2dc\\uae30=2021_3\\ubd84\\uae30<br>\\uc2dc\\uad70\\uad6c\\uba85=%{x}<br>\\ud3c9\\ub2f9\\uac70\\ub798\\uae08\\uc561=%{y}<extra></extra>\",\"legendgroup\":\"2021_3\\ubd84\\uae30\",\"line\":{\"color\":\"#636efa\",\"dash\":\"solid\"},\"marker\":{\"symbol\":\"circle\"},\"mode\":\"lines\",\"name\":\"2021_3\\ubd84\\uae30\",\"orientation\":\"v\",\"showlegend\":true,\"x\":[\"\\uac15\\ub0a8\\uad6c\",\"\\uac15\\ub3d9\\uad6c\",\"\\uac15\\ubd81\\uad6c\",\"\\uac15\\uc11c\\uad6c\",\"\\uad00\\uc545\\uad6c\",\"\\uad11\\uc9c4\\uad6c\",\"\\uad6c\\ub85c\\uad6c\",\"\\uae08\\ucc9c\\uad6c\",\"\\ub178\\uc6d0\\uad6c\",\"\\ub3c4\\ubd09\\uad6c\",\"\\ub3d9\\ub300\\ubb38\\uad6c\",\"\\ub3d9\\uc791\\uad6c\",\"\\ub9c8\\ud3ec\\uad6c\",\"\\uc11c\\ub300\\ubb38\\uad6c\",\"\\uc11c\\ucd08\\uad6c\",\"\\uc131\\ub3d9\\uad6c\",\"\\uc131\\ubd81\\uad6c\",\"\\uc1a1\\ud30c\\uad6c\",\"\\uc591\\ucc9c\\uad6c\",\"\\uc601\\ub4f1\\ud3ec\\uad6c\",\"\\uc6a9\\uc0b0\\uad6c\",\"\\uc740\\ud3c9\\uad6c\",\"\\uc885\\ub85c\\uad6c\",\"\\uc911\\uad6c\",\"\\uc911\\ub791\\uad6c\"],\"xaxis\":\"x\",\"y\":[8393.200259325407,5236.393398735876,3265.961157437545,4239.495474127769,3897.9030692111423,5294.276179627457,3497.09520300751,3250.8002889956947,3991.303711066986,3206.3669154995837,4166.1095711481885,5120.978387767933,5655.9040662011585,4594.436827576277,7881.61347510375,6182.891033139082,4075.7666192031256,7174.816021693663,4385.962082742809,4836.59890348385,6680.704778109792,3793.0249258455556,4456.288071666598,4631.338941594711,3469.2205759834283],\"yaxis\":\"y\",\"type\":\"scatter\"},{\"hovertemplate\":\"\\uac70\\ub798\\uc2dc\\uae30=2021_4\\ubd84\\uae30<br>\\uc2dc\\uad70\\uad6c\\uba85=%{x}<br>\\ud3c9\\ub2f9\\uac70\\ub798\\uae08\\uc561=%{y}<extra></extra>\",\"legendgroup\":\"2021_4\\ubd84\\uae30\",\"line\":{\"color\":\"#EF553B\",\"dash\":\"solid\"},\"marker\":{\"symbol\":\"circle\"},\"mode\":\"lines\",\"name\":\"2021_4\\ubd84\\uae30\",\"orientation\":\"v\",\"showlegend\":true,\"x\":[\"\\uac15\\ub0a8\\uad6c\",\"\\uac15\\ub3d9\\uad6c\",\"\\uac15\\ubd81\\uad6c\",\"\\uac15\\uc11c\\uad6c\",\"\\uad00\\uc545\\uad6c\",\"\\uad11\\uc9c4\\uad6c\",\"\\uad6c\\ub85c\\uad6c\",\"\\uae08\\ucc9c\\uad6c\",\"\\ub178\\uc6d0\\uad6c\",\"\\ub3c4\\ubd09\\uad6c\",\"\\ub3d9\\ub300\\ubb38\\uad6c\",\"\\ub3d9\\uc791\\uad6c\",\"\\ub9c8\\ud3ec\\uad6c\",\"\\uc11c\\ub300\\ubb38\\uad6c\",\"\\uc11c\\ucd08\\uad6c\",\"\\uc131\\ub3d9\\uad6c\",\"\\uc131\\ubd81\\uad6c\",\"\\uc1a1\\ud30c\\uad6c\",\"\\uc591\\ucc9c\\uad6c\",\"\\uc601\\ub4f1\\ud3ec\\uad6c\",\"\\uc6a9\\uc0b0\\uad6c\",\"\\uc740\\ud3c9\\uad6c\",\"\\uc885\\ub85c\\uad6c\",\"\\uc911\\uad6c\",\"\\uc911\\ub791\\uad6c\"],\"xaxis\":\"x\",\"y\":[8336.96589301028,4776.596353919824,3205.583257956766,3941.6251473386633,3781.1206818789774,5249.338542575722,3333.632333276786,3386.3195619664994,4082.350583047266,3333.5212332184005,4213.943561474897,5059.5781588715545,5542.970060108517,4390.6850762760605,7726.562917215594,6350.000013791066,3994.882270312572,6944.3820704379405,4518.294813619567,4576.469772319107,7518.788187762623,3841.297936481122,4558.42718302149,4562.331083681861,3477.2688341905],\"yaxis\":\"y\",\"type\":\"scatter\"},{\"hovertemplate\":\"\\uac70\\ub798\\uc2dc\\uae30=2022_1\\ubd84\\uae30<br>\\uc2dc\\uad70\\uad6c\\uba85=%{x}<br>\\ud3c9\\ub2f9\\uac70\\ub798\\uae08\\uc561=%{y}<extra></extra>\",\"legendgroup\":\"2022_1\\ubd84\\uae30\",\"line\":{\"color\":\"#00cc96\",\"dash\":\"solid\"},\"marker\":{\"symbol\":\"circle\"},\"mode\":\"lines\",\"name\":\"2022_1\\ubd84\\uae30\",\"orientation\":\"v\",\"showlegend\":true,\"x\":[\"\\uac15\\ub0a8\\uad6c\",\"\\uac15\\ub3d9\\uad6c\",\"\\uac15\\ubd81\\uad6c\",\"\\uac15\\uc11c\\uad6c\",\"\\uad00\\uc545\\uad6c\",\"\\uad11\\uc9c4\\uad6c\",\"\\uad6c\\ub85c\\uad6c\",\"\\uae08\\ucc9c\\uad6c\",\"\\ub178\\uc6d0\\uad6c\",\"\\ub3c4\\ubd09\\uad6c\",\"\\ub3d9\\ub300\\ubb38\\uad6c\",\"\\ub3d9\\uc791\\uad6c\",\"\\ub9c8\\ud3ec\\uad6c\",\"\\uc11c\\ub300\\ubb38\\uad6c\",\"\\uc11c\\ucd08\\uad6c\",\"\\uc131\\ub3d9\\uad6c\",\"\\uc131\\ubd81\\uad6c\",\"\\uc1a1\\ud30c\\uad6c\",\"\\uc591\\ucc9c\\uad6c\",\"\\uc601\\ub4f1\\ud3ec\\uad6c\",\"\\uc6a9\\uc0b0\\uad6c\",\"\\uc740\\ud3c9\\uad6c\",\"\\uc885\\ub85c\\uad6c\",\"\\uc911\\uad6c\",\"\\uc911\\ub791\\uad6c\"],\"xaxis\":\"x\",\"y\":[7845.647755801112,4705.4569309047865,3003.213006086509,3633.919953161929,3657.5996927621727,5118.7285999087535,3062.67506006229,3218.296972362292,3997.2379901506283,3251.872880459159,3867.6047763426877,4781.357703058338,5569.668099077015,4292.104692187945,7566.5593968095645,6487.395420042326,4096.5727109672835,6461.177734664467,4482.308957249134,4457.820458512455,6562.675348396862,4021.3605910133706,4682.7660535007535,4711.2448845496,3261.5046445785883],\"yaxis\":\"y\",\"type\":\"scatter\"},{\"hovertemplate\":\"\\uac70\\ub798\\uc2dc\\uae30=2022_2\\ubd84\\uae30<br>\\uc2dc\\uad70\\uad6c\\uba85=%{x}<br>\\ud3c9\\ub2f9\\uac70\\ub798\\uae08\\uc561=%{y}<extra></extra>\",\"legendgroup\":\"2022_2\\ubd84\\uae30\",\"line\":{\"color\":\"#ab63fa\",\"dash\":\"solid\"},\"marker\":{\"symbol\":\"circle\"},\"mode\":\"lines\",\"name\":\"2022_2\\ubd84\\uae30\",\"orientation\":\"v\",\"showlegend\":true,\"x\":[\"\\uac15\\ub0a8\\uad6c\",\"\\uac15\\ub3d9\\uad6c\",\"\\uac15\\ubd81\\uad6c\",\"\\uac15\\uc11c\\uad6c\",\"\\uad00\\uc545\\uad6c\",\"\\uad11\\uc9c4\\uad6c\",\"\\uad6c\\ub85c\\uad6c\",\"\\uae08\\ucc9c\\uad6c\",\"\\ub178\\uc6d0\\uad6c\",\"\\ub3c4\\ubd09\\uad6c\",\"\\ub3d9\\ub300\\ubb38\\uad6c\",\"\\ub3d9\\uc791\\uad6c\",\"\\ub9c8\\ud3ec\\uad6c\",\"\\uc11c\\ub300\\ubb38\\uad6c\",\"\\uc11c\\ucd08\\uad6c\",\"\\uc131\\ub3d9\\uad6c\",\"\\uc131\\ubd81\\uad6c\",\"\\uc1a1\\ud30c\\uad6c\",\"\\uc591\\ucc9c\\uad6c\",\"\\uc601\\ub4f1\\ud3ec\\uad6c\",\"\\uc6a9\\uc0b0\\uad6c\",\"\\uc740\\ud3c9\\uad6c\",\"\\uc885\\ub85c\\uad6c\",\"\\uc911\\uad6c\",\"\\uc911\\ub791\\uad6c\"],\"xaxis\":\"x\",\"y\":[8310.752219513008,4605.19395789389,3259.95053908715,3714.1724399465606,3728.443736330849,5066.209137912406,3173.359365088992,3290.6073563687014,4018.3371686977025,3134.202746837327,3988.5976232633925,5127.69834452886,5356.1298253402265,4228.058380429305,8787.77507365216,6638.292919068861,3865.1213098449707,7130.135508223548,4652.502402232331,4744.755389372671,7170.367577477585,3554.6558522308796,4501.833143536485,4095.0461081191033,3712.612075127544],\"yaxis\":\"y\",\"type\":\"scatter\"}],                        {\"template\":{\"data\":{\"histogram2dcontour\":[{\"type\":\"histogram2dcontour\",\"colorbar\":{\"outlinewidth\":0,\"ticks\":\"\"},\"colorscale\":[[0.0,\"#0d0887\"],[0.1111111111111111,\"#46039f\"],[0.2222222222222222,\"#7201a8\"],[0.3333333333333333,\"#9c179e\"],[0.4444444444444444,\"#bd3786\"],[0.5555555555555556,\"#d8576b\"],[0.6666666666666666,\"#ed7953\"],[0.7777777777777778,\"#fb9f3a\"],[0.8888888888888888,\"#fdca26\"],[1.0,\"#f0f921\"]]}],\"choropleth\":[{\"type\":\"choropleth\",\"colorbar\":{\"outlinewidth\":0,\"ticks\":\"\"}}],\"histogram2d\":[{\"type\":\"histogram2d\",\"colorbar\":{\"outlinewidth\":0,\"ticks\":\"\"},\"colorscale\":[[0.0,\"#0d0887\"],[0.1111111111111111,\"#46039f\"],[0.2222222222222222,\"#7201a8\"],[0.3333333333333333,\"#9c179e\"],[0.4444444444444444,\"#bd3786\"],[0.5555555555555556,\"#d8576b\"],[0.6666666666666666,\"#ed7953\"],[0.7777777777777778,\"#fb9f3a\"],[0.8888888888888888,\"#fdca26\"],[1.0,\"#f0f921\"]]}],\"heatmap\":[{\"type\":\"heatmap\",\"colorbar\":{\"outlinewidth\":0,\"ticks\":\"\"},\"colorscale\":[[0.0,\"#0d0887\"],[0.1111111111111111,\"#46039f\"],[0.2222222222222222,\"#7201a8\"],[0.3333333333333333,\"#9c179e\"],[0.4444444444444444,\"#bd3786\"],[0.5555555555555556,\"#d8576b\"],[0.6666666666666666,\"#ed7953\"],[0.7777777777777778,\"#fb9f3a\"],[0.8888888888888888,\"#fdca26\"],[1.0,\"#f0f921\"]]}],\"heatmapgl\":[{\"type\":\"heatmapgl\",\"colorbar\":{\"outlinewidth\":0,\"ticks\":\"\"},\"colorscale\":[[0.0,\"#0d0887\"],[0.1111111111111111,\"#46039f\"],[0.2222222222222222,\"#7201a8\"],[0.3333333333333333,\"#9c179e\"],[0.4444444444444444,\"#bd3786\"],[0.5555555555555556,\"#d8576b\"],[0.6666666666666666,\"#ed7953\"],[0.7777777777777778,\"#fb9f3a\"],[0.8888888888888888,\"#fdca26\"],[1.0,\"#f0f921\"]]}],\"contourcarpet\":[{\"type\":\"contourcarpet\",\"colorbar\":{\"outlinewidth\":0,\"ticks\":\"\"}}],\"contour\":[{\"type\":\"contour\",\"colorbar\":{\"outlinewidth\":0,\"ticks\":\"\"},\"colorscale\":[[0.0,\"#0d0887\"],[0.1111111111111111,\"#46039f\"],[0.2222222222222222,\"#7201a8\"],[0.3333333333333333,\"#9c179e\"],[0.4444444444444444,\"#bd3786\"],[0.5555555555555556,\"#d8576b\"],[0.6666666666666666,\"#ed7953\"],[0.7777777777777778,\"#fb9f3a\"],[0.8888888888888888,\"#fdca26\"],[1.0,\"#f0f921\"]]}],\"surface\":[{\"type\":\"surface\",\"colorbar\":{\"outlinewidth\":0,\"ticks\":\"\"},\"colorscale\":[[0.0,\"#0d0887\"],[0.1111111111111111,\"#46039f\"],[0.2222222222222222,\"#7201a8\"],[0.3333333333333333,\"#9c179e\"],[0.4444444444444444,\"#bd3786\"],[0.5555555555555556,\"#d8576b\"],[0.6666666666666666,\"#ed7953\"],[0.7777777777777778,\"#fb9f3a\"],[0.8888888888888888,\"#fdca26\"],[1.0,\"#f0f921\"]]}],\"mesh3d\":[{\"type\":\"mesh3d\",\"colorbar\":{\"outlinewidth\":0,\"ticks\":\"\"}}],\"scatter\":[{\"fillpattern\":{\"fillmode\":\"overlay\",\"size\":10,\"solidity\":0.2},\"type\":\"scatter\"}],\"parcoords\":[{\"type\":\"parcoords\",\"line\":{\"colorbar\":{\"outlinewidth\":0,\"ticks\":\"\"}}}],\"scatterpolargl\":[{\"type\":\"scatterpolargl\",\"marker\":{\"colorbar\":{\"outlinewidth\":0,\"ticks\":\"\"}}}],\"bar\":[{\"error_x\":{\"color\":\"#2a3f5f\"},\"error_y\":{\"color\":\"#2a3f5f\"},\"marker\":{\"line\":{\"color\":\"#E5ECF6\",\"width\":0.5},\"pattern\":{\"fillmode\":\"overlay\",\"size\":10,\"solidity\":0.2}},\"type\":\"bar\"}],\"scattergeo\":[{\"type\":\"scattergeo\",\"marker\":{\"colorbar\":{\"outlinewidth\":0,\"ticks\":\"\"}}}],\"scatterpolar\":[{\"type\":\"scatterpolar\",\"marker\":{\"colorbar\":{\"outlinewidth\":0,\"ticks\":\"\"}}}],\"histogram\":[{\"marker\":{\"pattern\":{\"fillmode\":\"overlay\",\"size\":10,\"solidity\":0.2}},\"type\":\"histogram\"}],\"scattergl\":[{\"type\":\"scattergl\",\"marker\":{\"colorbar\":{\"outlinewidth\":0,\"ticks\":\"\"}}}],\"scatter3d\":[{\"type\":\"scatter3d\",\"line\":{\"colorbar\":{\"outlinewidth\":0,\"ticks\":\"\"}},\"marker\":{\"colorbar\":{\"outlinewidth\":0,\"ticks\":\"\"}}}],\"scattermapbox\":[{\"type\":\"scattermapbox\",\"marker\":{\"colorbar\":{\"outlinewidth\":0,\"ticks\":\"\"}}}],\"scatterternary\":[{\"type\":\"scatterternary\",\"marker\":{\"colorbar\":{\"outlinewidth\":0,\"ticks\":\"\"}}}],\"scattercarpet\":[{\"type\":\"scattercarpet\",\"marker\":{\"colorbar\":{\"outlinewidth\":0,\"ticks\":\"\"}}}],\"carpet\":[{\"aaxis\":{\"endlinecolor\":\"#2a3f5f\",\"gridcolor\":\"white\",\"linecolor\":\"white\",\"minorgridcolor\":\"white\",\"startlinecolor\":\"#2a3f5f\"},\"baxis\":{\"endlinecolor\":\"#2a3f5f\",\"gridcolor\":\"white\",\"linecolor\":\"white\",\"minorgridcolor\":\"white\",\"startlinecolor\":\"#2a3f5f\"},\"type\":\"carpet\"}],\"table\":[{\"cells\":{\"fill\":{\"color\":\"#EBF0F8\"},\"line\":{\"color\":\"white\"}},\"header\":{\"fill\":{\"color\":\"#C8D4E3\"},\"line\":{\"color\":\"white\"}},\"type\":\"table\"}],\"barpolar\":[{\"marker\":{\"line\":{\"color\":\"#E5ECF6\",\"width\":0.5},\"pattern\":{\"fillmode\":\"overlay\",\"size\":10,\"solidity\":0.2}},\"type\":\"barpolar\"}],\"pie\":[{\"automargin\":true,\"type\":\"pie\"}]},\"layout\":{\"autotypenumbers\":\"strict\",\"colorway\":[\"#636efa\",\"#EF553B\",\"#00cc96\",\"#ab63fa\",\"#FFA15A\",\"#19d3f3\",\"#FF6692\",\"#B6E880\",\"#FF97FF\",\"#FECB52\"],\"font\":{\"color\":\"#2a3f5f\"},\"hovermode\":\"closest\",\"hoverlabel\":{\"align\":\"left\"},\"paper_bgcolor\":\"white\",\"plot_bgcolor\":\"#E5ECF6\",\"polar\":{\"bgcolor\":\"#E5ECF6\",\"angularaxis\":{\"gridcolor\":\"white\",\"linecolor\":\"white\",\"ticks\":\"\"},\"radialaxis\":{\"gridcolor\":\"white\",\"linecolor\":\"white\",\"ticks\":\"\"}},\"ternary\":{\"bgcolor\":\"#E5ECF6\",\"aaxis\":{\"gridcolor\":\"white\",\"linecolor\":\"white\",\"ticks\":\"\"},\"baxis\":{\"gridcolor\":\"white\",\"linecolor\":\"white\",\"ticks\":\"\"},\"caxis\":{\"gridcolor\":\"white\",\"linecolor\":\"white\",\"ticks\":\"\"}},\"coloraxis\":{\"colorbar\":{\"outlinewidth\":0,\"ticks\":\"\"}},\"colorscale\":{\"sequential\":[[0.0,\"#0d0887\"],[0.1111111111111111,\"#46039f\"],[0.2222222222222222,\"#7201a8\"],[0.3333333333333333,\"#9c179e\"],[0.4444444444444444,\"#bd3786\"],[0.5555555555555556,\"#d8576b\"],[0.6666666666666666,\"#ed7953\"],[0.7777777777777778,\"#fb9f3a\"],[0.8888888888888888,\"#fdca26\"],[1.0,\"#f0f921\"]],\"sequentialminus\":[[0.0,\"#0d0887\"],[0.1111111111111111,\"#46039f\"],[0.2222222222222222,\"#7201a8\"],[0.3333333333333333,\"#9c179e\"],[0.4444444444444444,\"#bd3786\"],[0.5555555555555556,\"#d8576b\"],[0.6666666666666666,\"#ed7953\"],[0.7777777777777778,\"#fb9f3a\"],[0.8888888888888888,\"#fdca26\"],[1.0,\"#f0f921\"]],\"diverging\":[[0,\"#8e0152\"],[0.1,\"#c51b7d\"],[0.2,\"#de77ae\"],[0.3,\"#f1b6da\"],[0.4,\"#fde0ef\"],[0.5,\"#f7f7f7\"],[0.6,\"#e6f5d0\"],[0.7,\"#b8e186\"],[0.8,\"#7fbc41\"],[0.9,\"#4d9221\"],[1,\"#276419\"]]},\"xaxis\":{\"gridcolor\":\"white\",\"linecolor\":\"white\",\"ticks\":\"\",\"title\":{\"standoff\":15},\"zerolinecolor\":\"white\",\"automargin\":true,\"zerolinewidth\":2},\"yaxis\":{\"gridcolor\":\"white\",\"linecolor\":\"white\",\"ticks\":\"\",\"title\":{\"standoff\":15},\"zerolinecolor\":\"white\",\"automargin\":true,\"zerolinewidth\":2},\"scene\":{\"xaxis\":{\"backgroundcolor\":\"#E5ECF6\",\"gridcolor\":\"white\",\"linecolor\":\"white\",\"showbackground\":true,\"ticks\":\"\",\"zerolinecolor\":\"white\",\"gridwidth\":2},\"yaxis\":{\"backgroundcolor\":\"#E5ECF6\",\"gridcolor\":\"white\",\"linecolor\":\"white\",\"showbackground\":true,\"ticks\":\"\",\"zerolinecolor\":\"white\",\"gridwidth\":2},\"zaxis\":{\"backgroundcolor\":\"#E5ECF6\",\"gridcolor\":\"white\",\"linecolor\":\"white\",\"showbackground\":true,\"ticks\":\"\",\"zerolinecolor\":\"white\",\"gridwidth\":2}},\"shapedefaults\":{\"line\":{\"color\":\"#2a3f5f\"}},\"annotationdefaults\":{\"arrowcolor\":\"#2a3f5f\",\"arrowhead\":0,\"arrowwidth\":1},\"geo\":{\"bgcolor\":\"white\",\"landcolor\":\"#E5ECF6\",\"subunitcolor\":\"white\",\"showland\":true,\"showlakes\":true,\"lakecolor\":\"white\"},\"title\":{\"x\":0.05},\"mapbox\":{\"style\":\"light\"}}},\"xaxis\":{\"anchor\":\"y\",\"domain\":[0.0,1.0],\"title\":{\"text\":\"\\uc2dc\\uad70\\uad6c\\uba85\"}},\"yaxis\":{\"anchor\":\"x\",\"domain\":[0.0,1.0],\"title\":{\"text\":\"\\ud3c9\\ub2f9\\uac70\\ub798\\uae08\\uc561\"}},\"legend\":{\"title\":{\"text\":\"\\uac70\\ub798\\uc2dc\\uae30\"},\"tracegroupgap\":0},\"margin\":{\"t\":60}},                        {\"responsive\": true}                    ).then(function(){\n",
       "                            \n",
       "var gd = document.getElementById('bd3c0d42-8f13-4994-8c76-bf5a108cd38a');\n",
       "var x = new MutationObserver(function (mutations, observer) {{\n",
       "        var display = window.getComputedStyle(gd).display;\n",
       "        if (!display || display === 'none') {{\n",
       "            console.log([gd, 'removed!']);\n",
       "            Plotly.purge(gd);\n",
       "            observer.disconnect();\n",
       "        }}\n",
       "}});\n",
       "\n",
       "// Listen for the removal of the full notebook cells\n",
       "var notebookContainer = gd.closest('#notebook-container');\n",
       "if (notebookContainer) {{\n",
       "    x.observe(notebookContainer, {childList: true});\n",
       "}}\n",
       "\n",
       "// Listen for the clearing of the current output cell\n",
       "var outputEl = gd.closest('.output');\n",
       "if (outputEl) {{\n",
       "    x.observe(outputEl, {childList: true});\n",
       "}}\n",
       "\n",
       "                        })                };                });            </script>        </div>"
      ]
     },
     "metadata": {},
     "output_type": "display_data"
    }
   ],
   "source": [
    "import plotly.express as px\n",
    "px.line(time_gubun, x='시군구명', y='평당거래금액', color='거래시기')"
   ]
  },
  {
   "cell_type": "code",
   "execution_count": 41,
   "metadata": {},
   "outputs": [
    {
     "name": "stdout",
     "output_type": "stream",
     "text": [
      "Collecting foliumNote: you may need to restart the kernel to use updated packages.\n",
      "\n",
      "  Downloading folium-0.12.1.post1-py2.py3-none-any.whl (95 kB)\n",
      "     -------------------------------------- 95.0/95.0 kB 605.5 kB/s eta 0:00:00\n",
      "Requirement already satisfied: jinja2>=2.9 in c:\\users\\jyc\\appdata\\local\\packages\\pythonsoftwarefoundation.python.3.9_qbz5n2kfra8p0\\localcache\\local-packages\\python39\\site-packages (from folium) (3.1.2)\n",
      "Requirement already satisfied: numpy in c:\\users\\jyc\\appdata\\local\\packages\\pythonsoftwarefoundation.python.3.9_qbz5n2kfra8p0\\localcache\\local-packages\\python39\\site-packages (from folium) (1.21.1)\n",
      "Requirement already satisfied: requests in c:\\users\\jyc\\appdata\\local\\packages\\pythonsoftwarefoundation.python.3.9_qbz5n2kfra8p0\\localcache\\local-packages\\python39\\site-packages (from folium) (2.28.1)\n",
      "Collecting branca>=0.3.0\n",
      "  Downloading branca-0.5.0-py3-none-any.whl (24 kB)\n",
      "Requirement already satisfied: MarkupSafe>=2.0 in c:\\users\\jyc\\appdata\\local\\packages\\pythonsoftwarefoundation.python.3.9_qbz5n2kfra8p0\\localcache\\local-packages\\python39\\site-packages (from jinja2>=2.9->folium) (2.1.1)\n",
      "Requirement already satisfied: urllib3<1.27,>=1.21.1 in c:\\users\\jyc\\appdata\\local\\packages\\pythonsoftwarefoundation.python.3.9_qbz5n2kfra8p0\\localcache\\local-packages\\python39\\site-packages (from requests->folium) (1.26.12)\n",
      "Requirement already satisfied: certifi>=2017.4.17 in c:\\users\\jyc\\appdata\\local\\packages\\pythonsoftwarefoundation.python.3.9_qbz5n2kfra8p0\\localcache\\local-packages\\python39\\site-packages (from requests->folium) (2022.6.15)\n",
      "Requirement already satisfied: idna<4,>=2.5 in c:\\users\\jyc\\appdata\\local\\packages\\pythonsoftwarefoundation.python.3.9_qbz5n2kfra8p0\\localcache\\local-packages\\python39\\site-packages (from requests->folium) (3.3)\n",
      "Requirement already satisfied: charset-normalizer<3,>=2 in c:\\users\\jyc\\appdata\\local\\packages\\pythonsoftwarefoundation.python.3.9_qbz5n2kfra8p0\\localcache\\local-packages\\python39\\site-packages (from requests->folium) (2.1.1)\n",
      "Installing collected packages: branca, folium\n",
      "Successfully installed branca-0.5.0 folium-0.12.1.post1\n"
     ]
    }
   ],
   "source": [
    "pip install folium"
   ]
  },
  {
   "cell_type": "markdown",
   "metadata": {},
   "source": [
    "# 지역별 총 평균 평당거래금액(지도 이용)"
   ]
  },
  {
   "cell_type": "code",
   "execution_count": 117,
   "metadata": {},
   "outputs": [
    {
     "data": {
      "text/html": [
       "<div style=\"width:100%;\"><div style=\"position:relative;width:100%;height:0;padding-bottom:60%;\"><span style=\"color:#565656\">Make this Notebook Trusted to load map: File -> Trust Notebook</span><iframe srcdoc=\"&lt;!DOCTYPE html&gt;\n",
       "&lt;head&gt;    \n",
       "    &lt;meta http-equiv=&quot;content-type&quot; content=&quot;text/html; charset=UTF-8&quot; /&gt;\n",
       "    \n",
       "        &lt;script&gt;\n",
       "            L_NO_TOUCH = false;\n",
       "            L_DISABLE_3D = false;\n",
       "        &lt;/script&gt;\n",
       "    \n",
       "    &lt;style&gt;html, body {width: 100%;height: 100%;margin: 0;padding: 0;}&lt;/style&gt;\n",
       "    &lt;style&gt;#map {position:absolute;top:0;bottom:0;right:0;left:0;}&lt;/style&gt;\n",
       "    &lt;script src=&quot;https://cdn.jsdelivr.net/npm/leaflet@1.6.0/dist/leaflet.js&quot;&gt;&lt;/script&gt;\n",
       "    &lt;script src=&quot;https://code.jquery.com/jquery-1.12.4.min.js&quot;&gt;&lt;/script&gt;\n",
       "    &lt;script src=&quot;https://maxcdn.bootstrapcdn.com/bootstrap/3.2.0/js/bootstrap.min.js&quot;&gt;&lt;/script&gt;\n",
       "    &lt;script src=&quot;https://cdnjs.cloudflare.com/ajax/libs/Leaflet.awesome-markers/2.0.2/leaflet.awesome-markers.js&quot;&gt;&lt;/script&gt;\n",
       "    &lt;link rel=&quot;stylesheet&quot; href=&quot;https://cdn.jsdelivr.net/npm/leaflet@1.6.0/dist/leaflet.css&quot;/&gt;\n",
       "    &lt;link rel=&quot;stylesheet&quot; href=&quot;https://maxcdn.bootstrapcdn.com/bootstrap/3.2.0/css/bootstrap.min.css&quot;/&gt;\n",
       "    &lt;link rel=&quot;stylesheet&quot; href=&quot;https://maxcdn.bootstrapcdn.com/bootstrap/3.2.0/css/bootstrap-theme.min.css&quot;/&gt;\n",
       "    &lt;link rel=&quot;stylesheet&quot; href=&quot;https://maxcdn.bootstrapcdn.com/font-awesome/4.6.3/css/font-awesome.min.css&quot;/&gt;\n",
       "    &lt;link rel=&quot;stylesheet&quot; href=&quot;https://cdnjs.cloudflare.com/ajax/libs/Leaflet.awesome-markers/2.0.2/leaflet.awesome-markers.css&quot;/&gt;\n",
       "    &lt;link rel=&quot;stylesheet&quot; href=&quot;https://cdn.jsdelivr.net/gh/python-visualization/folium/folium/templates/leaflet.awesome.rotate.min.css&quot;/&gt;\n",
       "    \n",
       "            &lt;meta name=&quot;viewport&quot; content=&quot;width=device-width,\n",
       "                initial-scale=1.0, maximum-scale=1.0, user-scalable=no&quot; /&gt;\n",
       "            &lt;style&gt;\n",
       "                #map_b44209bdef0f6e2dbfbe8ba80a6927d8 {\n",
       "                    position: relative;\n",
       "                    width: 100.0%;\n",
       "                    height: 100.0%;\n",
       "                    left: 0.0%;\n",
       "                    top: 0.0%;\n",
       "                }\n",
       "            &lt;/style&gt;\n",
       "        \n",
       "    &lt;script src=&quot;https://cdnjs.cloudflare.com/ajax/libs/d3/3.5.5/d3.min.js&quot;&gt;&lt;/script&gt;\n",
       "&lt;/head&gt;\n",
       "&lt;body&gt;    \n",
       "    \n",
       "            &lt;div class=&quot;folium-map&quot; id=&quot;map_b44209bdef0f6e2dbfbe8ba80a6927d8&quot; &gt;&lt;/div&gt;\n",
       "        \n",
       "&lt;/body&gt;\n",
       "&lt;script&gt;    \n",
       "    \n",
       "            var map_b44209bdef0f6e2dbfbe8ba80a6927d8 = L.map(\n",
       "                &quot;map_b44209bdef0f6e2dbfbe8ba80a6927d8&quot;,\n",
       "                {\n",
       "                    center: [37.5492, 127.0129],\n",
       "                    crs: L.CRS.EPSG3857,\n",
       "                    zoom: 12,\n",
       "                    zoomControl: true,\n",
       "                    preferCanvas: false,\n",
       "                }\n",
       "            );\n",
       "\n",
       "            \n",
       "\n",
       "        \n",
       "    \n",
       "            var tile_layer_4beba8c32c4ff34496c6919dbe5f86df = L.tileLayer(\n",
       "                &quot;https://{s}.tile.openstreetmap.org/{z}/{x}/{y}.png&quot;,\n",
       "                {&quot;attribution&quot;: &quot;Data by \\u0026copy; \\u003ca href=\\&quot;http://openstreetmap.org\\&quot;\\u003eOpenStreetMap\\u003c/a\\u003e, under \\u003ca href=\\&quot;http://www.openstreetmap.org/copyright\\&quot;\\u003eODbL\\u003c/a\\u003e.&quot;, &quot;detectRetina&quot;: false, &quot;maxNativeZoom&quot;: 18, &quot;maxZoom&quot;: 18, &quot;minZoom&quot;: 0, &quot;noWrap&quot;: false, &quot;opacity&quot;: 1, &quot;subdomains&quot;: &quot;abc&quot;, &quot;tms&quot;: false}\n",
       "            ).addTo(map_b44209bdef0f6e2dbfbe8ba80a6927d8);\n",
       "        \n",
       "    \n",
       "            var choropleth_f6105ff2f3ce1abec716f1f2db7456af = L.featureGroup(\n",
       "                {}\n",
       "            ).addTo(map_b44209bdef0f6e2dbfbe8ba80a6927d8);\n",
       "        \n",
       "    \n",
       "        function geo_json_3f1ad6d06c37019b6b560b10d62956c8_styler(feature) {\n",
       "            switch(feature.properties.code) {\n",
       "                case 11250: case 11160: case 11150: case 11130: case 11060: case 11020: case 11010: \n",
       "                    return {&quot;color&quot;: &quot;black&quot;, &quot;fillColor&quot;: &quot;#fed976&quot;, &quot;fillOpacity&quot;: 0.5, &quot;opacity&quot;: 0.5, &quot;weight&quot;: 1};\n",
       "                case 11240: case 11040: case 11030: \n",
       "                    return {&quot;color&quot;: &quot;black&quot;, &quot;fillColor&quot;: &quot;#fd8d3c&quot;, &quot;fillOpacity&quot;: 0.5, &quot;opacity&quot;: 0.5, &quot;weight&quot;: 1};\n",
       "                case 11230: case 11220: \n",
       "                    return {&quot;color&quot;: &quot;black&quot;, &quot;fillColor&quot;: &quot;#bd0026&quot;, &quot;fillOpacity&quot;: 0.5, &quot;opacity&quot;: 0.5, &quot;weight&quot;: 1};\n",
       "                case 11200: case 11190: case 11140: case 11050: \n",
       "                    return {&quot;color&quot;: &quot;black&quot;, &quot;fillColor&quot;: &quot;#feb24c&quot;, &quot;fillOpacity&quot;: 0.5, &quot;opacity&quot;: 0.5, &quot;weight&quot;: 1};\n",
       "                default:\n",
       "                    return {&quot;color&quot;: &quot;black&quot;, &quot;fillColor&quot;: &quot;#ffffb2&quot;, &quot;fillOpacity&quot;: 0.5, &quot;opacity&quot;: 0.5, &quot;weight&quot;: 1};\n",
       "            }\n",
       "        }\n",
       "\n",
       "        function geo_json_3f1ad6d06c37019b6b560b10d62956c8_onEachFeature(feature, layer) {\n",
       "            layer.on({\n",
       "            });\n",
       "        };\n",
       "        var geo_json_3f1ad6d06c37019b6b560b10d62956c8 = L.geoJson(null, {\n",
       "                onEachFeature: geo_json_3f1ad6d06c37019b6b560b10d62956c8_onEachFeature,\n",
       "            \n",
       "                style: geo_json_3f1ad6d06c37019b6b560b10d62956c8_styler,\n",
       "        });\n",
       "\n",
       "        function geo_json_3f1ad6d06c37019b6b560b10d62956c8_add (data) {\n",
       "            geo_json_3f1ad6d06c37019b6b560b10d62956c8\n",
       "                .addData(data)\n",
       "                .addTo(choropleth_f6105ff2f3ce1abec716f1f2db7456af);\n",
       "        }\n",
       "            geo_json_3f1ad6d06c37019b6b560b10d62956c8_add({&quot;features&quot;: [{&quot;geometry&quot;: {&quot;coordinates&quot;: [[[127.11519584981606, 37.557533180704915], [127.1116764203608, 37.540669955324965], [127.12123165719615, 37.52528270089], [127.14672806823502, 37.51415680680291], [127.16530984307447, 37.54221851258693], [127.18408792330152, 37.55814280369575], [127.16683184366129, 37.57672487388627], [127.11519584981606, 37.557533180704915]]], &quot;type&quot;: &quot;Polygon&quot;}, &quot;properties&quot;: {&quot;base_year&quot;: 2013, &quot;code&quot;: 11250, &quot;name&quot;: &quot;\\uac15\\ub3d9\\uad6c&quot;, &quot;name_eng&quot;: &quot;Gangdong-gu&quot;}, &quot;type&quot;: &quot;Feature&quot;}, {&quot;geometry&quot;: {&quot;coordinates&quot;: [[[127.0690698130372, 37.522279423505026], [127.0719146000724, 37.50224013587669], [127.11117085201238, 37.485708381512445], [127.12440571080893, 37.46240445587048], [127.14206058413274, 37.47089819098501], [127.1634944215765, 37.497445406097484], [127.14672806823502, 37.51415680680291], [127.12123165719615, 37.52528270089], [127.1116764203608, 37.540669955324965], [127.10087519791962, 37.524841220167055], [127.0690698130372, 37.522279423505026]]], &quot;type&quot;: &quot;Polygon&quot;}, &quot;properties&quot;: {&quot;base_year&quot;: 2013, &quot;code&quot;: 11240, &quot;name&quot;: &quot;\\uc1a1\\ud30c\\uad6c&quot;, &quot;name_eng&quot;: &quot;Songpa-gu&quot;}, &quot;type&quot;: &quot;Feature&quot;}, {&quot;geometry&quot;: {&quot;coordinates&quot;: [[[127.05867359288398, 37.52629974922568], [127.02302831890559, 37.53231899582663], [127.01397119667513, 37.52503988289669], [127.03621915098798, 37.48175802427603], [127.0559170481904, 37.4659228914077], [127.08640440578156, 37.472697935184655], [127.09842759318751, 37.45862253857461], [127.12440571080893, 37.46240445587048], [127.11117085201238, 37.485708381512445], [127.0719146000724, 37.50224013587669], [127.0690698130372, 37.522279423505026], [127.05867359288398, 37.52629974922568]]], &quot;type&quot;: &quot;Polygon&quot;}, &quot;properties&quot;: {&quot;base_year&quot;: 2013, &quot;code&quot;: 11230, &quot;name&quot;: &quot;\\uac15\\ub0a8\\uad6c&quot;, &quot;name_eng&quot;: &quot;Gangnam-gu&quot;}, &quot;type&quot;: &quot;Feature&quot;}, {&quot;geometry&quot;: {&quot;coordinates&quot;: [[[127.01397119667513, 37.52503988289669], [126.98223807916081, 37.509314966770326], [126.98367668291802, 37.473856492692086], [126.99072073195462, 37.455326143310025], [127.03881782597922, 37.45382039851715], [127.04957232987142, 37.42805836845694], [127.06778107605433, 37.426197424057314], [127.09046928565951, 37.44296826114185], [127.09842759318751, 37.45862253857461], [127.08640440578156, 37.472697935184655], [127.0559170481904, 37.4659228914077], [127.03621915098798, 37.48175802427603], [127.01397119667513, 37.52503988289669]]], &quot;type&quot;: &quot;Polygon&quot;}, &quot;properties&quot;: {&quot;base_year&quot;: 2013, &quot;code&quot;: 11220, &quot;name&quot;: &quot;\\uc11c\\ucd08\\uad6c&quot;, &quot;name_eng&quot;: &quot;Seocho-gu&quot;}, &quot;type&quot;: &quot;Feature&quot;}, {&quot;geometry&quot;: {&quot;coordinates&quot;: [[[126.98367668291802, 37.473856492692086], [126.9725891850662, 37.472561363278125], [126.94922661389508, 37.49125437495649], [126.90531975801812, 37.48218087575429], [126.90156094129895, 37.47753842789901], [126.9167728146601, 37.45490566423789], [126.93084408056525, 37.447382928333994], [126.95000001010182, 37.43613451165719], [126.96520439085143, 37.438249784006246], [126.99072073195462, 37.455326143310025], [126.98367668291802, 37.473856492692086]]], &quot;type&quot;: &quot;Polygon&quot;}, &quot;properties&quot;: {&quot;base_year&quot;: 2013, &quot;code&quot;: 11210, &quot;name&quot;: &quot;\\uad00\\uc545\\uad6c&quot;, &quot;name_eng&quot;: &quot;Gwanak-gu&quot;}, &quot;type&quot;: &quot;Feature&quot;}, {&quot;geometry&quot;: {&quot;coordinates&quot;: [[[126.98223807916081, 37.509314966770326], [126.95249990298159, 37.51722500741813], [126.92810628828279, 37.51329595732015], [126.92177893174825, 37.494889877415176], [126.90531975801812, 37.48218087575429], [126.94922661389508, 37.49125437495649], [126.9725891850662, 37.472561363278125], [126.98367668291802, 37.473856492692086], [126.98223807916081, 37.509314966770326]]], &quot;type&quot;: &quot;Polygon&quot;}, &quot;properties&quot;: {&quot;base_year&quot;: 2013, &quot;code&quot;: 11200, &quot;name&quot;: &quot;\\ub3d9\\uc791\\uad6c&quot;, &quot;name_eng&quot;: &quot;Dongjak-gu&quot;}, &quot;type&quot;: &quot;Feature&quot;}, {&quot;geometry&quot;: {&quot;coordinates&quot;: [[[126.89184663862764, 37.547373974997114], [126.88825757860099, 37.54079733630232], [126.88156402353862, 37.513970034765684], [126.89594776782485, 37.504675281309176], [126.90531975801812, 37.48218087575429], [126.92177893174825, 37.494889877415176], [126.92810628828279, 37.51329595732015], [126.95249990298159, 37.51722500741813], [126.94566733083212, 37.526617542453366], [126.89184663862764, 37.547373974997114]]], &quot;type&quot;: &quot;Polygon&quot;}, &quot;properties&quot;: {&quot;base_year&quot;: 2013, &quot;code&quot;: 11190, &quot;name&quot;: &quot;\\uc601\\ub4f1\\ud3ec\\uad6c&quot;, &quot;name_eng&quot;: &quot;Yeongdeungpo-gu&quot;}, &quot;type&quot;: &quot;Feature&quot;}, {&quot;geometry&quot;: {&quot;coordinates&quot;: [[[126.90156094129895, 37.47753842789901], [126.87683271502428, 37.482576591607305], [126.9025831711697, 37.434549366349124], [126.93084408056525, 37.447382928333994], [126.9167728146601, 37.45490566423789], [126.90156094129895, 37.47753842789901]]], &quot;type&quot;: &quot;Polygon&quot;}, &quot;properties&quot;: {&quot;base_year&quot;: 2013, &quot;code&quot;: 11180, &quot;name&quot;: &quot;\\uae08\\ucc9c\\uad6c&quot;, &quot;name_eng&quot;: &quot;Geumcheon-gu&quot;}, &quot;type&quot;: &quot;Feature&quot;}, {&quot;geometry&quot;: {&quot;coordinates&quot;: [[[126.82688081517314, 37.50548972232896], [126.82504736331406, 37.50302612640443], [126.82264796791348, 37.4878476492147], [126.83549485076196, 37.474098236975095], [126.84762676054953, 37.47146723936323], [126.87683271502428, 37.482576591607305], [126.90156094129895, 37.47753842789901], [126.90531975801812, 37.48218087575429], [126.89594776782485, 37.504675281309176], [126.88156402353862, 37.513970034765684], [126.82688081517314, 37.50548972232896]]], &quot;type&quot;: &quot;Polygon&quot;}, &quot;properties&quot;: {&quot;base_year&quot;: 2013, &quot;code&quot;: 11170, &quot;name&quot;: &quot;\\uad6c\\ub85c\\uad6c&quot;, &quot;name_eng&quot;: &quot;Guro-gu&quot;}, &quot;type&quot;: &quot;Feature&quot;}, {&quot;geometry&quot;: {&quot;coordinates&quot;: [[[126.79575768552907, 37.57881087633202], [126.76979180579352, 37.55139183008809], [126.77324417717703, 37.5459123450554], [126.8242331426722, 37.53788078753248], [126.84257291943153, 37.52373707805596], [126.86610073476395, 37.52699964144669], [126.86637464321238, 37.54859191094823], [126.88825757860099, 37.54079733630232], [126.89184663862764, 37.547373974997114], [126.85984199399667, 37.571847855292745], [126.82251438477105, 37.5880430810082], [126.80702115023597, 37.60123001013228], [126.79575768552907, 37.57881087633202]]], &quot;type&quot;: &quot;Polygon&quot;}, &quot;properties&quot;: {&quot;base_year&quot;: 2013, &quot;code&quot;: 11160, &quot;name&quot;: &quot;\\uac15\\uc11c\\uad6c&quot;, &quot;name_eng&quot;: &quot;Gangseo-gu&quot;}, &quot;type&quot;: &quot;Feature&quot;}, {&quot;geometry&quot;: {&quot;coordinates&quot;: [[[126.8242331426722, 37.53788078753248], [126.82688081517314, 37.50548972232896], [126.88156402353862, 37.513970034765684], [126.88825757860099, 37.54079733630232], [126.86637464321238, 37.54859191094823], [126.86610073476395, 37.52699964144669], [126.84257291943153, 37.52373707805596], [126.8242331426722, 37.53788078753248]]], &quot;type&quot;: &quot;Polygon&quot;}, &quot;properties&quot;: {&quot;base_year&quot;: 2013, &quot;code&quot;: 11150, &quot;name&quot;: &quot;\\uc591\\ucc9c\\uad6c&quot;, &quot;name_eng&quot;: &quot;Yangcheon-gu&quot;}, &quot;type&quot;: &quot;Feature&quot;}, {&quot;geometry&quot;: {&quot;coordinates&quot;: [[[126.90522065831053, 37.57409700522574], [126.88433284773288, 37.588143322880526], [126.85984199399667, 37.571847855292745], [126.89184663862764, 37.547373974997114], [126.94566733083212, 37.526617542453366], [126.96448570553055, 37.548705692021635], [126.96358226710812, 37.55605635475154], [126.93898161798973, 37.552310003728124], [126.90522065831053, 37.57409700522574]]], &quot;type&quot;: &quot;Polygon&quot;}, &quot;properties&quot;: {&quot;base_year&quot;: 2013, &quot;code&quot;: 11140, &quot;name&quot;: &quot;\\ub9c8\\ud3ec\\uad6c&quot;, &quot;name_eng&quot;: &quot;Mapo-gu&quot;}, &quot;type&quot;: &quot;Feature&quot;}, {&quot;geometry&quot;: {&quot;coordinates&quot;: [[[126.9524752030572, 37.60508692737045], [126.90522065831053, 37.57409700522574], [126.93898161798973, 37.552310003728124], [126.96358226710812, 37.55605635475154], [126.96873633279075, 37.56313604690827], [126.95565425846463, 37.576080790881456], [126.9524752030572, 37.60508692737045]]], &quot;type&quot;: &quot;Polygon&quot;}, &quot;properties&quot;: {&quot;base_year&quot;: 2013, &quot;code&quot;: 11130, &quot;name&quot;: &quot;\\uc11c\\ub300\\ubb38\\uad6c&quot;, &quot;name_eng&quot;: &quot;Seodaemun-gu&quot;}, &quot;type&quot;: &quot;Feature&quot;}, {&quot;geometry&quot;: {&quot;coordinates&quot;: [[[126.9738864128702, 37.62949634786888], [126.956473797387, 37.652480737339445], [126.91455481429648, 37.64150050996935], [126.90303066177668, 37.609977911401344], [126.90396681003595, 37.59227403419942], [126.88433284773288, 37.588143322880526], [126.90522065831053, 37.57409700522574], [126.9524752030572, 37.60508692737045], [126.95427017006129, 37.622033431339425], [126.9738864128702, 37.62949634786888]]], &quot;type&quot;: &quot;Polygon&quot;}, &quot;properties&quot;: {&quot;base_year&quot;: 2013, &quot;code&quot;: 11120, &quot;name&quot;: &quot;\\uc740\\ud3c9\\uad6c&quot;, &quot;name_eng&quot;: &quot;Eunpyeong-gu&quot;}, &quot;type&quot;: &quot;Feature&quot;}, {&quot;geometry&quot;: {&quot;coordinates&quot;: [[[127.0838752703195, 37.69359534202034], [127.05288479710485, 37.68423857084347], [127.05800075220091, 37.64318263878276], [127.04358800895609, 37.62848931298715], [127.05209373568619, 37.62164065487782], [127.07351243825278, 37.61283660342313], [127.10782277688129, 37.61804244241069], [127.11326795855199, 37.639622905315925], [127.09440766298717, 37.64713490473045], [127.09706391309695, 37.686383719372294], [127.0838752703195, 37.69359534202034]]], &quot;type&quot;: &quot;Polygon&quot;}, &quot;properties&quot;: {&quot;base_year&quot;: 2013, &quot;code&quot;: 11110, &quot;name&quot;: &quot;\\ub178\\uc6d0\\uad6c&quot;, &quot;name_eng&quot;: &quot;Nowon-gu&quot;}, &quot;type&quot;: &quot;Feature&quot;}, {&quot;geometry&quot;: {&quot;coordinates&quot;: [[[127.05288479710485, 37.68423857084347], [127.01795099203432, 37.69824412775662], [127.01039666042071, 37.681894589603594], [127.02062116141389, 37.667173575971205], [127.01465935892466, 37.64943687496812], [127.04358800895609, 37.62848931298715], [127.05800075220091, 37.64318263878276], [127.05288479710485, 37.68423857084347]]], &quot;type&quot;: &quot;Polygon&quot;}, &quot;properties&quot;: {&quot;base_year&quot;: 2013, &quot;code&quot;: 11100, &quot;name&quot;: &quot;\\ub3c4\\ubd09\\uad6c&quot;, &quot;name_eng&quot;: &quot;Dobong-gu&quot;}, &quot;type&quot;: &quot;Feature&quot;}, {&quot;geometry&quot;: {&quot;coordinates&quot;: [[[126.99383903424, 37.676681761199085], [126.9817452676551, 37.65209769387776], [126.98672705513869, 37.63377641288196], [127.0128154749523, 37.613652243470256], [127.03892400992301, 37.609715611023816], [127.05209373568619, 37.62164065487782], [127.04358800895609, 37.62848931298715], [127.01465935892466, 37.64943687496812], [127.02062116141389, 37.667173575971205], [127.01039666042071, 37.681894589603594], [126.99383903424, 37.676681761199085]]], &quot;type&quot;: &quot;Polygon&quot;}, &quot;properties&quot;: {&quot;base_year&quot;: 2013, &quot;code&quot;: 11090, &quot;name&quot;: &quot;\\uac15\\ubd81\\uad6c&quot;, &quot;name_eng&quot;: &quot;Gangbuk-gu&quot;}, &quot;type&quot;: &quot;Feature&quot;}, {&quot;geometry&quot;: {&quot;coordinates&quot;: [[[126.977175406416, 37.62859715400388], [126.98879865992384, 37.6118927319756], [126.99348293358314, 37.588565457216156], [127.02527254528003, 37.57524616245249], [127.042705222094, 37.59239437593391], [127.07382707099227, 37.60401928986419], [127.07351243825278, 37.61283660342313], [127.05209373568619, 37.62164065487782], [127.03892400992301, 37.609715611023816], [127.0128154749523, 37.613652243470256], [126.98672705513869, 37.63377641288196], [126.977175406416, 37.62859715400388]]], &quot;type&quot;: &quot;Polygon&quot;}, &quot;properties&quot;: {&quot;base_year&quot;: 2013, &quot;code&quot;: 11080, &quot;name&quot;: &quot;\\uc131\\ubd81\\uad6c&quot;, &quot;name_eng&quot;: &quot;Seongbuk-gu&quot;}, &quot;type&quot;: &quot;Feature&quot;}, {&quot;geometry&quot;: {&quot;coordinates&quot;: [[[127.07351243825278, 37.61283660342313], [127.07382707099227, 37.60401928986419], [127.08068541280403, 37.56906425519017], [127.10304174249214, 37.57076342290955], [127.1201246020114, 37.60178457598188], [127.10782277688129, 37.61804244241069], [127.07351243825278, 37.61283660342313]]], &quot;type&quot;: &quot;Polygon&quot;}, &quot;properties&quot;: {&quot;base_year&quot;: 2013, &quot;code&quot;: 11070, &quot;name&quot;: &quot;\\uc911\\ub791\\uad6c&quot;, &quot;name_eng&quot;: &quot;Jungnang-gu&quot;}, &quot;type&quot;: &quot;Feature&quot;}, {&quot;geometry&quot;: {&quot;coordinates&quot;: [[[127.02527254528003, 37.57524616245249], [127.02547266349976, 37.568943552237734], [127.05005601081567, 37.567577612590846], [127.07421053024362, 37.55724769712085], [127.08068541280403, 37.56906425519017], [127.07382707099227, 37.60401928986419], [127.042705222094, 37.59239437593391], [127.02527254528003, 37.57524616245249]]], &quot;type&quot;: &quot;Polygon&quot;}, &quot;properties&quot;: {&quot;base_year&quot;: 2013, &quot;code&quot;: 11060, &quot;name&quot;: &quot;\\ub3d9\\ub300\\ubb38\\uad6c&quot;, &quot;name_eng&quot;: &quot;Dongdaemun-gu&quot;}, &quot;type&quot;: &quot;Feature&quot;}, {&quot;geometry&quot;: {&quot;coordinates&quot;: [[[127.08068541280403, 37.56906425519017], [127.07421053024362, 37.55724769712085], [127.05867359288398, 37.52629974922568], [127.0690698130372, 37.522279423505026], [127.10087519791962, 37.524841220167055], [127.1116764203608, 37.540669955324965], [127.11519584981606, 37.557533180704915], [127.10304174249214, 37.57076342290955], [127.08068541280403, 37.56906425519017]]], &quot;type&quot;: &quot;Polygon&quot;}, &quot;properties&quot;: {&quot;base_year&quot;: 2013, &quot;code&quot;: 11050, &quot;name&quot;: &quot;\\uad11\\uc9c4\\uad6c&quot;, &quot;name_eng&quot;: &quot;Gwangjin-gu&quot;}, &quot;type&quot;: &quot;Feature&quot;}, {&quot;geometry&quot;: {&quot;coordinates&quot;: [[[127.02547266349976, 37.568943552237734], [127.01070894177482, 37.54118048964762], [127.02302831890559, 37.53231899582663], [127.05867359288398, 37.52629974922568], [127.07421053024362, 37.55724769712085], [127.05005601081567, 37.567577612590846], [127.02547266349976, 37.568943552237734]]], &quot;type&quot;: &quot;Polygon&quot;}, &quot;properties&quot;: {&quot;base_year&quot;: 2013, &quot;code&quot;: 11040, &quot;name&quot;: &quot;\\uc131\\ub3d9\\uad6c&quot;, &quot;name_eng&quot;: &quot;Seongdong-gu&quot;}, &quot;type&quot;: &quot;Feature&quot;}, {&quot;geometry&quot;: {&quot;coordinates&quot;: [[[127.01070894177482, 37.54118048964762], [126.98752996903328, 37.55094818807139], [126.96448570553055, 37.548705692021635], [126.94566733083212, 37.526617542453366], [126.95249990298159, 37.51722500741813], [126.98223807916081, 37.509314966770326], [127.01397119667513, 37.52503988289669], [127.02302831890559, 37.53231899582663], [127.01070894177482, 37.54118048964762]]], &quot;type&quot;: &quot;Polygon&quot;}, &quot;properties&quot;: {&quot;base_year&quot;: 2013, &quot;code&quot;: 11030, &quot;name&quot;: &quot;\\uc6a9\\uc0b0\\uad6c&quot;, &quot;name_eng&quot;: &quot;Yongsan-gu&quot;}, &quot;type&quot;: &quot;Feature&quot;}, {&quot;geometry&quot;: {&quot;coordinates&quot;: [[[127.02547266349976, 37.568943552237734], [126.96873633279075, 37.56313604690827], [126.96358226710812, 37.55605635475154], [126.96448570553055, 37.548705692021635], [126.98752996903328, 37.55094818807139], [127.01070894177482, 37.54118048964762], [127.02547266349976, 37.568943552237734]]], &quot;type&quot;: &quot;Polygon&quot;}, &quot;properties&quot;: {&quot;base_year&quot;: 2013, &quot;code&quot;: 11020, &quot;name&quot;: &quot;\\uc911\\uad6c&quot;, &quot;name_eng&quot;: &quot;Jung-gu&quot;}, &quot;type&quot;: &quot;Feature&quot;}, {&quot;geometry&quot;: {&quot;coordinates&quot;: [[[126.9738864128702, 37.62949634786888], [126.95427017006129, 37.622033431339425], [126.9524752030572, 37.60508692737045], [126.95565425846463, 37.576080790881456], [126.96873633279075, 37.56313604690827], [127.02547266349976, 37.568943552237734], [127.02527254528003, 37.57524616245249], [126.99348293358314, 37.588565457216156], [126.98879865992384, 37.6118927319756], [126.977175406416, 37.62859715400388], [126.9738864128702, 37.62949634786888]]], &quot;type&quot;: &quot;Polygon&quot;}, &quot;properties&quot;: {&quot;base_year&quot;: 2013, &quot;code&quot;: 11010, &quot;name&quot;: &quot;\\uc885\\ub85c\\uad6c&quot;, &quot;name_eng&quot;: &quot;Jongno-gu&quot;}, &quot;type&quot;: &quot;Feature&quot;}], &quot;type&quot;: &quot;FeatureCollection&quot;});\n",
       "\n",
       "        \n",
       "    \n",
       "    var color_map_f6f31f3f8e22119f9c20f17e5f3ea567 = {};\n",
       "\n",
       "    \n",
       "    color_map_f6f31f3f8e22119f9c20f17e5f3ea567.color = d3.scale.threshold()\n",
       "              .domain([2394.245660162953, 2404.0645608612244, 2413.883461559496, 2423.7023622577676, 2433.521262956039, 2443.340163654311, 2453.1590643525824, 2462.9779650508544, 2472.796865749126, 2482.6157664473976, 2492.434667145669, 2502.253567843941, 2512.0724685422124, 2521.891369240484, 2531.7102699387556, 2541.529170637027, 2551.3480713352988, 2561.1669720335703, 2570.985872731842, 2580.8047734301135, 2590.623674128385, 2600.442574826657, 2610.2614755249288, 2620.0803762232003, 2629.899276921472, 2639.7181776197435, 2649.537078318015, 2659.3559790162867, 2669.1748797145583, 2678.99378041283, 2688.8126811111015, 2698.631581809373, 2708.4504825076447, 2718.2693832059167, 2728.0882839041883, 2737.90718460246, 2747.7260853007315, 2757.544985999003, 2767.3638866972747, 2777.1827873955463, 2787.001688093818, 2796.8205887920894, 2806.639489490361, 2816.4583901886326, 2826.277290886904, 2836.096191585176, 2845.9150922834474, 2855.733992981719, 2865.552893679991, 2875.3717943782626, 2885.190695076534, 2895.009595774806, 2904.8284964730774, 2914.647397171349, 2924.4662978696206, 2934.285198567892, 2944.1040992661638, 2953.9229999644353, 2963.741900662707, 2973.5608013609785, 2983.37970205925, 2993.198602757522, 3003.0175034557933, 3012.8364041540653, 3022.655304852337, 3032.4742055506085, 3042.29310624888, 3052.1120069471517, 3061.9309076454233, 3071.749808343695, 3081.5687090419665, 3091.387609740238, 3101.2065104385097, 3111.0254111367813, 3120.8443118350533, 3130.6632125333244, 3140.4821132315965, 3150.301013929868, 3160.1199146281397, 3169.9388153264113, 3179.757716024683, 3189.5766167229544, 3199.395517421226, 3209.2144181194976, 3219.033318817769, 3228.852219516041, 3238.6711202143124, 3248.4900209125844, 3258.3089216108556, 3268.1278223091276, 3277.946723007399, 3287.765623705671, 3297.5845244039424, 3307.403425102214, 3317.2223258004856, 3327.041226498757, 3336.8601271970288, 3346.6790278953004, 3356.497928593572, 3366.3168292918435, 3376.1357299901156, 3385.9546306883867, 3395.7735313866588, 3405.59243208493, 3415.411332783202, 3425.2302334814735, 3435.049134179745, 3444.8680348780167, 3454.6869355762883, 3464.50583627456, 3474.3247369728315, 3484.143637671103, 3493.9625383693747, 3503.7814390676467, 3513.600339765918, 3523.41924046419, 3533.2381411624615, 3543.057041860733, 3552.875942559004, 3562.6948432572763, 3572.5137439555474, 3582.3326446538194, 3592.151545352091, 3601.9704460503626, 3611.789346748634, 3621.608247446906, 3631.427148145178, 3641.246048843449, 3651.064949541721, 3660.883850239992, 3670.702750938264, 3680.5216516365354, 3690.3405523348074, 3700.1594530330785, 3709.9783537313506, 3719.797254429622, 3729.6161551278938, 3739.4350558261654, 3749.253956524437, 3759.072857222709, 3768.89175792098, 3778.710658619252, 3788.5295593175233, 3798.3484600157954, 3808.1673607140665, 3817.9862614123385, 3827.80516211061, 3837.6240628088817, 3847.4429635071533, 3857.261864205425, 3867.0807649036965, 3876.899665601968, 3886.71856630024, 3896.5374669985113, 3906.3563676967833, 3916.1752683950544, 3925.9941690933265, 3935.8130697915976, 3945.6319704898697, 3955.4508711881413, 3965.269771886413, 3975.0886725846844, 3984.907573282956, 3994.7264739812276, 4004.545374679499, 4014.3642753777713, 4024.1831760760424, 4034.0020767743144, 4043.8209774725856, 4053.6398781708576, 4063.4587788691288, 4073.277679567401, 4083.0965802656724, 4092.915480963944, 4102.734381662216, 4112.553282360487, 4122.372183058758, 4132.19108375703, 4142.009984455302, 4151.8288851535735, 4161.647785851846, 4171.466686550117, 4181.285587248389, 4191.10448794666, 4200.923388644932, 4210.742289343203, 4220.561190041475, 4230.380090739747, 4240.198991438018, 4250.017892136289, 4259.8367928345615, 4269.6556935328335, 4279.474594231105, 4289.293494929376, 4299.112395627648, 4308.93129632592, 4318.750197024191, 4328.569097722463, 4338.387998420734, 4348.206899119006, 4358.025799817278, 4367.844700515549, 4377.663601213821, 4387.482501912093, 4397.301402610365, 4407.120303308636, 4416.939204006907, 4426.758104705179, 4436.577005403451, 4446.395906101722, 4456.214806799994, 4466.033707498265, 4475.852608196537, 4485.671508894809, 4495.490409593081, 4505.309310291352, 4515.128210989624, 4524.947111687896, 4534.766012386167, 4544.584913084438, 4554.40381378271, 4564.222714480982, 4574.041615179253, 4583.860515877525, 4593.6794165757965, 4603.4983172740685, 4613.317217972341, 4623.136118670612, 4632.955019368883, 4642.773920067155, 4652.592820765427, 4662.411721463698, 4672.23062216197, 4682.049522860241, 4691.868423558513, 4701.687324256785, 4711.506224955056, 4721.325125653328, 4731.1440263516, 4740.962927049872, 4750.781827748142, 4760.600728446414, 4770.419629144686, 4780.238529842958, 4790.057430541229, 4799.8763312395, 4809.695231937772, 4819.514132636044, 4829.333033334316, 4839.151934032588, 4848.970834730859, 4858.789735429131, 4868.608636127403, 4878.427536825674, 4888.246437523945, 4898.065338222217, 4907.884238920489, 4917.70313961876, 4927.5220403170315, 4937.3409410153035, 4947.159841713576, 4956.978742411848, 4966.797643110118, 4976.61654380839, 4986.435444506662, 4996.254345204934, 5006.073245903204, 5015.892146601476, 5025.711047299748, 5035.52994799802, 5045.3488486962915, 5055.167749394563, 5064.986650092835, 5074.805550791107, 5084.624451489378, 5094.44335218765, 5104.262252885921, 5114.081153584193, 5123.900054282465, 5133.718954980736, 5143.537855679007, 5153.356756377279, 5163.1756570755515, 5172.994557773823, 5182.813458472094, 5192.632359170366, 5202.451259868638, 5212.27016056691, 5222.08906126518, 5231.907961963452, 5241.726862661724, 5251.545763359995, 5261.364664058267, 5271.1835647565385, 5281.002465454811, 5290.821366153083, 5300.640266851354, 5310.459167549625, 5320.278068247897, 5330.096968946169, 5339.91586964444, 5349.734770342712, 5359.553671040983, 5369.372571739255, 5379.191472437527, 5389.010373135799, 5398.82927383407, 5408.648174532342, 5418.467075230614, 5428.285975928884, 5438.104876627156, 5447.923777325428, 5457.7426780237, 5467.561578721971, 5477.380479420242, 5487.1993801185145, 5497.0182808167865, 5506.837181515058, 5516.65608221333, 5526.474982911601, 5536.293883609873, 5546.112784308145, 5555.931685006416, 5565.750585704687, 5575.569486402959, 5585.388387101231, 5595.207287799502, 5605.0261884977745, 5614.845089196046, 5624.663989894318, 5634.48289059259, 5644.30179129086, 5654.120691989132, 5663.939592687404, 5673.758493385676, 5683.577394083946, 5693.396294782218, 5703.21519548049, 5713.034096178762, 5722.852996877034, 5732.671897575305, 5742.490798273577, 5752.309698971849, 5762.12859967012, 5771.947500368392, 5781.766401066663, 5791.585301764935, 5801.404202463207, 5811.223103161478, 5821.0420038597495, 5830.8609045580215, 5840.679805256294, 5850.498705954565, 5860.317606652836, 5870.136507351108, 5879.95540804938, 5889.774308747652, 5899.593209445922, 5909.412110144194, 5919.231010842466, 5929.049911540738, 5938.8688122390095, 5948.687712937281, 5958.506613635553, 5968.325514333825, 5978.144415032096, 5987.963315730367, 5997.782216428639, 6007.601117126911, 6017.420017825182, 6027.238918523454, 6037.057819221725, 6046.876719919997, 6056.6956206182695, 6066.514521316541, 6076.333422014812, 6086.152322713084, 6095.971223411356, 6105.790124109627, 6115.609024807898, 6125.42792550617, 6135.246826204442, 6145.065726902714, 6154.8846276009845, 6164.7035282992565, 6174.522428997529, 6184.3413296958, 6194.160230394072, 6203.979131092343, 6213.798031790615, 6223.616932488887, 6233.435833187158, 6243.254733885429, 6253.073634583701, 6262.892535281973, 6272.7114359802445, 6282.5303366785165, 6292.349237376788, 6302.16813807506, 6311.987038773332, 6321.805939471603, 6331.624840169874, 6341.443740868146, 6351.262641566418, 6361.081542264688, 6370.90044296296, 6380.719343661232, 6390.5382443595045, 6400.357145057776, 6410.176045756047, 6419.994946454319, 6429.813847152591, 6439.632747850862, 6449.451648549134, 6459.270549247405, 6469.089449945677, 6478.908350643949, 6488.72725134222, 6498.5461520404915, 6508.365052738764, 6518.183953437036, 6528.002854135307, 6537.821754833579, 6547.64065553185, 6557.459556230122, 6567.278456928393, 6577.097357626665, 6586.916258324936, 6596.735159023208, 6606.55405972148, 6616.3729604197515, 6626.191861118024, 6636.010761816295, 6645.829662514566, 6655.648563212838, 6665.46746391111, 6675.286364609381, 6685.105265307653, 6694.924166005924, 6704.743066704195, 6714.561967402467, 6724.3808681007395, 6734.1997687990115, 6744.018669497283, 6753.837570195554, 6763.656470893826, 6773.475371592098, 6783.294272290369, 6793.113172988641, 6802.932073686912, 6812.750974385183, 6822.569875083455, 6832.388775781727, 6842.2076764799995, 6852.026577178271, 6861.845477876542, 6871.664378574814, 6881.483279273085, 6891.302179971357, 6901.121080669629, 6910.9399813679, 6920.758882066171, 6930.577782764443, 6940.3966834627145, 6950.215584160987, 6960.034484859259, 6969.85338555753, 6979.672286255802, 6989.491186954073, 6999.310087652345, 7009.128988350617, 7018.947889048888, 7028.766789747159, 7038.585690445431, 7048.404591143702, 7058.223491841975, 7068.0423925402465, 7077.861293238518, 7087.68019393679, 7097.499094635061, 7107.317995333332, 7117.136896031605, 7126.955796729876, 7136.774697428147, 7146.593598126419, 7156.41249882469, 7166.231399522962, 7176.0503002212345, 7185.869200919506, 7195.688101617778, 7205.507002316049, 7215.32590301432, 7225.144803712593, 7234.963704410864, 7244.782605109135, 7254.601505807407, 7264.420406505678, 7274.23930720395, 7284.058207902222, 7293.877108600494])\n",
       "              .range([&#x27;#ffffb2ff&#x27;, &#x27;#ffffb2ff&#x27;, &#x27;#ffffb2ff&#x27;, &#x27;#ffffb2ff&#x27;, &#x27;#ffffb2ff&#x27;, &#x27;#ffffb2ff&#x27;, &#x27;#ffffb2ff&#x27;, &#x27;#ffffb2ff&#x27;, &#x27;#ffffb2ff&#x27;, &#x27;#ffffb2ff&#x27;, &#x27;#ffffb2ff&#x27;, &#x27;#ffffb2ff&#x27;, &#x27;#ffffb2ff&#x27;, &#x27;#ffffb2ff&#x27;, &#x27;#ffffb2ff&#x27;, &#x27;#ffffb2ff&#x27;, &#x27;#ffffb2ff&#x27;, &#x27;#ffffb2ff&#x27;, &#x27;#ffffb2ff&#x27;, &#x27;#ffffb2ff&#x27;, &#x27;#ffffb2ff&#x27;, &#x27;#ffffb2ff&#x27;, &#x27;#ffffb2ff&#x27;, &#x27;#ffffb2ff&#x27;, &#x27;#ffffb2ff&#x27;, &#x27;#ffffb2ff&#x27;, &#x27;#ffffb2ff&#x27;, &#x27;#ffffb2ff&#x27;, &#x27;#ffffb2ff&#x27;, &#x27;#ffffb2ff&#x27;, &#x27;#ffffb2ff&#x27;, &#x27;#ffffb2ff&#x27;, &#x27;#ffffb2ff&#x27;, &#x27;#ffffb2ff&#x27;, &#x27;#ffffb2ff&#x27;, &#x27;#ffffb2ff&#x27;, &#x27;#ffffb2ff&#x27;, &#x27;#ffffb2ff&#x27;, &#x27;#ffffb2ff&#x27;, &#x27;#ffffb2ff&#x27;, &#x27;#ffffb2ff&#x27;, &#x27;#ffffb2ff&#x27;, &#x27;#ffffb2ff&#x27;, &#x27;#ffffb2ff&#x27;, &#x27;#ffffb2ff&#x27;, &#x27;#ffffb2ff&#x27;, &#x27;#ffffb2ff&#x27;, &#x27;#ffffb2ff&#x27;, &#x27;#ffffb2ff&#x27;, &#x27;#ffffb2ff&#x27;, &#x27;#ffffb2ff&#x27;, &#x27;#ffffb2ff&#x27;, &#x27;#ffffb2ff&#x27;, &#x27;#ffffb2ff&#x27;, &#x27;#ffffb2ff&#x27;, &#x27;#ffffb2ff&#x27;, &#x27;#ffffb2ff&#x27;, &#x27;#ffffb2ff&#x27;, &#x27;#ffffb2ff&#x27;, &#x27;#ffffb2ff&#x27;, &#x27;#ffffb2ff&#x27;, &#x27;#ffffb2ff&#x27;, &#x27;#ffffb2ff&#x27;, &#x27;#ffffb2ff&#x27;, &#x27;#ffffb2ff&#x27;, &#x27;#ffffb2ff&#x27;, &#x27;#ffffb2ff&#x27;, &#x27;#ffffb2ff&#x27;, &#x27;#ffffb2ff&#x27;, &#x27;#ffffb2ff&#x27;, &#x27;#ffffb2ff&#x27;, &#x27;#ffffb2ff&#x27;, &#x27;#ffffb2ff&#x27;, &#x27;#ffffb2ff&#x27;, &#x27;#ffffb2ff&#x27;, &#x27;#ffffb2ff&#x27;, &#x27;#ffffb2ff&#x27;, &#x27;#ffffb2ff&#x27;, &#x27;#ffffb2ff&#x27;, &#x27;#ffffb2ff&#x27;, &#x27;#ffffb2ff&#x27;, &#x27;#ffffb2ff&#x27;, &#x27;#ffffb2ff&#x27;, &#x27;#ffffb2ff&#x27;, &#x27;#fed976ff&#x27;, &#x27;#fed976ff&#x27;, &#x27;#fed976ff&#x27;, &#x27;#fed976ff&#x27;, &#x27;#fed976ff&#x27;, &#x27;#fed976ff&#x27;, &#x27;#fed976ff&#x27;, &#x27;#fed976ff&#x27;, &#x27;#fed976ff&#x27;, &#x27;#fed976ff&#x27;, &#x27;#fed976ff&#x27;, &#x27;#fed976ff&#x27;, &#x27;#fed976ff&#x27;, &#x27;#fed976ff&#x27;, &#x27;#fed976ff&#x27;, &#x27;#fed976ff&#x27;, &#x27;#fed976ff&#x27;, &#x27;#fed976ff&#x27;, &#x27;#fed976ff&#x27;, &#x27;#fed976ff&#x27;, &#x27;#fed976ff&#x27;, &#x27;#fed976ff&#x27;, &#x27;#fed976ff&#x27;, &#x27;#fed976ff&#x27;, &#x27;#fed976ff&#x27;, &#x27;#fed976ff&#x27;, &#x27;#fed976ff&#x27;, &#x27;#fed976ff&#x27;, &#x27;#fed976ff&#x27;, &#x27;#fed976ff&#x27;, &#x27;#fed976ff&#x27;, &#x27;#fed976ff&#x27;, &#x27;#fed976ff&#x27;, &#x27;#fed976ff&#x27;, &#x27;#fed976ff&#x27;, &#x27;#fed976ff&#x27;, &#x27;#fed976ff&#x27;, &#x27;#fed976ff&#x27;, &#x27;#fed976ff&#x27;, &#x27;#fed976ff&#x27;, &#x27;#fed976ff&#x27;, &#x27;#fed976ff&#x27;, &#x27;#fed976ff&#x27;, &#x27;#fed976ff&#x27;, &#x27;#fed976ff&#x27;, &#x27;#fed976ff&#x27;, &#x27;#fed976ff&#x27;, &#x27;#fed976ff&#x27;, &#x27;#fed976ff&#x27;, &#x27;#fed976ff&#x27;, &#x27;#fed976ff&#x27;, &#x27;#fed976ff&#x27;, &#x27;#fed976ff&#x27;, &#x27;#fed976ff&#x27;, &#x27;#fed976ff&#x27;, &#x27;#fed976ff&#x27;, &#x27;#fed976ff&#x27;, &#x27;#fed976ff&#x27;, &#x27;#fed976ff&#x27;, &#x27;#fed976ff&#x27;, &#x27;#fed976ff&#x27;, &#x27;#fed976ff&#x27;, &#x27;#fed976ff&#x27;, &#x27;#fed976ff&#x27;, &#x27;#fed976ff&#x27;, &#x27;#fed976ff&#x27;, &#x27;#fed976ff&#x27;, &#x27;#fed976ff&#x27;, &#x27;#fed976ff&#x27;, &#x27;#fed976ff&#x27;, &#x27;#fed976ff&#x27;, &#x27;#fed976ff&#x27;, &#x27;#fed976ff&#x27;, &#x27;#fed976ff&#x27;, &#x27;#fed976ff&#x27;, &#x27;#fed976ff&#x27;, &#x27;#fed976ff&#x27;, &#x27;#fed976ff&#x27;, &#x27;#fed976ff&#x27;, &#x27;#fed976ff&#x27;, &#x27;#fed976ff&#x27;, &#x27;#fed976ff&#x27;, &#x27;#fed976ff&#x27;, &#x27;#feb24cff&#x27;, &#x27;#feb24cff&#x27;, &#x27;#feb24cff&#x27;, &#x27;#feb24cff&#x27;, &#x27;#feb24cff&#x27;, &#x27;#feb24cff&#x27;, &#x27;#feb24cff&#x27;, &#x27;#feb24cff&#x27;, &#x27;#feb24cff&#x27;, &#x27;#feb24cff&#x27;, &#x27;#feb24cff&#x27;, &#x27;#feb24cff&#x27;, &#x27;#feb24cff&#x27;, &#x27;#feb24cff&#x27;, &#x27;#feb24cff&#x27;, &#x27;#feb24cff&#x27;, &#x27;#feb24cff&#x27;, &#x27;#feb24cff&#x27;, &#x27;#feb24cff&#x27;, &#x27;#feb24cff&#x27;, &#x27;#feb24cff&#x27;, &#x27;#feb24cff&#x27;, &#x27;#feb24cff&#x27;, &#x27;#feb24cff&#x27;, &#x27;#feb24cff&#x27;, &#x27;#feb24cff&#x27;, &#x27;#feb24cff&#x27;, &#x27;#feb24cff&#x27;, &#x27;#feb24cff&#x27;, &#x27;#feb24cff&#x27;, &#x27;#feb24cff&#x27;, &#x27;#feb24cff&#x27;, &#x27;#feb24cff&#x27;, &#x27;#feb24cff&#x27;, &#x27;#feb24cff&#x27;, &#x27;#feb24cff&#x27;, &#x27;#feb24cff&#x27;, &#x27;#feb24cff&#x27;, &#x27;#feb24cff&#x27;, &#x27;#feb24cff&#x27;, &#x27;#feb24cff&#x27;, &#x27;#feb24cff&#x27;, &#x27;#feb24cff&#x27;, &#x27;#feb24cff&#x27;, &#x27;#feb24cff&#x27;, &#x27;#feb24cff&#x27;, &#x27;#feb24cff&#x27;, &#x27;#feb24cff&#x27;, &#x27;#feb24cff&#x27;, &#x27;#feb24cff&#x27;, &#x27;#feb24cff&#x27;, &#x27;#feb24cff&#x27;, &#x27;#feb24cff&#x27;, &#x27;#feb24cff&#x27;, &#x27;#feb24cff&#x27;, &#x27;#feb24cff&#x27;, &#x27;#feb24cff&#x27;, &#x27;#feb24cff&#x27;, &#x27;#feb24cff&#x27;, &#x27;#feb24cff&#x27;, &#x27;#feb24cff&#x27;, &#x27;#feb24cff&#x27;, &#x27;#feb24cff&#x27;, &#x27;#feb24cff&#x27;, &#x27;#feb24cff&#x27;, &#x27;#feb24cff&#x27;, &#x27;#feb24cff&#x27;, &#x27;#feb24cff&#x27;, &#x27;#feb24cff&#x27;, &#x27;#feb24cff&#x27;, &#x27;#feb24cff&#x27;, &#x27;#feb24cff&#x27;, &#x27;#feb24cff&#x27;, &#x27;#feb24cff&#x27;, &#x27;#feb24cff&#x27;, &#x27;#feb24cff&#x27;, &#x27;#feb24cff&#x27;, &#x27;#feb24cff&#x27;, &#x27;#feb24cff&#x27;, &#x27;#feb24cff&#x27;, &#x27;#feb24cff&#x27;, &#x27;#feb24cff&#x27;, &#x27;#feb24cff&#x27;, &#x27;#fd8d3cff&#x27;, &#x27;#fd8d3cff&#x27;, &#x27;#fd8d3cff&#x27;, &#x27;#fd8d3cff&#x27;, &#x27;#fd8d3cff&#x27;, &#x27;#fd8d3cff&#x27;, &#x27;#fd8d3cff&#x27;, &#x27;#fd8d3cff&#x27;, &#x27;#fd8d3cff&#x27;, &#x27;#fd8d3cff&#x27;, &#x27;#fd8d3cff&#x27;, &#x27;#fd8d3cff&#x27;, &#x27;#fd8d3cff&#x27;, &#x27;#fd8d3cff&#x27;, &#x27;#fd8d3cff&#x27;, &#x27;#fd8d3cff&#x27;, &#x27;#fd8d3cff&#x27;, &#x27;#fd8d3cff&#x27;, &#x27;#fd8d3cff&#x27;, &#x27;#fd8d3cff&#x27;, &#x27;#fd8d3cff&#x27;, &#x27;#fd8d3cff&#x27;, &#x27;#fd8d3cff&#x27;, &#x27;#fd8d3cff&#x27;, &#x27;#fd8d3cff&#x27;, &#x27;#fd8d3cff&#x27;, &#x27;#fd8d3cff&#x27;, &#x27;#fd8d3cff&#x27;, &#x27;#fd8d3cff&#x27;, &#x27;#fd8d3cff&#x27;, &#x27;#fd8d3cff&#x27;, &#x27;#fd8d3cff&#x27;, &#x27;#fd8d3cff&#x27;, &#x27;#fd8d3cff&#x27;, &#x27;#fd8d3cff&#x27;, &#x27;#fd8d3cff&#x27;, &#x27;#fd8d3cff&#x27;, &#x27;#fd8d3cff&#x27;, &#x27;#fd8d3cff&#x27;, &#x27;#fd8d3cff&#x27;, &#x27;#fd8d3cff&#x27;, &#x27;#fd8d3cff&#x27;, &#x27;#fd8d3cff&#x27;, &#x27;#fd8d3cff&#x27;, &#x27;#fd8d3cff&#x27;, &#x27;#fd8d3cff&#x27;, &#x27;#fd8d3cff&#x27;, &#x27;#fd8d3cff&#x27;, &#x27;#fd8d3cff&#x27;, &#x27;#fd8d3cff&#x27;, &#x27;#fd8d3cff&#x27;, &#x27;#fd8d3cff&#x27;, &#x27;#fd8d3cff&#x27;, &#x27;#fd8d3cff&#x27;, &#x27;#fd8d3cff&#x27;, &#x27;#fd8d3cff&#x27;, &#x27;#fd8d3cff&#x27;, &#x27;#fd8d3cff&#x27;, &#x27;#fd8d3cff&#x27;, &#x27;#fd8d3cff&#x27;, &#x27;#fd8d3cff&#x27;, &#x27;#fd8d3cff&#x27;, &#x27;#fd8d3cff&#x27;, &#x27;#fd8d3cff&#x27;, &#x27;#fd8d3cff&#x27;, &#x27;#fd8d3cff&#x27;, &#x27;#fd8d3cff&#x27;, &#x27;#fd8d3cff&#x27;, &#x27;#fd8d3cff&#x27;, &#x27;#fd8d3cff&#x27;, &#x27;#fd8d3cff&#x27;, &#x27;#fd8d3cff&#x27;, &#x27;#fd8d3cff&#x27;, &#x27;#fd8d3cff&#x27;, &#x27;#fd8d3cff&#x27;, &#x27;#fd8d3cff&#x27;, &#x27;#fd8d3cff&#x27;, &#x27;#fd8d3cff&#x27;, &#x27;#fd8d3cff&#x27;, &#x27;#fd8d3cff&#x27;, &#x27;#fd8d3cff&#x27;, &#x27;#fd8d3cff&#x27;, &#x27;#fd8d3cff&#x27;, &#x27;#f03b20ff&#x27;, &#x27;#f03b20ff&#x27;, &#x27;#f03b20ff&#x27;, &#x27;#f03b20ff&#x27;, &#x27;#f03b20ff&#x27;, &#x27;#f03b20ff&#x27;, &#x27;#f03b20ff&#x27;, &#x27;#f03b20ff&#x27;, &#x27;#f03b20ff&#x27;, &#x27;#f03b20ff&#x27;, &#x27;#f03b20ff&#x27;, &#x27;#f03b20ff&#x27;, &#x27;#f03b20ff&#x27;, &#x27;#f03b20ff&#x27;, &#x27;#f03b20ff&#x27;, &#x27;#f03b20ff&#x27;, &#x27;#f03b20ff&#x27;, &#x27;#f03b20ff&#x27;, &#x27;#f03b20ff&#x27;, &#x27;#f03b20ff&#x27;, &#x27;#f03b20ff&#x27;, &#x27;#f03b20ff&#x27;, &#x27;#f03b20ff&#x27;, &#x27;#f03b20ff&#x27;, &#x27;#f03b20ff&#x27;, &#x27;#f03b20ff&#x27;, &#x27;#f03b20ff&#x27;, &#x27;#f03b20ff&#x27;, &#x27;#f03b20ff&#x27;, &#x27;#f03b20ff&#x27;, &#x27;#f03b20ff&#x27;, &#x27;#f03b20ff&#x27;, &#x27;#f03b20ff&#x27;, &#x27;#f03b20ff&#x27;, &#x27;#f03b20ff&#x27;, &#x27;#f03b20ff&#x27;, &#x27;#f03b20ff&#x27;, &#x27;#f03b20ff&#x27;, &#x27;#f03b20ff&#x27;, &#x27;#f03b20ff&#x27;, &#x27;#f03b20ff&#x27;, &#x27;#f03b20ff&#x27;, &#x27;#f03b20ff&#x27;, &#x27;#f03b20ff&#x27;, &#x27;#f03b20ff&#x27;, &#x27;#f03b20ff&#x27;, &#x27;#f03b20ff&#x27;, &#x27;#f03b20ff&#x27;, &#x27;#f03b20ff&#x27;, &#x27;#f03b20ff&#x27;, &#x27;#f03b20ff&#x27;, &#x27;#f03b20ff&#x27;, &#x27;#f03b20ff&#x27;, &#x27;#f03b20ff&#x27;, &#x27;#f03b20ff&#x27;, &#x27;#f03b20ff&#x27;, &#x27;#f03b20ff&#x27;, &#x27;#f03b20ff&#x27;, &#x27;#f03b20ff&#x27;, &#x27;#f03b20ff&#x27;, &#x27;#f03b20ff&#x27;, &#x27;#f03b20ff&#x27;, &#x27;#f03b20ff&#x27;, &#x27;#f03b20ff&#x27;, &#x27;#f03b20ff&#x27;, &#x27;#f03b20ff&#x27;, &#x27;#f03b20ff&#x27;, &#x27;#f03b20ff&#x27;, &#x27;#f03b20ff&#x27;, &#x27;#f03b20ff&#x27;, &#x27;#f03b20ff&#x27;, &#x27;#f03b20ff&#x27;, &#x27;#f03b20ff&#x27;, &#x27;#f03b20ff&#x27;, &#x27;#f03b20ff&#x27;, &#x27;#f03b20ff&#x27;, &#x27;#f03b20ff&#x27;, &#x27;#f03b20ff&#x27;, &#x27;#f03b20ff&#x27;, &#x27;#f03b20ff&#x27;, &#x27;#f03b20ff&#x27;, &#x27;#f03b20ff&#x27;, &#x27;#f03b20ff&#x27;, &#x27;#bd0026ff&#x27;, &#x27;#bd0026ff&#x27;, &#x27;#bd0026ff&#x27;, &#x27;#bd0026ff&#x27;, &#x27;#bd0026ff&#x27;, &#x27;#bd0026ff&#x27;, &#x27;#bd0026ff&#x27;, &#x27;#bd0026ff&#x27;, &#x27;#bd0026ff&#x27;, &#x27;#bd0026ff&#x27;, &#x27;#bd0026ff&#x27;, &#x27;#bd0026ff&#x27;, &#x27;#bd0026ff&#x27;, &#x27;#bd0026ff&#x27;, &#x27;#bd0026ff&#x27;, &#x27;#bd0026ff&#x27;, &#x27;#bd0026ff&#x27;, &#x27;#bd0026ff&#x27;, &#x27;#bd0026ff&#x27;, &#x27;#bd0026ff&#x27;, &#x27;#bd0026ff&#x27;, &#x27;#bd0026ff&#x27;, &#x27;#bd0026ff&#x27;, &#x27;#bd0026ff&#x27;, &#x27;#bd0026ff&#x27;, &#x27;#bd0026ff&#x27;, &#x27;#bd0026ff&#x27;, &#x27;#bd0026ff&#x27;, &#x27;#bd0026ff&#x27;, &#x27;#bd0026ff&#x27;, &#x27;#bd0026ff&#x27;, &#x27;#bd0026ff&#x27;, &#x27;#bd0026ff&#x27;, &#x27;#bd0026ff&#x27;, &#x27;#bd0026ff&#x27;, &#x27;#bd0026ff&#x27;, &#x27;#bd0026ff&#x27;, &#x27;#bd0026ff&#x27;, &#x27;#bd0026ff&#x27;, &#x27;#bd0026ff&#x27;, &#x27;#bd0026ff&#x27;, &#x27;#bd0026ff&#x27;, &#x27;#bd0026ff&#x27;, &#x27;#bd0026ff&#x27;, &#x27;#bd0026ff&#x27;, &#x27;#bd0026ff&#x27;, &#x27;#bd0026ff&#x27;, &#x27;#bd0026ff&#x27;, &#x27;#bd0026ff&#x27;, &#x27;#bd0026ff&#x27;, &#x27;#bd0026ff&#x27;, &#x27;#bd0026ff&#x27;, &#x27;#bd0026ff&#x27;, &#x27;#bd0026ff&#x27;, &#x27;#bd0026ff&#x27;, &#x27;#bd0026ff&#x27;, &#x27;#bd0026ff&#x27;, &#x27;#bd0026ff&#x27;, &#x27;#bd0026ff&#x27;, &#x27;#bd0026ff&#x27;, &#x27;#bd0026ff&#x27;, &#x27;#bd0026ff&#x27;, &#x27;#bd0026ff&#x27;, &#x27;#bd0026ff&#x27;, &#x27;#bd0026ff&#x27;, &#x27;#bd0026ff&#x27;, &#x27;#bd0026ff&#x27;, &#x27;#bd0026ff&#x27;, &#x27;#bd0026ff&#x27;, &#x27;#bd0026ff&#x27;, &#x27;#bd0026ff&#x27;, &#x27;#bd0026ff&#x27;, &#x27;#bd0026ff&#x27;, &#x27;#bd0026ff&#x27;, &#x27;#bd0026ff&#x27;, &#x27;#bd0026ff&#x27;, &#x27;#bd0026ff&#x27;, &#x27;#bd0026ff&#x27;, &#x27;#bd0026ff&#x27;, &#x27;#bd0026ff&#x27;, &#x27;#bd0026ff&#x27;, &#x27;#bd0026ff&#x27;, &#x27;#bd0026ff&#x27;, &#x27;#bd0026ff&#x27;]);\n",
       "    \n",
       "\n",
       "    color_map_f6f31f3f8e22119f9c20f17e5f3ea567.x = d3.scale.linear()\n",
       "              .domain([2394.245660162953, 7293.877108600494])\n",
       "              .range([0, 400]);\n",
       "\n",
       "    color_map_f6f31f3f8e22119f9c20f17e5f3ea567.legend = L.control({position: &#x27;topright&#x27;});\n",
       "    color_map_f6f31f3f8e22119f9c20f17e5f3ea567.legend.onAdd = function (map) {var div = L.DomUtil.create(&#x27;div&#x27;, &#x27;legend&#x27;); return div};\n",
       "    color_map_f6f31f3f8e22119f9c20f17e5f3ea567.legend.addTo(map_b44209bdef0f6e2dbfbe8ba80a6927d8);\n",
       "\n",
       "    color_map_f6f31f3f8e22119f9c20f17e5f3ea567.xAxis = d3.svg.axis()\n",
       "        .scale(color_map_f6f31f3f8e22119f9c20f17e5f3ea567.x)\n",
       "        .orient(&quot;top&quot;)\n",
       "        .tickSize(1)\n",
       "        .tickValues([2394.245660162953, 3210.85090156921, 4027.4561429754667, 4844.061384381723, 5660.666625787981, 6477.271867194237, 7293.877108600494]);\n",
       "\n",
       "    color_map_f6f31f3f8e22119f9c20f17e5f3ea567.svg = d3.select(&quot;.legend.leaflet-control&quot;).append(&quot;svg&quot;)\n",
       "        .attr(&quot;id&quot;, &#x27;legend&#x27;)\n",
       "        .attr(&quot;width&quot;, 450)\n",
       "        .attr(&quot;height&quot;, 40);\n",
       "\n",
       "    color_map_f6f31f3f8e22119f9c20f17e5f3ea567.g = color_map_f6f31f3f8e22119f9c20f17e5f3ea567.svg.append(&quot;g&quot;)\n",
       "        .attr(&quot;class&quot;, &quot;key&quot;)\n",
       "        .attr(&quot;transform&quot;, &quot;translate(25,16)&quot;);\n",
       "\n",
       "    color_map_f6f31f3f8e22119f9c20f17e5f3ea567.g.selectAll(&quot;rect&quot;)\n",
       "        .data(color_map_f6f31f3f8e22119f9c20f17e5f3ea567.color.range().map(function(d, i) {\n",
       "          return {\n",
       "            x0: i ? color_map_f6f31f3f8e22119f9c20f17e5f3ea567.x(color_map_f6f31f3f8e22119f9c20f17e5f3ea567.color.domain()[i - 1]) : color_map_f6f31f3f8e22119f9c20f17e5f3ea567.x.range()[0],\n",
       "            x1: i &lt; color_map_f6f31f3f8e22119f9c20f17e5f3ea567.color.domain().length ? color_map_f6f31f3f8e22119f9c20f17e5f3ea567.x(color_map_f6f31f3f8e22119f9c20f17e5f3ea567.color.domain()[i]) : color_map_f6f31f3f8e22119f9c20f17e5f3ea567.x.range()[1],\n",
       "            z: d\n",
       "          };\n",
       "        }))\n",
       "      .enter().append(&quot;rect&quot;)\n",
       "        .attr(&quot;height&quot;, 10)\n",
       "        .attr(&quot;x&quot;, function(d) { return d.x0; })\n",
       "        .attr(&quot;width&quot;, function(d) { return d.x1 - d.x0; })\n",
       "        .style(&quot;fill&quot;, function(d) { return d.z; });\n",
       "\n",
       "    color_map_f6f31f3f8e22119f9c20f17e5f3ea567.g.call(color_map_f6f31f3f8e22119f9c20f17e5f3ea567.xAxis).append(&quot;text&quot;)\n",
       "        .attr(&quot;class&quot;, &quot;caption&quot;)\n",
       "        .attr(&quot;y&quot;, 21)\n",
       "        .text(&#x27;평균 평당 거래금액&#x27;);\n",
       "&lt;/script&gt;\" style=\"position:absolute;width:100%;height:100%;left:0;top:0;border:none !important;\" allowfullscreen webkitallowfullscreen mozallowfullscreen></iframe></div></div>"
      ],
      "text/plain": [
       "<folium.folium.Map at 0x1a7837978b0>"
      ]
     },
     "execution_count": 117,
     "metadata": {},
     "output_type": "execute_result"
    }
   ],
   "source": [
    "#지역별 총 평균 평당거래금액\n",
    "import json\n",
    "import folium\n",
    "\n",
    "geojson_path = 'map.geojson'\n",
    "\n",
    "m = folium.Map(location=[37.5492, 127.0129], \n",
    "               zoom_start=12)\n",
    "state_geo = json.load(open(geojson_path, encoding='utf-8'))\n",
    "folium.Choropleth(\n",
    "    geo_data=state_geo,\n",
    "    data=gubun_transaction,\n",
    "    columns=['시군구명', '평당거래금액'],\n",
    "    key_on='feature.properties.name',\n",
    "    fill_color='YlOrRd',\n",
    "    fill_opacity=0.5,\n",
    "    line_opacity=0.5,\n",
    "    legend_name='평균 평당 거래금액',\n",
    ").add_to(m)\n",
    "m"
   ]
  },
  {
   "cell_type": "code",
   "execution_count": null,
   "metadata": {},
   "outputs": [],
   "source": []
  }
 ],
 "metadata": {
  "kernelspec": {
   "display_name": "Python 3.9.13 64-bit (microsoft store)",
   "language": "python",
   "name": "python3"
  },
  "language_info": {
   "codemirror_mode": {
    "name": "ipython",
    "version": 3
   },
   "file_extension": ".py",
   "mimetype": "text/x-python",
   "name": "python",
   "nbconvert_exporter": "python",
   "pygments_lexer": "ipython3",
   "version": "3.9.13"
  },
  "orig_nbformat": 4,
  "vscode": {
   "interpreter": {
    "hash": "624e02ad1751b279d2ec4c8b440b0a53261114aa68a0e954dab7705e17589485"
   }
  }
 },
 "nbformat": 4,
 "nbformat_minor": 2
}
